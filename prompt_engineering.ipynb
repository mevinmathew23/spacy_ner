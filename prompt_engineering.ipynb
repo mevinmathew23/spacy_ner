{
  "cells": [
    {
      "cell_type": "markdown",
      "metadata": {
        "id": "wrMW-0zeQlwH"
      },
      "source": [
        "# Information extraction from Madison city crime incident reports using Deep Learning"
      ]
    },
    {
      "cell_type": "markdown",
      "metadata": {
        "id": "x7oBXyv0QlwK"
      },
      "source": [
        "<h1>Table of Contents<span class=\"tocSkip\"></span></h1>\n",
        "<div class=\"toc\">\n",
        "<ul class=\"toc-item\">\n",
        "<li><span><a href=\"#Introduction\" data-toc-modified-id=\"Introduction-1\">Introduction</a></span></li>\n",
        "<li><span><a href=\"#Prerequisites\" data-toc-modified-id=\"Prerequisites-2\">Prerequisites</a></span></li>\n",
        "<li><span><a href=\"#Imports\" data-toc-modified-id=\"Imports-3\">Imports</a></span></li>\n",
        "<li><span><a href=\"#Data-preparation\" data-toc-modified-id=\"Data-preparation-4\">Data preparation</a></span></li>\n",
        "<li><span><a href=\"#EntityRecognizer-model\" data-toc-modified-id=\"EntityRecognizer-model-5\">EntityRecognizer model</a></span></li>\n",
        "<ul class=\"toc-item\">\n",
        "<li><span><a href=\"#Finding-optimum-learning-rate\" data-toc-modified-id=\"Finding-optimum-learning-rate-5.1\">Finding optimum learning rate</a></span>    \n",
        "<li><span><a href=\"#Model-training\" data-toc-modified-id=\"Model-training-5.2\">Model training</a></span>\n",
        "<li><span><a href=\"#Evaluate-model-performance\" data-toc-modified-id=\"Evaluate-model-performance-5.3\">Evaluate model performance</a></span>\n",
        "<li><span><a href=\"#Validate-results\" data-toc-modified-id=\"Validate-results-5.4\">Validate results</a></span></li>\n",
        "<li><span><a href=\"#Save-and-load-trained-models\" data-toc-modified-id=\"Save-and-load-trained-models-5.5\">Save and load trained models</a></span></li>\n",
        "</ul>\n",
        "<li><span><a href=\"#Model-inference\" data-toc-modified-id=\"Model-inference-6\">Model inference</a></span></li>\n",
        "<li><span><a href=\"#Publishing-the-results-as-feature-layer\" data-toc-modified-id=\"Publishing-the-results-as-feature-layer-7\">Publishing the results as feature layer</a></span></li>\n",
        "<li><span><a href=\"#Visualize-crime-incident-on-map\" data-toc-modified-id=\"Visualize-crime-incident-on-map- 8\">Visualize crime incident on map</a></span></li>\n",
        "<li><span><a href=\"#Create-a-hot-spot-map-of-crime-densities\" data-toc-modified-id=\"Create-a-hot-spot-map-of-crime-densities-9\">Create a hot spot map of crime densities</a></span></li>\n",
        "<li><span><a href=\"#Conclusion\" data-toc-modified-id=\"Conclusion-10\">Conclusion</a></span></li>\n",
        "<li><span><a href=\"#References\" data-toc-modified-id=\"References-11\">References</a></span></li>\n",
        "</ul></div>"
      ]
    },
    {
      "cell_type": "markdown",
      "metadata": {
        "id": "xrylEB2hQlwK"
      },
      "source": [
        "# Introduction\n",
        "\n",
        "This notebook investigate creating a new named entity called `“Crime”` and our ability to generate police reports that are not readily available.\n",
        "\n",
        "A police report writing handbook will be used to prompt a large language model (LLM) to generate police reports where the “Crime” entity will be used in proper domain context.\n",
        "\n",
        "Generated reports will then be used to retrain a NER model to identify the “Crime” entity within legal documents. This will be valuable in sorting, categorizing, and exploring future investigation legal documents used in court cases.  \n",
        "\n",
        "\n",
        "### Reading the Report Writing Manual\n",
        "Link: https://www.csus.edu/campus-safety/police-department/_internal/_documents/rwm.pdf"
      ]
    },
    {
      "cell_type": "markdown",
      "metadata": {
        "id": "zRrwSFk5QlwL"
      },
      "source": [
        "# Necessary Imports"
      ]
    },
    {
      "cell_type": "code",
      "execution_count": 1,
      "metadata": {
        "colab": {
          "base_uri": "https://localhost:8080/"
        },
        "id": "jKMdhY8yR_6v",
        "outputId": "76260a50-fc6d-4976-8ae7-5f86913437be"
      },
      "outputs": [
        {
          "name": "stdout",
          "output_type": "stream",
          "text": [
            "Mounted at /content/drive\n"
          ]
        }
      ],
      "source": [
        "from google.colab import drive\n",
        "drive.mount('/content/drive')"
      ]
    },
    {
      "cell_type": "code",
      "execution_count": 2,
      "metadata": {
        "colab": {
          "base_uri": "https://localhost:8080/"
        },
        "id": "Nxlw8NGmSEjq",
        "outputId": "5f717df4-2fef-45fd-bb0d-a75925c13a0a"
      },
      "outputs": [
        {
          "name": "stdout",
          "output_type": "stream",
          "text": [
            "/content/drive/MyDrive/Colab Notebooks/spacy_local\n"
          ]
        }
      ],
      "source": [
        "%cd /content/drive/MyDrive/Colab\\ Notebooks/spacy_local"
      ]
    },
    {
      "cell_type": "code",
      "execution_count": 3,
      "metadata": {
        "colab": {
          "base_uri": "https://localhost:8080/"
        },
        "id": "0itn5dIcSRHt",
        "outputId": "48a3b391-64b4-45d9-d667-aa8740f8a64b"
      },
      "outputs": [
        {
          "name": "stdout",
          "output_type": "stream",
          "text": [
            "total 2958\n",
            "-rw------- 1 root root   1678 Jun 18 20:35 base_config.cfg\n",
            "-rw------- 1 root root 508947 Jul 10 04:23 spacy_prompt_training_v1_2.json\n",
            "-rw------- 1 root root 269427 Jul 11 00:51 training_data_crime.spacy\n",
            "-rw------- 1 root root 505381 Sep  5 01:27 spacy_prompt_training_v1_3.json\n",
            "drwx------ 2 root root   4096 Sep  5 15:35 \u001b[0m\u001b[01;34mmodel-crime\u001b[0m/\n",
            "-rw------- 1 root root 271093 Sep  5 15:37 training_data_crime_v1_3.spacy\n",
            "-rw------- 1 root root   2817 Sep  5 15:38 config.cfg\n",
            "drwx------ 2 root root   4096 Sep  5 15:40 \u001b[01;34mmodel-last\u001b[0m/\n",
            "drwx------ 2 root root   4096 Sep  5 15:40 \u001b[01;34mmodel-best\u001b[0m/\n",
            "-rw------- 1 root root 503862 Sep  7 06:42 spacy_prompt_training_v1_4.json\n",
            "-rw------- 1 root root 265296 Sep  7 06:46 training_data_crime_v1_4.spacy\n",
            "-rw------- 1 root root 684284 Sep  7 06:48 prompt_engineering.ipynb\n"
          ]
        }
      ],
      "source": [
        "%ls -ltr"
      ]
    },
    {
      "cell_type": "code",
      "execution_count": 4,
      "metadata": {
        "id": "kCKm7fQdQlwL"
      },
      "outputs": [],
      "source": [
        "import pandas as pd\n",
        "import zipfile,unicodedata\n",
        "# from itertools import repeat\n",
        "from pathlib import Path\n",
        "import re\n",
        "import os\n",
        "import datetime"
      ]
    },
    {
      "cell_type": "markdown",
      "metadata": {
        "id": "qc_SnJUTQlwM"
      },
      "source": [
        "# Data Rule Exploration\n",
        "\n",
        "When we started, we found success when we started with the verb that described the crime. Ensure that the format is correct and then build context around that word. With a sentence on each side.\n",
        "\n",
        "It was overwhelming to create one report that fit all the requirements. The goal is to provide context that would be found in a police report. Even if it was a small subset. That gets us into our NER faster.\n",
        "\n",
        "The words are not perfect however get us started by providing context."
      ]
    },
    {
      "cell_type": "code",
      "execution_count": 1,
      "metadata": {
        "id": "jB4SR7lGQlwM"
      },
      "outputs": [],
      "source": [
        "verbs_by_crime = {\n",
        "    \"Violent_Crimes\": [\n",
        "        'Murdered', 'Assaulted', 'Raped', 'Robbed', 'Kidnapped',\n",
        "        'Beat', 'Stabbed', 'Shot', 'Strangled', 'Abused',\n",
        "        'Threatened', 'Attacked', 'Mugged', 'Harmed', 'Injured'\n",
        "        'Harassed', 'Stalked','Menaced', 'Abducted', 'Kidnapped',\n",
        "        'Slashed', 'Choked'\n",
        "    ],\n",
        "    \"Property_Crimes\": [\n",
        "        'Mugged', 'Robbed', 'Burglarized', 'Stolen', 'Vandalized',\n",
        "        'Trespassed', 'Arsoned','Damaged', 'Graffitied', 'Embezzled',\n",
        "        'Shoplifted', 'Sabotaged','Looted', 'Counterfeited', 'Pocketed',\n",
        "        'Stripped', 'Intruded'\n",
        "    ],\n",
        "    \"Financial_Crimes\": [\n",
        "        'Defrauded', 'Laundered', 'Scammed', 'Swindled', 'Falsified',\n",
        "        'Concealed', 'Misappropriated', 'Extorted', 'Manipulated', 'Bribed',\n",
        "        'Racketeered', 'Evaded', 'Cheated', 'Forged', 'Misused'\n",
        "    ],\n",
        "    \"Cybercrimes\": [\n",
        "        'Hacked', 'Phished', 'Stole data', 'Cyberbullied', 'Spoofed',\n",
        "        'Breached', 'Doxxed', 'Distributed malware', 'Hijacked accounts', 'Ransomware attack',\n",
        "        'Cyberstalking', 'Distributed denial-of-service (DDoS) attack', 'Identity theft',\n",
        "        'Cyber fraud', 'Password cracking'\n",
        "    ],\n",
        "    \"Drug_Crimes\": [\n",
        "        'Possessed', 'Trafficked', 'Manufactured', 'Smuggled', 'Sold',\n",
        "        'Cultivated', 'Distributed', 'Synthesized', 'Abused', 'Peddled',\n",
        "        'Dealt', 'Transported', 'Prescribed illegally', 'Falsified prescriptions', 'Produced illicit substances'\n",
        "    ],\n",
        "    \"White-Collar_Crimes\": [\n",
        "        'Committed fraud', 'Engaged in insider trading', 'Embezzled funds',\n",
        "        'Bribed officials', 'Manipulated financial records', 'Conducted money laundering',\n",
        "        'Engaged in corporate espionage', 'Defrauded investors', 'Orchestrated Ponzi schemes',\n",
        "        'Engaged in tax evasion', 'Falsified documents', 'Misused funds',\n",
        "        'Misrepresented financial statements', 'Engaged in kickbacks', 'Violated antitrust laws'\n",
        "    ],\n",
        "    \"Sexual_Crimes\": [\n",
        "        'Raped', 'Assaulted sexually', 'Harassed', 'Molested', 'Exploited',\n",
        "        'Fondled', 'Groped', 'Exhibited indecent exposure', 'Engaged in non-consensual acts', 'Coerced',\n",
        "        'Victimized', 'Voyeurism', 'Produced child pornography', 'Solicited prostitution', 'Sextortion'\n",
        "    ],\n",
        "    \"Public_Order_Crimes\": [\n",
        "        'Intoxicated publicly', 'Disturbed the peace', 'Engaged in disorderly conduct',\n",
        "        'Loitered', 'Urinated in public', 'Engaged in public drunkenness', 'Panhandled', 'Engaged in public nudity',\n",
        "        'Engaged in public lewdness', 'Engaged in street racing', 'Created public disturbances', 'Organized illegal gatherings',\n",
        "        'Begged', 'Engaged in public gambling', 'Solicited in public'\n",
        "    ],\n",
        "    \"Traffic_and_Motor_Vehicle_Crimes\": [\n",
        "        'Speeded', 'Drove under the influence (DUI)', 'Reckless driving', 'Hit and run', 'Drove without a license',\n",
        "        'Texted while driving', 'Street racing', 'Violated traffic laws', 'Failed to yield', 'Ran red lights',\n",
        "        'Distracted driving', 'Improper lane change', 'Driving with expired registration', 'Driving with suspended license',\n",
        "        'Carjacked'\n",
        "    ]\n",
        "}\n"
      ]
    },
    {
      "cell_type": "code",
      "execution_count": null,
      "metadata": {
        "id": "pnffPAmBQlwN"
      },
      "outputs": [],
      "source": [
        "def simple_prompt(crime):\n",
        "    return f\"I give you '{crime}' can you put into a 3 sentences that would be found in a police report in a chorological order\""
      ]
    },
    {
      "cell_type": "code",
      "execution_count": null,
      "metadata": {
        "colab": {
          "base_uri": "https://localhost:8080/"
        },
        "id": "wjiD564GQlwN",
        "outputId": "e65840c7-529f-4a58-cae8-b7b82446da93"
      },
      "outputs": [
        {
          "name": "stdout",
          "output_type": "stream",
          "text": [
            "Violent_Crimes\n",
            "Property_Crimes\n",
            "Financial_Crimes\n",
            "Cybercrimes\n",
            "Drug_Crimes\n",
            "White-Collar_Crimes\n",
            "Sexual_Crimes\n",
            "Public_Order_Crimes\n",
            "Traffic_and_Motor_Vehicle_Crimes\n"
          ]
        },
        {
          "data": {
            "text/plain": [
              "{'Violent_Crimes': [\"I give you 'Murdered' can you put into a 3 sentences that would be found in a police report in a chorological order\",\n",
              "  \"I give you 'Assaulted' can you put into a 3 sentences that would be found in a police report in a chorological order\",\n",
              "  \"I give you 'Raped' can you put into a 3 sentences that would be found in a police report in a chorological order\",\n",
              "  \"I give you 'Robbed' can you put into a 3 sentences that would be found in a police report in a chorological order\",\n",
              "  \"I give you 'Kidnapped' can you put into a 3 sentences that would be found in a police report in a chorological order\",\n",
              "  \"I give you 'Beat' can you put into a 3 sentences that would be found in a police report in a chorological order\",\n",
              "  \"I give you 'Stabbed' can you put into a 3 sentences that would be found in a police report in a chorological order\",\n",
              "  \"I give you 'Shot' can you put into a 3 sentences that would be found in a police report in a chorological order\",\n",
              "  \"I give you 'Strangled' can you put into a 3 sentences that would be found in a police report in a chorological order\",\n",
              "  \"I give you 'Abused' can you put into a 3 sentences that would be found in a police report in a chorological order\",\n",
              "  \"I give you 'Threatened' can you put into a 3 sentences that would be found in a police report in a chorological order\",\n",
              "  \"I give you 'Attacked' can you put into a 3 sentences that would be found in a police report in a chorological order\",\n",
              "  \"I give you 'Mugged' can you put into a 3 sentences that would be found in a police report in a chorological order\",\n",
              "  \"I give you 'Harmed' can you put into a 3 sentences that would be found in a police report in a chorological order\",\n",
              "  \"I give you 'InjuredHarassed' can you put into a 3 sentences that would be found in a police report in a chorological order\",\n",
              "  \"I give you 'Stalked' can you put into a 3 sentences that would be found in a police report in a chorological order\",\n",
              "  \"I give you 'Menaced' can you put into a 3 sentences that would be found in a police report in a chorological order\",\n",
              "  \"I give you 'Abducted' can you put into a 3 sentences that would be found in a police report in a chorological order\",\n",
              "  \"I give you 'Kidnapped' can you put into a 3 sentences that would be found in a police report in a chorological order\",\n",
              "  \"I give you 'Slashed' can you put into a 3 sentences that would be found in a police report in a chorological order\",\n",
              "  \"I give you 'Choked' can you put into a 3 sentences that would be found in a police report in a chorological order\"],\n",
              " 'Property_Crimes': [\"I give you 'Mugged' can you put into a 3 sentences that would be found in a police report in a chorological order\",\n",
              "  \"I give you 'Robbed' can you put into a 3 sentences that would be found in a police report in a chorological order\",\n",
              "  \"I give you 'Burglarized' can you put into a 3 sentences that would be found in a police report in a chorological order\",\n",
              "  \"I give you 'Stolen' can you put into a 3 sentences that would be found in a police report in a chorological order\",\n",
              "  \"I give you 'Vandalized' can you put into a 3 sentences that would be found in a police report in a chorological order\",\n",
              "  \"I give you 'Trespassed' can you put into a 3 sentences that would be found in a police report in a chorological order\",\n",
              "  \"I give you 'Arsoned' can you put into a 3 sentences that would be found in a police report in a chorological order\",\n",
              "  \"I give you 'Damaged' can you put into a 3 sentences that would be found in a police report in a chorological order\",\n",
              "  \"I give you 'Graffitied' can you put into a 3 sentences that would be found in a police report in a chorological order\",\n",
              "  \"I give you 'Embezzled' can you put into a 3 sentences that would be found in a police report in a chorological order\",\n",
              "  \"I give you 'Shoplifted' can you put into a 3 sentences that would be found in a police report in a chorological order\",\n",
              "  \"I give you 'Sabotaged' can you put into a 3 sentences that would be found in a police report in a chorological order\",\n",
              "  \"I give you 'Looted' can you put into a 3 sentences that would be found in a police report in a chorological order\",\n",
              "  \"I give you 'Counterfeited' can you put into a 3 sentences that would be found in a police report in a chorological order\",\n",
              "  \"I give you 'Pocketed' can you put into a 3 sentences that would be found in a police report in a chorological order\",\n",
              "  \"I give you 'Stripped' can you put into a 3 sentences that would be found in a police report in a chorological order\",\n",
              "  \"I give you 'Intruded' can you put into a 3 sentences that would be found in a police report in a chorological order\"],\n",
              " 'Financial_Crimes': [\"I give you 'Defrauded' can you put into a 3 sentences that would be found in a police report in a chorological order\",\n",
              "  \"I give you 'Laundered' can you put into a 3 sentences that would be found in a police report in a chorological order\",\n",
              "  \"I give you 'Scammed' can you put into a 3 sentences that would be found in a police report in a chorological order\",\n",
              "  \"I give you 'Swindled' can you put into a 3 sentences that would be found in a police report in a chorological order\",\n",
              "  \"I give you 'Falsified' can you put into a 3 sentences that would be found in a police report in a chorological order\",\n",
              "  \"I give you 'Concealed' can you put into a 3 sentences that would be found in a police report in a chorological order\",\n",
              "  \"I give you 'Misappropriated' can you put into a 3 sentences that would be found in a police report in a chorological order\",\n",
              "  \"I give you 'Extorted' can you put into a 3 sentences that would be found in a police report in a chorological order\",\n",
              "  \"I give you 'Manipulated' can you put into a 3 sentences that would be found in a police report in a chorological order\",\n",
              "  \"I give you 'Bribed' can you put into a 3 sentences that would be found in a police report in a chorological order\",\n",
              "  \"I give you 'Racketeered' can you put into a 3 sentences that would be found in a police report in a chorological order\",\n",
              "  \"I give you 'Evaded' can you put into a 3 sentences that would be found in a police report in a chorological order\",\n",
              "  \"I give you 'Cheated' can you put into a 3 sentences that would be found in a police report in a chorological order\",\n",
              "  \"I give you 'Forged' can you put into a 3 sentences that would be found in a police report in a chorological order\",\n",
              "  \"I give you 'Misused' can you put into a 3 sentences that would be found in a police report in a chorological order\"],\n",
              " 'Cybercrimes': [\"I give you 'Hacked' can you put into a 3 sentences that would be found in a police report in a chorological order\",\n",
              "  \"I give you 'Phished' can you put into a 3 sentences that would be found in a police report in a chorological order\",\n",
              "  \"I give you 'Stole data' can you put into a 3 sentences that would be found in a police report in a chorological order\",\n",
              "  \"I give you 'Cyberbullied' can you put into a 3 sentences that would be found in a police report in a chorological order\",\n",
              "  \"I give you 'Spoofed' can you put into a 3 sentences that would be found in a police report in a chorological order\",\n",
              "  \"I give you 'Breached' can you put into a 3 sentences that would be found in a police report in a chorological order\",\n",
              "  \"I give you 'Doxxed' can you put into a 3 sentences that would be found in a police report in a chorological order\",\n",
              "  \"I give you 'Distributed malware' can you put into a 3 sentences that would be found in a police report in a chorological order\",\n",
              "  \"I give you 'Hijacked accounts' can you put into a 3 sentences that would be found in a police report in a chorological order\",\n",
              "  \"I give you 'Ransomware attack' can you put into a 3 sentences that would be found in a police report in a chorological order\",\n",
              "  \"I give you 'Cyberstalking' can you put into a 3 sentences that would be found in a police report in a chorological order\",\n",
              "  \"I give you 'Distributed denial-of-service (DDoS) attack' can you put into a 3 sentences that would be found in a police report in a chorological order\",\n",
              "  \"I give you 'Identity theft' can you put into a 3 sentences that would be found in a police report in a chorological order\",\n",
              "  \"I give you 'Cyber fraud' can you put into a 3 sentences that would be found in a police report in a chorological order\",\n",
              "  \"I give you 'Password cracking' can you put into a 3 sentences that would be found in a police report in a chorological order\"],\n",
              " 'Drug_Crimes': [\"I give you 'Possessed' can you put into a 3 sentences that would be found in a police report in a chorological order\",\n",
              "  \"I give you 'Trafficked' can you put into a 3 sentences that would be found in a police report in a chorological order\",\n",
              "  \"I give you 'Manufactured' can you put into a 3 sentences that would be found in a police report in a chorological order\",\n",
              "  \"I give you 'Smuggled' can you put into a 3 sentences that would be found in a police report in a chorological order\",\n",
              "  \"I give you 'Sold' can you put into a 3 sentences that would be found in a police report in a chorological order\",\n",
              "  \"I give you 'Cultivated' can you put into a 3 sentences that would be found in a police report in a chorological order\",\n",
              "  \"I give you 'Distributed' can you put into a 3 sentences that would be found in a police report in a chorological order\",\n",
              "  \"I give you 'Synthesized' can you put into a 3 sentences that would be found in a police report in a chorological order\",\n",
              "  \"I give you 'Abused' can you put into a 3 sentences that would be found in a police report in a chorological order\",\n",
              "  \"I give you 'Peddled' can you put into a 3 sentences that would be found in a police report in a chorological order\",\n",
              "  \"I give you 'Dealt' can you put into a 3 sentences that would be found in a police report in a chorological order\",\n",
              "  \"I give you 'Transported' can you put into a 3 sentences that would be found in a police report in a chorological order\",\n",
              "  \"I give you 'Prescribed illegally' can you put into a 3 sentences that would be found in a police report in a chorological order\",\n",
              "  \"I give you 'Falsified prescriptions' can you put into a 3 sentences that would be found in a police report in a chorological order\",\n",
              "  \"I give you 'Produced illicit substances' can you put into a 3 sentences that would be found in a police report in a chorological order\"],\n",
              " 'White-Collar_Crimes': [\"I give you 'Committed fraud' can you put into a 3 sentences that would be found in a police report in a chorological order\",\n",
              "  \"I give you 'Engaged in insider trading' can you put into a 3 sentences that would be found in a police report in a chorological order\",\n",
              "  \"I give you 'Embezzled funds' can you put into a 3 sentences that would be found in a police report in a chorological order\",\n",
              "  \"I give you 'Bribed officials' can you put into a 3 sentences that would be found in a police report in a chorological order\",\n",
              "  \"I give you 'Manipulated financial records' can you put into a 3 sentences that would be found in a police report in a chorological order\",\n",
              "  \"I give you 'Conducted money laundering' can you put into a 3 sentences that would be found in a police report in a chorological order\",\n",
              "  \"I give you 'Engaged in corporate espionage' can you put into a 3 sentences that would be found in a police report in a chorological order\",\n",
              "  \"I give you 'Defrauded investors' can you put into a 3 sentences that would be found in a police report in a chorological order\",\n",
              "  \"I give you 'Orchestrated Ponzi schemes' can you put into a 3 sentences that would be found in a police report in a chorological order\",\n",
              "  \"I give you 'Engaged in tax evasion' can you put into a 3 sentences that would be found in a police report in a chorological order\",\n",
              "  \"I give you 'Falsified documents' can you put into a 3 sentences that would be found in a police report in a chorological order\",\n",
              "  \"I give you 'Misused funds' can you put into a 3 sentences that would be found in a police report in a chorological order\",\n",
              "  \"I give you 'Misrepresented financial statements' can you put into a 3 sentences that would be found in a police report in a chorological order\",\n",
              "  \"I give you 'Engaged in kickbacks' can you put into a 3 sentences that would be found in a police report in a chorological order\",\n",
              "  \"I give you 'Violated antitrust laws' can you put into a 3 sentences that would be found in a police report in a chorological order\"],\n",
              " 'Sexual_Crimes': [\"I give you 'Raped' can you put into a 3 sentences that would be found in a police report in a chorological order\",\n",
              "  \"I give you 'Assaulted sexually' can you put into a 3 sentences that would be found in a police report in a chorological order\",\n",
              "  \"I give you 'Harassed' can you put into a 3 sentences that would be found in a police report in a chorological order\",\n",
              "  \"I give you 'Molested' can you put into a 3 sentences that would be found in a police report in a chorological order\",\n",
              "  \"I give you 'Exploited' can you put into a 3 sentences that would be found in a police report in a chorological order\",\n",
              "  \"I give you 'Fondled' can you put into a 3 sentences that would be found in a police report in a chorological order\",\n",
              "  \"I give you 'Groped' can you put into a 3 sentences that would be found in a police report in a chorological order\",\n",
              "  \"I give you 'Exhibited indecent exposure' can you put into a 3 sentences that would be found in a police report in a chorological order\",\n",
              "  \"I give you 'Engaged in non-consensual acts' can you put into a 3 sentences that would be found in a police report in a chorological order\",\n",
              "  \"I give you 'Coerced' can you put into a 3 sentences that would be found in a police report in a chorological order\",\n",
              "  \"I give you 'Victimized' can you put into a 3 sentences that would be found in a police report in a chorological order\",\n",
              "  \"I give you 'Voyeurism' can you put into a 3 sentences that would be found in a police report in a chorological order\",\n",
              "  \"I give you 'Produced child pornography' can you put into a 3 sentences that would be found in a police report in a chorological order\",\n",
              "  \"I give you 'Solicited prostitution' can you put into a 3 sentences that would be found in a police report in a chorological order\",\n",
              "  \"I give you 'Sextortion' can you put into a 3 sentences that would be found in a police report in a chorological order\"],\n",
              " 'Public_Order_Crimes': [\"I give you 'Intoxicated publicly' can you put into a 3 sentences that would be found in a police report in a chorological order\",\n",
              "  \"I give you 'Disturbed the peace' can you put into a 3 sentences that would be found in a police report in a chorological order\",\n",
              "  \"I give you 'Engaged in disorderly conduct' can you put into a 3 sentences that would be found in a police report in a chorological order\",\n",
              "  \"I give you 'Loitered' can you put into a 3 sentences that would be found in a police report in a chorological order\",\n",
              "  \"I give you 'Urinated in public' can you put into a 3 sentences that would be found in a police report in a chorological order\",\n",
              "  \"I give you 'Engaged in public drunkenness' can you put into a 3 sentences that would be found in a police report in a chorological order\",\n",
              "  \"I give you 'Panhandled' can you put into a 3 sentences that would be found in a police report in a chorological order\",\n",
              "  \"I give you 'Engaged in public nudity' can you put into a 3 sentences that would be found in a police report in a chorological order\",\n",
              "  \"I give you 'Engaged in public lewdness' can you put into a 3 sentences that would be found in a police report in a chorological order\",\n",
              "  \"I give you 'Engaged in street racing' can you put into a 3 sentences that would be found in a police report in a chorological order\",\n",
              "  \"I give you 'Created public disturbances' can you put into a 3 sentences that would be found in a police report in a chorological order\",\n",
              "  \"I give you 'Organized illegal gatherings' can you put into a 3 sentences that would be found in a police report in a chorological order\",\n",
              "  \"I give you 'Begged' can you put into a 3 sentences that would be found in a police report in a chorological order\",\n",
              "  \"I give you 'Engaged in public gambling' can you put into a 3 sentences that would be found in a police report in a chorological order\",\n",
              "  \"I give you 'Solicited in public' can you put into a 3 sentences that would be found in a police report in a chorological order\"],\n",
              " 'Traffic_and_Motor_Vehicle_Crimes': [\"I give you 'Speeded' can you put into a 3 sentences that would be found in a police report in a chorological order\",\n",
              "  \"I give you 'Drove under the influence (DUI)' can you put into a 3 sentences that would be found in a police report in a chorological order\",\n",
              "  \"I give you 'Reckless driving' can you put into a 3 sentences that would be found in a police report in a chorological order\",\n",
              "  \"I give you 'Hit and run' can you put into a 3 sentences that would be found in a police report in a chorological order\",\n",
              "  \"I give you 'Drove without a license' can you put into a 3 sentences that would be found in a police report in a chorological order\",\n",
              "  \"I give you 'Texted while driving' can you put into a 3 sentences that would be found in a police report in a chorological order\",\n",
              "  \"I give you 'Street racing' can you put into a 3 sentences that would be found in a police report in a chorological order\",\n",
              "  \"I give you 'Violated traffic laws' can you put into a 3 sentences that would be found in a police report in a chorological order\",\n",
              "  \"I give you 'Failed to yield' can you put into a 3 sentences that would be found in a police report in a chorological order\",\n",
              "  \"I give you 'Ran red lights' can you put into a 3 sentences that would be found in a police report in a chorological order\",\n",
              "  \"I give you 'Distracted driving' can you put into a 3 sentences that would be found in a police report in a chorological order\",\n",
              "  \"I give you 'Improper lane change' can you put into a 3 sentences that would be found in a police report in a chorological order\",\n",
              "  \"I give you 'Driving with expired registration' can you put into a 3 sentences that would be found in a police report in a chorological order\",\n",
              "  \"I give you 'Driving with suspended license' can you put into a 3 sentences that would be found in a police report in a chorological order\",\n",
              "  \"I give you 'Carjacked' can you put into a 3 sentences that would be found in a police report in a chorological order\"]}"
            ]
          },
          "execution_count": 5,
          "metadata": {},
          "output_type": "execute_result"
        }
      ],
      "source": [
        "def prepare_crime_prompts(verbs_by_crime):\n",
        "    total_prompts = {}\n",
        "    for category_key, values in verbs_by_crime.items():\n",
        "        print(category_key)\n",
        "        prompts = [simple_prompt(x) for x in values]\n",
        "        total_prompts.update({category_key:prompts})\n",
        "    return total_prompts\n",
        "\n",
        "\n",
        "prepare_crime_prompts(verbs_by_crime)"
      ]
    },
    {
      "cell_type": "code",
      "execution_count": null,
      "metadata": {
        "id": "dsAvkvGIQlwO"
      },
      "outputs": [],
      "source": [
        "#TODO interact with open AI, Manually at the beginning\n",
        "\n",
        "# I give you \"Assaulted\" can you put into a 3 sentences that would be found in a police report in a chorological order?\n",
        "\n",
        "# I give you X can you put into a 3 sentences that would be found in a police report in a chorological order?\n",
        "# We will start with 3 sentences that would pick up the context. Larger reports can be exsperimented with in the future.\n"
      ]
    },
    {
      "cell_type": "code",
      "execution_count": 7,
      "metadata": {
        "colab": {
          "base_uri": "https://localhost:8080/"
        },
        "id": "7xCHLlyiQlwO",
        "outputId": "c13ee089-e290-40b2-f539-b56ad12cad3d"
      },
      "outputs": [
        {
          "name": "stdout",
          "output_type": "stream",
          "text": [
            "Requirement already satisfied: spacy[transformers] in ./spacy_env/lib/python3.10/site-packages (3.5.3)\n",
            "Requirement already satisfied: spacy-legacy<3.1.0,>=3.0.11 in ./spacy_env/lib/python3.10/site-packages (from spacy[transformers]) (3.0.12)\n",
            "Requirement already satisfied: spacy-loggers<2.0.0,>=1.0.0 in ./spacy_env/lib/python3.10/site-packages (from spacy[transformers]) (1.0.4)\n",
            "Requirement already satisfied: murmurhash<1.1.0,>=0.28.0 in ./spacy_env/lib/python3.10/site-packages (from spacy[transformers]) (1.0.9)\n",
            "Requirement already satisfied: cymem<2.1.0,>=2.0.2 in ./spacy_env/lib/python3.10/site-packages (from spacy[transformers]) (2.0.7)\n",
            "Requirement already satisfied: preshed<3.1.0,>=3.0.2 in ./spacy_env/lib/python3.10/site-packages (from spacy[transformers]) (3.0.8)\n",
            "Requirement already satisfied: thinc<8.2.0,>=8.1.8 in ./spacy_env/lib/python3.10/site-packages (from spacy[transformers]) (8.1.10)\n",
            "Requirement already satisfied: wasabi<1.2.0,>=0.9.1 in ./spacy_env/lib/python3.10/site-packages (from spacy[transformers]) (1.1.2)\n",
            "Requirement already satisfied: srsly<3.0.0,>=2.4.3 in ./spacy_env/lib/python3.10/site-packages (from spacy[transformers]) (2.4.6)\n",
            "Requirement already satisfied: catalogue<2.1.0,>=2.0.6 in ./spacy_env/lib/python3.10/site-packages (from spacy[transformers]) (2.0.8)\n",
            "Requirement already satisfied: typer<0.8.0,>=0.3.0 in ./spacy_env/lib/python3.10/site-packages (from spacy[transformers]) (0.7.0)\n",
            "Requirement already satisfied: pathy>=0.10.0 in ./spacy_env/lib/python3.10/site-packages (from spacy[transformers]) (0.10.1)\n",
            "Requirement already satisfied: smart-open<7.0.0,>=5.2.1 in ./spacy_env/lib/python3.10/site-packages (from spacy[transformers]) (6.3.0)\n",
            "Requirement already satisfied: tqdm<5.0.0,>=4.38.0 in ./spacy_env/lib/python3.10/site-packages (from spacy[transformers]) (4.65.0)\n",
            "Requirement already satisfied: numpy>=1.15.0 in ./spacy_env/lib/python3.10/site-packages (from spacy[transformers]) (1.25.0)\n",
            "Requirement already satisfied: requests<3.0.0,>=2.13.0 in ./spacy_env/lib/python3.10/site-packages (from spacy[transformers]) (2.31.0)\n",
            "Requirement already satisfied: pydantic!=1.8,!=1.8.1,<1.11.0,>=1.7.4 in ./spacy_env/lib/python3.10/site-packages (from spacy[transformers]) (1.10.9)\n",
            "Requirement already satisfied: jinja2 in ./spacy_env/lib/python3.10/site-packages (from spacy[transformers]) (3.1.2)\n",
            "Requirement already satisfied: setuptools in ./spacy_env/lib/python3.10/site-packages (from spacy[transformers]) (65.6.3)\n",
            "Requirement already satisfied: packaging>=20.0 in ./spacy_env/lib/python3.10/site-packages (from spacy[transformers]) (23.1)\n",
            "Requirement already satisfied: langcodes<4.0.0,>=3.2.0 in ./spacy_env/lib/python3.10/site-packages (from spacy[transformers]) (3.3.0)\n",
            "Requirement already satisfied: spacy-transformers<1.3.0,>=1.1.2 in ./spacy_env/lib/python3.10/site-packages (from spacy[transformers]) (1.2.5)\n",
            "Requirement already satisfied: typing-extensions>=4.2.0 in ./spacy_env/lib/python3.10/site-packages (from pydantic!=1.8,!=1.8.1,<1.11.0,>=1.7.4->spacy[transformers]) (4.6.3)\n",
            "Requirement already satisfied: charset-normalizer<4,>=2 in ./spacy_env/lib/python3.10/site-packages (from requests<3.0.0,>=2.13.0->spacy[transformers]) (3.1.0)\n",
            "Requirement already satisfied: idna<4,>=2.5 in ./spacy_env/lib/python3.10/site-packages (from requests<3.0.0,>=2.13.0->spacy[transformers]) (3.4)\n",
            "Requirement already satisfied: urllib3<3,>=1.21.1 in ./spacy_env/lib/python3.10/site-packages (from requests<3.0.0,>=2.13.0->spacy[transformers]) (2.0.3)\n",
            "Requirement already satisfied: certifi>=2017.4.17 in ./spacy_env/lib/python3.10/site-packages (from requests<3.0.0,>=2.13.0->spacy[transformers]) (2023.5.7)\n",
            "Requirement already satisfied: transformers<4.31.0,>=3.4.0 in ./spacy_env/lib/python3.10/site-packages (from spacy-transformers<1.3.0,>=1.1.2->spacy[transformers]) (4.30.2)\n",
            "Requirement already satisfied: torch>=1.8.0 in ./spacy_env/lib/python3.10/site-packages (from spacy-transformers<1.3.0,>=1.1.2->spacy[transformers]) (2.0.1)\n",
            "Requirement already satisfied: spacy-alignments<1.0.0,>=0.7.2 in ./spacy_env/lib/python3.10/site-packages (from spacy-transformers<1.3.0,>=1.1.2->spacy[transformers]) (0.9.0)\n",
            "Requirement already satisfied: blis<0.8.0,>=0.7.8 in ./spacy_env/lib/python3.10/site-packages (from thinc<8.2.0,>=8.1.8->spacy[transformers]) (0.7.9)\n",
            "Requirement already satisfied: confection<1.0.0,>=0.0.1 in ./spacy_env/lib/python3.10/site-packages (from thinc<8.2.0,>=8.1.8->spacy[transformers]) (0.0.4)\n",
            "Requirement already satisfied: click<9.0.0,>=7.1.1 in ./spacy_env/lib/python3.10/site-packages (from typer<0.8.0,>=0.3.0->spacy[transformers]) (8.1.3)\n",
            "Requirement already satisfied: MarkupSafe>=2.0 in ./spacy_env/lib/python3.10/site-packages (from jinja2->spacy[transformers]) (2.1.3)\n",
            "Requirement already satisfied: filelock in ./spacy_env/lib/python3.10/site-packages (from torch>=1.8.0->spacy-transformers<1.3.0,>=1.1.2->spacy[transformers]) (3.12.2)\n",
            "Requirement already satisfied: sympy in ./spacy_env/lib/python3.10/site-packages (from torch>=1.8.0->spacy-transformers<1.3.0,>=1.1.2->spacy[transformers]) (1.12)\n",
            "Requirement already satisfied: networkx in ./spacy_env/lib/python3.10/site-packages (from torch>=1.8.0->spacy-transformers<1.3.0,>=1.1.2->spacy[transformers]) (3.1)\n",
            "Requirement already satisfied: huggingface-hub<1.0,>=0.14.1 in ./spacy_env/lib/python3.10/site-packages (from transformers<4.31.0,>=3.4.0->spacy-transformers<1.3.0,>=1.1.2->spacy[transformers]) (0.15.1)\n",
            "Requirement already satisfied: pyyaml>=5.1 in ./spacy_env/lib/python3.10/site-packages (from transformers<4.31.0,>=3.4.0->spacy-transformers<1.3.0,>=1.1.2->spacy[transformers]) (6.0)\n",
            "Requirement already satisfied: regex!=2019.12.17 in ./spacy_env/lib/python3.10/site-packages (from transformers<4.31.0,>=3.4.0->spacy-transformers<1.3.0,>=1.1.2->spacy[transformers]) (2023.6.3)\n",
            "Requirement already satisfied: tokenizers!=0.11.3,<0.14,>=0.11.1 in ./spacy_env/lib/python3.10/site-packages (from transformers<4.31.0,>=3.4.0->spacy-transformers<1.3.0,>=1.1.2->spacy[transformers]) (0.13.3)\n",
            "Requirement already satisfied: safetensors>=0.3.1 in ./spacy_env/lib/python3.10/site-packages (from transformers<4.31.0,>=3.4.0->spacy-transformers<1.3.0,>=1.1.2->spacy[transformers]) (0.3.1)\n",
            "Requirement already satisfied: fsspec in ./spacy_env/lib/python3.10/site-packages (from huggingface-hub<1.0,>=0.14.1->transformers<4.31.0,>=3.4.0->spacy-transformers<1.3.0,>=1.1.2->spacy[transformers]) (2023.6.0)\n",
            "Requirement already satisfied: mpmath>=0.19 in ./spacy_env/lib/python3.10/site-packages (from sympy->torch>=1.8.0->spacy-transformers<1.3.0,>=1.1.2->spacy[transformers]) (1.3.0)\n",
            "\n",
            "\u001b[1m[\u001b[0m\u001b[34;49mnotice\u001b[0m\u001b[1;39;49m]\u001b[0m\u001b[39;49m A new release of pip is available: \u001b[0m\u001b[31;49m23.1.2\u001b[0m\u001b[39;49m -> \u001b[0m\u001b[32;49m23.2.1\u001b[0m\n",
            "\u001b[1m[\u001b[0m\u001b[34;49mnotice\u001b[0m\u001b[1;39;49m]\u001b[0m\u001b[39;49m To update, run: \u001b[0m\u001b[32;49mpip install --upgrade pip\u001b[0m\n",
            "Collecting en-core-web-sm==3.5.0\n",
            "  Downloading https://github.com/explosion/spacy-models/releases/download/en_core_web_sm-3.5.0/en_core_web_sm-3.5.0-py3-none-any.whl (12.8 MB)\n",
            "\u001b[2K     \u001b[90m━━━━━━━━━━━━━━━━━━━━━━━━━━━━━━━━━━━━━━━━\u001b[0m \u001b[32m12.8/12.8 MB\u001b[0m \u001b[31m14.8 MB/s\u001b[0m eta \u001b[36m0:00:00\u001b[0m00:01\u001b[0m00:01\u001b[0m\n",
            "\u001b[?25hRequirement already satisfied: spacy<3.6.0,>=3.5.0 in ./spacy_env/lib/python3.10/site-packages (from en-core-web-sm==3.5.0) (3.5.3)\n",
            "Requirement already satisfied: spacy-legacy<3.1.0,>=3.0.11 in ./spacy_env/lib/python3.10/site-packages (from spacy<3.6.0,>=3.5.0->en-core-web-sm==3.5.0) (3.0.12)\n",
            "Requirement already satisfied: spacy-loggers<2.0.0,>=1.0.0 in ./spacy_env/lib/python3.10/site-packages (from spacy<3.6.0,>=3.5.0->en-core-web-sm==3.5.0) (1.0.4)\n",
            "Requirement already satisfied: murmurhash<1.1.0,>=0.28.0 in ./spacy_env/lib/python3.10/site-packages (from spacy<3.6.0,>=3.5.0->en-core-web-sm==3.5.0) (1.0.9)\n",
            "Requirement already satisfied: cymem<2.1.0,>=2.0.2 in ./spacy_env/lib/python3.10/site-packages (from spacy<3.6.0,>=3.5.0->en-core-web-sm==3.5.0) (2.0.7)\n",
            "Requirement already satisfied: preshed<3.1.0,>=3.0.2 in ./spacy_env/lib/python3.10/site-packages (from spacy<3.6.0,>=3.5.0->en-core-web-sm==3.5.0) (3.0.8)\n",
            "Requirement already satisfied: thinc<8.2.0,>=8.1.8 in ./spacy_env/lib/python3.10/site-packages (from spacy<3.6.0,>=3.5.0->en-core-web-sm==3.5.0) (8.1.10)\n",
            "Requirement already satisfied: wasabi<1.2.0,>=0.9.1 in ./spacy_env/lib/python3.10/site-packages (from spacy<3.6.0,>=3.5.0->en-core-web-sm==3.5.0) (1.1.2)\n",
            "Requirement already satisfied: srsly<3.0.0,>=2.4.3 in ./spacy_env/lib/python3.10/site-packages (from spacy<3.6.0,>=3.5.0->en-core-web-sm==3.5.0) (2.4.6)\n",
            "Requirement already satisfied: catalogue<2.1.0,>=2.0.6 in ./spacy_env/lib/python3.10/site-packages (from spacy<3.6.0,>=3.5.0->en-core-web-sm==3.5.0) (2.0.8)\n",
            "Requirement already satisfied: typer<0.8.0,>=0.3.0 in ./spacy_env/lib/python3.10/site-packages (from spacy<3.6.0,>=3.5.0->en-core-web-sm==3.5.0) (0.7.0)\n",
            "Requirement already satisfied: pathy>=0.10.0 in ./spacy_env/lib/python3.10/site-packages (from spacy<3.6.0,>=3.5.0->en-core-web-sm==3.5.0) (0.10.1)\n",
            "Requirement already satisfied: smart-open<7.0.0,>=5.2.1 in ./spacy_env/lib/python3.10/site-packages (from spacy<3.6.0,>=3.5.0->en-core-web-sm==3.5.0) (6.3.0)\n",
            "Requirement already satisfied: tqdm<5.0.0,>=4.38.0 in ./spacy_env/lib/python3.10/site-packages (from spacy<3.6.0,>=3.5.0->en-core-web-sm==3.5.0) (4.65.0)\n",
            "Requirement already satisfied: numpy>=1.15.0 in ./spacy_env/lib/python3.10/site-packages (from spacy<3.6.0,>=3.5.0->en-core-web-sm==3.5.0) (1.25.0)\n",
            "Requirement already satisfied: requests<3.0.0,>=2.13.0 in ./spacy_env/lib/python3.10/site-packages (from spacy<3.6.0,>=3.5.0->en-core-web-sm==3.5.0) (2.31.0)\n",
            "Requirement already satisfied: pydantic!=1.8,!=1.8.1,<1.11.0,>=1.7.4 in ./spacy_env/lib/python3.10/site-packages (from spacy<3.6.0,>=3.5.0->en-core-web-sm==3.5.0) (1.10.9)\n",
            "Requirement already satisfied: jinja2 in ./spacy_env/lib/python3.10/site-packages (from spacy<3.6.0,>=3.5.0->en-core-web-sm==3.5.0) (3.1.2)\n",
            "Requirement already satisfied: setuptools in ./spacy_env/lib/python3.10/site-packages (from spacy<3.6.0,>=3.5.0->en-core-web-sm==3.5.0) (65.6.3)\n",
            "Requirement already satisfied: packaging>=20.0 in ./spacy_env/lib/python3.10/site-packages (from spacy<3.6.0,>=3.5.0->en-core-web-sm==3.5.0) (23.1)\n",
            "Requirement already satisfied: langcodes<4.0.0,>=3.2.0 in ./spacy_env/lib/python3.10/site-packages (from spacy<3.6.0,>=3.5.0->en-core-web-sm==3.5.0) (3.3.0)\n",
            "Requirement already satisfied: typing-extensions>=4.2.0 in ./spacy_env/lib/python3.10/site-packages (from pydantic!=1.8,!=1.8.1,<1.11.0,>=1.7.4->spacy<3.6.0,>=3.5.0->en-core-web-sm==3.5.0) (4.6.3)\n",
            "Requirement already satisfied: charset-normalizer<4,>=2 in ./spacy_env/lib/python3.10/site-packages (from requests<3.0.0,>=2.13.0->spacy<3.6.0,>=3.5.0->en-core-web-sm==3.5.0) (3.1.0)\n",
            "Requirement already satisfied: idna<4,>=2.5 in ./spacy_env/lib/python3.10/site-packages (from requests<3.0.0,>=2.13.0->spacy<3.6.0,>=3.5.0->en-core-web-sm==3.5.0) (3.4)\n",
            "Requirement already satisfied: urllib3<3,>=1.21.1 in ./spacy_env/lib/python3.10/site-packages (from requests<3.0.0,>=2.13.0->spacy<3.6.0,>=3.5.0->en-core-web-sm==3.5.0) (2.0.3)\n",
            "Requirement already satisfied: certifi>=2017.4.17 in ./spacy_env/lib/python3.10/site-packages (from requests<3.0.0,>=2.13.0->spacy<3.6.0,>=3.5.0->en-core-web-sm==3.5.0) (2023.5.7)\n",
            "Requirement already satisfied: blis<0.8.0,>=0.7.8 in ./spacy_env/lib/python3.10/site-packages (from thinc<8.2.0,>=8.1.8->spacy<3.6.0,>=3.5.0->en-core-web-sm==3.5.0) (0.7.9)\n",
            "Requirement already satisfied: confection<1.0.0,>=0.0.1 in ./spacy_env/lib/python3.10/site-packages (from thinc<8.2.0,>=8.1.8->spacy<3.6.0,>=3.5.0->en-core-web-sm==3.5.0) (0.0.4)\n",
            "Requirement already satisfied: click<9.0.0,>=7.1.1 in ./spacy_env/lib/python3.10/site-packages (from typer<0.8.0,>=0.3.0->spacy<3.6.0,>=3.5.0->en-core-web-sm==3.5.0) (8.1.3)\n",
            "Requirement already satisfied: MarkupSafe>=2.0 in ./spacy_env/lib/python3.10/site-packages (from jinja2->spacy<3.6.0,>=3.5.0->en-core-web-sm==3.5.0) (2.1.3)\n",
            "\n",
            "\u001b[1m[\u001b[0m\u001b[34;49mnotice\u001b[0m\u001b[1;39;49m]\u001b[0m\u001b[39;49m A new release of pip is available: \u001b[0m\u001b[31;49m23.1.2\u001b[0m\u001b[39;49m -> \u001b[0m\u001b[32;49m23.2.1\u001b[0m\n",
            "\u001b[1m[\u001b[0m\u001b[34;49mnotice\u001b[0m\u001b[1;39;49m]\u001b[0m\u001b[39;49m To update, run: \u001b[0m\u001b[32;49mpip install --upgrade pip\u001b[0m\n",
            "\u001b[38;5;2m✔ Download and installation successful\u001b[0m\n",
            "You can now load the package via spacy.load('en_core_web_sm')\n"
          ]
        }
      ],
      "source": [
        "!pip install spacy[transformers]\n",
        "!python -m spacy download en_core_web_sm"
      ]
    },
    {
      "cell_type": "code",
      "execution_count": 8,
      "metadata": {
        "colab": {
          "base_uri": "https://localhost:8080/",
          "height": 70
        },
        "id": "Gtuexwy-QlwO",
        "outputId": "6234cd91-4bca-4be4-b94d-e06e282279a6"
      },
      "outputs": [
        {
          "name": "stderr",
          "output_type": "stream",
          "text": [
            "/Users/mevin/Documents/MMAI_2022/capstone/spacy_ner/spacy_env/lib/python3.10/site-packages/tqdm/auto.py:21: TqdmWarning: IProgress not found. Please update jupyter and ipywidgets. See https://ipywidgets.readthedocs.io/en/stable/user_install.html\n",
            "  from .autonotebook import tqdm as notebook_tqdm\n"
          ]
        },
        {
          "name": "stdout",
          "output_type": "stream",
          "text": [
            "['tok2vec', 'tagger', 'parser', 'attribute_ruler', 'lemmatizer', 'ner']\n"
          ]
        },
        {
          "data": {
            "text/html": [
              "<span class=\"tex2jax_ignore\"><div class=\"entities\" style=\"line-height: 2.5; direction: ltr\">What video sharing service did \n",
              "<mark class=\"entity\" style=\"background: #aa9cfc; padding: 0.45em 0.6em; margin: 0 0.25em; line-height: 1; border-radius: 0.35em;\">\n",
              "    Steve Chen\n",
              "    <span style=\"font-size: 0.8em; font-weight: bold; line-height: 1; border-radius: 0.35em; vertical-align: middle; margin-left: 0.5rem\">PERSON</span>\n",
              "</mark>\n",
              ", \n",
              "<mark class=\"entity\" style=\"background: #aa9cfc; padding: 0.45em 0.6em; margin: 0 0.25em; line-height: 1; border-radius: 0.35em;\">\n",
              "    Chad Hurley\n",
              "    <span style=\"font-size: 0.8em; font-weight: bold; line-height: 1; border-radius: 0.35em; vertical-align: middle; margin-left: 0.5rem\">PERSON</span>\n",
              "</mark>\n",
              ", and \n",
              "<mark class=\"entity\" style=\"background: #aa9cfc; padding: 0.45em 0.6em; margin: 0 0.25em; line-height: 1; border-radius: 0.35em;\">\n",
              "    Jawed Karim\n",
              "    <span style=\"font-size: 0.8em; font-weight: bold; line-height: 1; border-radius: 0.35em; vertical-align: middle; margin-left: 0.5rem\">PERSON</span>\n",
              "</mark>\n",
              " create in \n",
              "<mark class=\"entity\" style=\"background: #bfe1d9; padding: 0.45em 0.6em; margin: 0 0.25em; line-height: 1; border-radius: 0.35em;\">\n",
              "    2005\n",
              "    <span style=\"font-size: 0.8em; font-weight: bold; line-height: 1; border-radius: 0.35em; vertical-align: middle; margin-left: 0.5rem\">DATE</span>\n",
              "</mark>\n",
              "?</div></span>"
            ],
            "text/plain": [
              "<IPython.core.display.HTML object>"
            ]
          },
          "metadata": {},
          "output_type": "display_data"
        }
      ],
      "source": [
        "import spacy\n",
        "\n",
        "nlp = spacy.load(\"en_core_web_sm\")\n",
        "print(nlp.pipe_names)\n",
        "\n",
        "text = \"What video sharing service did Steve Chen, Chad Hurley, and Jawed Karim create in 2005?\"\n",
        "doc = nlp(text)\n",
        "from spacy import displacy\n",
        "displacy.render(doc, style=\"ent\", jupyter=True)"
      ]
    },
    {
      "cell_type": "code",
      "execution_count": 9,
      "metadata": {
        "colab": {
          "base_uri": "https://localhost:8080/"
        },
        "id": "fUdAkUI9QlwO",
        "outputId": "94f90197-1b54-4cae-a9ca-4ec4f5cbc5b7"
      },
      "outputs": [
        {
          "name": "stdout",
          "output_type": "stream",
          "text": [
            "Requirement already satisfied: spacy[transformers] in ./spacy_env/lib/python3.10/site-packages (3.5.3)\n",
            "Requirement already satisfied: spacy-legacy<3.1.0,>=3.0.11 in ./spacy_env/lib/python3.10/site-packages (from spacy[transformers]) (3.0.12)\n",
            "Requirement already satisfied: spacy-loggers<2.0.0,>=1.0.0 in ./spacy_env/lib/python3.10/site-packages (from spacy[transformers]) (1.0.4)\n",
            "Requirement already satisfied: murmurhash<1.1.0,>=0.28.0 in ./spacy_env/lib/python3.10/site-packages (from spacy[transformers]) (1.0.9)\n",
            "Requirement already satisfied: cymem<2.1.0,>=2.0.2 in ./spacy_env/lib/python3.10/site-packages (from spacy[transformers]) (2.0.7)\n",
            "Requirement already satisfied: preshed<3.1.0,>=3.0.2 in ./spacy_env/lib/python3.10/site-packages (from spacy[transformers]) (3.0.8)\n",
            "Requirement already satisfied: thinc<8.2.0,>=8.1.8 in ./spacy_env/lib/python3.10/site-packages (from spacy[transformers]) (8.1.10)\n",
            "Requirement already satisfied: wasabi<1.2.0,>=0.9.1 in ./spacy_env/lib/python3.10/site-packages (from spacy[transformers]) (1.1.2)\n",
            "Requirement already satisfied: srsly<3.0.0,>=2.4.3 in ./spacy_env/lib/python3.10/site-packages (from spacy[transformers]) (2.4.6)\n",
            "Requirement already satisfied: catalogue<2.1.0,>=2.0.6 in ./spacy_env/lib/python3.10/site-packages (from spacy[transformers]) (2.0.8)\n",
            "Requirement already satisfied: typer<0.8.0,>=0.3.0 in ./spacy_env/lib/python3.10/site-packages (from spacy[transformers]) (0.7.0)\n",
            "Requirement already satisfied: pathy>=0.10.0 in ./spacy_env/lib/python3.10/site-packages (from spacy[transformers]) (0.10.1)\n",
            "Requirement already satisfied: smart-open<7.0.0,>=5.2.1 in ./spacy_env/lib/python3.10/site-packages (from spacy[transformers]) (6.3.0)\n",
            "Requirement already satisfied: tqdm<5.0.0,>=4.38.0 in ./spacy_env/lib/python3.10/site-packages (from spacy[transformers]) (4.65.0)\n",
            "Requirement already satisfied: numpy>=1.15.0 in ./spacy_env/lib/python3.10/site-packages (from spacy[transformers]) (1.25.0)\n",
            "Requirement already satisfied: requests<3.0.0,>=2.13.0 in ./spacy_env/lib/python3.10/site-packages (from spacy[transformers]) (2.31.0)\n",
            "Requirement already satisfied: pydantic!=1.8,!=1.8.1,<1.11.0,>=1.7.4 in ./spacy_env/lib/python3.10/site-packages (from spacy[transformers]) (1.10.9)\n",
            "Requirement already satisfied: jinja2 in ./spacy_env/lib/python3.10/site-packages (from spacy[transformers]) (3.1.2)\n",
            "Requirement already satisfied: setuptools in ./spacy_env/lib/python3.10/site-packages (from spacy[transformers]) (65.6.3)\n",
            "Requirement already satisfied: packaging>=20.0 in ./spacy_env/lib/python3.10/site-packages (from spacy[transformers]) (23.1)\n",
            "Requirement already satisfied: langcodes<4.0.0,>=3.2.0 in ./spacy_env/lib/python3.10/site-packages (from spacy[transformers]) (3.3.0)\n",
            "Requirement already satisfied: spacy-transformers<1.3.0,>=1.1.2 in ./spacy_env/lib/python3.10/site-packages (from spacy[transformers]) (1.2.5)\n",
            "Requirement already satisfied: typing-extensions>=4.2.0 in ./spacy_env/lib/python3.10/site-packages (from pydantic!=1.8,!=1.8.1,<1.11.0,>=1.7.4->spacy[transformers]) (4.6.3)\n",
            "Requirement already satisfied: charset-normalizer<4,>=2 in ./spacy_env/lib/python3.10/site-packages (from requests<3.0.0,>=2.13.0->spacy[transformers]) (3.1.0)\n",
            "Requirement already satisfied: idna<4,>=2.5 in ./spacy_env/lib/python3.10/site-packages (from requests<3.0.0,>=2.13.0->spacy[transformers]) (3.4)\n",
            "Requirement already satisfied: urllib3<3,>=1.21.1 in ./spacy_env/lib/python3.10/site-packages (from requests<3.0.0,>=2.13.0->spacy[transformers]) (2.0.3)\n",
            "Requirement already satisfied: certifi>=2017.4.17 in ./spacy_env/lib/python3.10/site-packages (from requests<3.0.0,>=2.13.0->spacy[transformers]) (2023.5.7)\n",
            "Requirement already satisfied: transformers<4.31.0,>=3.4.0 in ./spacy_env/lib/python3.10/site-packages (from spacy-transformers<1.3.0,>=1.1.2->spacy[transformers]) (4.30.2)\n",
            "Requirement already satisfied: torch>=1.8.0 in ./spacy_env/lib/python3.10/site-packages (from spacy-transformers<1.3.0,>=1.1.2->spacy[transformers]) (2.0.1)\n",
            "Requirement already satisfied: spacy-alignments<1.0.0,>=0.7.2 in ./spacy_env/lib/python3.10/site-packages (from spacy-transformers<1.3.0,>=1.1.2->spacy[transformers]) (0.9.0)\n",
            "Requirement already satisfied: blis<0.8.0,>=0.7.8 in ./spacy_env/lib/python3.10/site-packages (from thinc<8.2.0,>=8.1.8->spacy[transformers]) (0.7.9)\n",
            "Requirement already satisfied: confection<1.0.0,>=0.0.1 in ./spacy_env/lib/python3.10/site-packages (from thinc<8.2.0,>=8.1.8->spacy[transformers]) (0.0.4)\n",
            "Requirement already satisfied: click<9.0.0,>=7.1.1 in ./spacy_env/lib/python3.10/site-packages (from typer<0.8.0,>=0.3.0->spacy[transformers]) (8.1.3)\n",
            "Requirement already satisfied: MarkupSafe>=2.0 in ./spacy_env/lib/python3.10/site-packages (from jinja2->spacy[transformers]) (2.1.3)\n",
            "Requirement already satisfied: filelock in ./spacy_env/lib/python3.10/site-packages (from torch>=1.8.0->spacy-transformers<1.3.0,>=1.1.2->spacy[transformers]) (3.12.2)\n",
            "Requirement already satisfied: sympy in ./spacy_env/lib/python3.10/site-packages (from torch>=1.8.0->spacy-transformers<1.3.0,>=1.1.2->spacy[transformers]) (1.12)\n",
            "Requirement already satisfied: networkx in ./spacy_env/lib/python3.10/site-packages (from torch>=1.8.0->spacy-transformers<1.3.0,>=1.1.2->spacy[transformers]) (3.1)\n",
            "Requirement already satisfied: huggingface-hub<1.0,>=0.14.1 in ./spacy_env/lib/python3.10/site-packages (from transformers<4.31.0,>=3.4.0->spacy-transformers<1.3.0,>=1.1.2->spacy[transformers]) (0.15.1)\n",
            "Requirement already satisfied: pyyaml>=5.1 in ./spacy_env/lib/python3.10/site-packages (from transformers<4.31.0,>=3.4.0->spacy-transformers<1.3.0,>=1.1.2->spacy[transformers]) (6.0)\n",
            "Requirement already satisfied: regex!=2019.12.17 in ./spacy_env/lib/python3.10/site-packages (from transformers<4.31.0,>=3.4.0->spacy-transformers<1.3.0,>=1.1.2->spacy[transformers]) (2023.6.3)\n",
            "Requirement already satisfied: tokenizers!=0.11.3,<0.14,>=0.11.1 in ./spacy_env/lib/python3.10/site-packages (from transformers<4.31.0,>=3.4.0->spacy-transformers<1.3.0,>=1.1.2->spacy[transformers]) (0.13.3)\n",
            "Requirement already satisfied: safetensors>=0.3.1 in ./spacy_env/lib/python3.10/site-packages (from transformers<4.31.0,>=3.4.0->spacy-transformers<1.3.0,>=1.1.2->spacy[transformers]) (0.3.1)\n",
            "Requirement already satisfied: fsspec in ./spacy_env/lib/python3.10/site-packages (from huggingface-hub<1.0,>=0.14.1->transformers<4.31.0,>=3.4.0->spacy-transformers<1.3.0,>=1.1.2->spacy[transformers]) (2023.6.0)\n",
            "Requirement already satisfied: mpmath>=0.19 in ./spacy_env/lib/python3.10/site-packages (from sympy->torch>=1.8.0->spacy-transformers<1.3.0,>=1.1.2->spacy[transformers]) (1.3.0)\n",
            "\n",
            "\u001b[1m[\u001b[0m\u001b[34;49mnotice\u001b[0m\u001b[1;39;49m]\u001b[0m\u001b[39;49m A new release of pip is available: \u001b[0m\u001b[31;49m23.1.2\u001b[0m\u001b[39;49m -> \u001b[0m\u001b[32;49m23.2.1\u001b[0m\n",
            "\u001b[1m[\u001b[0m\u001b[34;49mnotice\u001b[0m\u001b[1;39;49m]\u001b[0m\u001b[39;49m To update, run: \u001b[0m\u001b[32;49mpip install --upgrade pip\u001b[0m\n"
          ]
        }
      ],
      "source": [
        "!pip install spacy[transformers]"
      ]
    },
    {
      "cell_type": "code",
      "execution_count": null,
      "metadata": {
        "id": "4TVhLKdGQlwO"
      },
      "outputs": [],
      "source": [
        "# Tutorial on retraining SpaCy model\n",
        "#  https://newscatcherapi.com/blog/train-custom-named-entity-recognition-ner-model-with-spacy-v3\n",
        "import json\n",
        "\n",
        "with open('Corona2.json', 'r', encoding=\"utf-8\") as f:\n",
        "    data = json.load(f)"
      ]
    },
    {
      "cell_type": "code",
      "execution_count": null,
      "metadata": {
        "id": "XgLLYdgIQlwP"
      },
      "outputs": [],
      "source": [
        "training_data = {'classes' : ['MEDICINE', \"MEDICALCONDITION\", \"PATHOGEN\"], 'annotations' : []}\n",
        "for example in data['examples']:\n",
        "    temp_dict = {}\n",
        "    temp_dict['text'] = example['content']\n",
        "    temp_dict['entities'] = []\n",
        "    for annotation in example['annotations']:\n",
        "        start = annotation['start']\n",
        "        end = annotation['end']\n",
        "        label = annotation['tag_name'].upper()\n",
        "        temp_dict['entities'].append((start, end, label))\n",
        "    training_data['annotations'].append(temp_dict)"
      ]
    },
    {
      "cell_type": "code",
      "execution_count": null,
      "metadata": {
        "colab": {
          "base_uri": "https://localhost:8080/"
        },
        "id": "i7Y-r9UgQlwP",
        "outputId": "e4443787-2409-4bf0-c8b1-2aebaa7d2189"
      },
      "outputs": [
        {
          "data": {
            "text/plain": [
              "{'text': \"While bismuth compounds (Pepto-Bismol) decreased the number of bowel movements in those with travelers' diarrhea, they do not decrease the length of illness.[91] Anti-motility agents like loperamide are also effective at reducing the number of stools but not the duration of disease.[8] These agents should be used only if bloody diarrhea is not present.[92]\\n\\nDiosmectite, a natural aluminomagnesium silicate clay, is effective in alleviating symptoms of acute diarrhea in children,[93] and also has some effects in chronic functional diarrhea, radiation-induced diarrhea, and chemotherapy-induced diarrhea.[45] Another absorbent agent used for the treatment of mild diarrhea is kaopectate.\\n\\nRacecadotril an antisecretory medication may be used to treat diarrhea in children and adults.[86] It has better tolerability than loperamide, as it causes less constipation and flatulence.[94]\",\n",
              " 'entities': [(360, 371, 'MEDICINE'),\n",
              "  (383, 408, 'MEDICINE'),\n",
              "  (104, 112, 'MEDICALCONDITION'),\n",
              "  (679, 689, 'MEDICINE'),\n",
              "  (6, 23, 'MEDICINE'),\n",
              "  (25, 37, 'MEDICINE'),\n",
              "  (461, 470, 'MEDICALCONDITION'),\n",
              "  (577, 589, 'MEDICINE'),\n",
              "  (853, 865, 'MEDICALCONDITION'),\n",
              "  (188, 198, 'MEDICINE'),\n",
              "  (754, 762, 'MEDICALCONDITION'),\n",
              "  (870, 880, 'MEDICALCONDITION'),\n",
              "  (823, 833, 'MEDICINE'),\n",
              "  (852, 853, 'MEDICALCONDITION'),\n",
              "  (461, 469, 'MEDICALCONDITION'),\n",
              "  (535, 543, 'MEDICALCONDITION'),\n",
              "  (692, 704, 'MEDICINE'),\n",
              "  (563, 571, 'MEDICALCONDITION')]}"
            ]
          },
          "execution_count": 7,
          "metadata": {},
          "output_type": "execute_result"
        }
      ],
      "source": [
        "training_data['annotations'][0]"
      ]
    },
    {
      "cell_type": "code",
      "execution_count": 2,
      "metadata": {
        "id": "BmydGm4scC5R"
      },
      "outputs": [],
      "source": [
        "import json\n",
        "with open('spacy_prompt_training_v1_4.json', 'r', encoding=\"utf-8\") as f:\n",
        "    crime_prompt_data = json.load(f)"
      ]
    },
    {
      "cell_type": "code",
      "execution_count": 3,
      "metadata": {
        "id": "rZb2K64McC5S"
      },
      "outputs": [],
      "source": [
        "training_data_crime = {'classes' : verbs_by_crime.keys(), 'annotations' : []}\n",
        "for example in crime_prompt_data['examples']:\n",
        "    temp_dict = {}\n",
        "    temp_dict['text'] = example['text']\n",
        "    temp_dict['entities'] = []\n",
        "    for entity, annotations in example['entities'].items():\n",
        "        # print(entity, annotations)\n",
        "        for annotation in annotations:\n",
        "    #     # start = annotation['start']\n",
        "    #     # end = annotation['end']\n",
        "            entity_annotation = annotation + [entity]\n",
        "            temp_dict['entities'].append(tuple(entity_annotation))\n",
        "            training_data_crime['annotations'].append(temp_dict)\n"
      ]
    },
    {
      "cell_type": "code",
      "execution_count": 4,
      "metadata": {
        "colab": {
          "base_uri": "https://localhost:8080/"
        },
        "id": "stzd0flncC5S",
        "outputId": "2748a0ff-418b-4408-b417-4884ca404b8e"
      },
      "outputs": [
        {
          "data": {
            "text/plain": [
              "{'text': \"On June 15, 2030, at approximately 1:00 PM, the victim, identified as Sarah White, reported being beaten by a male suspect matching the description of her ex-boyfriend. The victim stated that the suspect had kicked in the door of her residence before accosting her and savagely beating her.\\n        Responding officers arrived at the scene within minutes of the report and observed the victim appearing to be in a state of shock and with visible signs of injury, including swelling and bruising of the face and arms. Officers immediately called for medical assistance and provided initial first aid until paramedics arrived to transport the victim to the hospital for further evaluation and treatment.\\n        Crime scene investigators were dispatched to the location and conducted a thorough examination of the area, collecting potential evidence such as surveillance footage, witness statements, and the victim's personal belongings. The investigation into the beating is ongoing, with efforts focused on identifying the suspect and establishing a motive for the attack.\",\n",
              " 'entities': [(98, 102, 'Violent_Crimes'),\n",
              "  (278, 282, 'Violent_Crimes'),\n",
              "  (963, 967, 'Violent_Crimes')]}"
            ]
          },
          "execution_count": 4,
          "metadata": {},
          "output_type": "execute_result"
        }
      ],
      "source": [
        "training_data_crime['annotations'][16]"
      ]
    },
    {
      "cell_type": "code",
      "execution_count": 10,
      "metadata": {
        "id": "3ioaa2HjQlwP"
      },
      "outputs": [],
      "source": [
        "import spacy\n",
        "from spacy.tokens import DocBin\n",
        "from tqdm import tqdm\n",
        "\n",
        "nlp = spacy.blank(\"en\") # load a new spacy model\n",
        "doc_bin = DocBin() # create a DocBin object"
      ]
    },
    {
      "cell_type": "code",
      "execution_count": null,
      "metadata": {
        "colab": {
          "base_uri": "https://localhost:8080/"
        },
        "id": "EyiCKcu8QlwP",
        "outputId": "f3da0af8-5c89-4e64-b8e6-a2fc787eea79"
      },
      "outputs": [
        {
          "name": "stderr",
          "output_type": "stream",
          "text": [
            "100%|██████████| 31/31 [00:00<00:00, 276.59it/s]\n"
          ]
        },
        {
          "name": "stdout",
          "output_type": "stream",
          "text": [
            "Skipping entity\n",
            "Skipping entity\n",
            "Skipping entity\n",
            "Skipping entity\n",
            "Skipping entity\n",
            "Skipping entity\n",
            "Skipping entity\n",
            "Skipping entity\n",
            "Skipping entity\n",
            "Skipping entity\n",
            "Skipping entity\n",
            "Skipping entity\n",
            "Skipping entity\n",
            "Skipping entity\n",
            "Skipping entity\n",
            "Skipping entity\n"
          ]
        }
      ],
      "source": [
        "\n",
        "from spacy.util import filter_spans\n",
        "\n",
        "for training_example  in tqdm(training_data['annotations']):\n",
        "    text = training_example['text']\n",
        "    labels = training_example['entities']\n",
        "    doc = nlp.make_doc(text)\n",
        "    ents = []\n",
        "    for start, end, label in labels:\n",
        "        span = doc.char_span(start, end, label=label, alignment_mode=\"contract\")\n",
        "        if span is None:\n",
        "            print(\"Skipping entity\")\n",
        "        else:\n",
        "            ents.append(span)\n",
        "    filtered_ents = filter_spans(ents)\n",
        "    doc.ents = filtered_ents\n",
        "    doc_bin.add(doc)\n",
        "\n",
        "doc_bin.to_disk(\"training_data.spacy\") # save the docbin object"
      ]
    },
    {
      "cell_type": "code",
      "execution_count": null,
      "metadata": {
        "id": "hD4HF7m8cC5S",
        "outputId": "cfb9f456-97d5-47bd-c566-005e57a3d098"
      },
      "outputs": [
        {
          "name": "stderr",
          "output_type": "stream",
          "text": [
            "100%|██████████| 355/355 [00:00<00:00, 1437.01it/s]"
          ]
        },
        {
          "name": "stdout",
          "output_type": "stream",
          "text": [
            "huggingface/tokenizers: The current process just got forked, after parallelism has already been used. Disabling parallelism to avoid deadlocks...\n",
            "To disable this warning, you can either:\n",
            "\t- Avoid using `tokenizers` before the fork if possible\n",
            "\t- Explicitly set the environment variable TOKENIZERS_PARALLELISM=(true | false)\n",
            "Skipping entity\n",
            "Skipping entity\n",
            "Skipping entity\n",
            "Skipping entity\n",
            "Skipping entity\n",
            "Skipping entity\n",
            "Skipping entity\n",
            "Skipping entity\n",
            "Skipping entity\n",
            "Skipping entity\n",
            "Skipping entity\n",
            "Skipping entity\n",
            "Skipping entity\n",
            "Skipping entity\n",
            "Skipping entity\n",
            "Skipping entity\n",
            "Skipping entity\n",
            "Skipping entity\n",
            "Skipping entity\n"
          ]
        },
        {
          "name": "stderr",
          "output_type": "stream",
          "text": [
            "\n"
          ]
        }
      ],
      "source": [
        "\n",
        "from spacy.util import filter_spans\n",
        "\n",
        "for training_example  in tqdm(training_data_crime['annotations']):\n",
        "    text = training_example['text']\n",
        "    labels = training_example['entities']\n",
        "    doc = nlp.make_doc(text)\n",
        "    ents = []\n",
        "    for start, end, label in labels:\n",
        "        span = doc.char_span(start, end, label=label, alignment_mode=\"contract\")\n",
        "        if span is None:\n",
        "            print(\"Skipping entity\")\n",
        "        else:\n",
        "            ents.append(span)\n",
        "    filtered_ents = filter_spans(ents)\n",
        "    doc.ents = filtered_ents\n",
        "    doc_bin.add(doc)\n",
        "\n",
        "doc_bin.to_disk(\"training_data_crime_v1_4.spacy\") # save the docbin object"
      ]
    },
    {
      "cell_type": "code",
      "execution_count": null,
      "metadata": {
        "id": "--QcqraAQlwP"
      },
      "outputs": [],
      "source": [
        "# Create a config\n",
        "# https://spacy.io/usage/training#quickstart"
      ]
    },
    {
      "cell_type": "code",
      "execution_count": 13,
      "metadata": {
        "colab": {
          "base_uri": "https://localhost:8080/"
        },
        "id": "sddrC_P1QlwP",
        "outputId": "c4898fcf-364c-473f-bdc8-8c27f8ca21eb"
      },
      "outputs": [
        {
          "name": "stdout",
          "output_type": "stream",
          "text": [
            "2023-09-07 06:51:37.364511: W tensorflow/compiler/tf2tensorrt/utils/py_utils.cc:38] TF-TRT Warning: Could not find TensorRT\n",
            "\u001b[38;5;2m✔ Auto-filled config with all values\u001b[0m\n",
            "\u001b[38;5;2m✔ Saved config\u001b[0m\n",
            "config.cfg\n",
            "You can now add your data and train your pipeline:\n",
            "python -m spacy train config.cfg --paths.train ./train.spacy --paths.dev ./dev.spacy\n"
          ]
        }
      ],
      "source": [
        "import locale\n",
        "def getpreferredencoding(do_setlocale = True):\n",
        "    return \"UTF-8\"\n",
        "locale.getpreferredencoding = getpreferredencoding\n",
        "!python -m spacy init fill-config base_config.cfg config.cfg"
      ]
    },
    {
      "cell_type": "code",
      "execution_count": 17,
      "metadata": {
        "colab": {
          "base_uri": "https://localhost:8080/"
        },
        "id": "ZC_wIGSSQlwP",
        "outputId": "8ec5e57b-9715-4006-f19d-9697d9bfd31a"
      },
      "outputs": [
        {
          "name": "stdout",
          "output_type": "stream",
          "text": [
            "2023-09-07 07:58:42.953646: W tensorflow/compiler/tf2tensorrt/utils/py_utils.cc:38] TF-TRT Warning: Could not find TensorRT\n",
            "\u001b[38;5;4mℹ Saving to output directory: .\u001b[0m\n",
            "\u001b[38;5;4mℹ Using GPU: 0\u001b[0m\n",
            "\u001b[1m\n",
            "=========================== Initializing pipeline ===========================\u001b[0m\n",
            "Some weights of the model checkpoint at roberta-base were not used when initializing RobertaModel: ['lm_head.dense.weight', 'lm_head.dense.bias', 'lm_head.layer_norm.bias', 'lm_head.bias', 'lm_head.layer_norm.weight']\n",
            "- This IS expected if you are initializing RobertaModel from the checkpoint of a model trained on another task or with another architecture (e.g. initializing a BertForSequenceClassification model from a BertForPreTraining model).\n",
            "- This IS NOT expected if you are initializing RobertaModel from the checkpoint of a model that you expect to be exactly identical (initializing a BertForSequenceClassification model from a BertForSequenceClassification model).\n",
            "Some weights of RobertaModel were not initialized from the model checkpoint at roberta-base and are newly initialized: ['roberta.pooler.dense.bias', 'roberta.pooler.dense.weight']\n",
            "You should probably TRAIN this model on a down-stream task to be able to use it for predictions and inference.\n",
            "\u001b[38;5;2m✔ Initialized pipeline\u001b[0m\n",
            "\u001b[1m\n",
            "============================= Training pipeline =============================\u001b[0m\n",
            "\u001b[38;5;4mℹ Pipeline: ['transformer', 'ner']\u001b[0m\n",
            "\u001b[38;5;4mℹ Initial learn rate: 0.0\u001b[0m\n",
            "E    #       LOSS TRANS...  LOSS NER  ENTS_F  ENTS_P  ENTS_R  SCORE \n",
            "---  ------  -------------  --------  ------  ------  ------  ------\n",
            "  0       0       20598.24    439.59    0.00    0.00    0.00    0.00\n",
            "  6     200     3985560.29  66491.31   39.31   42.47   36.60    0.39\n",
            " 12     400      298053.78   6306.78   94.36   94.46   94.26    0.94\n",
            " 18     600        8803.01    801.93   96.69   97.00   96.38    0.97\n",
            " 25     800       39530.63   1014.07   99.57   99.57   99.57    1.00\n",
            " 31    1000       21254.09    399.15   99.36   99.36   99.36    0.99\n",
            " 37    1200        7020.29    266.54   99.57   99.57   99.57    1.00\n",
            " 43    1400       32075.73    512.68   98.94   98.94   98.94    0.99\n",
            " 50    1600        1653.38    149.24   99.57   99.57   99.57    1.00\n",
            " 56    1800          26.42     40.74   97.94  100.00   95.96    0.98\n",
            " 62    2000          10.94     31.69  100.00  100.00  100.00    1.00\n",
            " 68    2200           7.60     28.99  100.00  100.00  100.00    1.00\n",
            " 75    2400           8.85     28.22  100.00  100.00  100.00    1.00\n",
            " 81    2600          37.95     90.42   99.89   99.79  100.00    1.00\n",
            " 87    2800           9.34     28.74  100.00  100.00  100.00    1.00\n",
            " 93    3000          25.51     42.88  100.00  100.00  100.00    1.00\n",
            " 99    3200          14.27     34.60   99.89  100.00   99.79    1.00\n",
            "106    3400          70.74    126.99  100.00  100.00  100.00    1.00\n",
            "112    3600           4.32     27.21  100.00  100.00  100.00    1.00\n",
            "\u001b[38;5;2m✔ Saved pipeline to output directory\u001b[0m\n",
            "model-last\n"
          ]
        }
      ],
      "source": [
        "import time\n",
        "# This took a really long time and needs to be solved\n",
        "\n",
        "start = time.time()\n",
        "# !python -m spacy train config.cfg --output ./ --paths.train ./training_data.spacy --paths.dev ./training_data.spacy\n",
        "# !python -m spacy train config.cfg --output ./ --paths.train ./training_data.spacy --paths.dev ./training_data.spacy --gpu-id 0\n",
        "!python -m spacy train config.cfg --output ./ --paths.train ./training_data_crime_v1_4.spacy --paths.dev ./training_data_crime_v1_4.spacy --gpu-id 0\n",
        "end = time.time()"
      ]
    },
    {
      "cell_type": "code",
      "execution_count": 15,
      "metadata": {
        "colab": {
          "base_uri": "https://localhost:8080/"
        },
        "id": "qMSDq5nFQlwQ",
        "outputId": "9ddeb4ea-f787-4a28-ecb7-813d98929c76"
      },
      "outputs": [
        {
          "name": "stdout",
          "output_type": "stream",
          "text": [
            "How long it takes to train a spaCy NER model\n",
            "3538.2728683948517\n"
          ]
        }
      ],
      "source": [
        "print('How long it takes to train a spaCy NER model')\n",
        "print(end - start)\n"
      ]
    },
    {
      "cell_type": "code",
      "execution_count": 20,
      "metadata": {
        "colab": {
          "base_uri": "https://localhost:8080/",
          "height": 213
        },
        "id": "qzU57CpnQlwQ",
        "outputId": "bd5fcf5a-f7eb-498d-ac9e-8e3dc003ff4f"
      },
      "outputs": [
        {
          "name": "stderr",
          "output_type": "stream",
          "text": [
            "/Users/mevin/Documents/MMAI_2022/capstone/spacy_ner/spacy_env/lib/python3.10/site-packages/spacy/util.py:887: UserWarning: [W095] Model 'en_pipeline' (0.0.0) was trained with spaCy v3.6 and may not be 100% compatible with the current version (3.5.3). If you see errors or degraded performance, download a newer compatible model or retrain your custom model with the current spaCy version. For more details and available updates, run: python -m spacy validate\n",
            "  warnings.warn(warn_msg)\n"
          ]
        },
        {
          "data": {
            "text/html": [
              "<span class=\"tex2jax_ignore\"><div class=\"entities\" style=\"line-height: 2.5; direction: ltr\">Antiretroviral therapy (ART) is recommended for all HIV-infectedindividuals to reduce the risk of disease progression.</br>ART also is recommended for HIV-infected individuals for the prevention of transmission of HIV.</br>Patients starting ART should be willing and able to commit to treatment and understand thebenefits and risks of therapy and the importance of adherence. Patients may chooseto postpone therapy, and providers, on a case-by-case basis, may elect to defertherapy on the basis of clinical and/or psychosocial factors.</div></span>"
            ],
            "text/plain": [
              "<IPython.core.display.HTML object>"
            ]
          },
          "metadata": {},
          "output_type": "display_data"
        }
      ],
      "source": [
        "nlp_ner = spacy.load(\"models/models_crime_v4_1/model-best\")\n",
        "\n",
        "doc = nlp_ner(\"Antiretroviral therapy (ART) is recommended for all HIV-infected\\\n",
        "individuals to reduce the risk of disease progression.\\nART also is recommended \\\n",
        "for HIV-infected individuals for the prevention of transmission of HIV.\\nPatients \\\n",
        "starting ART should be willing and able to commit to treatment and understand the\\\n",
        "benefits and risks of therapy and the importance of adherence. Patients may choose\\\n",
        "to postpone therapy, and providers, on a case-by-case basis, may elect to defer\\\n",
        "therapy on the basis of clinical and/or psychosocial factors.\")\n",
        "\n",
        "colors = {\"PATHOGEN\": \"#F67DE3\", \"MEDICINE\": \"#7DF6D9\", \"MEDICALCONDITION\":\"#FFFFFF\"}\n",
        "options = {\"colors\": colors}\n",
        "\n",
        "spacy.displacy.render(doc, style=\"ent\", options= options, jupyter=True)"
      ]
    },
    {
      "cell_type": "code",
      "execution_count": 21,
      "metadata": {
        "id": "Mv8FOOYoQlwQ",
        "outputId": "0017ec6a-cf8d-4e7a-e9f7-30b1f5228b00"
      },
      "outputs": [
        {
          "data": {
            "text/html": [
              "<span class=\"tex2jax_ignore\"><div class=\"entities\" style=\"line-height: 2.5; direction: ltr\">On May 17, 2023, at approximately 8:00 PM, police responded to a report of fraud involving the victim, identified as Jane Doe. According to the victim, she was defrauded of a large sum of money after responding to an advertisement for an investment opportunity. The victim stated that she communicated with the suspect over the phone, providing them with her bank details to process the transaction.</br>        Responding officers quickly arrived at the scene and provided assistance while investigators tracked the suspect's digital footprint in order to gain more information. It was discovered that the suspect had used a fraudulent bank account to process the victim's transaction and had since closed it before their identity could be identified.</br>        Crime scene investigators were dispatched to the victim's home for further investigation and collected potential evidence such as the victim's bank statements and transaction receipts. The investigation into the fraud is ongoing, with efforts focused on locating the suspect and determining the extent of their crime.</div></span>"
            ],
            "text/plain": [
              "<IPython.core.display.HTML object>"
            ]
          },
          "metadata": {},
          "output_type": "display_data"
        }
      ],
      "source": [
        "doc = nlp_ner(\"On May 17, 2023, at approximately 8:00 PM, police responded to a report of fraud involving the victim, identified as Jane Doe. According to the victim, she was defrauded of a large sum of money after responding to an advertisement for an investment opportunity. The victim stated that she communicated with the suspect over the phone, providing them with her bank details to process the transaction.\\n        Responding officers quickly arrived at the scene and provided assistance while investigators tracked the suspect's digital footprint in order to gain more information. It was discovered that the suspect had used a fraudulent bank account to process the victim's transaction and had since closed it before their identity could be identified.\\n        Crime scene investigators were dispatched to the victim's home for further investigation and collected potential evidence such as the victim's bank statements and transaction receipts. The investigation into the fraud is ongoing, with efforts focused on locating the suspect and determining the extent of their crime.\")\n",
        "\n",
        "colors = {\"Violet_Crimes\": \"#F67DE3\", \"Murdered\": \"#7DF6D9\"}\n",
        "options = {\"colors\": colors}\n",
        "\n",
        "spacy.displacy.render(doc, style=\"ent\", options= options, jupyter=True)"
      ]
    },
    {
      "cell_type": "code",
      "execution_count": 22,
      "metadata": {
        "id": "Uz-sBttUZl6X",
        "outputId": "c89aab3c-76aa-4a46-f6a0-339b27310974"
      },
      "outputs": [
        {
          "data": {
            "text/plain": [
              "{'examples': [{'text': \"On July 12, 2022, at around 4:00 AM, the victim, identified as Jane Smith, reported being murdered by an unknown person in an isolated area near the outskirts of town. The victim's body was discovered by a jogger who immediately alerted authorities and provided a partial description of the suspect. \\n\\nResponding officers arrived shortly after the report and established a perimeter to search for the culprit, as well as any potential evidence related to the murder. Officers observed that the victim had suffered a severe laceration to the neck and were unable to establish a cause of death until the coroner reported an extensive investigation.\\n\\nCrime scene investigators were dispatched to the area and conducted an extensive examination of the area and collected potential evidence such as photographs, surveillance footage, medical records, and witness statements. The investigation into the murder is ongoing, with efforts focused on finding and apprehending the suspect, as well as establishing a motive for the attack.\",\n",
              "   'entities': {'Violent_Crimes': [[90, 98]]}},\n",
              "  {'text': 'On January 17, 2021, at around midnight, the victim, identified as Jane Smith, was murdered by an unknown perpetrator in a back alley near their residence. The victim’s neighbor reported hearing a commotion coming from the alley before silence fell again. Upon investigation, the neighbor located the victim’s lifeless body and called 911. \\n\\nPolice officers responding to the call found the victim with multiple stab wounds throughout their body. First responders arrived and confirmed the victim was dead. The immediate vicinity was cordoned off and policed secured the area. \\n\\nForensic teams were then dispatched to the scene to secure potential evidence, such as the murder weapon, surveillance footage, fingerprints, and DNA evidence. Pursuant to the investigation, detectives are in the process of identifying the perpetrator and the motive behind the murder.',\n",
              "   'entities': {'Violent_Crimes': [[83, 91]]}},\n",
              "  {'text': 'On August 4, 2023, at approximately 11:00 PM, police received reports of a murder in a residential area. Responding officers identified the victim as Jane Doe and discovered that she had been fatally stabbed in her driveway. Officers immediately secured the area and canvassed the neighborhood in search of potential witnesses.\\n\\nCrime scene investigators arrived shortly afterwards and documentation of the scene indicated that the murder may have been a targeted attack. In addition to physical evidence of the assault, investigators recovered several personal belonging of the victim near the scene.\\n\\nThe investigation into the murder is currently ongoing, with police working to identify the assailant and uncover any possible motives for the attack. Moreover, police are offering a reward for any information leading to the successful apprehension of the suspect.',\n",
              "   'entities': {}},\n",
              "  {'text': \"On July 17, 2024, at approximately 4:00 AM, the victim, identified as Jane Doe, reported being assaulted by an unknown suspect near a local park. According to the victim, the suspect attempted to grab her from behind and drag her into the nearby woods before she was able to free herself.\\nFearful and shaken, the victim called for help and was able to make her way back to her residence where a friend quickly contacted the police.\\n\\nResponding officers were dispatched to the scene and provided the victim with medical assistance. Additional units were immediately assigned to search the area for the suspect while evidence was gathered and witness statements taken.\\n\\nCrime scene investigators scoured the park and its surroundings for any clues that could help to reveal the assailant's identity. At present, the investigation is ongoing, with hopes of catching the suspect and understanding why the attack was carried out.\",\n",
              "   'entities': {'Violent_Crimes': [[95, 104]]}},\n",
              "  {'text': 'At approximately 11:20 PM, officers responded to a call of an assault taking place in front of a local high school. Upon arrival, officers found the victim, Jane Smith, lying on the ground with visible signs of trauma. The victim reported that she had been assaulted by a male subject wearing a black hoodie and a black face mask, and that he had used a sharp metal object to push and shove her against a wall before fleeing the scene. Officers searched the area but were unable to locate the suspect. Jane Smith was transported to a nearby hospital for evaluation and treatment. Crime scene investigators conducted an extensive search of the area, collecting evidence such as blood samples, surveillance footage, and statements from witnesses. Authorities are actively working to identify the assailant and determine a motive for the attack.',\n",
              "   'entities': {'Violent_Crimes': [[257, 266]]}},\n",
              "  {'text': \"On August 24, 2023, at around 4:00 PM, the complainant, who was identified as Joe Bloggs, reported being assaulted by a mysterious attacker outside a nearby shopping centre. The complainant expressed that the attacker had blindsided him from the side, punching him in the face before running away from the area.\\n        Responding officers hurried to the scene shortly after the report and noticed the complainant displaying clear signs of injuries, consisting of bruising and swelling around the eyes. The officers immediately called for medical help and gave first aid support to Joe Bloggs until paramedics arrived to take him to the hospital for additional evaluation and treatment.\\n        Crime scene investigators were sent to the location to do a comprehensive examination of the place, gathering any relevant evidence such as CCTV footage, witness accounts, and the complainant's personal items. Investigators continue to investigate the assault, trying to trace the assailant and pinpoint the reason behind the attack.\",\n",
              "   'entities': {'Violent_Crimes': [[105, 114]]}},\n",
              "  {'text': \"On June 20, 2023, at approximately 9:00 PM, the victim, identified as Jane Doe, reported being raped by an unknown assailant in an alley between two buildings near her home. The victim described the assailant as being an unknown male, wearing a black ski mask.\\n\\nResponding officers arrived at the scene within minutes of the report and stayed with the victim until paramedics arrived to transport her to the hospital for a medical evaluation and assessment. Crime scene investigators were dispatched to the location and conducted a thorough examination of the area, collecting potential evidence such as surveillance footage, witness statements, and the victim's personal belongings. The investigation into the rape is ongoing, with efforts focused on identifying the attacker and gathering any information regarding their motives.\",\n",
              "   'entities': {'Violent_Crimes': [[95, 100]]}},\n",
              "  {'text': \"On May 15, 2021, at approximately 8:30 PM, the victim, identified as Jane Doe, reported being raped by an unknown assailant while walking home from a local park. The victim stated that the assailant dragged her into a nearby alley and proceeded to sexually assault her before fleeing the scene.\\n        Responding officers arrived shortly after the report and observed the victim displaying signs of distress and physical trauma. The officers swiftly called for medical assistance and then comforted the victim until paramedics arrived to transport her to a nearby hospital.\\n        Crime scene investigators were then dispatched to the location and conducted an extensive search for potential evidence such as eyewitness accounts, surveillance footage, and the victim's personal belongings. The investigation into the rape is ongoing, with efforts focused on apprehending the assailant and determining the motive for the attack.\",\n",
              "   'entities': {'Violent_Crimes': [[94, 99]]}},\n",
              "  {'text': \"On May 21, 2020, at approximately 2:00 PM, the victim, identified as Jane Smith, reported being raped by an unknown assailant outside her apartment building. The victim stated that the assailant had forced entry into her apartment, overpowering her and restraining her before committing the assault. \\n        Responding officers arrived on the scene within minutes of the report and observed the victim displaying visible signs of trauma. Officers utilized their body cameras to document the crime scene, question witnesses, and secure the area. \\n        Crime scene investigators were dispatched to the location and conducted an extensive examination of the victim's residence, collecting potential evidence such as DNA and hair samples taken from the scene. The investigation into the rape is ongoing, with the officers involved in the case working diligently to identify the assailant and bring the perpetrator to justice.\",\n",
              "   'entities': {'Violent_Crimes': [[96, 101]]}},\n",
              "  {'text': \"On April 3, 2022, at approximately 11:00 PM, the victim, identified as Jane Smith, reported being robbed by a masked individual outside her apartment. The victim stated that the suspect approached her and demanded her purse before fleeing the scene.\\nResponding officers arrived at the scene shortly after the report and observed the victim distressed and visibly shaken. The officers quickly surveyed the scene for any potential witnesses or evidence and detained any suspicious individuals.\\nCrime scene investigators were dispatched to the location and conducted an extensive search of the area, examining the victim's personal belongings and gathering witness statements. The local police have since launched an investigation into the incident, engaging forensics specialists in an effort to identify the suspect and recover the stolen property.\",\n",
              "   'entities': {'Violent_Crimes': [[98, 104]]}},\n",
              "  {'text': \"On October 10, 2023, at approximately 11:00 PM, the victim, identified as Jane Doe, reported being robbed by an unknown assailant near her workplace. The victim stated that the assailant approached her from the front, grabbing her purse and fleeing the scene on foot.\\nResponding officers arrived at the scene within minutes of the report and noted the victim was visibly shaken and had obvious signs of distress. Officers immediately provided emotional support and were able to obtain a description of the assailant before he disappeared from view.\\nCrime scene investigators were dispatched to the location and conducted a thorough examination of the area, collecting potential evidence such as surveillance footage, witness statements, and the victim's personal belongings. The investigation into the robbery is ongoing, with efforts focused on identifying the assailant and recovering the stolen items.\",\n",
              "   'entities': {'Violent_Crimes': [[99, 105]]}},\n",
              "  {'text': \"On June 20, 2023, at approximately 9:00 PM, the victim, identified as John Doe, reported being robbed by an unknown assailant outside a local convenience store. The victim stated that the assailant approached him with a pistol, demanding his money and valuables before fleeing the scene.\\n        Responding officers arrived at the scene within minutes of the report and observed the victim displaying visible signs of fear and distress. Officers immediately conducted a search of the area in an effort to apprehend the perpetrator but were unsuccessful.\\n        Crime scene investigators were dispatched to the location and conducted a thorough examination of the area, collecting potential evidence such as surveillance footage, witness statements, and the victim's personal belongings. The investigation into the robbery is ongoing, with efforts focused on identifying the assailant and establishing a motive for the crime.\",\n",
              "   'entities': {'Violent_Crimes': [[95, 101]]}},\n",
              "  {'text': \"On August 17, 2023, at approximately 6:00 AM, the victim, identified as Jane Doe, reported being kidnapped by an unknown perpetrator while walking near her home. The victim stated that the perpetrator had approached her from behind, demanding that she get into a vehicle that was parked nearby before speeding away from the scene.\\n        Responding officers arrived at the scene shortly after the report was made and observed the area was in disarray, with no sign of the victim or the perpetrator. Witnesses reported seeing a dark sedan leaving the scene at a high rate of speed and officers broadcasted a description of the vehicle to other law enforcement personnel in the area.\\n        Detectives were called in and began an extensive investigation, concentrating on collecting witness statements and reviewing surveillance footage. The detectives also began searching for the victim and the perpetrator, and soon a statewide alert was issued with the victim's name and photograph. The investigation into the kidnapping is still ongoing, with focus on recovering the victim and bringing the perpetrator to justice.\",\n",
              "   'entities': {'Violent_Crimes': [[97, 106]]}},\n",
              "  {'text': \"On June 25, 2023, at around 10:30 PM, the victim, identified as Mary Doe, reported being kidnapped by unknown suspects in a nearby parking lot. Mary stated that she was walking to her car when two people driving a black SUV pulled up alongside her and forced her into the vehicle before speeding away.\\n        Responding officers arrived at the location shortly after receiving the report and examined the area for any additional clues or evidence. Officers quickly located Mary's car parked in the area and subsequently issued an APB (all points bulletin) for the black SUV and suspects.\\n        Crime scene investigators were immediately dispatched to the scene, conducting a detailed investigation into the abduction. Officers gathered potential evidence such as surveillance footage, witness statements, and Mary's personal belongings. The search for Mary and her kidnappers is ongoing, as police gather more information on the identity of the suspects and their possible motives.\",\n",
              "   'entities': {'Violent_Crimes': [[89, 98]]}},\n",
              "  {'text': \"On June 20, 2023, at approximately 9:00 PM, the victim, identified as John Doe, reported being kidnapped by an unknown assailant outside a local convenience store. The victim stated the assailant threatened him and forced him into a waiting car before driving away.\\n        Responding officers arrived at the scene within minutes of the report and contacted local taxi companies as part of their search. Officers also interviewed witnesses and examined surveillance footage for potential leads.\\n        Crime scene investigators canvassed the area and collected evidence, including witness statements and the victim's personal belongings. The investigation into the kidnapping is ongoing, with efforts focused on locating the victim.\",\n",
              "   'entities': {'Violent_Crimes': [[95, 104]]}},\n",
              "  {'text': \"On June 15, 2030, at approximately 1:00 PM, the victim, identified as Sarah White, reported being beaten by a male suspect matching the description of her ex-boyfriend. The victim stated that the suspect had kicked in the door of her residence before accosting her and savagely beating her.\\n        Responding officers arrived at the scene within minutes of the report and observed the victim appearing to be in a state of shock and with visible signs of injury, including swelling and bruising of the face and arms. Officers immediately called for medical assistance and provided initial first aid until paramedics arrived to transport the victim to the hospital for further evaluation and treatment.\\n        Crime scene investigators were dispatched to the location and conducted a thorough examination of the area, collecting potential evidence such as surveillance footage, witness statements, and the victim's personal belongings. The investigation into the beating is ongoing, with efforts focused on identifying the suspect and establishing a motive for the attack.\",\n",
              "   'entities': {'Violent_Crimes': [[98, 102], [278, 282], [963, 967]]}},\n",
              "  {'text': \"On June 20, 2023, at approximately 9:00 PM, the victim, identified as John Doe, reported being beaten by an unknown assailant outside a local convenience store. The victim stated that the assailant approached him with fists raised and began pummeling him in the face and chest until he was able to make an escape.\\n        Responding officers arrived at the scene within minutes of the report and observed the victim displaying visible signs of injury, including a broken nose and bruising along his upper body. Officers immediately called for medical assistance and provided initial first aid until paramedics arrived to transport the victim to the hospital for further evaluation and treatment.\\n        Crime scene investigators were dispatched to the location and conducted a thorough examination of the area, collecting potential evidence such as surveillance footage, witness statements, and the victim's personal belongings. The investigation into the assault is ongoing, with efforts focused on identifying the assailant and establishing a motive for the attack.\",\n",
              "   'entities': {'Violent_Crimes': [[95, 99]]}},\n",
              "  {'text': \"On August 3, 2021, at approximately 5:00 PM, the victim, identified as Jane Smith, reported being beaten by two unknown assailants in an alleyway behind a local nightclub. The victim stated that the assailants approached her from behind, punching and kicking her until bystanders intervened and the assailants ran away. \\n        Responding officers arrived at the scene within minutes of the report and observed the victim displaying visible signs of injury, including bruises, scrapes, and lacerations. Officers immediately called for medical assistance and provided initial first aid until paramedics arrived to transport the victim to the hospital for further evaluation and treatment. \\n        Crime scene investigators were dispatched to the location and conducted a thorough examination of the area, collecting potential evidence such as surveillance footage, witness statements, and the victim's personal belongings. The investigation into the beating is ongoing, with efforts focused on identifying the assailants and establishing a motive for the attack.\",\n",
              "   'entities': {'Violent_Crimes': [[98, 102], [951, 955]]}},\n",
              "  {'text': \"On August 10, 2023, at approximately 11:30 PM, the victim, identified as Jane Doe, reported being stabbed by an unknown assailant in an alleyway near her home. The victim stated that the assailant was wearing a mask and had approached her while she was returning from grocery shopping, stabbing her in the stomach with a sharp object before fleeing the scene.\\n        Responding officers arrived at the scene soon after the report had been made and observed the victim displaying signs of shock and significant blood loss. Officers promptly called for medical assistance, and the victim was attended to on the scene before being transported to the hospital for further treatment.\\n        Crime scene investigators were dispatched to the location and conducted a detailed examination of the area, collecting various evidence such as pictures of the crime scene, blood samples, and the victim's belongings. The investigation into the stabbing is ongoing, with efforts focused on apprehending the assailant and apprehending the motive for the attack.\",\n",
              "   'entities': {'Violent_Crimes': [[98, 105]]}},\n",
              "  {'text': \"On April 15, 2021, at approximately 11:00 PM, the victim, identified as Jane Smith, reported being stabbed by an unknown assailant in an alleyway behind a local restaurant. The victim stated that the assailant ambushed her from an alley entrance, jamming a sharp object into her side before fleeing the scene. \\n        Responding officers arrived at the scene within minutes of the report and observed the victim displaying visible signs of injury, including a stab wound on the side of her torso. Officers immediately called for medical assistance and provided initial first aid until paramedics arrived to transport the victim to the hospital for further evaluation and treatment.\\n        Crime scene investigators were dispatched to the location and conducted a thorough examination of the area, collecting potential evidence such as surveillance footage, witness statements, and the victim's personal belongings. The investigation into the stabbing is ongoing, with efforts focused on identifying the assailant and establishing a motive for the attack.\",\n",
              "   'entities': {'Violent_Crimes': [[99, 106]]}},\n",
              "  {'text': \"On February 16, 2024, at approximately 11:00 PM, the victim, identified as Jane Smith, reported being stabbed by an unknown assailant outside of a local bar. The victim stated that the assailant approached her quickly before suddenly plunging a knife into her abdomen. The assailant then fled the scene without attempting to take any of the victim's possessions.\\n        Responding officers arrived at the scene within minutes of the report and observed the victim displaying visible signs of injury, including a deep puncture wound in her stomach. Officers immediately called for medical assistance and provided initial first aid until paramedics arrived to transport the victim to the hospital for further evaluation and treatment.\\n        Crime scene investigators were dispatched to the location and conducted a thorough examination of the area, collecting potential evidence such as surveillance footage, witness statements, and the victim's personal belongings. The investigation into the stabbing is ongoing, with efforts focused on identifying the assailant and establishing a motive for the attack.\",\n",
              "   'entities': {'Violent_Crimes': [[102, 109]]}},\n",
              "  {'text': \"On June 20, 2023, at approximately 9:00 PM, the victim, identified as John Doe, reported being shot by an unknown assailant outside a local convenience store. The victim stated that he heard the sound of a gunshot and realized he had been shot in the abdomen before the assailant fled the scene. \\nResponding officers arrived at the scene within minutes of the report and observed the victim displaying a severe wound to his abdomen. Officers immediately called for medical assistance and provided initial first aid until paramedics arrived to transport the victim to the hospital for further evaluation and treatment. \\nCrime scene investigators were dispatched to the location and conducted a thorough examination of the area, collecting potential evidence such as surveillance footage, witness statements, and the victim's personal belongings. The investigation into the shooting is ongoing, with efforts focused on identifying the assailant and establishing a motive for the attack.\",\n",
              "   'entities': {'Violent_Crimes': [[95, 99], [209, 213], [239, 243]]}},\n",
              "  {'text': \"On July 4, 2022, at approximately 10:30 PM, the victim, identified as Jane Smith, reported being shot by an unknown assailant outside a local restaurant. The victim stated that the assailant approached her from the side, firing a gun at her twice before fleeing the scene. \\nResponding officers arrived at the scene within moments of the report and observed the victim laid out on the ground, lifeless. Officers immediately called for medical assistance and pronounced the victim dead at the scene. \\nCrime scene investigators were dispatched to the location and conducted a thorough examination of the area, collecting potential evidence such as surveillance footage, witness statements, and the victim's personal belongings. The investigation into the shooting is ongoing, with efforts focused on identifying the assailant and establishing a motive for the attack.\",\n",
              "   'entities': {'Violent_Crimes': [[97, 101]]}},\n",
              "  {'text': \"On July 28, 2028, at approximately 12:45 AM, the victim, identified as Jane Smith, reported being shot by an unknown assailant outside a local nightclub. The victim stated that the assailant approached her from the street, opened fire and fled the scene. \\nResponding officers arrived at the scene within minutes of the report and observed the victim displaying visible signs of injury, including multiple gunshot wounds. Officers immediately called for medical assistance and provided initial first aid until paramedics arrived to transport the victim to the hospital for further evaluation and treatment.\\nCrime scene investigators were dispatched to the location and conducted a thorough examination of the area, collecting potential evidence such as surveillance footage, witness statements, and the victim's personal belongings. The investigation into the shooting is ongoing, with efforts focused on identifying the assailant and establishing a motive for the attack.\",\n",
              "   'entities': {'Violent_Crimes': [[98, 102], [408, 412]]}},\n",
              "  {'text': \"On August 14, 2023, at approximately 7:00 PM, the victim, identified as Mary Smith, reported being strangled by an unknown assailant in an alleyway between two apartment buildings. The victim stated that the assailant sneaked up behind her and put her in a chokehold until she became unconscious.\\n        Responding officers arrived at the scene to find the victim unresponsive and with visible signs of strangulation. Officers immediately called for medical assistance and provided initial first aid until paramedics arrived to resuscitate the victim and transport her to a nearby hospital for further evaluation and treatment.\\n        Crime scene investigators were dispatched to the location and conducted a thorough examination of the area, collecting potential evidence such as surveillance footage, witness statements, and the victim's personal belongings. The investigation into the strangling is ongoing, with efforts focused on identifying the assailant and establishing a motive for the attack.\",\n",
              "   'entities': {'Violent_Crimes': [[99, 108]]}},\n",
              "  {'text': \"On June 20, 2023, at approximately 9:00 PM, the victim, identified as John Doe, reported being strangled by an unknown assailant outside a local convenience store. The victim stated that the assailant approached him from behind and grabbed him by the throat before fleeing the scene.\\n        Responding officers arrived at the scene within minutes of the report and observed the victim displaying visible signs of injury, including red marks around his neck. Officers immediately called for medical assistance and provided initial first aid until paramedics arrived to transport the victim to the hospital for further evaluation and treatment.\\n        Crime scene investigators were dispatched to the location and conducted a thorough examination of the area, collecting potential evidence such as surveillance footage, witness statements, and the victim's personal belongings. The investigation into the strangling is ongoing, with efforts focused on identifying the assailant and establishing a motive for the attack.\",\n",
              "   'entities': {'Violent_Crimes': [[95, 104]]}},\n",
              "  {'text': \"On January 8, 2032, at approximately 11:30 PM, the victim, identified as Jane Doe, reported being strangled by an unknown assailant outside her home. The victim stated that the assailant approached her from behind, wrapping their arm around her neck and choking her before fleeing the scene.\\n        Responding officers arrived at the scene shortly after the report and observed the victim displaying visible signs of injury, including redness around her neck. Officers immediately called for medical assistance and provided initial first aid until paramedics arrived to transport the victim to the hospital for further evaluation and treatment.\\n        Crime scene investigators were dispatched to the location and conducted a detailed examination of the area, collecting potential evidence such as surveillance footage, witness statements, and the victim's personal belongings. The investigation into the strangling is ongoing, with efforts focused on identifying the assailant and establishing a motive for the attack.\",\n",
              "   'entities': {'Violent_Crimes': [[98, 107]]}},\n",
              "  {'text': \"On August 8, 2022, at approximately 11:45 PM, the victim, identified as Jane Smith, reported being abused by her husband. The victim stated that her husband had yelled profanities and thrown objects at her, as well as pushing her to the ground. \\nResponding officers arrived at the scene within minutes of the report and observed the victim trembling and crying. Officers immediately separated the couple and spoke with the victim to ensure her safety. \\nCrime scene investigators were dispatched to the location and conducted a thorough examination of the area, collecting potential evidence such as surveillance footage and witness statements. At the urging of the officers, the victim accepted a ride home with a family member and was advised to pursue a restraining order against her husband. The investigation into the abuse is ongoing, with efforts focused on identifying any further violations of the restraining order and determining a course of action for the victim's safety and protection.\",\n",
              "   'entities': {'Violent_Crimes': [[99, 105]]}},\n",
              "  {'text': \"On April 17, 2024, at approximately 4:30 PM, the victim, identified as Jane Smith, reported being abused by an unknown assailant in their shared apartment. The victim stated that the assailant punched them multiple times, causing them to fall to the floor, before fleeing the scene.\\n        Responding officers arrived at the scene within minutes of the report and observed the victim displaying visible signs of injury, including a variety of cuts and bruises on their arms and torso. Officers immediately called for medical assistance and provided initial first aid until paramedics arrived to transport the victim to the hospital for further evaluation and treatment.\\n        Crime scene investigators were dispatched to the location and conducted a thorough examination of the area, collecting potential evidence such as surveillance footage, witness statements, and the victim's personal belongings. The investigation into the abuse is ongoing, with efforts focused on identifying the assailant and establishing a motive for the attack.\",\n",
              "   'entities': {'Violent_Crimes': [[98, 104]]}},\n",
              "  {'text': \"On June 20, 2023, at approximately 9:00 PM, the victim, identified as John Doe, reported being abused by an unknown assailant outside a local convenience store. The victim stated that the assailant had been verbally and physically assaulting him for several hours before fleeing the scene.\\n Responding officers arrived at the scene within minutes of the report and observed the victim displaying signs of distress and fear. Officers immediately called for medical assistance and provided initial care until paramedics arrived to transport the victim to the hospital for further evaluation and treatment.\\n Crime scene investigators were dispatched to the location and conducted an extensive examination of the area, collecting potential evidence such as surveillance footage, witness statements, and the victim's personal belongings. The investigation into the abuse is ongoing, with efforts focused on identifying the assailant and seeking to bring the perpetrator to justice.\",\n",
              "   'entities': {'Violent_Crimes': [[95, 101]]}},\n",
              "  {'text': \"On July 10, 2023, at approximately 2:30 PM, the victim, identified as Lori Smith, reported being threatened by an unknown individual outside her residence. The victim claimed that the individual repeatedly shouted threats of harm before running away.\\nResponding officers arrived at the scene within minutes of the report and observed the victim trembling and visibly shaken. Officers immediately attempted to calm the victim and gather a description of the suspect.\\n\\nCrime scene investigators were dispatched to the location and conducted a thorough examination of the area, collecting potential evidence such as surveillance footage, witness statements, and the victim's clothing. The investigation into the threat is ongoing, with efforts focused on identifying the suspect and determining the intent of the threat.\",\n",
              "   'entities': {'Violent_Crimes': [[97, 107]]}},\n",
              "  {'text': 'On June 20, 2023, at approximately 9:00 PM, the victim, identified as John Doe, reported being threatened by an unknown assailant outside a local convenience store. The victim stated that the assailant approached him and threatened him with physical violence before fleeing the scene.\\nResponding officers arrived at the scene within minutes of the report and observed the victim visibly shaken. Officers attempted to speak with the victim to gain further information, however, the victim was unable to provide any further details. \\nCrime scene investigators were dispatched to the location and conducted a thorough examination of the area, collecting potential evidence such as surveillance footage and witness statements. The investigation into the threat is ongoing, with efforts focused on identifying the assailant and understanding the intent of the attack.',\n",
              "   'entities': {'Violent_Crimes': [[95, 105], [221, 231]]}},\n",
              "  {'text': \"On June 20, 2023, at approximately 9:00 PM, the victim, identified as John Doe, reported being threatened by an unknown assailant outside a local convenience store. The victim stated that the assailant approached him and made verbal threats to cause him harm if he did not comply with their demands.\\n        Responding officers arrived at the scene within minutes of the report and questioned the victim and any witnesses present. Initial reports indicated that the assailant was believed to be armed with a weapon, although none was found on scene.\\n        Crime scene investigators were dispatched to the location and conducted a thorough examination of the area, collecting potential evidence such as surveillance footage, witness statements, and the victim's personal belongings. The investigation into the threat is ongoing, with efforts focused on identifying the assailant and determining their motivations.\",\n",
              "   'entities': {'Violent_Crimes': [[95, 105]]}},\n",
              "  {'text': \"On June 20, 2023, at approximately 9:00 PM, the victim, identified as John Doe, reported being attacked by an unknown assailant outside a local convenience store. The victim stated that the assailant approached him from behind, physically attacking him before fleeing the scene. \\n        Responding officers arrived at the scene within minutes of the report and observed the victim displaying visible signs of injury, including bruises and scratches. Officers immediately called for medical assistance and provided initial first aid until paramedics arrived to transport the victim to the hospital for further evaluation and treatment. \\n        Crime scene investigators were dispatched to the location and conducted a thorough examination of the area, collecting potential evidence such as surveillance footage, witness statements, and the victim's personal belongings. The investigation into the attack is ongoing, with efforts focused on identifying the assailant and establishing a motive for the assault.\",\n",
              "   'entities': {'Violent_Crimes': [[95, 103]]}},\n",
              "  {'text': \"On June 20, 2023, at approximately 9:00 PM, the victim, identified as John Doe, reported being attacked by an unknown assailant outside a local convenience store. The victim stated that the assailant came up to him and began punching and kicking him before fleeing the scene.\\nResponding officers arrived at the scene within minutes of the report and observed the victim displaying visible signs of injury, including bruising around his face and arms. Officers immediately called for medical assistance and provided initial first aid until paramedics arrived to transport the victim to the hospital for further evaluation and treatment.\\nCrime scene investigators were dispatched to the location and conducted a thorough examination of the area, collecting potential evidence such as surveillance footage, witness statements, and the victim's personal belongings. The investigation into the attack is ongoing, with efforts focused on identifying the assailant and establishing a motive for the attack.\",\n",
              "   'entities': {'Violent_Crimes': [[95, 103]]}},\n",
              "  {'text': \"On June 20, 2023, at approximately 9:00 PM, the victim, identified as John Doe, reported being attacked by an unknown assailant outside a local convenience store. The victim stated that the assailant approached him from the front and hit him several times, before the assailant fled the scene.\\n        Responding officers arrived at the scene within minutes of the report and observed the victim displaying visible signs of injury, including bruises and lacerations on his face and arms. Officers immediately called for medical assistance and provided initial first aid until paramedics arrived to transport the victim to the hospital for further evaluation and treatment.\\n        Crime scene investigators were dispatched to the location and conducted a thorough examination of the area, collecting potential evidence such as surveillance footage, witness statements, and the victim's personal belongings. The investigation into the attack is ongoing, with efforts focused on identifying the assailant and establishing a motive for the attack.\",\n",
              "   'entities': {'Violent_Crimes': [[95, 103]]}},\n",
              "  {'text': 'On November 3, 2025, at around 11:30 PM, the victim, identified as Jane Smith, reported being mugged by two unknown assailants outside her residence. She stated that the individuals approached her from behind, threatening her with a knife before demanding her personal items and fleeing the scene. \\nResponding officers quickly arrived at the scene and assessed the situation, noting that the victim seemed to be in a state of shock and was shaking uncontrollably. The officers provided emotional support and contacted a medical team, who taught the victim physical first aid before transporting her to the nearest hospital.\\nCrime scene investigators were also dispatched to the location and investigated the area, collecting witness statements, physical evidence, and security footage in an effort to identify the culprits. The investigation into the mugging is ongoing, with further action centered on apprehending the attackers and discovering the motive for the robbery.',\n",
              "   'entities': {'Violent_Crimes': [[94, 100]]}},\n",
              "  {'text': \"On April 4, 2021, at approximately 11:00 PM, the victim, identified as Jane Smith, reported being mugged by an unknown assailant outside her workplace. The victim stated that the assailant threatened her with a knife before taking her wallet and fleeing the scene.\\n        Responding officers arrived at the scene within minutes of the report and observed the victim visibly shaken and visibly distressed. Officers provided the victim with immediate emotional and psychological support. Medical personnel were also summoned to the scene to further assist the victim.\\n        Crime scene investigators were dispatched to the location and conducted a thorough examination of the area, collecting potential evidence such as surveillance footage, witness statements, and the victim's personal belongings. The investigation into the mugging is ongoing, with efforts focused on identifying the assailant and recovering the stolen items.\",\n",
              "   'entities': {'Violent_Crimes': [[98, 104]]}},\n",
              "  {'text': \"On June 20, 2023, at approximately 9:00 PM, the victim, identified as John Doe, reported being mugged by an unknown assailant outside a local convenience store. The victim stated that the assailant approached him from behind, roughly shoving him to the ground before taking his wallet and fleeing the scene.\\n        Responding officers arrived at the scene within minutes of the report and observed the victim in a state of shock and distress. Officers immediately called for medical assistance and provided initial first aid until paramedics arrived to transport the victim to the hospital for further evaluation and treatment.\\n        Crime scene investigators were dispatched to the location and conducted a thorough examination of the area, collecting potential evidence such as surveillance footage, witness statements, and the victim's personal belongings. The investigation into the mugging is ongoing, with efforts focused on identifying the assailant and establishing a motive for the attack.\",\n",
              "   'entities': {'Violent_Crimes': [[95, 101]]}},\n",
              "  {'text': \"On October 15, 2023, at around 11:00 PM, the victim, identified as Jane Smith, reported being harmed by an unknown perpetrator inside an office building downtown. The victim stated that the perpetrator came up behind her and grabbed her by the neck, before the perpetrator fled the building.\\n        Responding officers arrived at the scene within minutes of the report and found the victim trembling and distraught. Officers provided the victim with immediate emotional support, and assessed her physical condition to determine the extent of any injury. Paramedics were called to the scene as a precaution and later transported the victim to the hospital for further evaluation and treatment.\\n        Crime scene investigators were dispatched to the location and conducted a thorough examination of the area, collecting potential evidence such as security footage, witness accounts, and the victim's personal items. The investigation into the harm is still active, with investigators trying to identify the perpetrator as well as uncover any possible motive for the attack.\",\n",
              "   'entities': {'Violent_Crimes': [[94, 100]]}},\n",
              "  {'text': \"On July 15, 2025, at approximately 11:45 PM, the victim, identified as Jane Smith, reported being harmed by an unknown assailant while walking near her home. The victim said that the assailant held her at knife point, causing her to fear for her safety before fleeing the scene.\\nResponding officers arrived at the scene shortly after the report and noticed that the victim had several scratches and bruises on her body. Officers provided immediate medical attention and called for an ambulance that transported the victim to the hospital for further treatment and evaluation.\\nCrime scene investigators were dispatched to the area and carried out a comprehensive inspection of the area, gathering potential evidence such as security camera footage, witness testimonies, and the victim's personal items. An investigation into the assailant and their possible motive is currently ongoing.\",\n",
              "   'entities': {'Violent_Crimes': [[98, 104]]}},\n",
              "  {'text': 'On June 21, 2023, at approximately 10:00 PM, the victim, identified as Jane Smith, reported being harmed by an unknown individual. The victim stated that the perpetrator had followed her for several blocks before physically attacking her with a sharp object. \\n        Responding officers arrived at the scene soon after the report and noticed the victim had several cuts and bruises all over her body. The officers applied first aid and summoned medical attention to transport the victim to a hospital for further treatment.\\n        Crime scene investigators were dispatched to the location and conducted a thorough investigation, collecting evidence such as CCTV recordings, witness accounts, and the victim’s personal items. An investigation into the harm is underway, with efforts aimed at determining the perpetrator and the motive for the attack.',\n",
              "   'entities': {'Violent_Crimes': [[98, 104]]}},\n",
              "  {'text': \"On August 13, 2024, at approximately 11:00 PM, the victim, identified as Jane Doe, reported being injuredharassed by a group of unknown assailants near a downtown park. The victim stated that the assailants surrounded her, verbally attacking her before one of them physically struck her and they all ran away laughing.\\n        Responding officers arrived at the scene within minutes of the report and observed the victim displaying visible signs of injury, including swelling to the face and arms. Officers dispatched an ambulance to the location and provided initial first aid until paramedics arrived to transport the victim to the hospital for further evaluation and treatment.\\n        Crime scene investigators were dispatched to the location and conducted a thorough examination of the area, collecting potential evidence such as surveillance footage, witness statements, and the victim's personal belongings. The investigation into the injuryharassment is ongoing, with efforts focused on identifying the assailants and establishing a motive for the attack.\",\n",
              "   'entities': {'Violent_Crimes': [[98, 113]]}},\n",
              "  {'text': \"On December 18, 2021, at approximately 8:00 PM, the victim, identified as Jane Smith, reported being injuredharassed by an unknown assailant outside her home. The victim stated that the assailant cornered her at the front entrance of her home, verbally threatening and harassing her.\\n\\nResponding officers arrived at the scene minutes later, where they found the victim disturbed and frightened. Upon further questioning, it was revealed that the assailant had also physically injured the victim by forcefully pulling her hair while confronting her. Officers immediately called for medical assistance and provided initial first aid until paramedics arrived to transport the victim to the hospital for further evaluation and treatment. \\n\\nCrime scene investigators were dispatched to the location to collect further evidence, such as witness statements and the victim's personal belongings. The investigation into the injuredharassment is ongoing, with efforts focused on identifying the assailant and establishing a motive for the attack.\",\n",
              "   'entities': {'Violent_Crimes': [[101, 116]]}},\n",
              "  {'text': \"On August 15, 2023, at approximately 11:00 PM, the victim, identified as Jane Doe, reported being injuredharassed by an unknown suspect. The victim stated that the suspect had approached her from behind, making inappropriate sexual comments and leering before attempting to grab her arm. Fortunately, the victim was able to break free from the suspect's grasp and flee the scene. \\n        Responding officers arrived at the scene shortly thereafter and observed the victim's disoriented state. Officers immediately contacted paramedics to attend to the victim, who exhibited symptoms of emotional distress. \\n        Crime scene investigators were thereafter dispatched to the location and conducted a detailed examination of the area. Potential evidence such as security footage, witness statements, and the victim's personal items were collected for further investigation. The authorities are currently working on the case and are attempting to identify the perpetrator and uncover the motive behind the sexual harassment.\",\n",
              "   'entities': {'Violent_Crimes': [[98, 113]]}},\n",
              "  {'text': \"On August 17, 2045, the victim reported being stalked by a suspicious individual on her way home from work. She stated that the person had been following her for several blocks, often stopping to watch her from a distance when she paused or changed direction. Responding officers located the suspect nearby and conducted a brief interview, during which the suspect denied any wrongdoing.  \\nCrime scene investigators followed up on the initial report and conducted a thorough search of the surrounding area, taking photographs and collecting potential evidence. Further investigation revealed that the same suspect had been observed lurking near the victim's residence on several other occasions. Police efforts are currently focused on identifying the suspect and determining the motive for the stalking.\",\n",
              "   'entities': {'Violent_Crimes': [[46, 53]]}},\n",
              "  {'text': \"On March 12, 2021, at approximately 4:00 PM, the victim, identified as Jane Smith, reported being stalked by an unknown individual. The victim stated that the individual was watching her from a distance, making her feel uncomfortable and unsafe.\\n        Responding officers arrived at the scene and asked the victim to provide a detailed account of the events leading up to the stalking. However, the victim was unable to provide any further information as the stalker had left the area before officers arrived.\\n        Crime scene investigators were dispatched to the location and conducted a thorough examination of the area, collecting potential evidence such as surveillance footage, witness statements, and the victim's personal belongings. The investigation into the stalking is ongoing, with efforts focused on identifying the stalker and locating any additional evidence that may be used to build a case.\",\n",
              "   'entities': {'Violent_Crimes': [[98, 105]]}},\n",
              "  {'text': 'On August 16, 2022, at approximately 11:00 PM, the victim, identified as Jane Doe, reported being stalked by an unknown individual on her way home from work. The victim stated that the individual followed her from the bus station, making several comments and engaging in other threatening behaviors as she walked.\\n        Responding officers arrived at the scene and questioned the victim about the details of the incident while searching the surrounding area for any trace of the stalker. Unfortunately, they were unable to locate the individual in question and instead provided the victim with instructions on how to stay safe moving forward.\\n        Crime scene investigators were dispatched to the location and collected evidence such as surveillance footage, witness statements, and other potential clues. The investigation into the stalking is ongoing, with efforts focused on identifying the stalker and bringing them to justice.',\n",
              "   'entities': {'Violent_Crimes': [[98, 105]]}},\n",
              "  {'text': \"On July 18, 2023, at 10:30 AM, the victim, identified as Jane Doe, reported being menaced by a group of individuals outside her place of work. According to the victim, the group arrived on foot and began to taunt and threaten her, but fled the scene when a security guard arrived.\\nResponding officers arrived at the scene and observed the victim visibly distressed and visibly shaking. Officer immediately attempted to calm the situation and gathered information to incorporate into the police report.\\nCrime scene investigators were dispatched to the location and assessed the area, collecting any surveillance footage, witness statements, and the victim's personal belongings to bolster the investigation into the crime. All individuals involved in the incident have been identified and are currently being interviewed as authorities work to construct a narrative for the incident.\",\n",
              "   'entities': {'Violent_Crimes': [[82, 89]]}},\n",
              "  {'text': 'On February 11, 2021, at around 11:00 PM, the victim identified as Jane Doe filed a report stating that she had been menaced by an unknown man. According to the victim, the man approached her from the side and threatened her with physical harm, causing her to panic and flee the scene.\\n\\nResponding officers arrived at the scene shortly after the report and saw that the victim was visibly distressed, shaking and trembling as she recounted her story. The officers conducted a preliminary search of the area but were unable to locate the suspect.\\n\\nThe crime scene was investigated by experts, who gathered evidence such as security camera footage, witness accounts, and physical evidence from the scene. The investigation is ongoing in an effort to find out the identity of the perpetrator and the possible reasons for their actions.',\n",
              "   'entities': {'Violent_Crimes': [[117, 124]]}},\n",
              "  {'text': \"On June 20, 2023, at approximately 9:00 PM, the victim, identified as John Doe, reported being menaced by an unknown assailant outside a local convenience store. The victim stated that the assailant approached him from a distance, brandishing a firearm and issuing violent threats before fleeing the scene.\\n        Responding officers arrived at the scene within minutes of the report and observed the victim visibly shaken and frightened. Officers immediately provided emotional support and comfort until they were able to escort the victim to a safe location.\\n        Crime scene investigators were dispatched to the location and conducted a thorough examination of the area, collecting potential evidence such as surveillance footage, witness statements, and the victim's personal belongings. The investigation into the menacing is ongoing, with efforts focused on identifying the assailant and understanding the nature of the attack.\",\n",
              "   'entities': {'Violent_Crimes': [[95, 102]]}},\n",
              "  {'text': \"On August 17, 2021, at approximately 11:30 PM, the victim, identified as Jane Smith, was reported abducted from a residential neighborhood by an unknown suspect. Witnesses reported seeing a white van parked outside the victim's residence, with the victim being forced into the van shortly after its arrival. The van was seen fleeing the area, and officers initiated an immediate response to locate the suspect and vehicle. \\n        Police remained in the area and began an extensive search for both the suspect and the victim. After several hours of canvassing, police identified a witness who had observed the suspect and provided a physical description as well as a detailed description of the suspect vehicle. \\n        Officers tracked the description and eventually located the suspect vehicle parked in a nearby park; the suspect was apprehended upon further investigation. The victim was found moved to a different location but otherwise unharmed; they were brought to a hospital to be assessed and treated for any medical issues. \\n        Crime scene investigators were dispatched and began to process the area around the suspect vehicle for any physical evidence that could link the suspect to the abduction. The investigation into the abduction is ongoing, and police are continuing to search for any further evidence that could explain the suspect's motives.\",\n",
              "   'entities': {'Violent_Crimes': [[98, 106]]}},\n",
              "  {'text': 'On June 21, 2023, at approximately 2:00 AM, the victim, identified as Janet Smith, reported being abducted by an unknown assailant near her home. The victim stated that the assailant pulled up alongside her in a car, forced her into the vehicle, and drove away.\\n        Responding officers arrived at the scene within minutes of the report and conducted a thorough search of the area, interviewing nearby witnesses and collecting surveillance footage from the vicinity. Despite efforts to locate the victim, officers were unable to find her.\\n        Crime scene investigators were dispatched to the location and conducted a thorough examination of the area, collecting potential evidence such as surveillance footage, witness statements, and other items of interest. The investigation into the abduction is ongoing, with efforts focused on identifying the assailant and determining the victim’s current whereabouts.',\n",
              "   'entities': {'Violent_Crimes': [[98, 106]]}},\n",
              "  {'text': \"On June 20, 2023, at approximately 9:00 PM, the victim, identified as John Doe, reported being abducted by an unknown assailant outside a local convenience store. The victim stated that the assailant approached him aggressively, wrapping an arm around his waist before dragging him away from the scene.\\n        Responding officers arrived at the scene within minutes of the report and observed the area around the store, though the victim was nowhere to be found. Officers immediately called for backup and began canvassing the area for any additional information or clues to the suspect's whereabouts.\\n        Crime scene investigators were dispatched to the location and conducted a thorough examination of the area, collecting potential evidence such as surveillance footage, witness statements, and the victim's personal belongings. The investigation into the abduction is ongoing, with efforts focused on identifying the assailant and locating the victim.\",\n",
              "   'entities': {'Violent_Crimes': [[95, 103]]}},\n",
              "  {'text': \"On August 3, 2023, at approximately 9:00 PM, the victim, identified as Jane Doe, reported being kidnapped by an unknown assailant near a public park. The victim stated that the assailant grabbed her from behind, restrained her, and then forced her into a waiting vehicle before speeding away from the area.\\nResponding officers arrived at the scene within minutes of the report and observed the area to be abandoned. Officers quickly established a perimeter and began canvassing the area in search of the victim's captor and any evidence associated with the kidnapping.\\n\\nCrime scene investigators were dispatched to the location and conducted an extensive search and evidence collection effort. They gathered potential evidence such as surveillance footage of the abduction, witness statements, and the victim's personal effects left behind. The investigation into the kidnapping is ongoing, with efforts focused on identifying the assailant and possible motives for the attack.\",\n",
              "   'entities': {'Violent_Crimes': [[96, 105]]}},\n",
              "  {'text': \"On June 19, 2023, at approximately 11:00 PM, the victim, identified as Jane Doe, reported being kidnapped by an unknown assailant outside a local park. The victim stated that the assailant approached her from behind, grabbed her by the arm and forced her into an awaiting vehicle before quickly driving away.\\n        Responding officers arrived at the scene shortly after the report and observed the victim visibly distraught and shaking. Officers provided the victim with reassurance in an effort to comfort her before launching an investigation into the abduction.\\n        Crime scene investigators were dispatched to the area and obtained surveillance footage from the park's security cameras. Witnesses were also interviewed concerning the incident, and police are making efforts to identify the assailant and the vehicle used in the kidnapping. The investigation into the kidnapping is ongoing.\",\n",
              "   'entities': {'Violent_Crimes': [[96, 105]]}},\n",
              "  {'text': \"On June 20, 2023, at approximately 9:00 PM, the victim, identified as John Doe, reported being kidnapped by an unknown assailant outside a local convenience store. The victim stated that the assailant approached him from behind, grabbed him and forced him into a vehicle before speeding away.\\n        Responding officers arrived at the scene within minutes of the report and observed the victim to be missing, leading them to quickly issue an Amber Alert warning to local law enforcement and the public.\\n        Crime scene investigators were dispatched to the location and conducted a thorough examination of the area, collecting potential evidence such as surveillance footage, witness statements, and the victim's personal belongings. The investigation into the kidnapping is ongoing, with efforts focused on identifying the assailant and establishing a motive for the attack.\",\n",
              "   'entities': {'Violent_Crimes': [[95, 104]]}},\n",
              "  {'text': 'On November 15, 2023, at around 11:45 PM, the victim, identified as Jane Smith, reported being slashed by an unknown perpetrator. The victim said the perpetrator charged at her while she was walking in an alleyway, slashing her arm with a sharp object before sprinting away.\\nResponding officers arrived at the scene just moments after the report and found the victim in shock with a deep laceration on her arm. Officers administered initial first aid before releasing her into the care of medical personnel, who transported her to a nearby hospital for further evaluation and treatment.\\nCrime scene investigators were also dispatched to the area to collect and analyze any potential evidence. They reviewed surveillance footage and canvassed the area for witnesses and possible motives for the attack. As of now, the investigation into the slashing is still ongoing, and detectives are actively searching for the perpetrator.',\n",
              "   'entities': {'Violent_Crimes': [[95, 102]]}},\n",
              "  {'text': \"On June 20, 2023, at approximately 9:00 PM, the victim, identified as John Doe, reported being slashed by an unknown assailant outside a local convenience store. The victim stated that the assailant approached him from behind, using a sharp object to cut him in the arm before fleeing the scene. \\n        Responding officers arrived at the scene within minutes of the report and observed the victim displaying visible signs of injury, including a deep laceration on his arm. Officers immediately called for medical assistance and provided initial first aid until paramedics arrived to transport the victim to the hospital for further evaluation and treatment. \\n        Crime scene investigators were dispatched to the location and conducted a thorough examination of the area, collecting potential evidence such as surveillance footage, witness statements, and the victim's personal belongings. The investigation into the assault is ongoing, with efforts focused on identifying the assailant and establishing a motive for the attack.\",\n",
              "   'entities': {'Violent_Crimes': [[95, 102]]}},\n",
              "  {'text': \"On October 10, 2045, at approximately 11:30 PM, the victim, identified as Jane Doe, reported being slashed by an unknown assailant in an alleyway near the city park. The victim stated that the assailant approached her from behind, wielding a knife and quickly slashing her arm multiple times before fleeing the scene.\\nResponding officers arrived at the scene within minutes of the report and observed the victim displaying visible signs of injury, including several lacerations on her arm. Officers immediately called for medical assistance and provided initial first aid until paramedics arrived to transport her to the hospital for further evaluation and treatment.\\nCrime scene investigators were dispatched to the location and conducted a thorough examination of the area, collecting potential evidence such as surveillance footage, witness statements, and the victim's personal belongings. The investigation into the slashing is ongoing, with efforts focused on identifying the assailant and establishing a motive for the attack.\",\n",
              "   'entities': {'Violent_Crimes': [[99, 106]]}},\n",
              "  {'text': \"On February 4, 2024, at approximately 11:30 PM, the victim, identified as Jane Smith, reported being choked by an unknown attacker outside of her apartment complex. The victim stated that the attacker approached her from the side, using their hands to choke her until she was rendered unconscious.\\n        Responding officers arrived at the scene within minutes of the report and observed the victim lying partially on the sidewalk. Paramedics were immediately called to the scene and transported the victim to the hospital for further evaluation and treatment.\\n        Crime scene investigators were dispatched to the location and conducted a thorough examination of the area, collecting potential evidence such as surveillance footage, witness statements, and the victim's personal belongings. The investigation into the choking is ongoing, with efforts focused on identifying the attacker and determining the motive for the attack.\",\n",
              "   'entities': {'Violent_Crimes': [[101, 107]]}},\n",
              "  {'text': \"On June 20, 2023, at approximately 9:00 PM, the victim, identified as John Doe, reported being choked by an unknown assailant outside a local convenience store. The victim stated that the assailant grabbed him by the neck from behind, squeezing tightly before fleeing the scene.\\n        Responding officers arrived at the scene within minutes of the report and observed the victim displaying difficulty in breathing and visible redness to his neck. Officers immediately called for medical assistance and provided initial first aid until paramedics arrived to transport the victim to the hospital for further evaluation and treatment.\\n        Crime scene investigators were dispatched to the location and conducted a thorough examination of the area, collecting potential evidence such as surveillance footage, witness statements, and the victim's personal belongings. The investigation into the choking is ongoing, with efforts focused on identifying the assailant and establishing a motive for the attack.\",\n",
              "   'entities': {'Violent_Crimes': [[95, 101]]}},\n",
              "  {'text': \"On June 20, 2023, at approximately 9:00 PM, the victim, identified as John Doe, reported being choked by an unknown assailant outside a local convenience store. The victim stated that the assailant approached him from behind, grasped his neck tightly and would not let go until a bystander intervened.\\nResponding officers arrived at the scene within minutes of the report and observed the victim displaying visible signs of injury, including redness and swelling around his neck area. Officers immediately called for medical assistance and provided initial first aid before paramedics arrived to transport the victim to the hospital for further evaluation and treatment.\\nCrime scene investigators were dispatched to the location and conducted a thorough examination of the area, collecting potential evidence such as surveillance footage, witness statements, and the victim's personal belongings. The investigation into the assault is ongoing, with efforts focused on identifying the assailant and establishing a motive for the attack.\",\n",
              "   'entities': {'Violent_Crimes': [[95, 101]]}},\n",
              "  {'text': \"On June 20, 2023, at approximately 9:00 PM, the victim, identified as John Doe, reported being mugged by an unknown assailant outside a local convenience store. The victim stated that the assailant approached him from the front and demanded his wallet and cell phone before fleeing the scene.\\nResponding officers arrived at the scene within minutes of the report and observed the victim visibly shaken, with his belongings scattered on the ground. Officers immediately contacted nearby businesses to request any surveillance footage that may have captured the crime occurring.\\nCrime scene investigators were dispatched to the location and conducted a thorough examination of the area, collecting potential evidence such as surveillance footage, witness statements, and the victim's personal belongings. The investigation into the mugging is ongoing, with efforts focused on identifying the assailant and establishing a motive for the attack.\",\n",
              "   'entities': {'Property_Crimes': [[95, 101]]}},\n",
              "  {'text': \"On August 9, 2023, at approximately 11:30 PM, the victim, identified as Jane Smith, reported being mugged by an unknown assailant outside a local bar. The victim stated that the assailant approached her from behind and demanded her wallet before pushing her to the ground and fleeing the scene.\\n        Responding officers arrived at the scene within minutes of the report and observed the victim displaying visible signs of injury, including bruises on her arms and legs. Officers immediately called for medical assistance and provided initial first aid until paramedics arrived to transport the victim to the hospital for further evaluation and treatment.\\n        Crime scene investigators were dispatched to the location and conducted a thorough examination of the area, collecting potential evidence such as surveillance footage, witness statements, and the victim's personal belongings. The investigation into the mugging is ongoing, with efforts focused on identifying the assailant and establishing a motive for the attack.\",\n",
              "   'entities': {'Property_Crimes': [[99, 105]]}},\n",
              "  {'text': \"On November 2nd, 2021, at approximately 10:00 PM, the victim, identified as Jane Smith, reported being mugged by an as of yet unidentified assailant near her residence. She recounted that the assailant had approached her from behind and grabbed her purse before fleeing the scene.\\nResponding officers arrived shortly afterwards and noted that the victim appeared visibly shaken and had minor scrapes on her arm. Officers immediately called for medical assistance and provided initial first aid until paramedics arrived to transport the victim to the hospital for further examination and treatment.\\nCrime scene investigators were dispatched to the location and conducted a thorough examination of the area, collecting potential evidence such as surveillance footage, witness statements, and the victim's personal belongings. The investigation into the mugging is still ongoing, with efforts focused on identifying the assailant and understanding the motive for the attack.\",\n",
              "   'entities': {'Property_Crimes': [[103, 109]]}},\n",
              "  {'text': \"On August 17, 2021, at approximately 7:30 PM, A witness reported seeing a female victim, identified as Jane Smith, being robbed by an unidentified male assailant in an alleyway. Witnesses stated that the assailant held a knife to the victim's side and demanded her purse before fleeing the area.\\n        Responding officers arrived shortly and found the victim visibly distressed and without her purse. Officers comforted the victim and contacted the police department's Victim Services Unit to provide psychological support. Officers also collected witness statements and statements from the victim about the incident.\\n        Crime scene investigators reviewed surveillance footage and canvassed the area for potential witnesses. After a thorough investigation, investigators found and collected the victim's personal belongings which had been discarded by the assailant. The investigation into the robbery is ongoing, with efforts focused on locating and apprehending the assailant to ensure the perpetrator is brought to justice.\",\n",
              "   'entities': {'Property_Crimes': [[121, 127]]}},\n",
              "  {'text': \"On August 10, 2023, at approximately 11:30 PM, the victim, identified as Jane Smith, reported being robbed by an unknown assailant while walking through a park. The victim stated that she was walking alone when a suspect approached her from the darkness, demanding her money and valuables before fleeing the scene.\\n        Responding officers arrived at the scene shortly after the report was filed and heard the victim recounting the details of the robbery. Officers observed the victim to be visibly shaken, but without any physical signs of injury. Officers comforted the victim and actively canvassed the area in search of the assailant.\\n        Crime scene investigators were dispatched to the location and conducted a thorough examination of the area, collecting potential evidence such as surveillance footage, witness statements, and the victim's belongings. The investigation into the robbery is ongoing, with efforts focused on identifying the assailant and recovering the stolen items.\",\n",
              "   'entities': {'Property_Crimes': [[100, 106]]}},\n",
              "  {'text': \"On June 20, 2023, at approximately 9:00 PM, the victim, identified as John Doe, reported being robbed by an unknown assailant outside a local convenience store. The victim stated that the assailant approached him from the side, brandishing a knife and ordered him to hand over his wallet and phone. The assailant then proceeded to flee the scene with the victim's belongings.\\n        Responding officers arrived at the scene within minutes of the report and observed the victim visibly shaken and distraught. Officers immediately questioned the victim for a description of the assailant, where it became evident that he was unable to recall any crucial details.\\n        Crime scene investigators were dispatched to the location and conducted a thorough examination of the area, collecting potential evidence such as surveillance footage, witness statements, and the victim's personal belongings. The investigation into the robbery is ongoing, with efforts focused on identifying the assailant and recovering the stolen items.\",\n",
              "   'entities': {'Property_Crimes': [[95, 101]]}},\n",
              "  {'text': 'On June 20, 2023, at approximately 8:30 PM, the victim, identified as Jane Doe, reported that her home had been burglarized while she was away. She told responding officers that when she returned home after being out for several hours, she noticed items such as jewelry and electronics had been taken from her residence.\\n        Responding officers arrived on scene within minutes of the report and conducted a preliminary assessment of the home. They observed a broken window and items scattered across the living room, confirming that the house had been entered unlawfully. Crime scene investigators were then dispatched to the location to collect potential evidence that could lead to a suspect.\\n        Initially, no suspects were identified and the investigation was at an impasse. However, after furthering their search for clues, officers arrested a known criminal for their suspected involvement in the burglary. Evidence collected during the investigation, along with the suspect’s confession, was presented to the prosecutors as part of the case against the criminal.',\n",
              "   'entities': {'Property_Crimes': [[112, 123]]}},\n",
              "  {'text': \"On June 20, 2023, at approximately 9:00 PM, the victim, identified as John Doe, reported being burglarized by an unknown assailant outside a local convenience store. The victim stated that the assailant broke into his car, stealing personal belongings before fleeing the scene.\\n        Responding officers arrived at the scene within minutes of the report and observed the victim displaying visible signs of distress. Officers immediately began canvasing the area for any potential suspects before gathering statements from witnesses.\\n        Crime scene investigators were dispatched to the location and conducted a thorough examination of the area, collecting potential evidence such as surveillance footage, witness statements, and the victim's personal belongings. The investigation into the burglary is ongoing, with efforts focused on identifying the assailant and establishing a motive for the crime.\",\n",
              "   'entities': {'Property_Crimes': [[95, 106]]}},\n",
              "  {'text': 'On March 18, 2028, at approximately 3:00 AM, a burglary was reported at a local warehouse. Surveillance footage revealed that an unknown assailant had broken into the building and proceeded to burglarize the premises. The perpetrator had reportedly stolen several items of value, including computers, electronics, and cash.\\n\\nResponding officers identified evidence of forced entry and conducted a further search of the premises. Witnesses in the area stated that they had heard noises and seen a suspicious vehicle outside the warehouse shortly before the burglary had been reported.\\n\\nCrime scene investigators were dispatched to the location and carefully examined the building, collecting potential evidence such as fingerprints, surveillance footage, and any discarded items left behind by the perpetrator. The investigation into the burglary is ongoing, with efforts focused on identifying the assailant and recovering the stolen items.',\n",
              "   'entities': {}},\n",
              "  {'text': 'On April 10, 2021, at around 11:15 PM, the victim, identified as Jane Smith, reported that her laptop was stolen from her home while she was away on vacation. She stated that when she returned home, she immediately noticed the laptop was missing from its usual spot. Police officers dispatched to the scene recovered security footage from the residence, which showed an unknown man with a grey hoodie entering the house through a back window and leaving with the laptop a few minutes later.\\n\\nCrime scene investigators conducted a search of the residence for potential evidence, including fingerprints, hair samples, and fragments of any shattered glass near the broken window. The investigation into the burglary is ongoing, with efforts focused on identifying the suspect and determining how the thief gained access to the house.',\n",
              "   'entities': {'Property_Crimes': [[106, 112]]}},\n",
              "  {'text': \"On July 6, 2023, at approximately 11:30 PM, the victim, identified as Jane Smith, reported having her purse stolen while walking her dog in the park. The victim stated that she was approached from behind by an unidentified male, who attempted to snatch her wallet before running off into the night.\\nResponding officers arrived within minutes of the report and observed the victim visibly shaken and unable to provide a detailed description of the suspect. Officers obtained a statement from the victim and began canvasing the area for witnesses or surveillance footage that may lead to identifying the suspect.\\nCrime scene investigators were dispatched to the location and conducted a thorough search of the area, collecting potential evidence such as eyewitness accounts, passerby's phone records, and any physical evidence left behind. The investigation into the theft is ongoing, with efforts focused on tracking down the suspect and recovering the stolen purse.\",\n",
              "   'entities': {'Property_Crimes': [[108, 114], [952, 958]]}},\n",
              "  {'text': \"On December 5, 2021, at approximately 11:00 PM, the victim, identified as Jane Doe, reported having her purse stolen by an unknown suspect. The victim had stepped away from her chair to use the restroom, leaving her purse unattended, when the suspect quickly grabbed it and fled the scene. \\n        Responding officers arrived at the location and interviewed witnesses regarding the incident. Potential evidence collected at the scene includes surveillance footage and witness statements.\\n        Crime scene investigators conducted a comprehensive examination of the area and gathered further evidence, including the victim's personal belongings and items remaining in her purse. The investigation into the theft is ongoing, with efforts focused on locating the suspect and recovering the stolen items.\",\n",
              "   'entities': {'Property_Crimes': [[110, 116], [790, 796]]}},\n",
              "  {'text': 'On June 20, 2023, at approximately 9:00 PM, the victim, identified as John Doe, reported being vandalized by an unknown assailant outside a local convenience store. The victim stated that the assailant had approached him from behind and spray painted explicit images on the wall before fleeing the scene.\\n        Responding officers arrived at the scene within minutes of the report and observed the victim standing near the vandalized wall, identifying the perpetrator from the evidence they could collect. Officers immediately called for additional backup to patrol the area for the suspect and collected any evidence that may help with the investigation.\\n        Crime scene investigators were dispatched to the location and conducted a thorough examination of the area, collecting potential evidence such as surveillance footage, witness statements, and paint residue from the wall. The investigation into the vandalism is ongoing, with efforts focused on identifying the assailant and establishing a motive for the attack.',\n",
              "   'entities': {'Property_Crimes': [[95, 105], [425, 435]]}},\n",
              "  {'text': 'On June 20, 2023, at approximately 11:00 PM, the Manager of a local business reported that the building had been vandalized. Upon arriving at the location, officers found the storefront windows shattered and graffiti spray painted on the walls. Inside, they also discovered furniture that had been overturned and various items strewn about the interior.\\n\\nCrime Scene Investigators were dispatched and performed an extensive search of the premises, looking for any evidence that might be related to the crime. They also canvassed the area for witnesses or any CCTV footage that may have captured the incident. The investigation remains ongoing, and officers are actively searching for suspects in connection to the vandalism.',\n",
              "   'entities': {'Property_Crimes': [[113, 123]]}},\n",
              "  {'text': 'On August 7, 2023, at approximately 3:00 PM, the victim, identified as Jane Smith, reported being a victim of vandalism outside her home. The victim stated that she had witnessed an unknown individual vandalizing her property, damaging her fence and other items in her garden.\\n        Responding officers arrived at the scene shortly after the report and spoke with the victim to obtain further details. The officers then conducted a search of the immediate area and observed that several items had been vandalized. Crime scene investigators were dispatched to the location for an in-depth search for potential evidence, such as fingerprints, DNA, or witnesses.\\n        The investigation into the incident is ongoing, with efforts focused on identifying the perpetrator and apprehending them. In order to raise awareness and increase the chances of possible leads, the victim has offered a monetary reward for any information leading to the arrest of the suspect.',\n",
              "   'entities': {'Property_Crimes': [[504, 514]]}},\n",
              "  {'text': 'On October 12, 2023, at roughly 2:00 AM, John Doe called 911 and reported he had found an intruder trespassing on his property. When officers arrived, they found the suspect leaving the scene in a vehicle. They gave chase but were unable to catch up, resulting in the suspect ultimately escaping capture.\\n\\nOfficers obtained a search warrant and searched the property, finding evidence that the suspect had entered the premises unlawfully. They collected suspicious items left at the scene, which may have belonged to the suspect, such as clothing and tools. Additional units were deployed to gather witness reports and check for CCTV footage of the suspect.\\n\\nThe investigation regarding the trespass is ongoing and continues to focus on identifying the suspect in order to establish if a crime had occurred and why the premises were targeted.',\n",
              "   'entities': {}},\n",
              "  {'text': 'On June 20, 2023, at approximately 9:00 PM, the victim, identified as John Doe, reported being trespassed on by an unknown perpetrator outside a local convenience store. The victim stated that the perpetrator had ignored several warnings to leave the premises and instead proceeded to enter the store without authorization.\\n        Responding officers arrived at the scene within minutes of the report and the perpetrator had already fled. Officers immediately obtained a description of the perpetrator and interviewed nearby witnesses in an effort to locate the individual.\\n        Crime scene investigators were dispatched to the location and conducted a thorough examination of the area, collecting potential evidence such as surveillance footage and witness statements. The investigation into the trespassing is ongoing, with efforts focused on identifying the perpetrator as well as determining whether any further criminal activity was committed.',\n",
              "   'entities': {'Property_Crimes': [[95, 105]]}},\n",
              "  {'text': \"On June 20, 2023, at approximately 9:00 PM, the victim, identified as John Doe, reported being trespassed by an unknown individual at a local business. The victim stated that the individual had entered the store following closing time, prompting a confrontation in which the individual refused to leave the premises.\\n        Responding officers arrived at the scene shortly after the report and attempted to reason with the individual in order to peacefully resolve the situation. In spite of their efforts, the individual refused to cooperate and continued to trespass upon the business' property. \\n        Officers ultimately decided to take the individual into custody and issued them a misdemeanor ticket for trespassing. Crime scene investigators were dispatched to the location in order to collect evidence and preserve the scene. The investigation into the incident is ongoing, with efforts focused on determining the individual's motive for trespassing.\",\n",
              "   'entities': {'Property_Crimes': [[95, 105]]}},\n",
              "  {'text': 'On June 20, 2023, at approximately 9:00 PM, the victim, identified as John Doe, reported that their property had been arsoned by an unknown assailant. The victim stated that they heard a loud explosion coming from their backyard, followed by the smell of smoke.\\n        Responding officers arrived at the scene within minutes of the report and observed visible signs of fire damage to the property. Officers immediately called the fire department to contain the blaze and investigate the cause of the fire.\\n        Crime scene investigators were dispatched to the location and conducted a thorough examination of the area, collecting potential evidence such as surveillance footage, witness statements, and charred remains of the property. The investigation into the arson is ongoing, with efforts focused on identifying the assailant and establishing a motive for the attack.',\n",
              "   'entities': {'Property_Crimes': [[118, 125]]}},\n",
              "  {'text': 'On June 20, 2023, at approximately 9:00 PM, the victim, identified as John Doe, reported his property being arsoned by an unknown assailant. The victim stated that the assailant used an accelerant to ignite the fire before fleeing the scene. \\nResponding officers arrived at the scene within minutes of the report and observed the property engulfed in flames. Firefighters were immediately dispatched and were able to extinguish the fire by 9:30 PM. \\nCrime scene investigators were dispatched to the location and conducted a thorough examination of the area, collecting potential evidence such as surveillance footage, witness statements, and samples of the accelerant used. The investigation into the arson is ongoing, with efforts focused on identifying the assailant and establishing a motive for the attack.',\n",
              "   'entities': {'Property_Crimes': [[108, 115]]}},\n",
              "  {'text': 'On July 24, 2048, at approximately 3:00 AM, a fire was reported at a local warehouse. Upon arrival, firefighters discovered that several windows and the back doors of the building had been broken with signs of arson. After extinguishing the flames, arson investigators examined the scene and uncovered evidence indicating that accelerants had been used to start the fire. \\nWitness interviews suggested that the perpetrator may have been seen entering the property shortly after midnight. Investigators also recovered surveillance footage from a neighboring business that showed a person leaving the back of the building in a hurry as the fire started. The investigation into the arson is still in progress, with investigators searching for additional leads.',\n",
              "   'entities': {}},\n",
              "  {'text': 'On June 20, 2023, at approximately 9:00 PM, the victim, identified as John Doe, reported having his property damaged by an unknown assailant. The victim stated that the assailant approached his car and broke part of the back window before fleeing the scene.\\nResponding officers arrived at the scene within minutes of the report and quickly checked the surrounding area for any potential suspects. Officers interviewed witnesses and examined the victim’s vehicle, noting damage to its exterior and broken glass on the street.\\nCrime scene investigators were dispatched to the location and conducted a thorough examination of the area, collecting potential evidence such as surveillance footage, witness statements, and potential pieces of the broken window. The investigation into the damage is ongoing, with efforts focused on identifying the assailant.',\n",
              "   'entities': {'Property_Crimes': [[109, 116]]}},\n",
              "  {'text': \"On June 20, 2023, at approximately 9:00 PM, the victim, identified as John Doe, reported being the victim of property damage caused by an unknown suspect. The victim stated that he had heard a loud crashing sound coming from outside his home and then discovered that his mailbox had been destroyed.\\n        Responding officers arrived at the scene and observed that the mailbox had indeed been damaged beyond repair, and the investigation revealed that the suspect had used a blunt object to cause the damage. Officers immediately began collecting evidence from the scene, including surveillance footage, witness statements, and the victim's personal belongings. \\n        Crime scene investigators were dispatched to the location and conducted a thorough examination of the area. They identified the object used to damage the mailbox and evidence that the suspect had attempted to flee the scene. The investigation into the damaging of the victim's property is ongoing, with efforts focused on identifying the suspect and establishing a motive for the incident.\",\n",
              "   'entities': {'Property_Crimes': [[394, 401]]}},\n",
              "  {'text': \"On June 20, 2023, at approximately 9:00 PM, the victim, identified as John Doe, reported his property being damaged by an unknown assailant outside a local convenience store. The victim stated that the assailant approached him from behind, smashing his car windows with a blunt object before fleeing the scene.\\n        Responding officers arrived at the scene within minutes of the report and observed the victim surrounded by broken glass. Officers immediately opened an investigation and collected potential evidence such as surveillance footage, witness statements, and the victim's personal belongings.\\n        Crime scene investigators were dispatched to the location and conducted a thorough examination of the area, collecting additional evidence such as additional surveillance footage and witness statements. The investigation into the damage is ongoing, with efforts focused on identifying the assailant and establishing a motive for the attack.\",\n",
              "   'entities': {'Property_Crimes': [[108, 115]]}},\n",
              "  {'text': 'On July 4, 2023, at approximately 6:00 PM, witnesses reported seeing an individual graffitied a nearby watertower with spray paint. The suspect was described by multiple witnesses as a thin-built male wearing a blue hoodie and black jeans, and was seen leaving the area just after the crime had been committed.\\n        Local police officers arrived on the scene soon after and initiated an investigation on the vandalism. They managed to locate the source of the graffiti, which had been spray painted in several places around the watertower. Officers photographed and documented the damage before the watertower was power washed, and collected potential evidence for further examination.\\n        Crime scene investigators were also dispatched to the location to collect evidence and examine the area. Efforts are ongoing to determine the identity of the suspect responsible for the graffiti, as well as possible motives for the crime.',\n",
              "   'entities': {'Property_Crimes': [[83, 93]]}},\n",
              "  {'text': 'On October 15, 2021, at approximately 2:00 AM, officers responded to a report of vandalism at a nearby park. Upon arrival, they found the walls of the park restroom covered in graffiti. Officers quickly cordoned off the area and notified a nearby parks department for assistance in removing the graffiti.\\n        Crime scene investigators arrived on the scene and began collecting potential evidence, including surveillance footage and witness statements. Additionally, they were able to locate and collect several aerosol cans of spray paint which were believed to have been used to apply the graffiti.\\n        The investigation into the incident is still ongoing, and efforts are being focused on identifying the suspects and establishing a motive for the vandalism.',\n",
              "   'entities': {}},\n",
              "  {'text': 'On June 20, 2023, at approximately 9:00 PM, the victim, identified as John Doe, reported being graffitied on by an unknown assailant outside a local convenience store. The victim stated that the assailant used a permanent marker to write obscenities on the wall before fleeing the scene.\\n        Responding officers arrived at the scene within minutes of the report and observed the victim viewing the artwork with distress. Officers immediately began looking for the perpetrator, canvassing the area to find any witnesses.\\n        Crime scene investigators were dispatched to the location and conducted a thorough examination of the area, collecting potential evidence such as surveillance footage, witness statements, and photographs of the graffiti. The investigation into the incident is ongoing, with efforts focused on identifying the assailant and establishing a motive for the graffitied artwork.',\n",
              "   'entities': {'Property_Crimes': [[95, 105], [885, 895]]}},\n",
              "  {'text': \"On July 2, 2023, at approximately 3:00 PM, an employee of the ABC Accounting firm notified police of having discovered signs of embezzlement. During an audit, the employee uncovered evidence of the transfer of funds from the company's accounts into a personal account belonging to a former employee. The employee reported that the theft had occurred over a period of several weeks, resulting in a significant financial loss for the business. \\n        Responding officers conferred with management and began gathering records and surveys of all accounts and account access records. Through the investigation, officers were able to determine that the former employee had gained unauthorized access to the company's accounts and had embezzled thousands of dollars.\\n        Detectives interviewed multiple witnesses, including the former employee, and conducted a thorough search of their property. A warrant was then issued for the suspect's arrest, and they were taken into custody on charges of embezzlement and fraud. The investigation into the breach of the company's accounts is ongoing, as authorities work to determine the full extent of the theft and to seek restitution for the company's financial loss.\",\n",
              "   'entities': {'Property_Crimes': [[730, 739]]}},\n",
              "  {'text': \"On October 4, 2021, at approximately 12:00 PM, the victim, identified as Jane Smith, reported being financially embezzled by her neighbor. The victim stated that the neighbor had accessed her bank account and withdrawn a significant amount of money without her permission.\\nResponding officers arrived at the scene shortly after the report was filed and gathered as much information as possible from the victim. The officers then contacted the financial institution to determine the extent of the embezzlement and initiate a freeze of the victim's accounts.\\nCrime scene investigators were dispatched to the neighbor's residence and conducted a thorough examination of the area, collecting potential evidence such as financial records, banking information, and digital devices. The investigation into the embezzlement is ongoing, with efforts focused on identifying the suspect and recovering the stolen funds.\",\n",
              "   'entities': {'Property_Crimes': [[112, 121]]}},\n",
              "  {'text': \"On June 20, 2023, at approximately 9:00 PM, the victim, identified as John Doe, reported being embezzled by an unknown suspect. The victim stated that the suspect had illegally obtained a large amount of his money without his consent.\\nResponding officers arrived at the scene within minutes of the report and gathered additional information to support the claim. Investigators then consulted with the local banking institution to determine the amount allegedly obtained by the suspect.\\nCrime scene investigators were dispatched to the location and conducted a thorough examination of the evidence, interviewing witnesses and collecting documents for further review. The investigation into the embezzlement is ongoing, with efforts focused on identifying the suspect and recovering the victim's money.\",\n",
              "   'entities': {'Property_Crimes': [[95, 104]]}},\n",
              "  {'text': 'On June 20, 2023, at approximately 12:00 PM, local store surveillance cameras captured footage of an unknown suspect shoplifting from the store. The suspect was recorded entering the store with an empty bag before concealing several items and exiting without paying for them. \\nResponding officers arrived at the scene several minutes later where they spoke to store employees and reviewed the footage from the surveillance cameras. Store employees were able to provide a detailed description of the suspect and reported that a similar theft occurred in the previous week. \\nCrime scene investigators were dispatched to the store and conducted a thorough examination of the area, collecting evidence such as surveillance footage, photos of items stolen, and witness statements. The investigation into the incident is ongoing, with efforts focused on identifying the suspect and recovering the stolen property.',\n",
              "   'entities': {}},\n",
              "  {'text': 'On October 10, 2023, at approximately 12:00 PM, the victim, identified as Jane Doe, reported being shoplifted by an unknown perpetrator inside a local department store. The victim  detailed that the perpetrator entered the establishment moments before, selecting several items for purchase before leaving without payment.\\n        Responding officers arrived at the scene within minutes of the report and observed the victim displaying visible signs of distress. Officers immediately launched an investigation into the shoplifting incident and began interviewing witnesses to obtain further information on the perpetrator.\\n        Crime scene investigators were dispatched to the location and conducted a thorough examination of the area, collecting potential evidence such as surveillance footage, witness statements, and store inventory records. The investigation into the shoplifting is ongoing, with efforts focused on identifying the perpetrator and recovering the stolen merchandise.',\n",
              "   'entities': {'Property_Crimes': [[99, 109]]}},\n",
              "  {'text': 'On August 3, 2023, at approximately 7:00 PM, the victim, identified as Sally Smith, reported witnessing someone shoplifting from a nearby business. The victim stated that she observed the suspect taking items from the store without paying for them and quickly exiting the premises.\\n        Responding officers arrived at the scene within minutes of the report and observed the suspect fleeing the area on foot. Officers immediately gave chase but were unable to apprehend the criminal. \\n        Crime scene investigators were dispatched to the location and conducted a thorough examination of the store, collecting potential evidence such as surveillance footage, witness statements, and the stolen items. The investigation into the shoplifting is ongoing, with efforts focused on identifying the suspect and recovering the stolen items.',\n",
              "   'entities': {}},\n",
              "  {'text': \"On June 20, 2023, at approximately 9:00 PM, the victim, identified as John Doe, reported being sabotaged by an unknown assailant outside a local convenience store. The victim stated that the assailant approached him from behind, tampering with his vehicle in some way before fleeing the scene.\\n        Responding officers arrived at the scene within minutes of the report and observed the victim displaying visible signs of distress, pointing out the damage to his vehicle. Officers immediately called for automotive assistance and surveyed the area looking for witnesses or potential suspects.\\n        Crime scene investigators were dispatched to the location and conducted a thorough examination of the vehicle, collecting potential evidence such as surveillance footage, witness statements, and the victim's personal belongings. The investigation into the sabotage is ongoing, with efforts focused on identifying the assailant and establishing a motive for the attack.\",\n",
              "   'entities': {'Property_Crimes': [[95, 104]]}},\n",
              "  {'text': \"On July 15, 2023, at approximately 2:00 AM, the victim, identified as Jane Smith, reported her vehicle being sabotaged by an unknown suspect in the parking lot of a retail business. The victim stated that when she went to start her car, the engine was non-responsive, indicating that it had been tampered with.\\n        Responding officers arrived at the scene shortly after the report and observed several car parts scattered on the pavement outside the victim's vehicle. Officers also spoke to several witnesses that had been in the area at the time, but all stated that they had seen nothing suspicious or out of the ordinary.\\n        Crime scene investigators were dispatched to the location and documented the vehicle before towing it back to the station for further inspection and analysis. The investigation into the sabotage is ongoing, with efforts focused on identifying the suspect and the reason behind the attack.\",\n",
              "   'entities': {'Property_Crimes': [[109, 118]]}},\n",
              "  {'text': \"On June 20, 2023, at approximately 9:00 PM, the victim, identified as John Doe, reported that his bike had been sabotaged by an unknown individual outside a local park. The victim stated that the wheels of his bike had been tampered with in an attempt to prevent him from leaving the area. \\n        Responding officers arrived at the scene within minutes of the report and observed the victim's bike to have been rendered immobile. Officers immediately called for technical assistance and provided initial first aid until paramedics arrived to transport the victim to the hospital for further evaluation and treatment.\\n        Crime scene investigators were dispatched to the location and conducted a thorough examination of the area, collecting potential evidence such as surveillance footage, witness statements, and the victim's personal belongings. The investigation into the sabotage is ongoing, with efforts focused on identifying the individual responsible and establishing a motive for the attack.\",\n",
              "   'entities': {'Property_Crimes': [[112, 121]]}},\n",
              "  {'text': 'On June 20, 2023, at approximately 11:00 PM, reports of shop owners witnessing their stores being looted began to come in from across the city. Witnesses described multiple individuals entering the stores, taking items from the shelves, and then fleeing the premises.\\n\\nResponding officers arrived at the scene and met with the store owners, gathering as much information as they could in order to identify the perpetrators. Forensic teams were also dispatched to collect potential evidence such as fingerprints and surveillance footage.\\n\\nPolice conducted a thorough search of the area and soon identified a group matching the descriptions provided by the witnesses. The group was apprehended and taken into custody, where officers found several stolen items in their possession. All suspects were arrested and the investigation into the looting is ongoing.',\n",
              "   'entities': {'Property_Crimes': [[98, 104]]}},\n",
              "  {'text': \"On January 15, 2024, police responded to a report of looting at an electronics store on the outskirts of town. Upon arriving, officers observed several individuals exiting the store, carrying televisions and other electronics. The individuals dropped the merchandise and ran upon seeing the officers.\\n\\nA quick search of the store's premises revealed that all merchandise had been taken from the store and the windows and doors had been broken. Officers also found damage to internal systems and surveillance equipment. The store owner reported substantial losses due to the looting.\\n\\nOfficers initiated a search of the area for the individuals involved, but had not located them at the time of the report. While investigators collected evidence from the scene, officers posted watch over the store to protect it from further damage. The investigation into the looting is ongoing, with efforts focused on identifying and apprehending the individuals responsible.\",\n",
              "   'entities': {}},\n",
              "  {'text': 'On April 14, 2022, at approximately 8:00 PM, officers responded to reports of looting at a local department store. Upon arrival, the officers observed a large group of people entering and exiting the store, carrying items out without paying. \\nThe officers searched the business and attempted to identify the perpetrators, but they had already fled the scene. The store manager reported that multiple items had been taken.\\nCrime scene investigators were dispatched and conducted a thorough examination of the store, collecting surveillance footage, witness statements, and inventory to ascertain what items had been stolen. The investigation into the incident of looting is ongoing, with efforts focused on tracking down the perpetrators and recovering the stolen items.',\n",
              "   'entities': {}},\n",
              "  {'text': \"On June 20, 2023, at approximately 9:00 PM, the victim, identified as John Doe, reported being counterfeited by an unknown suspect. The victim stated that the suspect approached him in the parking lot and attempted to use counterfeit money to purchase items from inside the convenience store. When the suspect was informed of the fraudulent money, the suspect immediately fled the scene.\\n        Responding officers arrived at the scene within minutes of the report and observed the victim displaying confusion and disbelief. Officers questioned the victim about the incident and provided further instructions on how to handle the counterfeit money.\\n        Crime scene investigators were dispatched to the location and conducted a thorough examination of the area, collecting potential evidence such as surveillance footage, witness statements, and the victim's personal belongings. The investigation into the counterfeiting is ongoing, with efforts focused on identifying the suspect and understanding the source of the fraudulent money.\",\n",
              "   'entities': {'Property_Crimes': [[95, 108]]}},\n",
              "  {'text': 'On June 20, 2023, at approximately 9:00 PM, the victim, identified as John Doe, reported being counterfeited by an unknown suspect outside a local convenience store. The victim stated that the suspect had approached him with counterfeit currency, which had been used to purchase items from the store.\\nResponding officers arrived at the scene within minutes of the report and took custody of the counterfeit currency for further investigation. Officers also interviewed potential witnesses in an effort to gain further information on the suspect, but their efforts were met with no success.\\n\\nCrime scene investigators were dispatched to the location and conducted a thorough examination of the area, collecting potential evidence such as CCTV footage and statements from witnesses. The investigation into the counterfeiting is ongoing, with efforts focused on identifying the suspect and determining how the counterfeit money was acquired.',\n",
              "   'entities': {'Property_Crimes': [[95, 108]]}},\n",
              "  {'text': \"On June 20, 2023, at approximately 9:00 PM, the victim, identified as John Doe, reported being counterfeited by an unknown assailant outside a local convenience store. The victim stated that the assailant had created and attempted to pass off fake currency.\\n\\nResponding officers arrived at the scene within minutes of the report and observed the victim displaying distress at the situation. Officers immediately asked the victim to provide any evidence of the counterfeiting and to explain the details of the incident.\\n\\nCrime scene investigators were dispatched to the location and conducted a thorough examination of the area, collecting potential evidence such as surveillance footage, witness statements, and the victim's personal belongings. The investigation into the counterfeiting is ongoing, with efforts focused on identifying the assailant and determining the source of the counterfeit currency.\",\n",
              "   'entities': {'Property_Crimes': [[95, 108]]}},\n",
              "  {'text': \"On June 20, 2023, at approximately 9:00 PM, the victim, identified as John Doe, reported being pocketed by an unknown perpetrator outside a local grocery store. The victim stated that the perpetrator came up to him from behind, reaching into his pocket and taking out his wallet before fleeing the scene.\\n        Responding officers arrived at the scene within minutes of the report and observed the victim displaying a sense of shock and disbelief. Officers began speaking to witnesses who were present in the area and gathering information about the suspect and their potential whereabouts.\\n        Crime scene investigators were dispatched to the location and conducted a thorough examination of the area, collecting potential evidence such as surveillance footage, witness statements, and the victim's personal belongings. The investigation into the pocketing is ongoing, with efforts focused on identifying the perpetrator and bringing them to justice.\",\n",
              "   'entities': {'Property_Crimes': [[95, 103]]}},\n",
              "  {'text': \"On June 20, 2023, at approximately 9:00 PM, the victim, identified as John Doe, reported being pocketed by an unknown assailant outside a local convenience store. The victim stated that the assailant approached him from behind, quickly palming the victim's wallet out of his pocket before fleeing the scene.\\n        Responding officers arrived at the scene within minutes of the report and immediately began searching the area for any signs of the assailant. Officers also gathered accounts from any witnesses present at the scene and distributed descriptions of the suspect to nearby patrol units. \\n        Crime scene investigators were dispatched to the location and conducted a thorough examination of the area, collecting potential evidence such as buyer surveillance footage, witness statements, and the victim's personal belongings. The investigation into the incident is ongoing, with efforts focused on identifying the assailant, recovering the stolen items, and establishing a motive for the attack.\",\n",
              "   'entities': {'Property_Crimes': [[95, 103]]}},\n",
              "  {'text': \"On June 20, 2023, at approximately 9:00 PM, the victim, identified as John Doe, reported having items pocketed by an unknown assailant outside a local convenience store. The victim stated that the assailant passed by him and swiped his wallet while his back was turned. \\nResponding officers arrived at the scene within minutes of the report and verified that the victim's personal belongings had indeed gone missing. Officers immediately began searching the area, although their efforts were unsuccessful in finding the thief or the stolen items. \\nCrime scene investigators were dispatched to the location and conducted a thorough examination of the area, collecting potential evidence such as surveillance footage, witness statements, and the victim's personal belongings. The investigation into the theft is ongoing, with efforts focused on identifying the thief and recovering the stolen items.\",\n",
              "   'entities': {'Property_Crimes': [[102, 110]]}},\n",
              "  {'text': \"On June 20, 2023, at approximately 9:00 PM, the victim, identified as John Doe, reported being stripped of his possessions by an unknown assailant outside a local convenience store. The victim stated that the assailant approached him from behind, taking all of his belongings before fleeing the scene.\\n        Responding officers arrived at the scene within minutes of the report and observed the victim displaying visible signs of distress. Officers immediately interviewed the victim to gain more information about the assailant and the stolen items.\\n        Crime scene investigators were dispatched to the location and conducted a thorough examination of the area, searching for any evidence that may help identify the assailant and retrieve the victim's belongings. The investigation into the stripping is ongoing, with efforts focused on recovering the stolen items and apprehending the assailant.\",\n",
              "   'entities': {'Property_Crimes': [[95, 103]]}},\n",
              "  {'text': 'On March 15, 2024, at approximately 9:30 PM, the victim, identified as Jane Doe, reported being stripped of her clothes by an unknown assailant in a public park. The victim stated that she was approached from behind and pushed down onto the ground before her attacker began forcibly removing her clothing.\\n        Responding officers arrived at the scene shortly after the report was filed and found that the victim was in a state of extreme distress. The officers provided emotional support to the victim and contacted medical personnel for on-site assistance.\\n        Crime scene investigators were immediately dispatched to the location and conducted a thorough search of the area, collecting potential evidence such as surveillance footage, witness statements and personal items belonging to the victim. The investigation into the incident is ongoing, with efforts focused on identifying the assailant and establishing a motive for the attack.',\n",
              "   'entities': {'Property_Crimes': [[96, 104]]}},\n",
              "  {'text': \"On August 1, 2023, at approximately 7:00 PM, the victim, identified as Jane Doe, reported being stripped and robbed of her possessions by an unknown perpetrator. The victim stated that the perpetrator approached her from behind and yanked her bag away before taking off on foot.\\nResponding officers arrived at the scene shortly after the report and observed the victim in a state of distress, clutching her arm after the perpetrator had snatched her bag from her. Officers immediately began searching for the robber while providing victim support to the distressed woman.\\nCrime scene investigators were dispatched to the location and conducted a full investigation of the area, collecting any potential evidence that might help identify the perpetrator. Surveillance footage, witness statements, and the victim's belongings were all sent to the lab for further examination. The investigation into the stripping and robbery is ongoing, with efforts focused on apprehending the perpetrator and bringing them to justice.\",\n",
              "   'entities': {'Property_Crimes': [[96, 104]]}},\n",
              "  {'text': 'On October 2, 2025, at approximately 3:00 AM, the victim, identified as Jane Smith, reported being intruded upon by an unknown suspect. The victim stated that the suspect had forced open her window and entered her home without her permission. She immediately called the police before the intruder fled the scene.\\n        Responding officers arrived within minutes and searched the premises, but the suspect had already left. Officers observed signs of forced entry and interviewed the victim to gather additional information and determine if anything had been stolen.\\n        Crime scene investigators were dispatched to the location and conducted a thorough examination, collecting potential evidence such as fingerprints, surveillance footage, and possible items that the intruder may have left behind. The investigation into the intrusion is ongoing, and efforts are focused on identifying the suspect and retrieving any stolen property.',\n",
              "   'entities': {'Property_Crimes': [[99, 107]]}},\n",
              "  {'text': \"On June 20, 2023, at approximately 9:00 PM, the victim, identified as John Doe, reported being intruded upon by an unknown perpetrator outside a local convenience store. The victim stated that the perpetrator had forcefully entered the scene, ignoring warnings to leave the area immediately.\\nResponding officers arrived at the scene within minutes of the report and observed the victim looking visibly distressed. Officers immediately addressed the perpetrator, demanding that they leave the area before questioning the victim on the details of the incident.\\nCrime scene investigators were dispatched to the location and conducted a thorough examination of the area, collecting potential evidence such as surveillance footage, witness statements, and the victim's personal belongings. The investigation into the intrusion is ongoing, with efforts focused on locating the perpetrator and thwarting any future attempts.\",\n",
              "   'entities': {'Property_Crimes': [[95, 103]]}},\n",
              "  {'text': \"On June 20, 2023, at approximately 9:00 PM, the victim, identified as John Doe, reported being intruded upon by an unknown suspect outside a local convenience store. The victim stated that the suspect approached him and proceeded to enter his personal space, causing him to feel threatened and alarmed.\\n        Responding officers arrived at the scene within minutes of the report and observed the victim visibly shaken and distressed. Officers quickly assessed the situation and immediately attempted to locate the suspect in the area, but could not establish their identity.\\n        Crime scene investigators were dispatched to the location and conducted a thorough examination of the area, collecting potential evidence such as surveillance footage, witness statements, and the victim's personal belongings. The investigation into the intrusion is ongoing, with efforts focused on identifying the suspect and determining the motive for the attack.\",\n",
              "   'entities': {'Property_Crimes': [[95, 103]]}},\n",
              "  {'text': \"On June 20, 2023, at approximately 9:00 PM, the victim, identified as John Doe, reported being defrauded by an unknown perpetrator outside a local convenience store. The victim stated that the perpetrator had approached him offering to buy his phone but paid with a counterfeit bill. The perpetrator then fled the scene before the victim could alert the authorities.\\n        Responding officers arrived at the scene within minutes of the report and obtained a detailed account of what had happened. Officers then began interviewing witnesses in the area in an effort to gather more information about the perpetrator.\\n        Crime scene investigators were dispatched to the location and conducted a thorough examination of the area, collecting potential evidence such as surveillance footage, witness statements, and the victim's personal belongings. The investigation into the defrauding is ongoing, with efforts focused on identifying the perpetrator and establishing a motive for the attack.\",\n",
              "   'entities': {'Financial_Crimes': [[95, 104]]}},\n",
              "  {'text': \"On June 20, 2023, at approximately 9:00 PM, the victim, identified as John Doe, reported being defrauded by an unknown perpetrator. The victim stated that the perpetrator contacted him, posing as an official from his bank, and engaged him in a fake investment scheme before abruptly cutting off communication.\\n        Responding officers arrived at the scene within minutes of the report and attempted to contact the perpetrator. Further attempts to locate the perpetrator proved futile and a warrant for the perpetrator's arrest was issued by the court.\\n        Crime scene investigators were dispatched to the location to attempt to track the perpetrator's identity and acquire further evidence for the case. Upon further investigation, they uncovered multiple identical reports of fraud across the region. As such, the extent of the perpetrator's fraudulent activities began to come to light.\\n        The investigation into the case is ongoing, with efforts focused on identifying the perpetrator and bringing them to justice.\",\n",
              "   'entities': {'Financial_Crimes': [[95, 104]]}},\n",
              "  {'text': \"On August 10, 2023, at approximately 7:15 PM, the victim, identified as Jane Smith, reported being defrauded by an unknown suspect. The victim stated that the suspect had contacted her over the phone, falsely claiming to be from the local electricity board and asking for her bank account and personal information. When the victim refused to give out this information, the suspect abruptly hung up.\\n        Responding officers arrived at the victim's residence within minutes of the report and verified that the victim had been the target of fraud. Officers immediately began a thorough investigation into the identity of the suspect, tracking the phone number used in the call to a known criminal.\\n        The investigation is ongoing, with crime scene investigators examining all relevant evidence gathered in an effort to identify the suspect and determine the motive for their fraudulent act.\",\n",
              "   'entities': {'Financial_Crimes': [[99, 108]]}},\n",
              "  {'text': \"On January 23, 2037, the police were made aware of an ongoing case of money-laundering in the city. Information from a confidential informant suggested that a sophisticated criminal network was responsible for directing the laundering of large amounts of money by the use of various frauds and scams. During the investigation, undercover detectives were able to infiltrate the network and collect evidence, such as bank account information, emails, and transaction histories.\\n\\nThe case soon came to a head when the police moved in and conducted a series of raids on multiple suspected locations. Officers seized documents, computers, accounting records, and other contraband that implicate high ranking members of the organization. This evidence was integral in constructing a case against the criminals responsible for the money-laundering.\\n\\nThe individuals charged with the crime are currently awaiting trial and the investigation into the case is ongoing. Law enforcement authorities are working to uncover the full extent of the network's operations and uncover which banks and other financial institutions were unwittingly involved in the laundering scheme.\",\n",
              "   'entities': {}},\n",
              "  {'text': 'On June 20, 2023, at approximately 9:00 PM, a tip received by the FBI alleged that an individual identified as John Doe had laundered money through a local convenience store. Agents were dispatched to the location to investigate and soon uncovered substantial evidence of money laundering activities. This included records of suspicious financial transactions, documents linking Doe to the store, and surveillance footage that showed the individual carrying large amounts of cash on a regular basis.\\n        Responding agents further discovered evidence linking Doe to other individuals in the city who were also engaged in money laundering activities. All suspects were immediately taken into custody for questioning and aggressive investigation.\\n        Upon further interrogation, Doe confessed to laundering funds from a local criminal organization. He was charged with multiple counts of money laundering, which resulted in a long-term prison sentence. \\n        Crime scene investigators were also dispatched to the scene, and a thorough examination of the area resulted in the recovery of additional financial documents and potential evidence that will be analyzed in further detail. The investigation into the money laundering activities is ongoing.',\n",
              "   'entities': {'Financial_Crimes': [[124, 133]]}},\n",
              "  {'text': 'On December 13, 2025, at approximately 5:30 PM, the police were alerted to what appeared to be a money laundering operation taking place at a commercial building. Investigators quickly responded to the scene and identified the individual using the business premises to launder money as John Doe.\\n        Upon questioning, John Doe admitted to using the business to convert the proceeds of past criminal activities into legitimate funds. Officers seized a variety of documents, equipment, and financial records believed to be associated with the illegal transactions.\\n        Following protocol, police contacted the banking institutions associated with the suspect and determined that the money laundering operation had been ongoing for several weeks. The scope of the operation was further revealed by a review of bank records and other pertinent documents. \\n        The investigation is ongoing, with law enforcement coordinating with the appropriate financial regulators and other government agencies to ensure that all associated parties are brought to justice.',\n",
              "   'entities': {}},\n",
              "  {'text': \"On April 1, 2046, at around 2:30 PM, the victim, identified as William Benjamin, reported being scammed by an unknown perpetrator. According to the victim, the perpetrator approached him claiming to sell an expensive watch before taking his money and disappearing. \\n\\nThe victim reported the incident to the police station and officers immediately began their investigation, interviewing witnesses in the area for information. Crime scene investigators were dispatched to the victim's location and gathered a variety of evidence from the scene, such as security camera footage and personal documents. \\n\\nLaw enforcement analysts took over the investigation later that day and cross-referenced all available information in an effort to discern the perpetrator's true identity and uncover a motive for the scam. The investigation is ongoing, and officers remain on alert for any potential leads.\",\n",
              "   'entities': {'Financial_Crimes': [[96, 103]]}},\n",
              "  {'text': 'On November 2, 2023, at around 4:00 PM, the victim, identified as Jane Smith, reported being scammed by an unknown intruder via a phishing website. The victim said that the intruder had tricked her into providing personal information, including her social security number and credit card information, by posing as a legitimate business.\\n        Responding officers were dispatched to the scene moments after the report and collected all the evidence gathered by the victim. Officers interviewed the victim to gain a better understanding of the incident before directing her to the local cyber crime unit to assist with the investigation.\\n       Crime scene investigators reviewed the provided evidence and conducted a thorough examination of the website, hoping to uncover any additional clues that could lead to the perpetrator. The investigation is still in its early stages, but all efforts are being made to ensure that the culprit behind the scam is brought to justice.',\n",
              "   'entities': {'Financial_Crimes': [[93, 100]]}},\n",
              "  {'text': 'On April 26, 2023, at around 3:00 PM, the victim, identified as Jane Smith, reported being scammed by an unknown suspect. The victim stated that the suspect had contacted her over the phone, falsely claiming to be an employee of her bank and requesting personal information such as her credit card number and social security number. \\n\\nThe victim became suspicious and ended the call immediately, realizing she had been a victim of fraud. Responding officers were dispatched to the scene and attempted to contact the suspect before they were able to flee the area, but were unsuccessful. \\n\\nCrime scene investigators were called in to analyze the situation and search the surrounding area for any evidence that might be linked to the suspect. The investigation into the scam continues, with the priority of apprehending the suspect and preventing future fraud.',\n",
              "   'entities': {'Financial_Crimes': [[91, 98]]}},\n",
              "  {'text': \"On August 5, 2025, at approximately 7:00 PM, the victim, identified as Jane Doe, reported being swindled by a known fraudster. The victim stated that the fraudster had approached her in the weeks prior, promising a profitable investment in a newly founded business. Jane had handed over a significant amount of money, trusting the fraudster to deliver the promised return on investment, only to discover later that she had been deceived. \\n\\nResponding officers arrived at the scene shortly after the report and took an official statement from Jane. In addition, officers observed the victim displaying visible signs of distress and worked to ensure that she had sought out the necessary emotional support to cope with her experience.\\n\\nCrime scene investigators were dispatched to the location and began looking into the deception by tracking money transfers and reviewing the victim's financial records. Witnesses were questioned and the fraudster's photograph was shared with local authorities in an effort to locate and apprehend the perpetrator. The investigation into the swindling is ongoing, and further information will be released as it becomes available.\",\n",
              "   'entities': {'Financial_Crimes': [[96, 104]]}},\n",
              "  {'text': \"On April 5, 2076, at approximately 7:45 PM, the victim, identified as Jane Smith, reported being swindled by an unknown perpetrator. She stated that they had been scammed out of a large sum of money after being tricked into purchasing fake lottery tickets. \\nResponding officers arrived on the scene and interviewed the victim extensively, learning that the perpetrator had posed as an official lottery representative before making off with the money. \\nOfficers located and searched the victim's residence, uncovering paperwork and other documents alleged to be related to the crime. \\nCrime scene investigators were dispatched to the area to search for potential evidence and examine surveillance footage in the vicinity. The investigation into the swindle is ongoing, with efforts focused on identifying the perpetrator and recovering the stolen funds.\",\n",
              "   'entities': {'Financial_Crimes': [[97, 105]]}},\n",
              "  {'text': \"On April 24, 2027, at approximately 11:00 PM, the victim, identified as Jane Smith, reported being swindled by an unknown suspect. The victim stated that the suspect lured her into a business transaction that resulted in her losing a considerable sum of money.\\n        Responding officers arrived at the scene shortly after the report and determined that no physical altercation had occurred. The officers took the victim's statement and seized any records of the alleged transaction.\\n        Crime scene investigators were dispatched to the location and began an investigation into the swindling case. Witnesses in the area were interviewed and all possible evidence was collected for further analysis. The investigation is continued to review all information collected in order to identify the suspect and recover any stolen money.\",\n",
              "   'entities': {'Financial_Crimes': [[99, 107]]}},\n",
              "  {'text': 'On December 10, 2027, at approximately 4:15 PM, an anonymous tipster reported a case of suspected falsification of documents at a local bank. Responding officers arrived on the scene and uncovered evidence that supported the claims of the tipster. Upon further investigation, the officers learned that certain financial documents had been forged in order to pass audit inspections.\\n        Crime scene investigators were dispatched to the location and conducted a thorough examination of the documents in question. After collecting evidence, investigators identified a suspect in the case and tracked them to a nearby hotel.\\n        Upon questioning the suspect, they confessed to falsifying the documents and revealed the mastermind behind the operation. The investigation is ongoing, with further efforts placed on discovering the accomplices and discovering the motive behind the forgery.',\n",
              "   'entities': {}},\n",
              "  {'text': \"On June 20, 2023, at approximately 9:00 PM, the victim, identified as John Doe, reported being subjected to falsified documents by an unknown suspect. The victim stated that the suspect had presented fraudulent paperwork in the victim's name, which the victim discovered only after an extensive review.\\nResponding officers arrived at the scene within minutes of the report and spoke with the victim, who was understandably concerned about potential identity theft or other malicious intent. The officers noted the victim's description of the perpetrator and other details of the incident.\\nCrime scene investigators were dispatched to the location and collected any physical evidence such as documents, as well as interviewing potential eyewitnesses. The investigation into the fraud is ongoing, with efforts focussed on identifying the suspect and determining what their intent may have been.\",\n",
              "   'entities': {'Financial_Crimes': [[108, 117]]}},\n",
              "  {'text': 'On July 28, 2076, at around 3:45 PM, the complainant, identified as Jane Smith, alleged being a victim of someone falsifying documents. Jane reported that a business partner had created multiple false documents in order to manipulate the financial records of a company they co-owned.\\n\\nOfficers gathered statements from witnesses and interviewed the business partner in question, during which time they discovered several counterfeit documents and financial records. The case was forwarded to detectives for further investigation, with a primary focus on uncovering the true scale of the falsified documents and the money that had allegedly been misappropriated.\\n\\nCrime scene investigators performed an extensive search and review of all internal and external records, eventually leading to the discovery of additional forged documents. The detectives are currently working to identify any accomplices as well as all other victims of the falsification.',\n",
              "   'entities': {'Financial_Crimes': [[587, 596]]}},\n",
              "  {'text': 'On June 20, 2023, at approximately 9:00 PM, the victim, identified as John Doe, reported being concealed from the sight of an unknown assailant. The victim stated that the assailant had moved to obscure his view before fleeing the scene.\\n        Responding officers arrived at the scene within minutes of the report and observed the victim appearing to be unharmed. Officers immediately questioned the victim in regards to the whereabouts of the assailant and surveyed the surrounding area for any sign of the perpetrator.\\n        Crime scene investigators were dispatched to the location and conducted a thorough examination of the area, conducting a grid search for any potential clues or physical evidence left behind. The investigation into the concealment is ongoing, with efforts centered on tracking down the perpetrator and ascertaining their intent.',\n",
              "   'entities': {'Financial_Crimes': [[95, 104]]}},\n",
              "  {'text': \"On August 10, 2023, at approximately 6:45 PM, the victim, identified as Jane Doe, reported being victimized by an unknown suspect who had concealed a weapon. The victim stated that the suspect had approached her while she was walking on the side of the street and had raised the weapon before demanding her purse and other items of value.\\n        Responding officers arrived on the scene of the crime shortly after the report and observed the victim appearing to be in shock. Officers collected a description of the suspect and called for backup and a medical unit to provide assistance.\\n        Crime scene investigators were dispatched to the location to conduct a thorough examination of the area, collecting potential evidence such as CCTV footage, witness statements, and the victim's belongings. The investigation into the concealed weapon incident is ongoing, with efforts focused on identifying the suspect and gathering more information about the circumstances of the attack.\",\n",
              "   'entities': {'Financial_Crimes': [[138, 147], [829, 838]]}},\n",
              "  {'text': \"On May 15, 2025, at approximately 8:00 AM, the victim, identified as Jane Smith, reported being robbed by an unknown assailant as she was walking down a busy sidewalk. The victim stated that the suspect had concealed a firearm and approacher her from behind, using it to threaten her for her purse. After taking the victim's purse, the assailatn quickly fled the area on foot.\\nResponding officers arrived shortly afterward and began to canvass the area for possible witnesses. The victim was able to provide a detailed description of the assailant and their clothing, which officers used in their search. \\nCrime scene investigators were also dispatched to the location and began their investigation into the robbery. They examined the area for any physical evidence related to the robbery, including surveillance footage and possible fingerprints. The investigation is ongoing, and efforts are being made to locate the suspect and return the stolen property to the victim.\",\n",
              "   'entities': {'Financial_Crimes': [[207, 216]]}},\n",
              "  {'text': 'On October 8, 2021, at approximately 5:00 PM, the financial institution, identified as Bank of America, reported that funds had been misappropriated by an internal employee. The investigation conducted by the Bank revealed that the employee had been using his administrative access to funnel money from several accounts into his own.\\n        Bank officials contacted local law enforcement to report the incident and assist with the investigation into the embezzlement. Officers visited the accused employee’s home to question him and seize any assets that may have been gained through the misappropriation of funds.\\n        Detectives collected evidence from the employee’s residence including original documents, digital correspondences, and financial records related to the misappropriation of funds. They also obtained surveillance footage from the financial institution that showed the accused employee accessing the accounts and transferring funds. The investigation is ongoing as police work to identify all the accounts that may have been affected and determine how much money was stolen.',\n",
              "   'entities': {'Financial_Crimes': [[133, 148]]}},\n",
              "  {'text': \"On February 12, 2024, at approximately 3:30 PM, the victim, identified as Jane Doe, reported being misappropriated by an unknown suspect. The victim reported that the suspect had gained access to her online bank account and had transferred a sizable amount of money without her knowledge or consent. \\nResponding officers arrived at the scene within minutes of the report and took an official statement from the victim, confirming the incident. Officers also contacted the bank in question in an effort to determine the suspect's identity and the status of the funds. \\nCrime scene investigators were dispatched to the location to investigate, collecting digital evidence such as emails, screenshots, and other online activity. The investigation into the misappropriation is ongoing, with investigators working to identify the suspect and return the stolen funds to the victim.\",\n",
              "   'entities': {'Financial_Crimes': [[99, 114]]}},\n",
              "  {'text': \"On June 20, 2023, at approximately 9:00 PM, store employees reported to responding officers that an unknown individual had recently misappropriated a large sum of money from their registers. Upon further investigation, officers were able to locate store surveillance footage showing a suspect matching the employees' description, entering the store and making suspicious transactions.\\n        Forensic auditors were dispatched to the scene to identify any other suspicious activity, tracing the individual in question's activities throughout the store. Ultimately, they were able to determine that the suspect had misappropriated a total of $750 from the register.\\n        A warrant was issued for the suspect's arrest, and Crime Scene Investigators are currently attempting to condone their identity, with efforts focused on gathering more evidence to support the store's claim of theft.\",\n",
              "   'entities': {'Financial_Crimes': [[132, 147], [614, 629]]}},\n",
              "  {'text': \"On July 21, 2023, at approximately 7:30 PM, the victim, identified as Jane Smith, reported being extorted by an unknown assailant. The victim stated that the assailant threatened to reveal personal information if the victim failed to comply with the assailant's demands for money. \\n\\nResponding officers arrived at the scene within minutes of the report and conducted an immediate inquiry into the victim's allegations. Officers determined that the assailant had contacted the victim several months prior and demanded $20,000 in exchange for the incriminating information. \\n\\nCrime scene investigators were dispatched to the scene and built a timeline of events by collecting potential evidence such as emails, phone records, and the victim's financials. The investigation into the extortion is ongoing, with officers making efforts to identify the assailant and hold them accountable for their actions.\",\n",
              "   'entities': {'Financial_Crimes': [[97, 105]]}},\n",
              "  {'text': \"On January 25, 2021, at approximately 3:00 AM, the victim, identified as Jane Jones, reported being extorted by an unknown individual. The victim stated that the individual had contacted her via email, threatening to release sensitive personal information unless she transferred funds to a specified foreign bank account.\\n        Responding officers arrived at the scene shortly after the report and observed the victim to be in a state of distress. Officers conducted a thorough search of the victim's computer and mobile devices, determining the origination of the email with relative accuracy.\\n        Detectives Jointly assigned to the case and the internet crime unit initiated a cyber investigation, utilizing advanced techniques in order to identify the individual responsible for the extortion. The investigation is still ongoing, with efforts focused on identifying the perpetrator and recovering any funds transferred.\",\n",
              "   'entities': {'Financial_Crimes': [[100, 108]]}},\n",
              "  {'text': \"On June 20, 2023, at approximately 9:00 PM, the victim, identified as John Doe, reported being extorted by an unknown assailant. The victim stated that the assailant threatened to cause harm to him and his family if he failed to pay a large sum of money. Fearful of the consequences, the victim complied with the demands and handed over the money before the assailant fled the scene.\\n        Responding officers arrived at the scene and began to investigate the incident. Witnesses on the scene reported seeing the suspect flee on foot and were able to provide officers with a general description. A search was conducted in the area but the suspect remains at large.\\n        Crime scene investigators were dispatched to the location and examined the area for potential evidence, while detectives questioned the victim about the details of the case. The investigation into the extortion is ongoing, with efforts focused on identifying the assailant and recovering the victim's money.\",\n",
              "   'entities': {'Financial_Crimes': [[95, 103]]}},\n",
              "  {'text': \"On September 30, 2023, at approximately 5:15 PM, the victim, identified as Jane Doe, reported being manipulated by an unknown individual. The victim stated that the individual had offered her a friendship, which she accepted. They then began to communicate via text and phone, but the individual quickly began to pressure her into doing things against her will. \\n\\nResponding officers arrived at the scene shortly after the report was made and questioned the victim. Upon questioning, she revealed that the individual had taken advantage of her trusting nature to manipulate her into agreeing to his demands and requests. \\n\\nCrime scene investigators were dispatched to the location and examined the victim's text and phone records, as well as obtaining any evidence related to the incident. They are now searching for the individual in order to establish the motive for the manipulation. The investigation into the manipulation is still underway, with law enforcement doing their best to identify the individual responsible.\",\n",
              "   'entities': {'Financial_Crimes': [[100, 111]]}},\n",
              "  {'text': \"On June 20, 2023, at approximately 9:00 PM, the victim, identified as John Doe, reported being manipulated by an unknown perpetrator. The victim stated that the perpetrator had taken advantage of their trust, taking control of their financial data and using it without permission.\\nResponding officers arrived at the scene within minutes of the report and investigated the circumstances of the incident. Officers collected evidence including electronic records and conversations which had taken place between the victim and perpetrator.\\nCrime scene investigators were dispatched to the location and conducted a thorough examination of the victim's data, verifying the accuracy of the victim's account. The investigation into the manipulation is ongoing, with efforts focused on identifying the perpetrator and obtaining restitution for the victim.\",\n",
              "   'entities': {'Financial_Crimes': [[95, 106]]}},\n",
              "  {'text': \"On June 20, 2023, at approximately 9:00 PM, the victim, identified as John Doe, reported being manipulated by an unknown perpetrator. The victim stated that the perpetrator had used tactics of emotional manipulation to acquire sensitive information from him, leaving the victim feeling distressed and frightened. \\nResponding officers arrived at the scene within minutes of the report and observed the victim displaying visible signs of distress. Officers provided the victim with emotional support, as well as information for police-accompanied crisis services that could help the victim deal with the psychological effects of the manipulation.\\nCrime scene investigators were dispatched to the location and conducted a thorough examination of the area, collecting potential evidence such as witness statements, the victim's personal account, and the perpetrator's digital footprint. The investigation into the manipulation is ongoing, with efforts focused on identifying the perpetrator and establishing a motive for the attack.\",\n",
              "   'entities': {'Financial_Crimes': [[95, 106]]}},\n",
              "  {'text': \"On June 20, 2023, at approximately 9:00 PM, the victim, identified as John Doe, reported being bribed by an unknown person. The victim stated that the individual offered money in exchange for providing false testimony in a court hearing. Responding officers immediately began an investigation into the matter and requested security footage and additional witnesses from the scene.\\n        Crime scene investigators were dispatched to the location and conducted a thorough examination of the area, collecting potential evidence such as surveillance footage, witness statements, and the victim's personal belongings. Officers also gathered statements from people who had been in close proximity to the victim during the incident.\\n\\nThe investigation into the bribery is ongoing, with efforts focused on identifying the individual and determining the reason for the offer of money.\",\n",
              "   'entities': {'Financial_Crimes': [[95, 101]]}},\n",
              "  {'text': \"On August 7, 2025, at approximately 2:15 PM, the suspect, identified as Jane Doe, was taken into custody on suspicion of bribery. The initial investigation began when an anonymous informant reported that the defendant had recently attempted to bribe a government official in exchange for special privileges.\\n        When questioned by police, the defendant denied the allegations, but was unable to provide a factual alibi for the time the bribery was said to have taken place. Officers searched the defendant's residence and found large sums of cash as well as a journal containing dubious entries calling into question the legitimacy of these monies.\\n        Subsequent interrogations revealed details of several other similar instances where the suspect was accused of leveraging her wealth and influence to her advantage. Documents related to these incidents were collected from her office and are currently being used to corroborate the testimonies of witnesses.\\n        The defendant is facing multiple charges of bribery and will remain in police custody until he or she appears in court for a hearing. The investigation into the incident continues as detectives attempt to determine the extent to which the defendant may have been involved in other similar activities.\",\n",
              "   'entities': {}},\n",
              "  {'text': \"On July 5, 2023, at approximately 11:00 AM, the suspect, identified as Jane Doe, was encountered by law enforcement officers at a local supermarket. During the interaction, officers received information that the suspect had bribed a clerk at the store in order to receive discounted goods. The suspect was immediately taken into custody and transported to the police station for further questioning.\\n\\nWitnesses at the store identified the suspect and confirmed the bribery, describing how the suspect had offered money to the clerk in exchange for a discount on their purchase. The clerk admitted to accepting the bribe and was terminated from their position shortly thereafter.\\n\\nThe suspect was charged with bribery and is currently awaiting trial. Detectives are continuing to investigate the matter and are gathering additional evidence in an attempt to prove the suspect's guilt.\",\n",
              "   'entities': {'Financial_Crimes': [[224, 230]]}},\n",
              "  {'text': \"On June 15, 2023, at approximately 6:00 AM, local authorities received a report of a racketeering incident involving several business entities in the area. According to the reports, the businesses had all been extorted by a mysterious individual who had threatened to cause them financial harm if they did not comply with the demands. \\n\\nResponding officers quickly arrived on the scene and began to investigate the incident, with detectives questioning the owners and employees of the affiliated businesses. During the investigation, officers seized documents from the businesses that contained detailed information about the extortionist's activities. \\n\\nCrime scene investigators were also dispatched to the location and conducted a thorough search of the premises, collecting evidence such as surveillance footage, witness statements, and documents related to the extortion attempt. The investigation into the racketeering incident is ongoing, with attempts to identify the extortionist and determine a motive behind the attack.\",\n",
              "   'entities': {}},\n",
              "  {'text': \"On April 14, 2021, at approximately 6:00 PM, the victim, identified as Jane Doe, reported being racketeered by an unknown suspect. The victim stated that the suspect promised her a legitimate job injecting pharamceuticals, but upon arriving for her first day of employment, she realized she had been deceived. The suspect then demanded payment from the victim for her release which she was unable to provide, leading to her being held against her will and threatened if she did not submit to the suspect's demands.\\n        Responding officers arrived at the scene shortly thereafter and located the suspect. He was arrested and charged with racketeering and kidnapping and was taken into custody by local law enforcement authorities. \\n        Upon further investigation, it was determined that the suspect had been involved in a similar case in the past and was still under investigation for his previous criminal activities. The victim took time to recover from the ordeal and was connected to various victim support groups and services to aid in her recovery. Investigation into the suspect's activities is ongoing, with efforts focused on identifying any further victims of racketeering.\",\n",
              "   'entities': {'Financial_Crimes': [[96, 107]]}},\n",
              "  {'text': \"On August 17, 2023, at approximately 4:00 PM, the victim, identified as Jane Doe, reported being racketeered by a known suspect. The victim stated that the suspect had threatened them with financial harm, demanding a sum of money in exchange for leaving them alone.\\n        Responding officers arrived at the scene shortly after the report and interviewed the victim to determine the extent of the violation. Officers were able to identify the suspect through the victim's description, as well as previous contacts with law enforcement.\\n        Crime scene investigators were dispatched to the residence and conducted a full search, collecting records and items of possible evidence related to the racketeering. The investigation into the incident is ongoing, with detectives attempting to locate and apprehend the suspect, as well as verify the initial motive of the crime.\",\n",
              "   'entities': {'Financial_Crimes': [[97, 108]]}},\n",
              "  {'text': \"On June 20, 2023, at approximately 9:00 PM, the suspect, identified as John Doe, was spotted attempting to evade police officers in a high-speed vehicle chase down Main Street. Officers had received reports of the suspect being involved in a suspected criminal activity earlier that same day, and had been actively searching for him in the area. \\n\\nThe chase lasted for approximately 20 minutes, with the suspect managing to elude capture by successfully navigating a series of alleys and back roads. Crime scene investigators later obtained images from a nearby traffic camera that showed the suspect abandoning the vehicle and fleeing on foot.\\n\\nResponding officers formed a search party and began searching the surrounding area for the suspect. After several hours of searching, the suspect was eventually apprehended and taken into custody without incident.\\n\\nThe investigation into the suspect is ongoing, with efforts focused on establishing the suspect's connection to the previously reported criminal activity.\",\n",
              "   'entities': {}},\n",
              "  {'text': \"On June 20, 2023, at approximately 9:00 PM, the victim, identified as John Doe, reported being evaded by an unknown perpetrator as he exited a local restaurant. The victim stated that the perpetrator had been following him since he left his apartment earlier that day and tried to block his path as he left the restaurant. The perpetrator then fled the scene before the victim could catch his name or description.\\n        Responding officers arrived at the scene within minutes of the report and observed the victim visibly shaken and with no immediate sign of injury. Officers immediately began canvassing the area for potential witnesses and possible footage of the perpetrator. \\n        Crime scene investigators were then dispatched to the location to conduct a thorough examination of the area, collecting potential evidence such as surveillance footage, witness statements, and the victim's personal belongings. The investigation into the evading incident is ongoing, with efforts focused on identifying the perpetrator and establishing a motive for the attempted attack.\",\n",
              "   'entities': {'Financial_Crimes': [[95, 101]]}},\n",
              "  {'text': 'On November 1, 2022, at around 9:30 PM, an individual identified as Jane Doe was reported to have evaded from police pursuing her in a high-speed chase. Officers on the scene attempted to pull the suspect over for speeding before a pursuit ensued. The chase lasted for nearly twenty minutes through four different jurisdictions, finally coming to an end after the suspect managed to lose the officers in a residential area.\\n\\nCrime scene investigators were summoned and performed a search of the area. Various pieces of evidence were collected such as tire treads, debris, and a trace of potential DNA. Still, the suspect was nowhere to be found until the following day when Jane Doe was located and apprehended. The investigation into the evasion is ongoing, with investigators trying to determine why the suspect attempted to elude the officers.',\n",
              "   'entities': {'Financial_Crimes': [[98, 104]]}},\n",
              "  {'text': \"On June 20, 2023, at approximately 9:00 PM, the victim, identified as Jane Doe, reported being cheated by an unknown perpetrator outside a local marketplace. The victim stated that the perpetrator offered her a fraudulent product at an exorbitant price and refused to provide a refund when the item did not work as promised.\\n        Responding officers arrived at the scene within minutes of the report and observed the victim displaying signs of distress. Officers provided her with emotional support and launched an investigation into the incident.\\n        Crime scene investigators conducted inquiries with the local shop-keepers and collected witness statements. Forensic analysts also examined the transaction documents for any signs of tampering or forgery. The investigation into the cheating is ongoing, with efforts focused on uncovering the perpetrator's identity and intent.\",\n",
              "   'entities': {'Financial_Crimes': [[95, 102]]}},\n",
              "  {'text': 'On June 20, 2023, at approximately 9:00 PM, the victim, identified as John Doe, reported being cheated by an unknown fraudster. The victim claimed that the fraudster had convinced him to invest a substantial amount of money in a questionable venture before absconding with the funds.\\n        Responding officers arrived at the scene within minutes of the report and interviewed the victim for further information regarding the transaction. Officers searched the area for potential suspects but were unable to locate the fraudster. \\n        Crime scene investigators were also dispatched to the location and conducted a thorough examination of the case, collecting any evidence that might assist in identifying the responsible party. In addition, detectives have launched an in-depth investigation to uncover any further leads or clues related to the incident. The investigation into the case of fraud is ongoing, with efforts focused on apprehending the suspect and retrieving the stolen funds.',\n",
              "   'entities': {'Financial_Crimes': [[95, 102]]}},\n",
              "  {'text': \"On June 16, 2023, at approximately 2:00 PM, the victim, identified as Jane Smith, reported being cheated out of money by an unknown assailant outside a department store. The victim stated that the assailant approached her, claiming to provide discounted items for sale before inexplicably leaving with the cash she had given him without providing any goods in return.\\n        Responding officers arrived at the scene quickly after the report and interviewed the victim. Officers observed the victim to be visibly distressed over the event and provided emotional support until investigators were able to gather further information.\\n        Crime scene investigators were dispatched to the location and conducted a thorough examination of the area, collecting potential evidence such as surveillance footage, witness statements, and the victim's personal belongings. The investigation into the cheating incident is ongoing, with efforts focused on identifying the assailant and filing criminal charges.\",\n",
              "   'entities': {'Financial_Crimes': [[97, 104]]}},\n",
              "  {'text': \"On July 4, 2023, at approximately 5:00 PM, the victim, identified as Jane Smith, reported a case of forgery. She stated that she had recently received a notification that someone had used her personal information to open a fraudulent bank account in her name. \\n\\nThe victim informed responding fraud officers that the account had been used to withdraw large amounts of money from a local ATM just days prior. The officers contacted the bank and secured documentation showing the other person's access to the victim's financial information.\\n\\nCrime scene investigators were dispatched to the scene and conducted a thorough investigation into the forgery. They obtained surveillance footage and reviewed any pending transactions, as well as interviewing witnesses who were at the ATM during the time the fraudulent activity occurred. The investigation into the forgery is ongoing, with efforts focused on identifying the perpetrator and recovering the stolen funds.\",\n",
              "   'entities': {}},\n",
              "  {'text': \"On January 25, 2024, at approximately 1:45 PM, the victim, identified as Jane Doe, reported that she had been the victim of a forged document transaction. She stated that a stranger had presented her with an altered document, and despite reviewing the document closely, she had been unable to detect the discrepancies.\\nResponding officers interviewed witnesses present at the transaction and were able to confirm the victim's account. Officers then launched an investigation into the forged document, collecting evidence from the victim's home and interviewing other individuals potentially involved in the crime.\\nThe officers remained on the scene for further investigation and were able to secure video surveillance of the suspect in the area. Further forensic analysis revealed that the document had been altered with sophisticated software, making it difficult to detect the discrepancies. The investigation into the fraudulent transaction is ongoing, with efforts focused on identifying the suspect and collecting further evidence.\",\n",
              "   'entities': {'Financial_Crimes': [[126, 132], [484, 490]]}},\n",
              "  {'text': \"On April 25, 2022, at approximately 5:00 PM, the victim, identified as Jane Doe, reported being a victim of forgery. She stated that she received notification from the bank informing her that several unauthorized withdrawals had been made from her personal account.\\nThe victim also noted that she had no knowledge of the transaction, and that her account information had been compromised in some way. Responding officers examined the victim's bank records and determined that the perpetrator had used altered documents to gain access to her account. \\nCrime scene investigators were dispatched to the victim's residence and collected potential evidence such as the forged documents, detailed records of the transaction, and the victim's banking information. The investigation into the forgery is ongoing, with efforts focused on identifying the perpetrator and taking actions to prevent future fraud.\",\n",
              "   'entities': {'Financial_Crimes': [[664, 670]]}},\n",
              "  {'text': \"On April 7, 2028, at approximately 6:30 PM, the victim, identified as Jane Smith, reported having her identity misused by an unknown suspect. The victim stated that she received an alert from her bank regarding fraudulent transactions that had been made in her name. She immediately contacted the bank, only to find out that the suspect had utilized her personal information to access her accounts.\\n        Responding officers arrived at the scene shortly after the report was made and interviewed the victim to further assess the situation. Officers also contacted the financial institution to verify the information provided and obtained surveillance footage of the suspect perpetrating the crime.\\n        A thorough investigation was conducted to identify the suspect and determine their motive. Investigators searched for witnesses or additional security footage that may have captured the perpetrator's identity or provide clues to their whereabouts. The investigation remains open as further efforts are being made to bring the suspect to justice.\",\n",
              "   'entities': {'Financial_Crimes': [[111, 118]]}},\n",
              "  {'text': \"On June 20, 2023, at approximately 9:00 PM, the victim, identified as John Doe, reported being misused by an unknown individual. The victim stated that the perpetrator deceived him by claiming to represent a legitimate business in order to gain access to his personal information.\\n        Responding officers launched an investigation and tracked down the address associated with the perpetrator. Upon arrival, they discovered the perpetrator had been manipulating other victims, using their personal information to commit financial fraud.\\n        Crime scene investigators were dispatched to the location and conducted a thorough examination of the area, collecting potential evidence such as surveillance footage, witness statements, and documents containing the victim’s personal information. The investigation into the misuse is ongoing, with efforts focused on determining the financial repercussions and identifying any other victims of the perpetrator's fraud.\",\n",
              "   'entities': {'Financial_Crimes': [[95, 102]]}},\n",
              "  {'text': \"On June 20, 2023, at approximately 9:00 PM, the victim, identified as John Doe, reported being misused by an unknown perpetrator. The victim stated that the perpetrator had taken advantage of his trust, misappropriating his personal information for financial gain.\\nResponding officers arrived at the scene shortly after the report was made and spoke with the victim in detail, obtaining a full account of what had occurred. Officers immediately used the information provided to launch an expansive investigation into the misuse of the victim's information, requesting assistance from nearby law enforcement agencies and coordinating a team to pursue leads.\\nCrime scene investigators were quickly dispatched to the location to conduct a thorough examination of the area and collect any digital and physical evidence related to the misuse. Investigators have continued to work around the clock to identify the perpetrator and bring them to justice.\",\n",
              "   'entities': {'Financial_Crimes': [[95, 102]]}},\n",
              "  {'text': \"On January 8, 2023, at approximately 11:00 PM, the victim, identified as Sally Smith, reported having her computer hacked by an unknown individual. The victim stated that she noticed suspicious activity on her personal laptop shortly after receiving an email from an unfamiliar address. Responding officers arrived shortly thereafter and observed that the victim's laptop had been taken over and was displaying a message demanding payment in exchange for regaining access.\\n\\nOfficers were able to trace the email account to a remote server, however, the identity of the hacker remained unknown. As a precaution, additional security measures were implemented to protect the victim's devices and networks from further harm. \\n\\nCrime scene investigators were dispatched to the scene to look for physical evidence, such as data storage devices, and conduct a thorough examination of the computer system. The investigation into the hacking is ongoing, with efforts focused on identifying the hacker and recovering any stolen data.\",\n",
              "   'entities': {'Cybercrimes': [[115, 121]]}},\n",
              "  {'text': \"On June 20, 2023, at approximately 9:00 PM, the victim, identified as Jane Doe, reported being hacked by an unknown perpetrator. The victim stated that previously unknown malicious software had been installed onto her computer, allowing the perpetrator to gain full access to her data.\\n        Responding officers arrived at the scene shortly after the report and noticed that the victim's computer had been tampered with. Officers immediately began a forensic investigation to determine how exactly the perpetrator had gained access to the data.\\n        Crime scene investigators conducted an examination of the computer and identified various forms of malicious software which had been used to breach the device's security. In addition, they also discovered evidence of stolen data and methods used to obscure the perpetrator's identity. The investigation into the hacking is ongoing, with efforts currently being put towards identifying the perpetrator and apprehending them.\",\n",
              "   'entities': {'Cybercrimes': [[95, 101]]}},\n",
              "  {'text': \"On June 20, 2023, at approximately 9:00 PM, a local business reported being the victim of a cyber attack. An unknown hacker had infiltrated the business's computer systems, accessing confidential data and compromising customer information.\\n        Responding officers assessed the extent of the damage caused by the attack and enabled organizations such as the FBI and Department of Homeland Security to begin their investigations. An analysis of the attack revealed the network vulnerabilities that were exploited by the hacker. \\n        Crime scene investigators were dispatched to the business's physical location and took control of the computers to collect evidence and analyze the attack. They also interviewed staff, customers, and vendors to gain insight into the hacker’s motives. As of now, the investigation into the hack is still ongoing, with efforts focused on identifying and apprehending the hacker.\",\n",
              "   'entities': {}},\n",
              "  {'text': 'On August 10, 2023, at around 4:00 PM, the victim, identified as Jane Doe, reported being phished by an unknown offender. According to the victim, the offender sent her multiple emails pretending to be from a reputable company in order to gain access to her bank account information. The victim alerted the authorities immediately after spotting the deception.\\n        Responding officers asked the victim for further details about the emails and the suspect. Subsequently, the officers warned her to avoid opening suspicious emails and provided her with cyber security best practices.\\n        Crime scene investigators collected the emails and digital evidence as part of the investigation, and launched a manhunt for the offender. They analyzed the emails and other evidence in order to identify the suspect and eventually trace back her identity. The investigation into the phishing incident is still underway, and all available resources are being used to apprehend the suspect and bring her to justice.',\n",
              "   'entities': {'Cybercrimes': [[90, 97]]}},\n",
              "  {'text': \"On June 8, 2025, at approximately 7:30 PM, the victim, identified as Jane Smith, reported being phished by an unknown suspect. The victim stated that the suspect had sent her a convincing email containing a link to a malicious website. Once clicked, the website prompted her to input sensitive information, such as her credit card number and bank account credentials. \\nResponding officers arrived at the scene shortly after the incident was reported and provided the victim with the necessary information to protect her accounts from further fraudulent activity. Officers also took witness statements from the victim's family and acquaintances in an effort to identify the suspect.\\nCrime scene investigators were dispatched to the scene and conducted an extensive investigation in order to identify the suspect and gather additional evidence. They interviewed victims of similar phishing attempts, collected digital evidence from the malicious website, and collaborated with other law enforcement agencies to create a profile of the suspect. The investigation into the phishing is ongoing.\",\n",
              "   'entities': {'Cybercrimes': [[96, 103]]}},\n",
              "  {'text': 'On June 20, 2023, at approximately 9:00 PM, the victim, identified as John Doe, reported being phished by an unknown individual online. The victim stated that the individual had successfully tricked them into entering their personal information into what appeared to be a legitimate website.\\n        Responding officers quickly identified the location of the fraudulent website and contacted the hosting organization in order to disable the website. Officials from the hosting organization confirmed that the site was a sophisticated phishing operation and had been active for over a week. \\n        Crime scene investigators were dispatched to identify the true origin of the fraudulent website and collect evidence of the phishing attempt. The investigation into the phishing is ongoing, with efforts focused on identifying the perpetrators and recovering any stolen data.',\n",
              "   'entities': {'Cybercrimes': [[95, 102]]}},\n",
              "  {'text': \"On June 20, 2023, at approximately 9:00 PM, the victim, identified as John Doe, reported having his data stolen by an unknown perpetrator. According to the victim, the perpetrator had gained access to his computer remotely and stolen information without his knowledge or permission.\\n        Responding officers arrived at the scene within minutes of the report and conducted an initial assessment of the victim's computer. Observers noted that the perpetrator had created a back door to the network allowing them access to the victim's data and sensitive files. Officers immediately began to collect digital evidence for processing and investigation.\\n        Crime scene investigators were dispatched to the location and seized the victim's computer and other equipment for further investigation. Additionally, the investigators interviewed the victim and other witnesses in an effort to gain possible leads in identifying the perpetrator and their motives for the theft. The investigation into the stolen data is ongoing.\",\n",
              "   'entities': {}},\n",
              "  {'text': \"On June 20, 2023, at approximately 9:00 PM, the victim, identified as John Doe, reported having their data stolen by an unknown individual. The victim stated that they noticed unauthorized access to their system shortly after being sent a suspicious email from an unknown sender.\\n        Responding officers arrived at the scene within minutes of the report and reviewed the victim's log files, which confirmed their suspicions. Officers immediately contacted technical experts to do an in-depth analysis of the system in order to accurately trace the origin of the breach.\\n        Crime scene investigators were dispatched to the location and conducted a thorough examination of the system, collecting potential evidence such as digital storage files and debug logs. The investigation into the data theft is ongoing, with efforts focused on identifying the perpetrator and accessing the stolen information.\",\n",
              "   'entities': {}},\n",
              "  {'text': \"On July 5, 2023, at approximately 3:30 PM, the victim, identified as Jane Smith, reported having personal data stolen by an unknown hacker. The victim stated that the hacker accessed her computer remotely and copied and transferred sensitive information to an unknown location before disconnecting from the machine.\\n        Responding officers arrived at the scene within minutes of the report and questioned the victim to gain further insight into the attack. Officers immediately began to trace the source of the hack and requested assistance from the cybercrime division of the police to investigate further.\\n        Crime scene investigators were dispatched to the location and conducted an inspection of the victim's computer, analyzing the system for evidence of the data breach. The investigation into the theft of data is ongoing, with efforts focused on identifying the hacker and retrieving the stolen information.\",\n",
              "   'entities': {}},\n",
              "  {'text': \"On June 20, 2023, at approximately 9:00 PM, the victim, identified as John Doe, reported being cyberbullied by an unknown individual. The victim stated that he had been receiving threatening messages and images on a social media account for weeks. Unfortunately, the victim was unable to provide any information about the sender to the police.\\n\\nResponding officers were sent to the victim's address and took a detailed statement of the events leading up to the cyberbullying. The victim was then advised to block the account in order to prevent further communication and distress. \\n\\nCrime scene investigators followed up on the report and conducted an extensive digital investigation, collecting data from the victim's social media accounts, computer equipment, and other online activities. Law enforcement also provided online safety tips and resources to the victim during the investigation of the cyberbullying, in order to help prevent any further harm. The investigation into the incident is ongoing, with efforts focused on identifying and apprehending the perpetrator.\",\n",
              "   'entities': {'Cybercrimes': [[95, 107]]}},\n",
              "  {'text': \"On July 2, 2023, at approximately 11:00 AM, the victim, identified as Jane Doe, reported being cyberbullied by an unknown perpetrator. The victim stated that she had been receiving threatening messages over the internet for several weeks prior to the report.\\n\\nResponding officers arrived at the scene and initiated an investigation into the cyberbullying incident. Utilizing the technical resources available to the department, the investigators traced the origin of the messages, pinpointing the location of the suspect. Questioning those in the suspect's vicinity revealed a possible identity for the perpetrator.\\n\\nCrime scene investigators were dispatched to the location and collected evidence such as electronic messages, personal accounts, and screenshots of messages posted online. Due to the complexity of the incident, cyber crime specialists were also called in to analyze the evidence and provide insight on the cyberbullying case. The investigation into the cyberbullying is ongoing, with efforts focused on confirming the suspect's identity and obtaining digital evidence to support the charges.\",\n",
              "   'entities': {'Cybercrimes': [[95, 107]]}},\n",
              "  {'text': \"On March 3,2031, at approximately 10:45 AM, the victim, identified as Jane Doe, reported being cyberbullied by an unknown suspect. The victim stated that the suspect had been sending her threatening and harassing messages through a social media platform for the past month.\\n        Responding officers conducted an investigation of the incident on the same day and interviewed witnesses who were familiar with the victim's social media accounts. The cyberbullying activity was confirmed and officers identified the perpetrator as well as the electronic devices used.\\n        The police subsequently contacted the suspect, warned him of the criminal nature of his activities, and warned him that further cyberbullying activities may lead to criminal charges. Officers interviewed the suspect and established a motive for the cyberbullying before submitting the findings to the prosecutor's office.\\n        The investigation is ongoing and further action is pending the prosecutor's decision.\",\n",
              "   'entities': {'Cybercrimes': [[95, 107]]}},\n",
              "  {'text': \"On September 10, 2024, at approximately 4:30 PM, the victim, identified as Jane Smith, reported being spoofed by an unknown assailant. The victim claimed that the assailant contacted her via phone and, posing as a member of a major financial institution, requested personal details such as her social security number and banking pin code. The victim was initially unaware that the call was a scam and provided the requested information to the assailant prior to realizing that she had been spoofed.\\n        After discovering the deception, the victim contacted local authorities to report the incident. Officers took the statement and launched an investigation, gathering evidence such as cell phone logs, call data records, and other identifying details. Unfortunately, the offender's identity remains unknown, though detectives are actively exploring all leads in an effort to bring them to justice.\",\n",
              "   'entities': {'Cybercrimes': [[102, 109], [490, 497]]}},\n",
              "  {'text': \"On December 4, 2023, at approximately 4:00 AM, the victim, identified as Jane Doe, reported being spoofed by an unknown perpetrator. The victim stated that the perpetrator called her landline, pretending to be an employee from her bank, and asked her to provide her credit card information. After strategically delaying her response, the victim realized she was being targetted by a scam and hung up the call. \\n        Responding officers arrived at the scene and examined the phone log to confirm the victim's account. Officers provided the victim with security prevention tips and filed a report about the incident. \\n        Crime scene investigators were dispatched to the location and spoke with the nearby neighbors to see if the perpetrator could be identified. The investigation into the spoofing is ongoing, with efforts focused on uncovering the identity of the perpetrator and preventing similar attacks.\",\n",
              "   'entities': {'Cybercrimes': [[98, 105]]}},\n",
              "  {'text': \"On June 20, 2023, at approximately 9:00 PM, the victim, identified as John Doe, reported being spoofed by an unknown perpetrator. The victim stated that the perpetrator had managed to gain access to his personal accounts and information without his consent.\\nResponding officers arrived at the scene within minutes of the report and launched an investigation into the incident. Evidence suggested that the perpetrator had managed to exploit a vulnerability in the victim's network security, allowing them to enter and manipulate the victim's accounts and data.\\nCrime scene investigators were dispatched to the location and conducted a thorough examination of the victim's systems, collecting potential evidence such as logs, screenshots, and access logs. The investigation into the spoofing is ongoing, with efforts focused on identifying the perpetrator and preventing future occurrences.\",\n",
              "   'entities': {'Cybercrimes': [[95, 102]]}},\n",
              "  {'text': \"On June 20, 2023, at approximately 9:00 PM, the victim, identified as John Doe, reported being breached by an unknown perpetrator. The victim stated that the perpetrator had gained unauthorized access to the victim's electronic device and had gained access to sensitive data before exiting the system.\\nResponding officers arrived at the scene within minutes of the report and conducted a preliminary investigation to determine the nature of the breach. Officers compiled a list of potential evidence and activated the proper corrective measures to ensure that the system involved was secure and all data was safely encrypted. \\nCrime scene investigators were later dispatched to the location and conducted a thorough examination of the system's activity logs and digital records. An extensive review of the evidence led to the traceback of the perpetrator, who was later identified and arrested. The investigation yielded significant evidence of criminal activity and the perpetrator is currently awaiting trial.\",\n",
              "   'entities': {'Cybercrimes': [[95, 103]]}},\n",
              "  {'text': \"On June 20, 2023, at approximately 9:00 PM, the victim, identified as John Doe, reported being breached by an unknown intruder in his home. The victim stated that the intruder had gained access to his residence through a broken window on the ground floor, shattering the glass and unlocking the door to his home.\\n        Responding officers arrived at the scene within minutes of the report and surveyed the premises for evidence of the breach. Officers discovered the broken window and found damage to several interior doors in the victim's residence, quickly confirming the victim's story.\\n        Crime scene investigators were dispatched to the location and conducted a thorough examination of the area, collecting potential evidence such as footprints, fingerprints, and potential surveillance footage of the intruder entering and leaving the premises. The investigation into the breach is ongoing, with efforts focused on identifying the intruder and determining their motivation for the attack.\",\n",
              "   'entities': {'Cybercrimes': [[95, 103]]}},\n",
              "  {'text': 'On March 5, 2021, at approximately 7:00 AM, the victim, identified as Jane Smith, reported being breached by an unknown individual. The victim stated that the intruder entered her residence through an unlocked window and proceeded to search through her belongings.\\n        Responding officers arrived at the scene shortly afterward and observed the victim expressing considerable distress. Officers immediately secured the premises and called for investigative backups to search for potential evidence.\\n        Crime scene investigators arrived at the scene and began a detailed examination of the residence, gathering evidence such as fingerprints and surveillance footage. The investigation into the breach is ongoing, with efforts focused on identifying the perpetrator and establishing a motive for the intrusion.',\n",
              "   'entities': {'Cybercrimes': [[97, 105]]}},\n",
              "  {'text': 'On January 5, 2023, at approximately 3:00 PM, the victim, identified as Jane Doe, reported being doxxed by an unknown assailant online. The victim indicated that the assailant published personal information about them, including their address and phone number, on multiple social media sites. \\n        Responding officers interviewed the victim and captured all of the doxxing posts as evidence. Experts from the Cybercrime Division were brought in to assess the situation, and were able to trace the posts to a suspect whose profile matched the description given by the victim.\\n        When officers tracked down the suspect, they conducted a search of the premises and found evidence linking them to the doxxing. The suspect was subsequently arrested and taken into custody for further questioning. The investigation into the doxxing is ongoing, with efforts focused on understanding the motive behind the attack.',\n",
              "   'entities': {'Cybercrimes': [[97, 103]]}},\n",
              "  {'text': 'On June 20, 2023, at approximately 9:00 PM, the victim, identified as John Doe, reported being doxxed by an unknown perpetrator on various social media platforms. The victim stated that the perpetrator had posted personal identifying information, such as place of residence, financial records, and contact information to the profiles and had created a hashtag associated with their name in an effort to spread the information widely.\\n        Responding officers arrived at the scene and logged all the evidence related to the case, including screenshots of the doxxing posts. The officers also provided initial support to the victim, informing them of the dangers of having their personal information posted online.\\n        Crime scene investigators were dispatched to the location and conducted a thorough examination of the online profiles, collecting potential evidence in the form of witness statements and comments related to the posts. The investigation into the doxxing is ongoing, with efforts focused on identifying the perpetrator and understanding their intention behind the attack.',\n",
              "   'entities': {'Cybercrimes': [[95, 101]]}},\n",
              "  {'text': \"On July 10, 2023, at approximately 6:00 PM, the victim, identified as Jane Smith, reported being doxxed by an unknown perpetrator. The victim stated that she had been receiving threatening messages from the perpetrator for weeks before the incident, although she was unable to determine the perpetrator's identity or motivation.\\n        Responding officers arrived at the scene shortly after the complaint was made and proceeded to collect any additional evidence present at the location, including digital devices and the victim's personal belongings. Officers then initiated an investigation into the doxxing, attempting to determine the perpetrator's identity and reasoning behind the malicious act.\\n        Over the course of the ensuing weeks, an extensive investigation was conducted in order to identify the perpetrator, leveraging the efforts of digital forensics specialists as well as other law enforcement agencies.  Ultimately, the perpetrator was identified and apprehended by law enforcement, and charged with multiple counts of harassment and intimidation.\",\n",
              "   'entities': {'Cybercrimes': [[97, 103]]}},\n",
              "  {'text': \"On July 10,2023, at approximately 9:30 PM, the victim identified as Jane Smith reported being affected by malicious software distributed by an unknown source. The victim stated that the software had been installed without their consent through various online platforms, allowing hackers to gain unauthorized access to her data and financial information. \\n\\nResponding officers arrived at the scene within minutes of the report and conducted a thorough examination of the victim's computer systems. Officers observed visible signs of malicious software, including malware code, data exfiltration, and unauthorized access attempts. Officers immediately called for technical assistance and provided initial first aid until technicians arrived to safely remove the malware. \\n\\nCrime scene investigators were dispatched to the victim's location and conducted a thorough examination of the computer systems, collecting potential evidence such as system logs, source code, and malicious files. The investigation into the malware distribution is ongoing, with efforts focused on identifying the source and establishing a motive for the attack.\",\n",
              "   'entities': {}},\n",
              "  {'text': \"On June 20, 2023, at approximately 9:00 PM, the victim, identified as John Doe, reported having been victimized by an unknown perpetrator who distributed malware. The malware was installed without the victim's knowledge or consent before disabling his computer system and encrypting his files.\\n        Responding officers arrived at the scene within minutes of the report and observed the victim in a state of distress. Officers immediately pulled his files from the cloud and offered to assist in restoring the victim's computer system, however the malware had already caused permanent damage to his computer's hard drive.\\n        Crime scene investigators were dispatched to the location and conducted a thorough examination of the computer system, collecting potential evidence such as malware code and details on how it was distributed. The investigation into the distribution of malware is ongoing, with efforts focused on tracking down the perpetrator’s identity and preventing similar attacks in the future.\",\n",
              "   'entities': {'Cybercrimes': [[142, 161]]}},\n",
              "  {'text': 'On June 20, 2023, at approximately 9:00 PM, the victim, identified as John Doe, reported having distributed malware to unsuspecting victims as part of his latest scheme. The victim admitted to having previously sent malicious spam emails to hundreds of addresses, resulting in payment details and personal data being stolen.\\n        Responding officers arrived at the scene to gather further information and observed the victim displaying visible signs of stress and anxiety. Officers immediately called for forensic assistance and questioned the victim about his involvement in the case.\\n        Crime scene investigators ran a series of technical tests and collected various pieces of evidence, such as computer hard drives and records of the malicious emails sent. The investigation into the distributed malware is ongoing, with efforts focused on identifying potential victims and tracking down the stolen goods.',\n",
              "   'entities': {'Cybercrimes': [[96, 115], [795, 814]]}},\n",
              "  {'text': \"On April 26, 2025, at around 1:30 PM, the victim, identified as Jan Smith, reported experiencing numerous cyberattacks resulting in their online accounts being hijacked. The victim stated that they had their banking, email, and social media accounts illegally accessed by a malicious actor.\\n        Security specialists were deployed to investigate the incident and they were able to track the criminal’s activity back to an IP address located in a foreign country. Further investigation revealed evidence that the hacker had used advanced techniques to gain access to the victim's accounts. \\n        In response to the threat, the victim's accounts were suspended, and the security specialists implemented new security protocols and passwords to ensure that the accounts were secure. An inter-agency task force was also created to investigate the incident, with a focus on identifying the perpetrator and recovering any stolen assets. The investigation into the hijacking of the victim's accounts is ongoing.\",\n",
              "   'entities': {}},\n",
              "  {'text': \"On April 23, 2025, at approximately 7:00 PM, the victim, identified as Jane Smith, reported that her online accounts had been hijacked by an unknown perpetrator. The victim stated that the perpetrator had gained access to her accounts by correctly guessing her security answers, allowing them to change the passwords and prevent her from accessing her accounts.\\n        Responding officers arrived at the scene and noted the victim's frustration with the situation, providing guidance on reporting the issue to the appropriate service providers. The officers worked with the victim to temporarily reset the passwords to her accounts, restoring access while ensuring the new password was more secure.\\n        Cybercrime investigators were dispatched to the location to investigate the potential security breach. Through their examination of the evidence, they were able to accurately pinpoint the source of the hijack and trace it back to a malicious third-party website. The investigation is ongoing, with efforts focused on identifying the hacker and ensuring the stolen information is secured.\",\n",
              "   'entities': {}},\n",
              "  {'text': 'On August 18, 2023, at approximately 7:00PM, the victim, identified as Jane Doe, reported her online accounts having been hijacked by an unknown suspect. The victim stated that she received suspicious emails and text messages shortly after logging into her social media accounts that evening, leading her to believe that someone had gained unauthorized access to her accounts.\\n        Responding officers arrived at the scene within minutes of the report and attempted to ascertain the methods used to gain access to the accounts. Officers immediately contacted the relevant service providers and liaised with technical experts to investigate the intrusion and locate the suspect.\\n        Crime scene investigators were dispatched to the location and compiled a comprehensive report outlining potential security vulnerabilities and other relevant details of the incident. The investigation into the hijacked accounts is ongoing, with efforts focused on identifying the suspect behind the intrusion and recovering any misappropriated information.',\n",
              "   'entities': {'Cybercrimes': [[899, 916]]}},\n",
              "  {'text': \"On May 13, 2021, at approximately 8:00 AM, the responding officer was notified of a ransomware attack on a local business. Upon further investigation, it was discovered that the malicious software had infiltrated the business's IT system, resulting in a significant disruption to the operation of the company.\\nThe malicious software encrypted all of the company's data, which included financial records, customer information, and other confidential documents. Management reported the incident to the authorities, who immediately began to investigate the attack and take the necessary steps to contain the damage.\\nThe responding officer identified a suspect who had allegedly sent emails to the company containing the ransomware. Investigators developed further evidence to support the case and the suspect was taken into custody for questioning. \\nForensics technicians were brought in to analyze the system and data to determine the origin of the attack, as well as retrieve encrypted files. The ongoing investigation is focused on uncovering the full extent of the attack and identifying the motives of the suspect.\",\n",
              "   'entities': {'Cybercrimes': [[84, 101]]}},\n",
              "  {'text': \"On June 20, 2023, at approximately 9:00 PM, the victim, identified as John Doe, reported being subjected to a ransomware attack. The malicious actors deployed a sophisticated strain of ransomware that encrypted his data before demanding a hefty sum in exchange for the decryption key.\\n        Responding officers arrived to investigate and confirm the attack. They noted that the victim had taken important preventative measures prior to the attack, such as updating all software utilities and having data backups available. However, in the end these efforts were not enough to protect him from the attack.\\n        Crime scene investigators were deployed to the location and conducted a thorough examination of the victim's systems to uncover the source of the attack. Although the exact culprit was not determined, the investigation uncovered evidence that the attack was likely from a well-organized group of cybercriminals.\\n        Additionally, authorities were able to trace these criminals to an overseas nation using the victim's payment records. The investigation into the ransomware attack is ongoing, with efforts focused on apprehending the criminals and eradicating the malicious actors' ransomware network.\",\n",
              "   'entities': {'Cybercrimes': [[110, 127], [1081, 1098]]}},\n",
              "  {'text': 'On February 15, 2021, at approximately 8:00 PM, a report was made to local police that several systems in the area had been compromised by a ransomware attack. Upon further investigation, it was discovered that the ransomware had infected multiple networks belonging to a major corporation, resulting in a massive data breach.\\n\\nThe IT department worked tirelessly to restore the systems, though the company was still out of pocket several thousand dollars in damage and lost time. A cyber-crime unit was sent to investigate the attack, collecting evidence from the affected machines to identify the suspicious activity and trace it back to its source.\\n\\nThe investigation is still ongoing, as the police continue to search for evidence that can lead to the apprehension of the perpetrator and aid in understanding the motives behind the attack.',\n",
              "   'entities': {'Cybercrimes': [[141, 158]]}},\n",
              "  {'text': \"On July 15, 2021, at approximately 3:00 PM, the victim, identified as Jane Doe, reported being the victim of cyberstalking by an unknown perpetrator. The victim stated that for the past several weeks she had been receiving threatening emails, messages, and phone calls from an unknown sender. \\n\\nResponding officers spoke to the victim and began the preliminary investigation into the incident, emphasizing the need for the victim to take measures to protect her personal information. Digital forensics experts were consulted in order to trace the cyberstalker's online activity, and monitored potential social media accounts associated with the perpetrator.\\n\\nThe victim's access various accounts was restored with greater security measures in place, while further investigation is carried out into the cyberstalking incident. Officers are searching for any persons of interest and gathering further evidence in order to identify the perpetrator and apprehend them.\",\n",
              "   'entities': {'Cybercrimes': [[109, 122], [802, 815]]}},\n",
              "  {'text': \"On October 17, 2023, at approximately 4:15 PM, the victim, identified as Jane Doe, reported being cyberstalked by an unknown individual. The victim stated that she had been receiving threatening messages online, as well as having her social media accounts hacked by the suspect. \\n\\nResponding officers arrived at the victim's residence within minutes of the report and conducted a thorough search of the property. The officers noted that the victim's electronic devices had been tampered with and subsequently confiscated the equipment for further investigation.\\n\\nCrime scene investigators were dispatched to the residence and conducted a thorough examination of the property, collecting potential evidence such as online messages, witness statements, and a forensic analysis of the confiscated electronic devices. The investigation into the cyberstalking is ongoing, with efforts focused on identifying and locating the suspect.\",\n",
              "   'entities': {'Cybercrimes': [[841, 854]]}},\n",
              "  {'text': \"On August 2, 2023, at approximately 7:00 PM, the victim, identified as Jane Smith, reported being cyberstalked by an unknown perpetrator. The victim stated that the stalker had been sending threatening messages and sharing personal information online.\\n        Responding officers arrived at the scene promptly and took all necessary precautions to ensure the victim's safety. They also assisted the victim in filing a restraining order against the perpetrator.\\n        Cybercrime investigators were immediately task with tracing the virtual trail and gathering potential evidence such as screenshots of the threatening messages and records of online communication. The investigation into the cyberstalking is still ongoing, with efforts concentrated on locating the perpetrator and determining any possible motivations.\",\n",
              "   'entities': {'Cybercrimes': [[692, 705]]}},\n",
              "  {'text': \"On June 20, 2023, at approximately 9:00 PM, the victim, identified as John Doe, reported suffering from a distributed denial-of-service (ddos) attack on his personal computer. The victim stated that his computer had been sluggish for the past few days until suddenly a large influx of malicious data sent to his machine overwhelmed its bandwidth, crashing the entire system. \\n        Responding officers arrived at the scene shortly after the report and observed the victim attempting to reboot his machine with no success. Officers immediately called for technical assistance and provided technical advice until specialists arrived to attempt to restore the system.\\n        Crime scene investigators were dispatched to the location and conducted a thorough examination of the victim's machine, collecting potential evidence such as software logs, system configuration data, and copies of the malicious data packets sent to overwhelm his network. The investigation into the ddos attack is ongoing, with efforts focused on identifying those responsible and mitigating future attacks.\",\n",
              "   'entities': {}},\n",
              "  {'text': \"On October 10, 2031, at approximately 11:30 AM, reports emerged of an online distributed denial-of-service (DDoS) attack that targeted a local dealership. The attack resulted in the company's website crashing and rendering it inaccessible for extended periods of time.\\n        Investigators assigned to the case took prompt action and immediately began to assess the scope and impact of the attack. It was soon determined that the DDoS attack was initiated from multiple sources, likely originating from a malicious botnet.\\n        The case was soon referred to the FBI Cyber Division for further investigation. The FBI quickly initiated an extensive forensic analysis that aimed to identify the sources of the attack, determine the intent behind it, and evaluate the possibility of financial losses.\\n        Meanwhile, the IT technicians responsible for managing the dealership's website took swift measures to mitigate the attack and restore normal operations. The technicians implemented additional security systems and countermeasures to protect against any possible future attacks.\\n        The FBI Cyber Division continue to carry out their investigation into the DDoS attack and are actively searching for the perpetrator.\",\n",
              "   'entities': {}},\n",
              "  {'text': 'On August 16, 2024, at around 4:30 AM, the victim, identified as Jane Smith, reported being a victim of a distributed denial-of-service (DDoS) attack on her website. The victim stated that her website was subjected to a flood of incoming traffic from various IP addresses located outside the country, leading to a complete shutdown of her website.\\n        Responding officers arrived at the scene within minutes and immediately took steps to disable the attack and restore the website. Officers also retrieved the server logs and identified the numerous IP addresses involved in the attack.\\n        Crime scene investigators were summoned to the location and conducted an intensive analysis of the attack, recovering vital information such as the source of the traffic and its origin. The investigation into the DDoS attack is still active, with a determination to find the party responsible for the attack and its underlying motives.',\n",
              "   'entities': {}},\n",
              "  {'text': \"On February 2nd, 2021, the victim, identified as Jane Smith, reported her identity stolen by an unknown suspect. She stated that her bank account had been depleted of funds from multiple withdrawals and her credit score was reduced drastically. Responding officers took a formal report of the incident and began their investigation, which included interviewing witnesses and searching for clues that may have linked to the suspect.\\n\\nCrime scene investigators arrived shortly after and discovered several pieces of evidence that suggested the suspect had accessed the victim's bank account with stolen bank cards. Officials also found several locations where the stolen cards were used to withdraw large amounts of funds. The investigation is still ongoing, with efforts centered around catching the individual responsible and restoring the victims stolen finances.\",\n",
              "   'entities': {}},\n",
              "  {'text': 'On June 20, 2023, at approximately 9:00 PM, the victim, identified as John Doe, reported a case of identity theft. The victim stated that an unknown individual had used their personal information to open various accounts and conduct unauthorized transactions.\\n        Responding officers arrived at the scene and interviewed the victim regarding the details of the incident. The officers also contacted the businesses involved in the identity theft in order to collect copies of the fraudulent documents.\\n        Crime scene investigators were dispatched to review the possible evidence and surveillance footage. Investigators also conducted interviews with witnesses to try and determine the identity of the individual responsible for the theft. The investigation is ongoing, and measures are being taken to prevent further incidents of identity theft in the area.',\n",
              "   'entities': {'Cybercrimes': [[99, 113], [434, 448], [838, 852]]}},\n",
              "  {'text': 'On June 20, 2023, at approximately 9:00 PM, the victim, identified as John Doe, reported having his identity stolen by an unknown perpetrator. The victim stated that he recently discovered suspicious financial activity originating from his bank account. When he contacted his bank to investigate further, he was informed that a third-party had gained access to his personal information and used it to make fraudulent transactions. \\n        Responding officers arrived at the scene and interviewed the victim to determine how the perpetrator had gained access to his information. Officers also conducted background checks and gathered evidence from potential sources of identity theft, such as unsecured online accounts or compromised data.\\n        Crime scene investigators were dispatched to the location and conducted a thorough investigation. They gathered surveillance footage, witness statements, and every piece of information the victim had on the stolen account. The investigation into the identity theft is ongoing, with efforts focused on identifying the perpetrator and recovering the stolen information.',\n",
              "   'entities': {'Cybercrimes': [[669, 683], [998, 1012]]}},\n",
              "  {'text': \"On May 15, 2022, at approximately 2:00 PM, the victim, identified as Jane Smith, reported being the victim of a cyber fraud scheme. The victim stated that an unknown assailant had access to her online banking account and used it to make unauthorized purchases, depleting her account balance.\\n        Responding officers arrived at the scene within minutes of the report and provided the victim with both emotional and informational support to assist her in recovering her account access and cancelling fraudulent transactions. Technical specialists from the police department's cyber crime unit were dispatched to the victim's home and conducted a detailed analysis of her computer and other devices. \\n        The suspect had left a digital trail leading from the victim's online banking account to a suspected fraud network. Detectives from the cyber crime unit traced the suspect's IP address, which had been used to manage the fraud. The investigation into the cyber fraud scheme is ongoing, with efforts focused on apprehending the suspect and determining who else may be involved in this scam.\",\n",
              "   'entities': {'Cybercrimes': [[112, 123], [964, 975]]}},\n",
              "  {'text': 'On August 17, 2021, at approximately 10:00 PM, the victim, identified as Jane Doe, reported being a victim of cyber fraud. The victim stated that the perpetrators set up a fake website and posed as a legitimate business, asking her to input her personal information into a digital form. Once they had access to her personal data, they made multiple unauthorized withdrawals from her bank accounts. \\n        Responding officers arrived at the scene shortly after the report was made and provided the victim with an informational packet on how to protect herself from cyber theft. Additionally, they referred her to the local cyber-crimes unit in order to get assistance with resolving her case. \\n        Cyber-crime investigators were dispatched to the location to investigate the incident and work to identify the perpetrators responsible for the fraudulent activity. They are currently focused on tracing the cyber-trail of the offenders and collecting evidence that could serve as invaluable information to the ongoing investigation.',\n",
              "   'entities': {'Cybercrimes': [[110, 121]]}},\n",
              "  {'text': \"On June 20, 2023, at approximately 9:00 PM, the victim, identified as John Doe, reported being a victim of cyber fraud. The victim stated that he had unknowingly submitted his personal information to a third-party website that turned out to be a fraud, resulting in his confidential information being stolen and misused.\\n        Responding officers arrived at the scene shortly after the report was filed and began the process of launching an investigation. Officers combed through the victim's accounts and financial statements to verify the fraud and collect information that could lead to identifying the perpetrator.\\n        Crime scene investigators were dispatched to the crime scene and conducted a thorough examination of the suspect's online activity, collecting potential evidence such as IP addresses and emails. The investigation into the cyber fraud is ongoing, with efforts focused on identifying the culprit and tracing the stolen funds.\",\n",
              "   'entities': {'Cybercrimes': [[107, 118], [851, 862]]}},\n",
              "  {'text': \"On February 16, 2023, a cyber security expert reported to local authorities that a system under his supervision had been subjected to an unauthorized password cracking attempt. Responding investigators collected several pieces of digital evidence, including the suspect’s IP address and encryption algorithms used in the attack. Further analysis of metadata revealed that the perpetrator had accessed the system remotely, using sophisticated computer programming techniques to bypass security protocols.\\n\\nCrime scene technicians were dispatched to the scene to gather further evidence, such as hard drives and servers used in the attack. After obtaining a search warrant, law enforcement may be able to gain access to the suspect's digital files and communications. The investigation into the password cracking attempt is ongoing, with efforts focused on identifying the perpetrator and determining their intent.\",\n",
              "   'entities': {'Cybercrimes': [[150, 167], [793, 810]]}},\n",
              "  {'text': \"On August 5, 2023, at approximately 9:15 PM, the server administrator of a local business reported suspicious activity on the company's computer network. Upon further investigation, the administrator discovered that an unknown attacker had been attempting to crack the passwords of multiple accounts, including those of the staff members.\\n        Responding officers arrived at the scene and worked with the administrator to document the extent of the damage. An initial analysis revealed that the attacker had successfully accessed several accounts, though it appeared that no information was manipulated or stolen. Officers immediately seized all of the company's computers, with potential evidence gathered being turned over to cybercrime experts for further evaluation and processing.\\n        Crime scene investigators were dispatched to the location to assist in the collection of digital evidence. Investigators conducted a thorough examination of the server's activity logs and other relevant data, with efforts focused on establishing the identity of the attacker and determining the motive behind the attack. The investigation into the illegal password cracking is ongoing, and authorities have issued a public notice to local businesses urging them to take greater measures in protecting their online accounts.\",\n",
              "   'entities': {'Cybercrimes': [[1153, 1170]]}},\n",
              "  {'text': \"On September 15, 2023, at approximately 6:00 PM, officers responded to a suspicious activity call. Upon arriving at the scene, officers observed a individual attempting to gain access to a secure system by illicitly cracking the passwords. The officers immediately apprehended the individual and confiscated all the material related to the crime. \\n        Following further investigation, officers recovered evidence linking the individual to multiple other cases of password cracking in the area. \\n        Witnesses of the incident were interviewed, and corroborated the story of the officers. Further, a search of the individual yielded a bank of passwords and usernames believed to have been used for various hackings.\\n        The investigation into the password cracking is ongoing, although initial efforts have pinpointed the the assailant. Further evidence is being gathered in order to ascertain the individual's motives as well as any accomplices who may be involved.\",\n",
              "   'entities': {'Cybercrimes': [[467, 484], [757, 774]]}},\n",
              "  {'text': 'On June 20, 2023, at approximately 9:00 PM, the victim, identified as John Doe, reported being in possession of an illegal item handed to him by an unknown person inside a local public park. The victim stated that the individual approached him from behind and placed an unknown item in his pocket before disappearing into the night.\\n        Responding officers arrived at the scene shortly afterward and asked the victim to relinquish the item, which was later identified as a, firearm. The victim denied any knowledge of the weapon, claiming he only had it in his possession for a matter of seconds.\\n        After further questioning, crime scene investigators were dispatched to the park to search for evidence, including surveillance footage, witness statements, and potential fingerprints on the weapon. The investigation into the incident is ongoing, with efforts focused on identifying the individual responsible and establishing why the victim was in possession of a prohibited item.',\n",
              "   'entities': {}},\n",
              "  {'text': \"On June 20, 2023, at approximately 9:00 PM, officers responded to a report of a man found in possession of firearms in a residential neighborhood. Upon arrival, police observed the man holding a pistol, which he immediately dropped upon the officers' verbal warning.\\n\\nThe suspect was taken into custody without incident and transported to the police station for further questioning. Officers recovered the pistol, as well as several other firearms and ammunition that were in the suspect's possession at the time.\\n\\nA detailed search of the suspect's belongings revealed drugs and stolen property that are believed to be related to a series of recent robberies in the area. The investigation is ongoing, with a focus on determining the suspect's involvement in the crimes and any possible connections to other similar cases.\",\n",
              "   'entities': {}},\n",
              "  {'text': \"On July 8, 2023, at approximately 3:00 PM, officers responded to reports of a disturbance at a residence. Upon arrival, the officers discovered the suspect, identified as Jane Doe, in possession of illegal narcotics. Witness statements indicated that the suspect had threatened violence if anyone attempted to remove the drug package from her possession.\\n        The suspect was arrested and taken into custody, while officers conducted an initial search of the premises. Among the items discovered were several drug-related items, including a scale and several items of drug paraphernalia.\\n        After consulting with the local district attorney's office, a criminal complaint was later filed against the suspect for possession of a controlled substance. Forensic investigators were dispatched to the scene to conduct a further investigation and collect any evidence relevant to the case. The investigation into the suspect's possession of the illegal narcotics is ongoing.\",\n",
              "   'entities': {}},\n",
              "  {'text': \"On June 20, 2023, at approximately 9:00 PM, the victim, identified as John Doe, reported being trafficked by a network of unknown individuals. The victim stated that the individuals had approached him days earlier and coerced him into travelling to a neighbouring city, where he was forced into labour and denied essential needs. \\n        Responding officers arrived at the scene shortly after the report and verified the victim's account of what had transpired. They immediately notified the governing authorities and requested additional resources to facilitate the victim's rescue and repatriation back to his home city. \\n        Crime scene investigators were subsequently dispatched to the city of origin and conducted an investigation into the victim's abduction. Through their efforts, investigators were able to identify key members of the trafficking network and recover the victim's personal belongings. The investigation into the trafficking incident is ongoing, with additional resources from other agencies being requested to provide additional support and efforts.\",\n",
              "   'entities': {'Drug_Crimes': [[95, 105]]}},\n",
              "  {'text': 'On August 3, 2023, at approximately 11:00 PM, law enforcement received a tip regarding the trafficking of illegal narcotics at a local warehouse. Officers immediately responded and discovered several individuals conducting the trafficking operation. At least one individual was found to be in possession of a substantial quantity of drugs and paraphernalia.\\nWitnesses reported that the trafficking had been going on for several months but had been overlooked due to the isolated location. Crime scene investigators were dispatched to the scene and collected evidence related to the trafficking activity, including cell phones, packaging materials, and various documents. The suspects were taken into custody and are currently being held in local detention facilities pending further investigation into the trafficking operation.',\n",
              "   'entities': {}},\n",
              "  {'text': \"On June 20, 2023, at approximately 9:00 PM, the victim, identified as Jane Smith, reported being trafficked by an unknown assailant. The victim stated that the assailant lured her into a van and drove away, taking her to an unknown location. \\nResponding officers arrived at the scene within minutes of the report and quickly set up a search for the van. Witnesses reported seeing the van traveling east on Main street, and so the officers commenced a pursuit. \\nCrime scene investigators were dispatched to the location and conducted a thorough examination of the area, collecting potential evidence such as surveillance footage, witness statements, and the victim's personal belongings. The investigation into the trafficking incident is ongoing, with efforts focused on identifying the assailant and rescuing the victim.\",\n",
              "   'entities': {'Drug_Crimes': [[97, 107]]}},\n",
              "  {'text': 'On October 12, 2025, at approximately 8:00 PM, the police received a tip about a suspicious individual illegally manufacturing a controlled substance inside of their home. Officers arrived to the scene and observed several suspicious items, including materials used for the manufacture of drugs.\\n\\nWhen approached by police, the suspect denied any wrongdoing and attempted to flee the scene. Officers managed to restrain and apprehend the suspect, who was subsequently identified as Jane Doe.\\n\\nThe officers conducted a search of the area and confiscated any illicit substances or materials they found. The suspect was then placed under arrest and taken to the police station for processing. The investigation into the illegal drug manufacturing is still in progress, with prosecutors compiling evidence to charge Jane Doe with the appropriate criminal charges.',\n",
              "   'entities': {}},\n",
              "  {'text': \"On June 20, 2023, at approximately 9:00 PM, the suspect, identified as Jane Doe, was apprehended for allegedly manufacturing illegal narcotics. According to her confession, the suspect had been operating a clandestine laboratory in a nearby warehouse for the past several months.\\n        Responding officers arrested the suspect on-site and recovered a variety of chemical substances and equipment used in the manufacturing process. Officers also seized nearby resources, including medical supplies and safety gear, that the suspect might have used in the manufacturing of the illegal substances.\\n        Crime scene investigators were dispatched to the warehouse and conducted a thorough examination of the area, collecting potential evidence such as surveillance footage, witness statements, and any manufactured materials that tested positive for narcotics. The investigation into the manufacturing activity is ongoing, with efforts focused on uncovering the suspect's criminal network and seizing any remaining contraband.\",\n",
              "   'entities': {'Drug_Crimes': [[802, 814]]}},\n",
              "  {'text': \"On June 20, 2023, at approximately 9:00 PM, the victim, identified as John Doe, reported being manufactured by an unknown assailant at a local manufacturing facility. The victim stated that the assailant forced him to operate equipment in the facility and kept him there against his will for more than an hour before fleeing the scene.\\n        Responding officers arrived at the facility within minutes of the report and observed the victim displaying visible signs of distress. Officers immediately called for medical assistance and provided initial first aid until paramedics arrived to transport the victim to the hospital for further evaluation and treatment.\\n        Crime scene investigators were dispatched to the location and conducted a thorough examination of the area, collecting potential evidence such as surveillance footage, witness statements, and the victim's personal belongings. The investigation into the manufacturing is ongoing, with efforts focused on identifying the assailant and establishing a motive for the attack.\",\n",
              "   'entities': {'Drug_Crimes': [[95, 107]]}},\n",
              "  {'text': 'On April 10, 2022, police officers received a report of suspected smuggling activity at the docks near the river. Upon responding to the call, officers observed several individuals loading large crates from a foreign-registered vessel onto a truck that was parked nearby. Upon questioning, the individuals were unable to provide an explanation for the suspicious activity, which caused officers to investigate further.\\n\\nUpon searching the trucks, boxes, and crates, officers discovered several packages of contraband that had been illegally smuggled into the country. The individuals were arrested and taken into custody for investigation. The search and subsequent arrest were captured on surveillance cameras, providing authorities with evidence to build a strong case against the suspects. The investigation into the smuggling activity is still ongoing, with efforts focused on identifying all parties involved and determining how the contraband was transported into the country.',\n",
              "   'entities': {'Drug_Crimes': [[541, 549]]}},\n",
              "  {'text': 'On June 20, 2023, at approximately 9:00 PM, officers patrolling the city docks noticed suspicious behavior from some of the warehouse employees, which prompted further investigation. Upon further inspection, the officers discovered a stash of goods which had been illegally smuggled into the country.\\n\\nThe officers immediately confiscated the goods and placed the warehouse employees under arrest for smuggling. The investigation revealed that the employees had obtained the goods from a network of smugglers outside the country, and that the goods had been smuggled into the country over the past several weeks.\\n\\nCrime scene investigators were dispatched to the scene and collected evidence such as surveillance footage, invoices, and shipping documents. Further investigation into the illegal smuggling operation is ongoing, with efforts focused on identifying the source of the smuggled goods and dismantling the smuggling network.',\n",
              "   'entities': {'Drug_Crimes': [[274, 282], [558, 566], [881, 889]]}},\n",
              "  {'text': 'On April 10, 2022, at approximately 4:30 AM, officers received a report of suspicious activity in the vicinity of a local warehouse. When they arrived at the scene, officers observed a group of people smuggling crates out of the warehouse. The suspects tried to flee when they noticed the officers but were eventually apprehended.\\n        Police searched the suspects and their cargo and found various contraband inside the crates, including illegal drugs and firearms. The suspects were taken into custody and transported to the police station for further processing and questioning.\\n        Officers searched the warehouse and discovered a network of storage and distribution sites being used to traffic contraband within the city and beyond. The investigation into the smuggling operation is ongoing and will include further interrogations of the suspects as well as the analysis of the evidence collected at the scene.',\n",
              "   'entities': {}},\n",
              "  {'text': \"On June 20, 2023, at approximately 9:00 PM, the victim, identified as John Doe, reported being sold suspected counterfeit currency by an unknown individual. The victim stated that the individual had approached him from behind, pushing him towards the alleyway before taking money from him and fleeing the scene.\\n        Responding officers arrived at the scene within minutes of the report and conducted a preliminary search of the area, but were unable to locate the suspect. Crime scene investigators were dispatched to the location and conducted a thorough examination of the area, collecting potential evidence such as surveillance footage, witness statements, and the victim's personal belongings. \\n        An analysis of the evidence suggests that the individual may have had access to an illicit syndicate, though their identity and current whereabouts remain unknown. The investigation into the sale of counterfeit currency is ongoing, with efforts focused on identifying the individual and bringing them to justice.\",\n",
              "   'entities': {'Drug_Crimes': [[95, 99]]}},\n",
              "  {'text': \"On July 1, 2023, at approximately 11:30 PM, the victim, identified as Jane Smith, reported being sold a dangerous and illegal substance by an unknown street dealer. The victim stated that the dealer approached her while she was walking and asked if she wanted to purchase a narcotic. When she refused, the dealer attempted to pressure her until she finally gave in and bought the drug.\\nResponding officers arrived on the scene shortly after the report and escorted the victim to the police station, where she provided a detailed account of the incident. Officers on the scene also obtained multiple witness statements corroborating the victim's story. \\nCrime scene investigators were then deployed to search the area for evidence, such as surveillance footage and the dealer's fingerprints. The investigation into the drug sale is ongoing, with efforts focused on identifying the dealer and charging them with the appropriate crimes.\",\n",
              "   'entities': {'Drug_Crimes': [[97, 101]]}},\n",
              "  {'text': 'On June 5, 2023, at approximately 11:30 PM, the victim, identified as Jane Doe, reported being sold drugs by an unknown individual. The victim had been walking home from a nearby library when the individual approached her and asked if she wanted to buy drugs. The victim immediately declined and the individual began to persue her, only relenting when the victim reached her house and was able to go inside.\\n        Responding officers arrived at the scene shortly afterward and searched the area for any further evidence they could find. Officers were unable to find the individual in question, but collected witness accounts as well as potentially incriminating evidence the individual left behind.\\n        Crime scene investigators were then dispatched to the location to examine the premises and take the necessary steps to track down the individual. The investigation into the drug sale is ongoing, with efforts focused on obtaining a detailed description of the assailant as well as gathering evidence that could be used to prosecute them.',\n",
              "   'entities': {'Drug_Crimes': [[95, 99]]}},\n",
              "  {'text': 'On January 1, 2023, at approximately 12:00 PM, officers were called to a nearby residence after receiving reports of suspicious activity. Upon their arrival, officers observed the suspect, identified as Michael Smith, cultivating marijuana plants in the backyard. The officers immediately took the suspect into custody and confiscated the plants as evidence.\\n\\nCrime scene investigators arrived shortly thereafter and conducted a thorough search of the property, recovering additional contraband such as horticultural equipment and processing agents. The suspect was charged with cultivation and possession of illegal narcotics, and the investigation is ongoing.',\n",
              "   'entities': {}},\n",
              "  {'text': 'On June 20, 2023, at approximately 9:00 PM, the victim, identified as John Doe, reported being cultivated by an unknown individual outside a local convenience store. The victim stated that the individual attempted to carefully lead him away from the scene before fleeing when the victim resisted. \\nResponding officers arrived at the scene within minutes of the report and conducted a thorough search of the area, but no suspects were found. Officers also noted the victim displaying no visible signs of injury. \\nCrime scene investigators were dispatched to the location and conducted a meticulous examination of the surrounding area, collecting any potential evidence that could assist in identifying the individual responsible. The investigation into the cultivation is ongoing.',\n",
              "   'entities': {'Drug_Crimes': [[95, 105]]}},\n",
              "  {'text': 'On July 6, 2023, at approximately 2:00 AM, police responded to a report of cultivated marijuana plants in the backyard of a residential address. Upon their arrival, officers observed several mature cannabis plants growing on the property, which had been cultivated in clear violation of state drug laws.\\n        A search of the premises revealed additional evidence of illegal cultivation, including various growing and processing supplies used for the production of marijuana. The resident of the house, identified as Jane Doe, was taken into custody and transported to the precinct for questioning.\\n        Further investigation into the incident revealed that the plants had been cultivated for business purposes, with the suspect having ties to a local illicit drug distribution ring. Authorities confiscated the plants, removed all growing supplies and materials, and closed the premises until the investigation is completed. All relevant evidence has been sent to the local crime lab for analysis.',\n",
              "   'entities': {'Drug_Crimes': [[75, 85], [254, 264], [683, 693]]}},\n",
              "  {'text': \"On April 29, 2025, at approximately 11:00 PM, the victim, identified as Jane Smith, reported being a victim of distributed material without permission. The victim stated that the material, which was in the form of a file containing personal information, was unlawfully disseminated onto a public forum without her authorization.\\nResponding officers arrived at the scene within minutes of the report and interviewed the victim, who gave a detailed description of the circumstances surrounding the incident. Officers contacted the appropriate authorities and alerted them to the breach, beginning the process of locating the perpetrator and securing the material.\\nCrime scene investigators were dispatched to the victim's home and conducted a thorough examination of her computer system, collecting potential evidence such as log files and previously distributed material. The investigation into the distribution of illicit material is ongoing, with efforts focused on identifying the perpetrator and gathering sufficient evidence to proceed with legal action.\",\n",
              "   'entities': {'Drug_Crimes': [[111, 122], [849, 860]]}},\n",
              "  {'text': 'On June 20, 2023, at approximately 9:00 PM, the victim, identified as John Doe, reported being distributed counterfeit currency by an unknown suspect outside a local convenience store. The victim stated that the suspect had approached him from behind, placing the fake money in his pocket before fleeing the scene.\\n        Responding officers arrived at the scene within minutes of the report and observed the victim displaying visible signs of confusion, unsure as to what had just taken place. Officers immediately spoke with any potential witnesses at the scene and began searching for the suspect.\\n        Crime scene investigators were dispatched to the location and conducted a thorough examination of the area, collecting potential evidence such as surveillance footage, witness statements, and confiscated counterfeit currency. The investigation into the distribution of the fake money is ongoing, with efforts focused on identifying the suspect and determining the origin of the currency.',\n",
              "   'entities': {'Drug_Crimes': [[95, 106]]}},\n",
              "  {'text': 'On June 20, 2023, at approximately 9:00 PM, the victim, identified as John Doe, reported being distributed illegal contraband by an unknown perpetrator. The victim stated that the perpetrator approached him from behind, handing him the contraband before fleeing the scene. \\nResponding officers arrived at the scene within minutes of the report and observed the victim displaying visible signs of anxiety. Officers immediately called for law enforcement assistance and launched an investigation into the incident.\\nCrime scene investigators were dispatched to the location and conducted a thorough examination of the area, collecting potential evidence such as surveillance footage, witness statements, and the contraband itself. The investigation into the distribution of contraband is ongoing, with efforts focused on identifying the perpetrator and establishing a motive for the crime.',\n",
              "   'entities': {'Drug_Crimes': [[95, 106]]}},\n",
              "  {'text': \"On October 12, 2025, at approximately 7:45 PM, the victim, identified as Mary Gonsalves, reported being synthesized with harmful substances by an unknown perpetrator. The victim said that the perpetrator had approached her before injecting her with a mysterious liquid without her consent. \\nResponding officers arrived shortly after and found the victim showing clear signs of intoxication. The officers immediately called for an ambulance and provided initial medical help until paramedics arrived to transport the victim to the hospital for further testing and treatment.\\nCrime scene investigators were dispatched to the scene and took a thorough inventory of the area, gathering potential evidence including surveillance footage, witness testimonies, and the victim's personal belongings. The investigation into the synthesizing of the victim is still ongoing, with efforts being made to identify the perpetrator and uncover their motive.\",\n",
              "   'entities': {'Drug_Crimes': [[104, 115]]}},\n",
              "  {'text': \"On February 12, 2025, at approximately 10:30 PM, the victim, identified as Jane Smith, reported being synthesized by an unknown perpetrator at an adjacent shopping center. The victim stated that the perpetrator approached her from behind, using an unknown, synthetic substance to incapacitate her before fleeing the scene.\\n        Responding officers arrived at the scene within minutes of the report and observed the victim displaying unusual signs of altered consciousness. Officers immediately called for medical assistance and provided initial first aid until paramedics arrived to transport the victim to the hospital for further evaluation and treatment.\\n        Crime scene investigators were dispatched to the location and conducted a thorough examination of the area, collecting potential evidence such as surveillance footage, witness statements, and the victim's personal belongings. The investigation into the synthesis is ongoing, with efforts focused on identifying the perpetrator and establishing a motive for the attack.\",\n",
              "   'entities': {'Drug_Crimes': [[102, 113]]}},\n",
              "  {'text': 'On March 11, 2025, at approximately 11:15 PM, the victim, identified as Jane Smith, reported being a victim of synthesized drugs. According to the victim, an unknown assailant secretly slipped her the drugs in her drink while she was socializing at a neighborhood bar.\\n\\nResponding officers arrived at the location shortly after the report and observed the victim displaying signs of extreme intoxication. The officers provided the victim with medical assistance and transported her to a nearby hospital where she was evaluated and treated. \\n\\nTo help with the investigation, the officers questioned witnesses and obtained a description of the assailant. Crime scene investigators were also dispatched to the location and conducted a thorough examination of the area, collecting potential evidence such as surveillance footage, personal belongings, and witness accounts. The investigation into the synthesized drug assault is ongoing, with efforts being focused on apprehending the unknown assailant.',\n",
              "   'entities': {'Drug_Crimes': [[111, 122], [896, 907]]}},\n",
              "  {'text': 'On July 16th, 2024, at approximately 8:30 PM, the victim, identified as Jane Doe, reported being abused by an unknown assailant in her own home. The victim stated that the assailant had threatened her with violence before proceeding to verbally assault and intimidate her.\\n\\nResponding officers arrived shortly after the report was made and observed the victim displaying signs of distress, including teary eyes and red marks on her arms. Officers provided initial comfort and contacted legal and medical agencies to provide further assistance in the form of counseling and housing. \\n\\nCrime scene investigators were dispatched to the location and collected evidence such as security footage and witness accounts. The investigation into the abuse is still ongoing, with efforts focused on finding the assailant and proving further charges to hold them accountable.',\n",
              "   'entities': {'Drug_Crimes': [[97, 103]]}},\n",
              "  {'text': \"On July 10, 2023, at approximately 2:30 AM, the victim, identified as Jane Doe, reported being abused by her partner. The victim stated that her partner hit her repeatedly and verbally threatened her. \\nResponding officers arrived at the scene within minutes of the report and observed the victim displaying visible signs of injury. Officers immediately called for medical assistance and provided initial first aid until paramedics arrived to transport the victim to the hospital for further evaluation and treatment.\\nCrime scene investigators were dispatched to the location and conducted a thorough examination of the area, collecting potential evidence such as witness statements and the victim's personal belongings. The investigation into the abuse is ongoing, with efforts focused on identifying the partner and establishing a motive for the attack.\",\n",
              "   'entities': {'Drug_Crimes': [[95, 101]]}},\n",
              "  {'text': \"On June 20, 2023, at approximately 9:00 PM, the victim, identified as John Doe, reported being abused by an unknown assailant. The victim stated that the assailant called him derogatory names and threatened to physically harm him before retreating from the scene.\\nResponding officers arrived at the scene within minutes of the report and observed the victim displaying visible signs of distress, including trembling and tears in his eyes. Officers adeptly defused the situation, consoled the victim, and encouraged him to report any other incidences of abuse he may experience in the future.\\nCrime scene investigators were dispatched to the location and conducted a thorough examination of the area, collecting potential evidence such as witness statements and the victim's personal belongings.The investigation into the abuse is ongoing, with efforts focused on identifying the assailant and establishing a motive for the attack.\",\n",
              "   'entities': {'Drug_Crimes': [[95, 101]]}},\n",
              "  {'text': \"On June 28, 2021, at approximately 3:00 PM, the victim, identified as Maria Smith, reported being peddled by an unknown suspect. She stated that the suspect approached her while she was at a local park and attempted to sell her drugs. After refusing the offer, the suspect yelled threats and brandished a weapon before fleeing the scene. \\nResponding officers arrived at the scene shortly after the report and observed the victim visibly shaken but unhurt. The officers heard from local witnesses that the suspect was seen entering an alleyway near the park. Officers immediately began searching the area for the suspect while providing the victim with medical and emotional support on the scene.\\nCrime scene investigators were dispatched and canvassed the park to collect potential evidence, including surveillance footage, witness statements, and the victim's personal belongings. The investigation is ongoing, with an emphasis on locating the suspect and determining the intent behind the peddling.\",\n",
              "   'entities': {'Drug_Crimes': [[98, 105]]}},\n",
              "  {'text': \"On March 28, 2034, at approximately 7:00 PM, officers received a call from a local resident reporting the suspicious activity of an individual selling drugs near the waterfront. Upon arrival, officers observed the suspect, identified as Pat Jones, peddling illegal substances to a group of bystanders.\\n        Officers immediately moved into a position to confront the suspect and found that Jones had a large quantity of controlled substances on his person. Jones was arrested on the spot and charged with multiple counts of drug possession and trafficking.\\n        Witnesses were interviewed extensively by detectives and provided further information about Jones' alleged activity. Surveillance footage from the area was also obtained and analyzed to produce potential leads in the case.\\n        A search warrant was requested and subsequently executed at Jones' residence, resulting in the discovery of additional drugs, cash, and other evidence related to the crime. The investigation into Jones' illicit actions is ongoing and further details will be released as they become available.\",\n",
              "   'entities': {}},\n",
              "  {'text': 'On June 20, 2023, at approximately 9:00 PM, the victim, identified as John Doe, reported being peddled illegal substances by an unknown street vendor. The victim stated that the vendor approached him and began trying to make a sale, but the victim refused to accept the drugs. The vendor then quickly fled the scene.\\n        Responding officers arrived at the scene within minutes of the report and spoke with nearby witnesses, hoping to get a description of the suspect. Officers also examined the area in search of potential evidence, though no suspicious objects were found at the scene.\\n        Crime scene investigators were dispatched to the location and conducted a thorough examination of the area, including interviewing witnesses and examining potential surveillance footage. The investigation into the peddling is ongoing, with efforts characterized by remotized from the police headquarters and local cyber crime unit.',\n",
              "   'entities': {'Drug_Crimes': [[95, 102]]}},\n",
              "  {'text': \"On June 21, 2023, at approximately 11:00 PM, the victim, identified as Jane Smith, reported being dealt a blow to her face by an unknown perpetrator. The victim stated that the assailant had approached her from the side, punching her once in the face before fleeing the scene.\\n        Responding officers arrived at the scene within minutes of the report and observed the victim with a swollen and bruised face. Officers provided initial first aid while paramedics arrived to transport the victim to the hospital for further evaluation and treatment.\\n        Crime scene investigators were dispatched to the location and conducted a thorough examination of the area, collecting potential evidence such as surveillance footage, witness statements, and the victim's personal belongings. The investigation into the deal is ongoing, with efforts focused on identifying the perpetrator and establishing a motive for the attack.\",\n",
              "   'entities': {'Drug_Crimes': [[98, 103]]}},\n",
              "  {'text': \"On December 17, 2021, at approximately 1:00 PM, the victim, identified as Jane Smith, reported being dealt an apparent drug overdose by an unknown assailant outside a local grocery store. The victim claimed that the assailant confronted her face-to-face, before pushing an unknown substance into her hands and fleeing the scene.\\n        Responding officers arrived at the scene within minutes of the report and observed the victim displaying signs of physical distress and incoherence. Officers immediately called for medical assistance and provided initial first aid until paramedics arrived to transport the victim to the hospital for further evaluation and treatment. \\n        Crime scene investigators were dispatched to the location and conducted a thorough examination of the area, collecting potential evidence such as surveillance footage, witness statements, and the victim's personal belongings. The investigation into the drug-overdose is ongoing, with efforts focused on identifying the assailant and establishing a motive for the attack.\",\n",
              "   'entities': {'Drug_Crimes': [[101, 106]]}},\n",
              "  {'text': \"On June 20, 2023, at approximately 9:00 PM, the victim, identified as John Doe, reported being dealt with aggressively by an unknown assailant outside a local convenience store. The victim stated the assailant approached him in an intimidating manner with a raised fist before quickly fleeing the scene.\\n        Responding officers arrived at the scene within minutes of the report and observed the victim displaying visible distress. Officers attempted to console the victim in an effort to determine the assailant's identity and establish a motive for the attack.\\n        Crime scene investigators were dispatched to the location and conducted a thorough examination of the area, collecting potential evidence such as surveillance footage, witness statements, and the victim's personal belongings. The investigation into the aggressive dealing is ongoing, with efforts focused on identifying the assailant and determining the cause of the altercation.\",\n",
              "   'entities': {'Drug_Crimes': [[95, 100]]}},\n",
              "  {'text': \"On July 22, 2022, at around 8:00PM, the suspect, identified as Jane Smith, was arrested for transporting illegal items. Witnesses stated that they saw the suspect carrying multiple suspicious packages out of an alleyway and loading them into her car. Responding officers stopped the vehicle and conducted a search of the car, revealing various illegal items.\\n\\nThe suspect was taken into custody and escorted to the local precinct for further questioning. Crime scene investigators were dispatched to the location to collect any evidence that may have been left behind during the suspect’s transportation of the items. Additionally, officers obtained a search warrant for the suspect's residence and found additional evidence that further implicated her in this crime. The investigation into the illegal activities is ongoing, with officers working to determine the origin and purpose of the items.\",\n",
              "   'entities': {}},\n",
              "  {'text': 'On July 2, 2023, at roughly 3:00 PM, a witness reported seeing a suspicious vehicle allegedly transporting a handcuffed individual against their will along Main Street. The witness stated that the vehicle was an older, blue 4-door sedan and provided a partial license plate to police. \\nResponding officers arrived at the scene and initiated a search for the vehicle and its occupants. After a brief search, patrolling officers located the car and stopped it, confirming the abducted individual was inside. Officers immediately freed the victim and questioned the subjects inside the car. \\nCrime scene investigators were dispatched to assist the patrol unit and collected evidence from inside the car, including a gun and a large sum of cash. The investigation into the crime of transporting an individual against their will is ongoing, with efforts focused on finding any possible connections between the subjects and the victim.',\n",
              "   'entities': {}},\n",
              "  {'text': 'On August 3, 2023, at approximately 4:30 AM, the victim, identified as Jane Doe, reported being transported against her will by an unknown suspect. The victim stated that she was walking home when the suspect approached her from behind and dragged her into a nearby van before speeding away from the scene.\\nResponding officers arrived at the scene within minutes of the report and observed the victim to be disoriented and in a state of distress. Officers immediately called for medical assistance and provided initial first aid until paramedics arrived to transport the victim to the hospital for further evaluation and treatment.\\nCrime scene investigators were dispatched to the location and conducted a thorough examination of the area, collecting potential evidence such as surveillance footage, witness statements, and the victim’s personal belongings. The investigation into the transportation is ongoing, with efforts focused on identifying the suspect and establishing a motive for the attack.',\n",
              "   'entities': {'Drug_Crimes': [[96, 107]]}},\n",
              "  {'text': 'On August 15, 2023, at approximately 8:30 PM, the victim, identified as Jane Doe, reported being prescribed medication illegally by an unknown individual. The victim stated that the individual had presented them with a fraudulent medical license, subsequently writing a prescription for medications that was not medically necessary.\\n        Responding officers arrived at the scene soon after the report and interviewed the victim about the alleged incident. Officers also followed up with the local pharmacy to confirm that the victim had attempted to fill the suspicious prescription.\\n        Crime scene investigators were dispatched to the location and conducted a comprehensive analysis of the situation, as well as obtaining potential evidence such as surveillance footage, witness accounts, and records from the pharmacy. The investigation into the illegal prescription is ongoing, with efforts currently focused on identifying the suspect and determining the reason for the offense.',\n",
              "   'entities': {}},\n",
              "  {'text': \"On June 20, 2023, at approximately 9:00 PM, the victim, identified as John Doe, reported being the victim of illegal prescription of medications by an unknown assailant. The victim stated that the assailant had provided multiple bottles of medication to him without a valid prescription. Following this, the assailant fled the scene.\\n        Responding officers arrived at the scene shortly following the report and were unable to locate the assailant. However, officers did observe the victim in possession of multiple bottles of medication.\\nOfficers immediately contacted pharmacy to confirm the validity of the prescriptions, however, the response confirmed they were illegal. The officers took possession of the medications and labelled them as evidence.\\nCrime scene investigators were dispatched to the location and conducted a thorough examination of the area, collecting potential evidence such as surveillance footage, witness statements, and the victim's corresponding paperwork. The investigation into the illegal prescription of medications is ongoing, with efforts focused on identifying the assailant and establishing a motive for the attack.\",\n",
              "   'entities': {}},\n",
              "  {'text': 'On August 21, 2021, at approximately 2:00 PM, the suspect, identified as Jane Smith, was apprehended for illegally prescribing drugs. The suspect was observed distributing drugs from her home to other individuals in the area without valid regulatory approval.\\n \\n Responding officers arrived on the scene and verbally confronted the suspect. Despite repeated warnings, the suspect failed to comply with police orders, leading officers to physically restrain her and take her into custody.\\n \\n Multiple drug samples seized from the scene were tested at a nearby laboratory. The results indicated that the presence of controlled substances, confirming the suspect had been illegally prescribing medication. \\n \\n The suspect was arrested and brought to the local police station for further questioning. Upon review of additional evidence, including witness accounts and video footage, the suspect was formally charged with the illegal distribution of controlled substances.',\n",
              "   'entities': {}},\n",
              "  {'text': 'On February 1, 2024, at approximately 4:00 PM, an anonymous caller alerted police to suspicious activity at the local pharmacy. Upon further investigation, officers determined that the suspect had attempted to purchase medication using falsified prescriptions.\\nThe officers arrived quickly and apprehended the suspect, who was identified as Jane Smith. Officers searched her possessions and found multiple forged prescriptions, as well as blank prescription forms and counterfeit identification documents.\\nThe suspect was immediately arrested and transported to the nearest police station for processing. During her interrogation, it was discovered that the suspect had been engaging in the manufacture and sale of falsified prescriptions in the local area. The investigation into the forgery is still ongoing, and police are actively searching for any additional suspects or accomplices.',\n",
              "   'entities': {'Drug_Crimes': [[236, 259], [715, 738]]}},\n",
              "  {'text': 'On July 18, 2023, at approximately 3:00 PM, a pharmacy employee reported to police that they had received multiple falsified prescriptions from an unknown individual. Upon inspection, the prescriptions were found to have been written on stolen prescription forms with altered information.\\n        Responding officers reached the location within minutes and began interviewing witnesses. According to the pharmacy personnel, the individual in question had been accompanied by two individuals who matched the description of their accomplices.\\n        Crime Scene Investigators were immediately dispatched to scour through surveillance footage captured on the premises. In addition to the footage, they were tasked with collecting any potential evidence pertaining to the falsified prescriptions. \\n        The investigation is ongoing, and efforts are focused on identifying the individual involved and uncovering their criminal intent.',\n",
              "   'entities': {'Drug_Crimes': [[115, 138], [769, 792]]}},\n",
              "  {'text': \"On April 12, 2021, at approximately 10:45 PM, the suspect, identified as Jane Smith, was detained by officers for allegedly falsifying prescriptions to obtain controlled substances. The arresting officers cited a credible tip they received regarding the suspect's activities and proceeded to question her upon arrival at the location.\\n        During the initial investigation, officers located several falsified prescriptions in the suspect's possession as well as documentation linking the suspect to several pharmacies in the area. The suspect was taken into custody and transported to the local police station to face further questioning.\\n        Crime scene investigators were dispatched to the location and conducted a thorough examination of the area, searching for physical evidence such as false prescriptions or drug paraphernalia. The investigation into the falsified prescriptions is ongoing, with efforts focused on uncovering other potential suspects and linking the suspect to long-term distribution of controlled substances.\",\n",
              "   'entities': {'Drug_Crimes': [[402, 425], [868, 891]]}},\n",
              "  {'text': 'On June 20, 2023, at approximately 9:00 PM, officer White was conducting a routine patrol of the industrial district when he was alerted to a suspicious odor coming from a nearby warehouse. Upon arriving at the location, officer White observed individuals engaging in the production of illicit substances. He announced his presence and detained three individuals that attempted to escape, one of whom was identified as the owner of the warehouse.\\n        Crime scene investigators were immediately dispatched to conduct a thorough search of the premises and collect any evidence that could be related to the production of illicit substances. Upon further examination, they found several drums of chemicals, industrial equipment, and empty containers believed to have been used to store and transport the substances.\\n        Further investigation revealed that the substances were produced in bulk quantities, likely screening to be sold. The suspects were arrested and processed, with officers obtaining their personal information and formally charging each one with producing illicit substances. The investigation is ongoing, with efforts focused on identifying any potential distribution networks and other accomplices.',\n",
              "   'entities': {}},\n",
              "  {'text': \"On August 13, 2023, at approximately 12:30 PM, police officers on routine patrol observed an individual producing illicit substances in a warehouse within the city limits. After ordering the individual to stop, the individual quickly attempted to discard the substances and flee the area.\\n\\nOfficers immediately apprehended the individual and detained him for questioning. He refused to provide basic identifying information, claiming that he did not have any documents on him. When questioned further, he admitted to producing the illicit substances on the premises. \\n\\nA thorough search of the warehouse revealed additional equipment and materials used to produce the substances, as well as large quantities of the illicit products. All of the items were collected as evidence and secured in the police station's evidence storage facility.\\n\\nThe individual was booked into jail and an investigation into the case is ongoing. Investigators are working to gather further evidence that could help identify any potential accomplices and uncover the origin of the materials used to produce the illicit substances.\",\n",
              "   'entities': {}},\n",
              "  {'text': \"On January 25, 2024, at approximately 11:30 AM, police received a report of possible drug activity at an abandoned warehouse. When officers arrived on the scene, they observed the suspect, later identified as Jane Smith, producing illicit substances inside the warehouse.\\n        The officers took Smith into custody without incident and obtained a search warrant for the premises. Upon further examination of the building, investigators discovered a variety of illegal drugs with an estimated street value of over one million dollars.\\n        Further investigation of Smith's activities revealed that she had been actively producing and distributing illicit substances in the area for some time. Authorities seized all the narcotics and placed Smith into custody, where she will be held pending trial.\\n        The investigation into the illicit substances continues as authorities work to identify any potential accomplices. Smith has been charged on multiple counts related to the possession and distribution of illegal drugs.\",\n",
              "   'entities': {}},\n",
              "  {'text': \"On April 18, 2021, at approximately 4:30 PM, the victim, identified as Jane Smith, reported being victimized by a suspect involved in a fraudulent scheme. The victim stated that the suspect contacted her posing as a bank representative and convinced her to transfer a substantial sum of money to an unknown account.\\n        Responding officers arrived at the scene to investigate and were presented with evidence including emails from the suspect's account and a detailed account of the victim's interactions with the perpetrator. Officers immediately sought to identify the suspect and used evidence obtained from the victim's account to locate and track the suspect's movements.\\n        Crime scene investigators were paired with cyber security experts to conduct a deeper analysis of the fraudulent account, establishing the scope of fraudulent activity. The investigation into the fraud is ongoing, with efforts focused on gathering additional evidence and arresting the suspect.\",\n",
              "   'entities': {}},\n",
              "  {'text': 'On October 13, 2032, at approximately 4:00 PM, the victim, identified as Jane Smith, reported having committed fraud at her place of business. The victim stated that a rogue employee had taken customer credit card information while pretending to process their purchases and had then used the information to make illegal purchases.\\n        Responding officers arrived at the scene within minutes of the report and gathered information about the fraud from the victim and other witnesses on the premises. Additionally, officers obtained and reviewed financial records and surveillance footage.\\n        Crime scene investigators were dispatched to the location and conducted a thorough examination of the area, collecting potential evidence such as documents and digital data from electronic devices. The investigation into the fraud is ongoing, with efforts focused on identifying the rogue employee and recovering any stolen funds.',\n",
              "   'entities': {'White-Collar_Crimes': [[101, 116]]}},\n",
              "  {'text': \"On June 20, 2023, at approximately 9:00 PM, the victim, identified as John Doe, reported having been the victim of fraud at the hands of an unknown perpetrator. The victim stated that he had received a suspicious email saying that his bank account had been accessed and asking him to provide personal information to prevent further issues. The victim complied, only to find out that his account had been used to commit fraud.\\n        Responding officers arrived at the scene within minutes of the report and interviewed the victim to better understand the circumstances. After a thorough investigation, officers determined that the perpetrator had accessed the victim's bank account using his stolen information.\\n        Crime scene investigators were dispatched to the location and conducted a thorough examination of the area surrounding the victim's home, collecting potential evidence such as digital records, witness statements, and the victim's personal paperwork. The investigation into the fraud is ongoing, with efforts focused on identifying the perpetrator and determining if any other accounts were impacted by the crime.\",\n",
              "   'entities': {}},\n",
              "  {'text': \"On March 3, 2027, the police received a tip that Jason Smith had been engaging in insider trading and had made several illegal financial transactions. Investigating officers confirmed that the information was correct and obtained a search warrant for Smith's residence. Upon arriving, they discovered financial documents and various other items related to insider trading.\\n\\nOfficers arrested Smith and took him into custody for questioning. During the interrogation, Smith admitted to illegally taking advantage of privileged information to make fraudulent stock trades and pocket millions of dollars in profits. He was immediately charged with engaging in insider trading and has since been released on bail pending his formal trial. The investigation is ongoing as authorities seek to identify any partners or co-conspirators involved in the criminal activity.\",\n",
              "   'entities': {}},\n",
              "  {'text': \"On September 15th, 2027, at approximately 4:00 PM, the suspect, identified as Jane Smith, was reported to have been engaged in insider trading. The witnesses on the scene reported that the suspect had accessed internal company documents and used them to purchase stocks of the company.\\n\\nThe responding officers arrived shortly after the report and took the suspect into custody. Upon further questioning, the suspect admitted to having used the company's confidential information to purchase stocks, which she later sold for a substantial profit.\\n\\nCrime Scene Investigators were dispatched to the suspect's home and business to search for evidence, such as documents and computer hard drives that may provide clues to the suspect's actions. The Financial Regulatory Authority was notified of the incident and began their own separate investigation to establish a culpability for the offense.\\n\\nThe suspect was released on bail while the investigation into the insider trading incident continues. Detectives are attempting to determine the source of the company's confidential information in order to establish a motive for the suspect's actions.\",\n",
              "   'entities': {'White-Collar_Crimes': [[116, 142]]}},\n",
              "  {'text': 'On August 5, 2023, at approximately 12:30 PM, the suspect, identified as Jane Doe, was arrested for engaging in insider trading. The suspect had been under investigation by the Financial Crimes Unit of the local police force for months for trading on nonpublic information that had been obtained illegally. \\n        During her arrest, the suspect was cooperative and agreed to answer questions related to the case. She provided evidence of having sold shares of a particular company several days prior to a major announcement, raising suspicions that she had committed insider trading. \\n        After consulting with an evidence review team, the suspect was formally charged and booked into a jail facility. The investigation into the case is ongoing, with attempts to identify and prosecute any other parties that may have been involved in the illegal activity.',\n",
              "   'entities': {}},\n",
              "  {'text': \"On August 5, 2023, at around 11:00 AM, the owner of a small business, identified as Jane Smith, reported suspicious activity within her organization's financial records. An investigation revealed that someone had embezzled funds from the company over the course of the past year.\\n \\n        Accounting specialists were called in to assess the records and determine the full scope of the financial loss. Additionally, detectives were assigned to the case in an effort to track down and identify the person responsible for the theft. \\n\\n        Witnesses were questioned and surveillance footage was collected from the business in an attempt to piece together the timeline of the incident. Police are currently working to locate the person suspected of embezzling the funds and determine the complete amount of money taken from the business.\",\n",
              "   'entities': {'White-Collar_Crimes': [[213, 228]]}},\n",
              "  {'text': \"On April 9, 2024, authorities received reports that an employee being held responsible for managing an organization's finances had embezzled funds. A preliminary investigation revealed that the employee had misappropriated the organization's assets for personal gain over the course of several years.\\n\\nAt the direction of the organization, financial records belonging to the employee were seized and reviewed in order to determine the full extent of the embezzlement. Meanwhile, members of the investigation team interviewed potential witnesses and accessed information from bank records in order to build a case against the individual.\\n\\nUltimately, the government was able to identify transactions carried out by the employee over the course of multiple years which resulted in a significant financial loss for the organization. An indictment was filed and the employee was subsequently arrested and arrested and charged with grand theft and fraud.\\n\\nThe investigation is currently ongoing, and additional charges may be brought against the accused pending the outcome of the findings.\",\n",
              "   'entities': {'White-Collar_Crimes': [[131, 146]]}},\n",
              "  {'text': 'On May 23, 2022, the finance department reported that a large sum of money from the organization had been embezzled. An internal investigation was promptly launched, and after reviewing records and interviewing personnel, it was found that an employee had been siphoning money from the business for some time.\\nThe matter was reported to the police, and a team of detectives was assigned to the case. They tracked down the employee and interviewed her at length, uncovering evidence that established her involvement in the embezzlement of funds. Further interrogation uncovered additional details related to the incident, such as who had benefitted from the illegal activity.\\nThe accused was arrested and a hearing was scheduled, during which she was charged with theft and fraud and ordered to pay back the embezzled funds and face other legal consequences. The police investigation is ongoing as they work to recover the stolen money and bring those responsible to justice.',\n",
              "   'entities': {'White-Collar_Crimes': [[807, 822]]}},\n",
              "  {'text': \"On June 20, 2023, at approximately 9:00 PM, a confidential informant reported witnessing several officials accepting bribes. The informant provided authorities with detailed descriptions of the individuals involved and explained that the alleged bribes had been exchanged at a private residence located in a rural town outside the city. \\n\\nResponding officers dispatched to the identified residence and arrived to find the involved parties still present. Officers conducted interviews with the individuals, confirming the informant's allegations and placing all parties into custody.\\n\\nOne of the detained individuals admitted to having bribed the other individuals and provided authorities with a full statement of the details surrounding the exchange. Suspicious documents and large amounts of cash were also found during a search of the residence, both of which were collected as evidence for further investigation. \\n\\nThe investigation into the bribery involving officials is ongoing, with efforts focused on determining if any additional parties were involved and uncovering the details of the transaction.\",\n",
              "   'entities': {}},\n",
              "  {'text': \"On June 20, 2023, at approximately 9:00 PM, local law enforcement began to receive reports of government officials being bribed. An anonymous informant identified the suspect as Jane Smith, the daughter of a prominent business tycoon. \\n\\nInvestigators quickly established a connection between Jane Smith and the bribed officials through financial records and phone conversations. Surveillance video was obtained from nearby locations, which showed Jane Smith handing over large amounts of money to the officials in exchange for confidential information related to the business tycoon's activities.\\n\\nA search warrant was issued and Jane Smith was taken into custody for questioning. During the interrogation, she admitted to paying the officials, claiming she was doing it to protect her father's interests. Following her confession, criminal charges were filed against Jane Smith for bribery and corruption.\\n\\nThe investigation was ongoing to identify other individuals involved in the scheme and to uncover the true purpose behind the bribery.\",\n",
              "   'entities': {'White-Collar_Crimes': [[311, 327]]}},\n",
              "  {'text': \"On August 15, 2025, at approximately 10:30 AM, an anonymous tipster accused several government officials of taking bribes from a major corporation. The tipster stated that the officials illegally accepted payments in exchange for promising to manipulate upcoming legislation in favor of the company's business objectives.\\n        Law enforcement personnel were immediately dispatched to the scene to investigate the allegation and to detain any individuals involved. Upon arriving, they discovered multiple officials had accepted the illicit payments and placed them into custody.\\n        Crime scene investigators then arrived to gather evidence, such as payment documents and communication records. A joint task force composed of state and federal agencies was soon assembled to spearhead the investigation and uncover the full scope and scale of the bribery scheme. Additional resources were mobilized to identify and apprehend other individuals potentially connected to the case. The investigation into the bribery of government officials is ongoing, with efforts directed at uncovering collusion between the accused parties.\",\n",
              "   'entities': {}},\n",
              "  {'text': \"On June 24, 2023, at approximately 12:00 PM, the victim, identified as Jane Doe, reported being the victim of financial manipulation by an unknown suspect. The victim claimed that the suspect had accessed and manipulated records in her online banking account without her permission.\\n        Responding officers contacted the Bank and obtained records of all recent activity on the account. They discovered that the suspect had modified several records in an attempt to misappropriate the victim's funds. Officers then coordinated with banking officials to block the accounts and preserve the remaining funds in the victim's account.\\n        Crime scene investigators were dispatched to the victim's residence to collect any potential evidence, such as computers, phones, and other digital devices. The investigation into the financial manipulation is ongoing, with efforts focused on identifying the suspect and any accomplices involved in the crime.\",\n",
              "   'entities': {}},\n",
              "  {'text': \"On August 16, 2023, at approximately 5:00 PM, an employee in the accounting department of ABC Enterprises filed a complaint accusing her manager of manipulating financial records. The employee stated that the manager had been entering false information into the company's books in order to defraud the organization of thousands of dollars.\\n        Responding officers arrived on the scene and conducted a preliminary investigation, confirming the employee's accusations. Employers were jointly interviewed and the officer's discovered the manager had been manipulating the financial records over the course of several months for his own personal gain.\\n        Crime investigators were dispatched to the office to collect evidence such as documents, computer equipment, and employee statements. Their examiation linked the manager to multiple instances of financial manipulation and fraud. The investigation into the crime is still ongoing, with efforts focused on uncovering the full extent of the crime and recovering any stolen funds.\",\n",
              "   'entities': {}},\n",
              "  {'text': \"On June 20, 2023, at approximately 9:00 PM, the victim, identified as John Doe, reported being manipulated by an unknown assailant outside a local government building. The victim stated that the assailant approached him from behind, offering to help with his financial records, before fleeing the scene.\\n        Responding officers arrived at the scene within minutes of the report and observed the victim distressed and confused. Officers immediately called for legal assistance and provided initial guidance until an attorney arrived to review the documents and determine any possible criminal activity.\\n        Crime scene investigators were dispatched to the location and conducted a thorough examination of the area, collecting potential evidence such as financial records, witness statements, and the victim's personal belongings. The investigation into the financial manipulation is ongoing, with efforts focused on identifying the assailant, establishing a motive for the attack, and determining the extent of the crime.\",\n",
              "   'entities': {}},\n",
              "  {'text': 'On April 9, 2023, at approximately 12:00 PM, local law enforcement officials received a report of criminal activity at a commercial building within the city limits. Upon arrival at the scene, they discovered that the building was being utilized as a front for an illegal money laundering operation. The investigation identified the primary suspect, identified as John Doe, as the leader of the scheme. Evidence was collected at the scene, including banking records and a ledger detailing the transfer of funds. \\n\\nUpon questioning, Doe admitted to conducting money laundering activities in the building and providing false documents as part of the operation. In addition, his accomplices were identified and taken into custody for their involvement. All suspected parties were brought to the police station for further questioning and processing.\\n\\nThe ongoing investigation is focusing on identifying additional suspects, recovering the illegally acquired funds, and obtaining sufficient evidence to prosecute the case. Local authorities continue to urge the public to be aware of any suspicious activities and report them to the police.',\n",
              "   'entities': {}},\n",
              "  {'text': \"On April 11, 2032, at approximately 4:00 AM, several members of the local law enforcement agency were engaged in an operation to apprehend an individual believed to be involved in money laundering. They received a tip about the suspect from a reliable informant and staked out the area near the suspect's residence.\\nAfter apprehending the suspect, officers discovered evidence that the individual had been involved in a sophisticated money laundering operation. A search of the suspect's residence uncovered financial documents, accounts, and other evidence that implicated the suspect in a series of ongoing money laundering activities.\\nOfficers immediately contacted representatives of the financial industry and requested access to the suspect's accounts in order to further investigate the money laundering operation. An audit of the suspect's accounts revealed numerous transfers and deposits believed to have been performed for the purpose of evading financial law regulations.\\nThe suspect was subsequently arrested and charged with conducting money laundering and other related offenses. The investigation into the money laundering operation is still ongoing, with law enforcement agencies working with financial institutions to trace the money and uncover any potential accomplices.\",\n",
              "   'entities': {}},\n",
              "  {'text': \"On June 20, 2023, at approximately 9:00 PM, police received a tip regarding a potential money laundering operation being conducted within the city. Following an investigation, officers were able to identify the suspect as John Doe. Surveillance of the suspect's property revealed that he was actively conducting money laundering activities to conceal funds from authorities.\\n        After discovering the evidence, officers immediately secured a search warrant for the suspect's residence. Upon entering the property, they found various financial documents that were used to launder illegally obtained funds. The suspect was subsequently arrested and taken into police custody.\\n        Crime Scene investigators seized the evidence and conducted a thorough examination of the area, collecting financial documents, bank statements, and other related items as potential evidence. An ongoing investigation into John Doe's money laundering activities is currently being conducted, with the hope of finding additional information.\",\n",
              "   'entities': {}},\n",
              "  {'text': \"On June 20, 2023, at approximately 9:00 PM, the police were notified of a possible case of corporate espionage at a local business. Upon arriving at the scene, officers found the security perimeter had been breached and, after reviewing the surveillance footage, it was determined that the suspect had gained access approximately 30 minutes prior. Furthermore, the suspect was seen attempting to access various confidential files stored on the company's servers.\\n        With the assistance of IT professionals, police were able to identify the suspect as John Doe. After apprehending the individual, officers searched his person and found various sophisticated electronic equipment that is commonly used in such criminal activity.\\n        Crime scene investigators were dispatched to the business and conducted a thorough examination of the area, collecting potential evidence such as surveillance footage, company records, and electronic devices seized from the suspect. The investigation into the corporate espionage is ongoing, with efforts focused on gathering further evidence and determining the extent of the data breach.\",\n",
              "   'entities': {}},\n",
              "  {'text': \"On December 5, 2030, at around 11:30 AM, victims, identified as the Alaka Corporation, reported being engaged in corporate espionage by an unknown suspect. The victims stated that the suspect gained access to the corporate database via an unsecured network, obtaining sensitive company information and financial documents.\\n        Responding agents arrived at the scene within an hour of the report and were able to swiftly identify the source of the breach. Agents seized the suspect's computer and various devices, as well as documents that indicated the suspect was scheming to sell the stolen information to a known competitor.\\n        Forensics experts were dispatched to the location and conducted a comprehensive analysis of the suspect's devices, discovering a clear pattern of malicious activity that served a single purpose - stealing corporate information. The investigation into the corporate espionage is ongoing, with efforts directed at apprehending the perpetrator and recovering any stolen data.\",\n",
              "   'entities': {'White-Collar_Crimes': [[102, 132]]}},\n",
              "  {'text': \"On June 20, 2023, at approximately 9:00 PM, the suspect, identified as John Doe, was caught engaging in corporate espionage at a local business. The business owner had notified the police after discovering the suspect attempting to break into their computer system.\\n        Responding officers apprehended the suspect at the scene and placed him into custody. Officers then secured and searched the premises before gathering all related evidence, such as surveillance footage, witness statements, and any notes or documents the suspect had attempted to steal.\\n        Investigators with the specialized corporate espionage unit of the local police department were then assigned to the case. Upon further questioning, the suspect stated he was hired by a rival company to acquire confidential information. The investigation into the corporate espionage is ongoing, with efforts focused on apprehending the suspect's employer and locating any data stolen by the suspect.\",\n",
              "   'entities': {}},\n",
              "  {'text': 'On June 4, 2021, a group of defrauded investors reported to the police that they had been victims of a large-scale financial fraud. The investors recounted how they had been misled by an individual with false promises of lucrative returns on their investments. Following extensive interviews with the victims, it was determined that the fraud had taken place over a six-month period, during which time the individuals had been defrauded of a total of $2 million.\\n\\nCriminal investigators were assigned to the case and soon identified several suspects who had been involved in the misappropriation of funds. Over the course of their investigation, authorities were able to gather evidence including fraudulent bank documents and messages related to the fraud.\\n\\nThe case was brought to trial and the perpetrators were found guilty of defrauding the investors. Subsequent sentencing handed down included terms of imprisonment, fines, and the aim of providing financial restitution to the victims. The case serves as a reminder to prospective investors to be cautious and research reputable sources before engaging in significant financial investments.',\n",
              "   'entities': {'White-Collar_Crimes': [[28, 47]]}},\n",
              "  {'text': 'On March 12, 2021, at approximately 12:00 PM, the victims, a group of investors, reported being defrauded by an unknown individual. The victims stated that the unknown person had promised them substantial returns on their investments, however had failed to deliver. \\n\\nResponding officers arrived shortly after the report and interviewed the victims on the details of the incident. Further investigation revealed that the individual had been scammed by the same individual on multiple occasions over the past few months. \\n\\nCrime scene investigators were dispatched to the location and collected potential evidence such as transaction records and emails exchanged between the investors and the suspect. The investigation into the fraud is ongoing, with efforts currently focused on identifying the culprit and assessing the losses of the victims.',\n",
              "   'entities': {}},\n",
              "  {'text': \"On December 3, 2024, at approximately 3:00 PM, the victims, identified as a group of investors, reported being defrauded by a deceptive businessperson. The victims stated that the businessperson offered an overly generous investment opportunity and provided forged documents to support their claims.\\n        Responding officers arrived at the scene shortly after the report and collected testimonies and evidence that indicated the victims had been victims of a well-planned scheme. The victims had been persuaded to invest a large sum of money into a scheme, only to find out that the businessperson had moved assets to a different unknown account.\\n        Crime scene investigators were immediately dispatched to the scene and collected the victims' testimonies and evidence they had collected against the businessperson. The investigation into the fraud is ongoing, and efforts are focused on pinpointing the whereabouts of stolen money and identifying individuals behind the scheme.\",\n",
              "   'entities': {}},\n",
              "  {'text': \"On July 15, 2023, authorities uncovered an elaborate criminal enterprise orchestrated by local businessman John Doe. The investigation revealed that Doe had been operating multiple ponzi schemes, targeting unsuspecting investors and defrauding them out of hundreds of thousands of dollars. Doe had established a web of investments, shell companies, and offshore accounts to keep the schemes hidden from the public.\\n\\nInvestigators meticulously combed through bank statements, examined property records, and interviewed victimized investors to piece together the full scope of Doe's operation. Ultimately, Doe was arrested and charged with multiple counts of fraud and grand larceny. The investigation into the orchestrated ponzi schemes is ongoing, with efforts focused on recouping the stolen funds and working to close any remaining loopholes in Doe's network.\",\n",
              "   'entities': {'White-Collar_Crimes': [[709, 735]]}},\n",
              "  {'text': 'On June 20, 2023, at approximately 9:00 PM, the victim, identified as John Doe, reported that he had been the victim of orchestrated ponzi schemes. The victim stated that he had been deceived by multiple individuals, through a complex series of financial transactions, in order to make unauthorized profit. \\nResponding officers arrived at the scene within minutes of the report and conducted interviews with the victim and potential witnesses. After considering all available evidence, officers determined that the subject had been defrauded by those involved in the scheme.\\nCrime scene investigators were dispatched to the location and conducted a thorough examination of the area. Potential evidence such as documentation of the unauthorized financial transactions were collected and analyzed. The investigation into the ponzi schemes is ongoing, with efforts focused on identifying all of the subjects involved and gathering additional information necessary to press criminal charges.',\n",
              "   'entities': {'White-Collar_Crimes': [[120, 146]]}},\n",
              "  {'text': \"On January 28, 2023, police were alerted to a series of orchestrated ponzi schemes operated by an unknown suspect. Multiple victims came forward with details of their experiences, reporting of significant losses resulting from fraudulent investments in the suspect's schemes.\\nInvestigation into the suspect's activities revealed a complex web of financial transactions and false information meant to deceive unsuspecting victims. Members of the detective division worked closely with local financial institutions in order to identify and trace the suspect's numerous bank accounts, which police believe were used in the perpetuation of the ponzi schemes.\\nThe suspect remains at large, and authorities are continuing to pursue all leads in the case in an effort to apprehend and prosecute the individual responsible for the orchestrated ponzi schemes.\",\n",
              "   'entities': {'White-Collar_Crimes': [[56, 82], [823, 849]]}},\n",
              "  {'text': \"On June 20, 2023, at approximately 9:00PM, officers responded to a call on suspicion of tax evasion. Witnesses reported seeing a man, identified as John Doe, who had been engaging in suspicious financial transactions. Upon arriving at the scene, officers conducted an inquiry to determine whether or not the man had in fact been evading taxes by manipulating financial records.\\n\\nThe investigation revealed that the man had indeed been engaging in tax evasion by misreporting his income and understating his deductions. Officers obtained records of the financial transactions from the scene and surveilled the area to establish any potential accomplices. After examining the documents, officers were able to confirm that the man had been deliberately obscuring his financial activities to evade taxes.\\n\\nCrime scene investigators searched the area and collected potential evidence, including the suspect's personal financial records, tax documents, and financial statements. Detectives were also able to obtain witness statements and video surveillance footage. The investigation into the suspect's alleged tax evasion is ongoing, with further efforts being made to identify any possible partners or accomplices in the scheme.\",\n",
              "   'entities': {}},\n",
              "  {'text': \"On September 11, 2021, at approximately 6:00 PM, the suspect, identified as Jane Smith, was apprehended at her residence for engaging in tax evasion. The suspect had failed to provide the appropriate documents required to close a tax audit report and was subsequently arrested after evidence of her fraudulent activity was uncovered. \\n\\nResponding officers found documents in the suspect's possession which provided incriminating proof of her involvement in the scheme. A search of her residence revealed further evidence of her attempts to evade taxes, including bank statements and ledgers detailing her financial transactions.\\n\\nCrime scene investigators at the location conducted a thorough investigation and gathered additional evidence that will be used to build the case against the suspect. Officers also reported the suspect's refusal to cooperate with the investigation and provide the necessary information. \\n\\nThe investigation into the tax evasion case is ongoing, with the suspect currently being held in custody as more evidence and information is gathered.\",\n",
              "   'entities': {}},\n",
              "  {'text': \"On August 6, 2023, at around 5:00 PM, the suspect, identified as Jane Doe, was reported to have been engaging in tax evasion by local business owners. Officers responded to the calls and arrived at the scene to find the suspect using devious methods to reduce her taxable income. Witnesses notified the police of the suspect's activities and provided additional evidence to support their claims.\\n\\nCrime scene investigators were dispatched to the location and conducted a thorough examination of the premise, collecting potential evidence including financial records, ledgers, and tax returns. The investigation into the tax evasion is ongoing, with efforts focused on identifying any accomplices and file legal charges against the suspect.\",\n",
              "   'entities': {}},\n",
              "  {'text': 'On June 20, 2023, at approximately 9:00 PM, officers received a report alleging that an individual had falsified business documents in an attempt to defraud their employer of money. Responding officers arrived at the scene to interview witnesses which provided preliminary information linking the suspect to the crime scene. \\n\\nCrime scene investigators were then dispatched to collect and analyze any physical evidence such as paper documents, surveillance footage, and any other potential evidence. The investigation into the falsified documents is ongoing, with efforts focused on uncovering any more involved parties and the full scope of the criminal activity.',\n",
              "   'entities': {'White-Collar_Crimes': [[527, 546]]}},\n",
              "  {'text': \"On August 4, 2026, at approximately 11:30 AM, the suspect, identified as Jack Smith, was apprehended after attempting to use falsified documents to withdraw funds from a local bank. The teller immediately noticed the discrepancy and alerted authorities, who were already on the way as the suspect fled the scene. \\n\\nResponding officers were quickly able to apprehend the suspect and take him into custody. During a search of the suspect's person, officers found additional fraudulent documents and evidence of similar illegal activity. \\n\\nCrime scene investigators were dispatched to the scene to collect the evidence, including surveillance footage and all falsified documents. The investigation into the fraudulent activity is ongoing, with efforts focused on identifying the origin of the documents and any accomplices the suspect may have.\",\n",
              "   'entities': {'White-Collar_Crimes': [[125, 144], [656, 675]]}},\n",
              "  {'text': 'On March 5, 2045, at approximately 8:00PM, the victim, identified as Lisa Smith, reported suspicious activity related to the falsification of documents. The victim stated that she had been approached by an unknown individual who offered to provide her with fraudulent identification documents in exchange for a fee.\\n        Responding officers arrived at the scene shortly after the report and took statements from nearby witnesses, who stated that they had seen the individual fleeing the scene before law enforcement personnel arrived.\\n        Crime scene investigators were dispatched to collect any potential evidence, and internal investigators were assigned to trace the origin of the false documents. The investigation into the falsification of documents is ongoing, with efforts focused on finding and apprehending the individual responsible and establishing their motive.',\n",
              "   'entities': {}},\n",
              "  {'text': \"On June 20, 2023, at approximately 9:00 PM, the victim, identified as John Doe, reported that his funds were misused by an unknown party. The victim stated that the perpetrator had accessed his accounts and made unauthorised transfers without his permission. \\nResponding officers arrived at the scene within minutes of the report and began collecting evidence, including account and transaction records. Officers also conducted interviews with the victim and witnesses in order to establish a timeline of the events that occurred prior to the misuse of funds.\\nCrime scene investigators were dispatched to the location and conducted a thorough examination of the victim's accounts. Potential evidence was collected and analyzed in order to identify the perpetrator and determine the motive behind the act. The investigation into the misuse of funds is ongoing.\",\n",
              "   'entities': {}},\n",
              "  {'text': 'On June 19, 2023, the police department received reports of financial mismanagement and misuse of funds by an employee of a local business. Witnesses develop an investigation and eventually determined that the employee had fraudulently misused over $100,000 of corporate funds for personal gain.\\n\\nResponding officers promptly arrived at the scene and interviewed several witnesses and the business owner to gain a better understanding of the incident. Officers also collected financial records and other documents in order to ascertain the whereabouts and identity of the employee in question. The investigation is ongoing, and law enforcement officials are working to locate the employee and hold them accountable for their actions.',\n",
              "   'entities': {}},\n",
              "  {'text': \"On June 20, 2023, at approximately 9:00 PM, the victim, identified as John Doe, reported that funds had been misused from the business where he worked. He stated that the culprit had transferred money out of the company's account and had failed to provide an explanation.\\n        Responding officers arrived and interviewed the victimized party as well as other employees. Witnesses reported having seen suspicious activity prior to the complaint, including the perpetrator engaging in late-night access of the company's computers.\\n        Crime scene investigators were dispatched to the location and conducted a thorough examination of the scene. Bank statements, computer logs, and other financial records were collected as evidence and are currently being analyzed by forensics specialists.\\n        The investigation into the misuse of funds is ongoing, with efforts focused on identifying the perpetrator and determining the amount of money taken.\",\n",
              "   'entities': {}},\n",
              "  {'text': \"On May 15, 2022, at approximately 11:00 AM, the complainant, identified as Jane Smith, reported being the victim of a crime involving misrepresented financial statements. The complainant reported that the perpetrator had prepared and sent her false financial statements, designed to deceive her into believing that the perpetrator's company was making significant profits.\\n\\nResponding officers arrived at the scene shortly after the complaint was received and interviewed the victim, gathering further evidence to aid in the investigation. Suspect information was obtained and reviewed, leading officers to seek out the identified suspect for questioning. \\n\\nIn addition to interviewing the suspect, financial documentation and records were collected and reviewed in detail, revealing an inaccurate and misleading presentation of the suspect's financials. The evidence revealed the suspect had prepared and distributed financial statements in an effort to deceive the complainant into investing in his business. \\n\\nThe investigation into this crime is ongoing, with further evidence being gathered to build a convincing case against the suspect.\",\n",
              "   'entities': {'White-Collar_Crimes': [[134, 169]]}},\n",
              "  {'text': 'On January 17, 2022, the accounting department notified senior managers that financial statements issued by the company had been misrepresented. Employees reportedly had been falsifying fiscal records with the intent to deceive financial investors. \\n\\nResponding auditors were summoned to investigate the allegations and quickly determined that the financial statements had purposefully been altered. The auditing team then initiated a second audit of the company, reviewing all financial documents issued over the past year and collecting evidence and witness statements.\\n\\nFurther investigation revealed that a group of employees had been involved in the scheme, with the intention of artificially increasing the company’s stock value. Within days, the offending employees were terminated and the correct financial statements were submitted to the proper authorities. The investigation into the misrepresentation of financial statements is ongoing.',\n",
              "   'entities': {}},\n",
              "  {'text': \"On July 10, 2020, the Internal Revenue Service (IRS) received a tip alleging that an individual had intentionally misrepresented financial statements in an effort to avoid taxes. Responding investigators conducted a thorough examination of the individual's financial records and interviewed witnesses involved in the case. After reviewing the evidence, investigators concluded that the individual had intentionally inflated their reported income in order to reduce their taxable burden.\\n\\nThe investigators subsequently arranged for the individual to be arrested and charged with submitting false financial statements. Upon conviction, the individual was issued a harsh financial penalty and placed under probation for a period of three years. The case serves as a warning to taxpayers to remain compliant with all applicable regulations or risk being held accountable for their actions.\",\n",
              "   'entities': {'White-Collar_Crimes': [[114, 149]]}},\n",
              "  {'text': 'On June 13, 2023, at approximately 3:15 PM, the suspect, identified as Jane Smith, was observed by an undercover officer engaging in a kickback scheme with two known associates. The investigation had revealed that Jane Smith had agreed to accept illegal payment in exchange for influencing her department. The undercover officer watched from a discreet location as Smith accepted and pocketed the payment, at which point the officer arrested her for bribery.\\n        Responding officers arrived and transported Smith to the station where she was booked and charged with fraud and corruption. Detectives were dispatched to search her home and office, but the search yielded no further evidence.\\n        Crime scene investigators were then able to identify and interview the two associates who had been present, and the investigation led to the discovery of other evidence that suggested Smith had been engaged in a larger kickback network. The investigation is ongoing, and officers are conducting further interviews and collecting additional evidence.',\n",
              "   'entities': {}},\n",
              "  {'text': \"On May 9, 2027, at approximately 4:45 PM, the suspect, identified as Jane Doe, was reported to have been engaged in kickbacks with an unidentified partner. The informant stated that the kickbacks were facilitated over a series of transactions made under the table in order to gain a financial advantage.\\n        Responding officers arrived at the scene within minutes of the report and located the suspect in a nearby alley. Officers apprehended the suspect and identified her as the individual participating in the reported kickback scheme.\\n        Crime scene investigators were dispatched to the area and immediately began searching for potential evidence, collecting any documents or materials they could find before transporting the suspect to the police station for questioning. The investigation into the kickback scheme is ongoing with efforts focused on identifying the suspect's partner and determining the purpose of the transactions.\",\n",
              "   'entities': {'White-Collar_Crimes': [[105, 125]]}},\n",
              "  {'text': 'On April 1, 2023, at approximately 5:20 PM, a confidential informant reported to police that a local business had been engaging in kickbacks and illegal business practices. Upon further investigation, detectives discovered that the business was paying extra money to its customers as a reward for their continued service, while keeping this practice concealed from authorities and local regulations.\\n        Detectives obtained a search warrant for the business premises and seized a multitude of documents related to the kickbacks scheme. Following a thorough review of the documents, investigators identified the owner of the business as the mastermind behind the scheme.\\n        Detectives then conducted a series of interviews with the employees of the business, including the owner’s siblings, in order to establish the extent of the kickbacks and the underlying motives for the scheme. After thoroughly assessing the evidence collected during the search and the interviews, the police concluded that the owner had been involved in an illegal kickback scheme.\\n        The investigation into the engagement of kickbacks is ongoing, with efforts focused on identifying all parties involved in the scheme and uncovering any financial gains obtained as a result of it.',\n",
              "   'entities': {}},\n",
              "  {'text': \"On June 20, 2023, the Federal Trade Commission (FTC) filed a civil suit against a multinational corporation alleging that they had violated antitrust laws. The FTC's complaint alleges that the company's practices have had a substantial negative impact on competition in the market and that the company has used its dominant market position to drive out smaller competitors.\\n\\nResponding to the suit, the company issued a statement asserting its innocence and claiming that the charges leveled by the FTC were unfounded. Representatives of the company agreed to appear before a federal district court to present their case and rebut the allegations.\\n\\nAn investigation into the company's corporate activities was launched, with investigators collecting and analyzing a variety of evidence including financial records, customer data, and emails. The FTC has sought the assistance of both domestic and international regulatory bodies as it works to build its case against the corporation. The full extent of the company's alleged antitrust violations and potential sanctions remain uncertain as the investigation continues.\",\n",
              "   'entities': {'White-Collar_Crimes': [[131, 154]]}},\n",
              "  {'text': \"On June 20, 2023, at approximately 9:00 PM, an anonymous tip reported a company located in the city violating antitrust laws. Upon further investigation, agents discovered that the company had been illegally restricting the sale of its products to benefit its own interests.\\n        In response to the violation, investigators issued a search warrant. They confiscated several items from the business, including documents, computers, and data storage devices. All the evidence was brought to the station for a detailed analysis.\\n        Later, after carefully examining the evidence, agents from the antitrust division communicated with the businesses' executives to conduct interviews. All suspects denied any involvement in the violations, however, agents were able to obtain detailed statements that confirmed their involvement.\\n        With the new evidence, the case was brought to court and the executives were ultimately fined for their violations. The company also paid a hefty compensiation to the involved parties. The investigation is ongoing, with further arrests expected in the coming days.\",\n",
              "   'entities': {}},\n",
              "  {'text': 'On June 13, 2023, police were alerted to a possible violation of antitrust laws by a major technology company. Upon investigation, it was revealed that the company had been manipulating certain markets to their advantage by using deceptive practices.\\n\\nResponding officers swiftly gathered evidence, including internal company emails and financial records, to build an adequate case against them. Witnesses were also interviewed, providing further evidence of wrongdoing.\\n\\nThe company was subsequently apprehended and taken into custody. Criminal charges relating to antitrust law violations have since been officially filed. \\n\\nThe investigation into the violation of antitrust laws remains ongoing, with efforts focused on identifying other possible perpetrators and taking steps to ensure the situation is not repeated in the future.',\n",
              "   'entities': {}},\n",
              "  {'text': 'On August 12, 2021, at around 11:30 PM, an anonymous caller contacted the police to report that a woman had been raped in an alley behind a local bar. First responders arrived on the scene shortly thereafter and identified the victim as Jane Doe. She had been physically and sexually assaulted and appeared to be in shock. Officers quickly provided her with first aid and called for additional medical assistance. \\n\\nParamedics transported the victim to the nearby hospital, where she was treated for her injuries and provided with medical and psychological support. Meanwhile, police officers combed the alley for evidence and collected statements from anyone nearby who witnessed the attack. Forensic specialists also collected any potential biological evidence from the crime scene. A detailed investigation into the rape is now underway, with police working to find the perpetrator and uncover the motive behind the attack.',\n",
              "   'entities': {'Sexual_Crimes': [[113, 118]]}},\n",
              "  {'text': \"On June 20, 2023, at approximately 9:00 PM, the victim, identified as Jane Doe, reported being raped by an unknown assailant outside a local convenience store. The victim stated that the assailant grabbed her from behind, pulled her into a secluded area behind the store and then proceeded to sexually assault her.\\n        Responding officers arrived at the scene a short time later and were greeted by the visibly shaken victim, who was displaying signs of shock from the traumatic event. Officers immediately called for medical assistance and provided the victim with a blanket and DVS support until paramedics arrived to transport her to the hospital.\\n        Crime scene investigators were dispatched to the location and conducted a thorough examination of the area, collecting potential evidence such as witness statements, surveillance footage and the victim's personal belongings. The investigation into the rape is ongoing, with efforts focused on identifying the assailant and determining whether there is a connection to any similar recent cases.\",\n",
              "   'entities': {'Sexual_Crimes': [[95, 100]]}},\n",
              "  {'text': \"On June 20, 2023, at approximately 9:00 PM, the victim, identified as John Doe, reported being raped by an unknown assailant outside a local convenience store. The victim stated that the assailant approached him from behind and forced him to the ground before fleeing the scene. \\nResponding officers arrived at the scene within minutes of the report and observed the victim displaying visible signs of distress and anxiety. Officers immediately called for medical assistance and provided initial first aid until paramedics arrived to transport the victim to the hospital for further evaluation and treatment.\\nCrime scene investigators were dispatched to the location and conducted a thorough examination of the area, collecting potential evidence such as surveillance footage, witness statements, and the victim's personal belongings. The investigation into the rape is ongoing, with efforts focused on identifying the assailant and establishing a motive for the attack.\",\n",
              "   'entities': {'Sexual_Crimes': [[95, 100]]}},\n",
              "  {'text': \"On June 20, 2023, at approximately 9:00 PM, the victim, identified as John Doe, reported being sexually assaulted by an unknown assailant in a nearby park. The victim claimed that the assailant approached him from behind, groping him without consent before running away into the night.\\n        Responding officers arrived at the scene within minutes of the report and observed the victim displaying marks on their body, as well as signs of emotional distress. Officers provided initial emotional support and called for medical assistance to examine the victim for any physical and emotional injuries.\\n        Crime scene investigators were dispatched to the location and conducted a thorough examination of the area, collecting potential evidence such as surveillance footage, witness statements, and the victim's personal belongings. The investigation into the assault is ongoing, with efforts focused on identifying the assailant and establishing a motive for the attack.\",\n",
              "   'entities': {}},\n",
              "  {'text': \"On April 2, 2021, at approximately 10:30 PM, the victim, identified as Jane Smith, reported being sexually assaulted by an unknown assailant outside her apartment building. The victim stated that the assailant grabbed her from behind and proceeded to touch her inappropriately before fleeing the scene.\\n        Responding officers arrived at the scene within minutes of the report and observed the victim displaying visible signs of distress. Officers immediately called for medical assistance and provided initial first aid until paramedics arrived to transport the victim to the hospital for further evaluation and treatment.\\n        Crime scene investigators were dispatched to the location and conducted a thorough examination of the area, collecting potential evidence such as surveillance footage, witness statements, and the victim's personal belongings. The investigation into the sexual assault is ongoing, with efforts focused on identifying the assailant and establishing a motive for the attack.\",\n",
              "   'entities': {}},\n",
              "  {'text': \"On June 20, 2023, at approximately 9:00 PM, the victim, identified as John Doe, reported being sexually assaulted by an unknown assailant outside a local convenience store. The victim stated that the assailant approached him from behind, forcibly grabbing his groin before fleeing the scene. \\n        Responding officers arrived at the scene within minutes of the report and observed the victim displaying visible signs of distress and shock. Officers immediately called for medical assistance and provided initial first aid until paramedics arrived to transport the victim to the hospital for further evaluation and treatment. \\n        Crime scene investigators were dispatched to the location and conducted a thorough examination of the area, collecting potential evidence such as surveillance footage, witness statements, and the victim's personal belongings. The investigation into the sexual assault is ongoing, with efforts focused on identifying the assailant and establishing a motive for the attack.\",\n",
              "   'entities': {}},\n",
              "  {'text': \"On July 10, 2023, at approximately 8:00 PM, the victim, identified as Ashley Smith, reported being harassed by an unknown perpetrator outside her home. The victim stated that the perpetrator followed her from the bus stop, making inappropriate comments and suggestive gestures.\\n        Responding officers arrived at the scene soon after the report and observed the victim displaying visible signs of distress. Officers immediately began questioning the perpetrator and requested backup assistance to ensure the safety of the victim.\\n        Crime scene investigators were dispatched to the location and conducted a thorough examination of the area, collecting potential evidence such as witness statements, surveillance footage, and the victim's personal belongings. The investigation into the harassment is ongoing, with efforts focused on identifying the perpetrator and determining a motive for the attack.\",\n",
              "   'entities': {'Sexual_Crimes': [[99, 107]]}},\n",
              "  {'text': 'On May 6, 2021, at around 8:00 PM, the victim, identified as Jane Smith, reported being harassed by an unknown suspect at a local park. The victim stated that the suspect had been following her and making inappropriate comments and advances the entire time.\\n        Responding officers quickly arrived at the scene and observed the victim to be visibly shaken and distressed. They immediately asked the suspect to leave the area and conducted a search for any potential weapons or contraband. Additionally, officers provided the victim with a ride to a safe location and obtained contact information to follow up on the case.\\n        Crime scene investigators were dispatched to the scene and conducted a detailed examination of the area, gathering information from possible witnesses, CCTV footage, and any physical objects that might be related to the incident. The investigation into the harassing incident is still ongoing as authorities work to identify and locate the suspect.',\n",
              "   'entities': {'Sexual_Crimes': [[88, 96]]}},\n",
              "  {'text': \"On June 20, 2023, at approximately 9:00 PM, the victim, identified as John Doe, reported being harassed by an unknown individual outside a local convenience store. The victim stated that the individual had approached him from behind, taunting him before fleeing the scene. \\nResponding officers arrived at the scene within minutes of the report and observed the victim to be visibly upset, though displaying no physical injury. Officers provided words of comfort and offered the victim to file a formal report, to which the victim consented.\\nCrime scene investigators were dispatched to the location and conducted a thorough examination of the area, collecting potential evidence such as surveillance footage, witness statements, and the victim's personal belongings. The investigation into the harassment is ongoing, with efforts focused on identifying the individual and determining the intent of the attack.\",\n",
              "   'entities': {'Sexual_Crimes': [[95, 103]]}},\n",
              "  {'text': \"On June 20, 2023, at approximately 9:00 PM, the victim, identified as John Doe, reported being molested by an unknown individual outside a local convenience store. The victim stated that the person touched him inappropriately before fleeing the scene. \\n        Responding officers arrived at the scene within minutes of the report and observed the victim displaying signs of shock and distress. Officers immediately called for medical assistance and provided emotional support until paramedics arrived to transport the victim to the hospital for further evaluation and treatment.\\n        Crime scene investigators were dispatched to the location and conducted a thorough examination of the area, collecting potential evidence such as surveillance footage, witness statements, and the victim's personal belongings. The investigation into the molestation is ongoing, with efforts focused on identifying the individual and establishing a motive for the attack.\",\n",
              "   'entities': {'Sexual_Crimes': [[95, 103]]}},\n",
              "  {'text': \"On November 4, 2022, at approximately 8:00 PM, the victim, identified as Jane Doe, reported being molested by an unknown suspect inside of a local convenience store. The victim stated that the suspect approached her from behind, repeatedly touching her in inappropriate places and forcing her to the floor.\\n\\nResponding officers arrived at the scene shortly after the report was made and observed the victim in distress. Officers immediately called for medical assistance and provided comfort until paramedics arrived to transport the victim to the hospital for further evaluation and treatment.\\n\\nCrime scene investigators were dispatched to the location and conducted a thorough examination of the area, collecting evidence such as surveillance footage, witness statements, and the victim's personal belongings. The investigation into the molestation is ongoing, with efforts taken to identify the suspect and to understand the motive behind the attack.\",\n",
              "   'entities': {'Sexual_Crimes': [[98, 106]]}},\n",
              "  {'text': \"On June 20, 2023, at approximately 9:00 PM, the victim, identified as John Doe, reported being molested by an unknown assailant outside a local convenience store. The victim stated that the assailant approached him from behind, pushing him up against a wall before fleeing the scene.\\n        Responding officers arrived at the scene within minutes of the report and observed the victim displaying visible signs of distress. Officers immediately called for medical assistance and provided initial first aid until paramedics arrived to transport the victim to the hospital for further evaluation and treatment.\\n        Crime scene investigators were dispatched to the location and conducted a thorough examination of the area, collecting potential evidence such as surveillance footage, witness statements, and the victim's personal belongings. The investigation into the molestation is ongoing, with efforts focused on identifying the assailant and establishing a motive for the attack.\",\n",
              "   'entities': {'Sexual_Crimes': [[95, 103]]}},\n",
              "  {'text': \"On June 20, 2023, at approximately 9:00 PM, the victim, identified as John Doe, reported being exploited by an unknown perpetrator. The victim stated that the perpetrator approached him and demanded money in exchange for harm or threat of harm. When the victim refused, the perpetrator threatened to publicly disclose sensitive personal information.\\n        Responding officers arrived at the scene within minutes of the report and gathered the victim's account of the incident. Officers conducted a thorough search in the area, but were unable to locate the perpetrator.\\n        Crime scene investigators were dispatched to the location and conducted a thorough examination of the area, collecting potential evidence such as surveillance footage, witness statements, and the victim's personal belongings. The investigation into the exploitation is ongoing, with efforts focused on identifying the perpetrator and prevent any other individuals from becoming a victim.\",\n",
              "   'entities': {'Sexual_Crimes': [[95, 104]]}},\n",
              "  {'text': \"On June 20, 2023, at approximately 9:00 PM, the victim, identified as John Doe, reported being exploited by an unknown perpetrator. The victim stated that the perpetrator had assumed control of the victim's bank account and withdrew funds without permission.\\nResponding officers arrived at the scene within minutes of the report and began conducting an investigation into the incident. Officers also took steps to protect the victim's accounts, freezing them in order to minimize any further financial damage.\\nCrime scene investigators were dispatched to the location and conducted a thorough examination of the victim's accounts, collecting evidence such as transaction records and account statements to be used in identifying the perpetrator. The investigation into the exploitation is ongoing, with efforts focused on identifying the perpetrator and securing the funds stolen.\",\n",
              "   'entities': {'Sexual_Crimes': [[95, 104]]}},\n",
              "  {'text': \"On July 12, 2023, at approximately 2:00 PM, the victim, identified as Mary Smith, reported being exploited by an unknown individual at a nearby park. The victim stated that she was taken advantage of after being approached by the individual, who asked for her help in finding the address of a nearby restaurant. Upon providing the address, the individual violated the victim's trust by stealing her wallet and cell phone before fleeing the scene. \\n        Responding officers arrived at the site soon after the report and found the victim distressed and disoriented. Officers immediately called for medical assistance and provided initial first aid until paramedics arrived to transport the victim to the hospital for further evaluation and treatment.\\n        Crime scene investigators were dispatched to the location and conducted a thorough examination of the area, collecting potential evidence such as surveillance footage, witness statements, and the victim's personal belongings. With the primary goal being to identify the individual responsible for the exploitation, the investigation is ongoing, with efforts focused on establishing a motive for the crime.\",\n",
              "   'entities': {'Sexual_Crimes': [[97, 106]]}},\n",
              "  {'text': \"On June 20, 2023, at approximately 9:00 PM, the victim, identified as John Doe, reported being fondled by an unknown assailant outside a local convenience store. The victim stated that the assailant approached him from behind and made inappropriate and unwanted physical contact. The assailant then fled the scene.\\n        Responding officers arrived at the scene within minutes of the report and listened to the victim's account of the events. Officers immediately began searching the area for the assailant as well as witnesses in the area.\\n        Crime scene investigators were dispatched to the location and conducted a thorough examination of the area, collecting potential evidence such as surveillance footage, witness statements, and the victim's clothing. The investigation into the fondling is ongoing, with efforts focused on identifying the assailant and establishing a motive for the attack.\",\n",
              "   'entities': {'Sexual_Crimes': [[95, 102]]}},\n",
              "  {'text': \"On September 2, 2023, at around 3:30 PM, the victim, identified as Jane Smith, reported being fondled by an unknown assailant in an alleyway behind a popular restaurant. The victim recalled that the assailant touched her inappropriately before fleeing the scene.\\n        Responding officers arrived at the scene soon after the report was filed and observed the victim displaying signs of distress. Officers comforted the victim and immediately called for medical assistance. Paramedics arrived shortly after and transported the victim to the hospital for further evaluation and counselling.\\n        Crime scene investigators were dispatched to the location and conducted a detailed search of the area, gathering evidence such as surveillance footage, witness statements, and the victim's personal belongings. The investigation into the fondling is still on-going, with authorities continuing their efforts to identify the assailant and uncover a possible motive for the attack.\",\n",
              "   'entities': {'Sexual_Crimes': [[94, 101]]}},\n",
              "  {'text': \"On June 20, 2023, at approximately 9:00 PM, the victim, identified as John Doe, reported being fondled by an unknown assailant outside a local convenience store. The victim stated that the assailant had approached him from behind, rubbing his back and other body parts before fleeing the scene.\\n        Responding officers arrived at the scene within minutes of the report and observed the victim displaying visible signs of distress. Officers immediately called for medical assistance and provided initial first aid until paramedics arrived to transport the victim to the hospital for further evaluation and treatment.\\n        Crime scene investigators were dispatched to the location and conducted a thorough examination of the area, collecting potential evidence such as surveillance footage, witness statements, and the victim's personal belongings. The investigation into the fondling is ongoing, with efforts focused on identifying the assailant and establishing a motive for the attack.\",\n",
              "   'entities': {'Sexual_Crimes': [[95, 102]]}},\n",
              "  {'text': 'On October 15, 2023, at approximately 11:30 PM, the victim, identified as Jane Doe, reported being groped by an unknown suspect. The victim stated that the suspect approached her from the side, touching her inappropriately before quickly escaping the area.\\nResponding officers arrived at the scene within minutes of the report and noted that the victim was in a state of shock. Police officers provided comfort and initial support to Jane before paramedics arrived to transport her to the local hospital for further evaluation and treatment.\\nCrime scene investigators were dispatched to the location and conducted a thorough examination of the area, collecting evidence such as CCTV footage, witness statements, and Jane’s personal belongings. The investigation into the groping incident is ongoing, with investigators determined to identify the individual responsible and shed light on their motives.',\n",
              "   'entities': {'Sexual_Crimes': [[99, 105]]}},\n",
              "  {'text': 'On July 17, 2023, at approximately 8:05 PM, the victim, identified as Jane Smith, reported being groped by an unknown suspect while waiting for the bus. The victim said the suspect approached her from behind and grabbed her inappropriately before running away. \\nResponding officers arrived shortly after the report was made, and observed the victim visibly anxious and shaking. Officers offered words of comfort while they checked her for any visible injuries. \\nCrime scene investigators were dispatched to the location soon after to begin their search for potential evidence, including the suspect’s description, witness accounts, and/or any videos of the incident. The search for the suspect remains ongoing, while the motive for the groping remains unknown.',\n",
              "   'entities': {'Sexual_Crimes': [[97, 103]]}},\n",
              "  {'text': \"On August 16, 2022, at approximately 11:00 PM, the victim, identified as Jane Smith, reported being groped by an unknown assailant outside a nearby park. The victim stated that the assailant approached her from behind, grabbing her inappropriately before fleeing the scene. \\nResponding officers arrived at the scene within minutes of the report and observed the victim displaying visible signs of distress and fear. Officers immediately called for medical assistance and provided initial comfort and support until police officers arrived to further investigate the incident.\\nCrime scene investigators were dispatched to the location and conducted an extensive search of the area, collecting potential evidence such as witnesses' testimonies, clothes of the victim, and CCTV footage. The investigation into the assault is ongoing, with efforts aimed at identifying the assailant and uncovering the underlying motive of the attack.\",\n",
              "   'entities': {'Sexual_Crimes': [[100, 106]]}},\n",
              "  {'text': 'On August 18, 2025, at approximately 11:45 PM, the victim reported being a witness to a crime occurring near the park. The victim stated they saw an individual identified as John Smith exhibiting indecent exposure in the park after dark. The victim further reported that the individual was completely unclothed and appeared to be intoxicated. \\n        Police Officers arrived to the scene soon after the report was made and took the individual into custody without incident. The individual was brought to a local police stationfor questioning and it was determined he was in violation of a local indecent exposure ordinance. \\n        Following the interaction, crime scene investigators were dispatched to collect surveillance footage from the area and spoke with additional witnesses. The investigation into the indecent exposure incident is ongoing, with further efforts focused on determining the intent of the individual’s actions that evening.',\n",
              "   'entities': {}},\n",
              "  {'text': 'On March 10, 2024, at approximately 6:45 PM, the victim, identified as Jane Doe, reported being a victim of indecent exposure. The victim stated that she was walking in downtown when the suspect, who had been following her for some time, suddenly stopped and exposed his genitals to her. The suspect then ran away when the victim screamed.\\n        Responding officers arrived at the scene within minutes of the report and observed the victim to be visibly distressed. Officers provided immediate comfort and counsel to the victim and called for medical assistance as a precaution. \\n        Crime scene investigators were dispatched to the location and conducted a thorough examination of the area, collecting potential evidence such as surveillance footage, witness statements, and the victim’s clothing. The investigation into the indecent exposure is ongoing, with efforts focused on identifying the suspect and assessing both the suspect’s intent and the victim’s distress.',\n",
              "   'entities': {}},\n",
              "  {'text': 'On June 20, 2023, at approximately 9:00 PM, the victim, identified as John Doe, reported being victim to an incident of indecent exposure by an unknown individual. The victim stated that the perpetrator exposed himself while walking past him on the sidewalk as he stopped to take a phone call.\\n        Responding officers arrived at the scene within minutes of the report and observed the victim visibly distressed and shaken. After providing a formal statement, officers immediately began canvasing the area for potential witnesses and security footage.\\n        Crime scene investigators were dispatched to the location and conducted a thorough examination of the area, collecting potential evidence such as surveillance footage, witness statements, and any residual physical evidence. The investigation into the indecent exposure is ongoing, with efforts focused on identifying the perpetrator and his motives.',\n",
              "   'entities': {}},\n",
              "  {'text': \"On June 20, 2023, at approximately 9:00 PM, the victim, identified as John Doe, reported being engaged in non-consensual acts by an unknown perpetrator outside a local convenience store. The victim stated that the perpetrator intimidated them into engaging in unwanted acts while threatening them with physical harm if they refused.\\n        Responding officers arrived at the scene within minutes of the report and observed the victim displaying visible signs of distress. Officers immediately called for medical assistance and provided counseling while paramedics arrived to transport the victim to the hospital for further evaluation and treatment.\\n        Crime scene investigators were dispatched to the location and conducted a thorough examination of the area, collecting potential evidence such as surveillance footage, witness statements, and the victim's personal belongings. The investigation into the incident is ongoing, with efforts focused on identifying the perpetrator and determining whether the attack was motivated by hate or bias.\",\n",
              "   'entities': {'Sexual_Crimes': [[95, 125]]}},\n",
              "  {'text': \"On June 20, 2023, at approximately 9:00 PM, the victim, identified as John Doe, reported being engaged in non-consensual acts outside a local convenience store. The victim stated that the assailant approached him from behind, forcefully grabbing him before attempting to remove his clothing.\\n        Responding officers arrived at the scene within minutes of the report and observed the victim to be visibly distressed and distressed. Officers immediately intervened, separating the assailant from the victim and instructing the assailant to remain on the scene while the victim was given medical assistance.\\n        Crime scene investigators were dispatched to the location and collected potential evidence such as surveillance footage, witness statements, and the victim's personal belongings. The investigation into the non-consensual acts is ongoing, with efforts focused on identifying and apprehending the assailant, as well as establishing a motive for the attack.\",\n",
              "   'entities': {'Sexual_Crimes': [[95, 125]]}},\n",
              "  {'text': \"On April 10, 2020, at approximately 11:00 PM, the victim, identified as Jane Doe, reported being subjected to non-consensual acts by an unknown assailant outside a local bar. The victim stated that the assailant had approached her from behind, grabbing her and attempting to pull her away from the bar against her will. She was able to escape the scene when her friends intervened and the assailant fled. \\n        Responding officers arrived at the scene within minutes of the report and observed the victim displaying visible signs of distress. Officers immediately interviewed the victim and gathered necessary information to assist in the investigation. \\n        Crime scene investigators were dispatched to the location and conducted a thorough examination of the area, collecting potential evidence such as surveillance footage, witness statements, and the victim's personal belongings. The investigation into the non-consensual acts is ongoing, with efforts focused on identifying the assailant and assessing the situation.\",\n",
              "   'entities': {}},\n",
              "  {'text': \"On June 20, 2023, at approximately 9:00 PM, the victim, identified as John Doe, reported being coerced into a vehicle by two unknown assailants. The victim stated that one of the assailants brandished a firearm, threatening physical harm if he refused to comply with the demands.\\n        Responding officers arrived at the scene within minutes of the report and searched the surrounding area for the vehicle in question. With the assistance of witnesses in the area, the officers were able to track the vehicle to a nearby alleyway and intercept it. \\n        Crime scene investigators were dispatched to the location and conducted a thorough examination of the suspect's vehicle, gathering evidence related to the incident. The investigation into the coercion is ongoing, with efforts focused on identifying the assailants and apprehending those responsible.\",\n",
              "   'entities': {'Sexual_Crimes': [[95, 102]]}},\n",
              "  {'text': \"On June 20, 2023, at approximately 9:00 PM, the victim, identified as Jane Doe, reported being coerced by an unknown individual outside a local convenience store. The victim stated that the individual had threatened her with physical harm until she had agreed to relinquish her personal belongings.\\n        Responding officers arrived at the scene within minutes of the report and observed the victim visibly shaken and displaying distress. Officers immediately called for additional support, including victim advocates and mental health professionals, to provide support and resources to the victim.\\n        Crime scene investigators were dispatched to the location and conducted a thorough examination of the area, collecting potential evidence such as surveillance footage, witness statements, and the victim's personal belongings. The investigation into the coercion is ongoing, with efforts focused on identifying the individual and determining a motive for the incident.\",\n",
              "   'entities': {'Sexual_Crimes': [[95, 102]]}},\n",
              "  {'text': \"On June 20, 2023, at approximately 9:00 PM, the victim, identified as John Doe, reported being coerced by an unknown assailant outside a local convenience store. The victim stated that the assailant approached him with threatening language and gestures, intimidation him to carry out their demands before fleeing the scene.\\n        Responding officers arrived at the scene within minutes of the report and observed the victim displaying signs of distress. Officers immediately began questioning witnesses and nearby bystanders in order to gather more information.\\n        Crime scene investigators were dispatched to the location and conducted a thorough examination of the area, collecting potential evidence such as surveillance footage, witness statements, and the victim's personal belongings. The investigation into the coercion is ongoing, with efforts focused on identifying the assailant and establishing a motive for the attack.\",\n",
              "   'entities': {'Sexual_Crimes': [[95, 102]]}},\n",
              "  {'text': 'On October 21, 2023, at approximately 11:00 PM, the victim, identified as Jane Doe, reported being victimized by an unknown assailant. According to the victim, the assailant tricked her into entering a nearby alleyway in order to purchase a product they had been selling online. The suspect then produced a handgun, demanding the victim turn over all of her belongings. The victim complied, and the assailant fled the scene with her personal items.\\n        Responding officers arrived and interviewed the victim, taking note of the items stolen, which included her wallet and phone. The officers also searched the surrounding area, but were unable to locate the suspect. The victim was escorted home and was advised to take extra precaution going forward.\\n        Chief officers dispatched an investigative team to the area and conducted a detailed analysis of the crime scene, collecting potential evidence such as cell phone logs and security footage. The investigation into the victimization is still active, with officers continuing to track down the suspect and recompensate the victim for her lost possessions.',\n",
              "   'entities': {'Sexual_Crimes': [[99, 109]]}},\n",
              "  {'text': \"On June 20, 2023, at approximately 9:00 PM, the victim, identified as John Doe, reported being victimized by an unknown perpetrator inside a local convenience store. The victim stated that the perpetrator followed him inside and stole money from his wallet before fleeing the scene.\\nResponding officers arrived at the scene within minutes of the report and observed the victim visibly shaken and distressed. Officers comforted the victim and began questioning witnesses for possible leads on the perpetrator.\\nCrime scene investigators were dispatched to the location and conducted a thorough examination of the area, collecting potential evidence such as surveillance footage, witness statements, and the victim's personal belongings. The investigation into the victimization is ongoing, with efforts focused on identifying the perpetrator and bringing them to justice.\",\n",
              "   'entities': {'Sexual_Crimes': [[95, 105]]}},\n",
              "  {'text': \"On August 26, 2021, at around 1:00 PM, the victim, identified as Jane Smith, reported being victimized by an unidentified perpetrator in a nearby park. The victim stated that the perpetrator appeared out of nowhere and took her wallet before quickly running away.\\nResponding officers arrived at the scene shortly after the report and noticed the victim looking distressed and scared. Officers offered to call for medical assistance, though the victim declined and requested that a report be filed instead.\\n\\nCrime scene investigators were sent to the park to investigate and gather evidence that might lead them to the perpetrator. They collected CCTV footage from the area, as well as witness statements, and the victim's personal belongings that were left at the scene. The investigation into the incident is ongoing, with investigators focusing their efforts on tracking the perpetrator and gathering more information about the incident.\",\n",
              "   'entities': {'Sexual_Crimes': [[92, 102]]}},\n",
              "  {'text': \"On July 25, 2023, at approximately 3:00 AM, the victim, identified as Jane Doe, reported being a victim of voyeurism. The victim stated that an unknown individual was peering in her bedroom window while she was sleeping, and that she was able to scare the suspect away by activating her home alarm system.\\n        Responding officers arrived at the scene and noticed the victim's bedroom window had been damaged, likely from where the suspect attempted to gain access to the dwelling. Officers immediately began canvassing the neighborhood and gathering security footage from nearby businesses in an effort to identify the suspect.\\n        Crime scene investigators were called to the residence and collected evidence including fingerprints, potential surveillance footage, and witness statements. The evidence technicians also analyzed the scene and determined that the suspect likely attempted to gain access to the home through the victim's bedroom window. The investigation into the voyeurism is ongoing, with efforts focused on identifying the suspect and bringing them to justice.\",\n",
              "   'entities': {'Sexual_Crimes': [[107, 116], [987, 996]]}},\n",
              "  {'text': \"On October 12, 2032, at approximately 11:15 PM, the victim, identified as Jane Smith, reported being a victim of voyeurism by an unknown suspect. The victim stated that the suspect was peering through the window of her home, seeing her through the closed blinds. She also noticed a flashlight in the suspect's hand, on and off, as she frantically closed all of her windows and curtains.\\n        Responding officers arrived at the scene within a few minutes of the report and performed a perimeter sweep of the area, looking for any further signs of the suspect. The subsequent search revealed nothing, so officers also questioned nearby neighbors and collected any possible surveillance footage of the incident.\\n        Crime scene investigators conducted a thorough examination of the area, collecting evidence such as surveillance footage and witness statements. The investigation into the voyeurism is ongoing, with efforts focused on identifying the suspect and any possible motives for the unwelcome act.\",\n",
              "   'entities': {'Sexual_Crimes': [[113, 122], [892, 901]]}},\n",
              "  {'text': \"On August 12, 2023, at approximately 11:00 PM, the victim, identified as Jane Smith, reported being a victim of voyeurism by an unknown suspect. The victim claimed to have noticed the suspect crouching in the bushes outside her window, watching her and taking photos with a camera. She immediately contacted the police and requested assistance.\\n        Responding officers arrived at the scene within minutes of the report and observed the suspect fleeing the area. Officers quickly began a search of the neighborhood, however they were unable to locate the suspect.\\n        Crime scene investigators were dispatched to the location and conducted a thorough examination of the area, collecting potential evidence such as surveillance footage and witness statements. The investigation into the voyeurism incident is ongoing, with efforts focused on identifying the suspect and ensuring the victim's safety.\",\n",
              "   'entities': {'Sexual_Crimes': [[112, 121], [793, 802]]}},\n",
              "  {'text': \"On October 25, 2021, at approximately 1:15 PM, police received a report of suspicious activity at an internet cafe located on the outskirts of town. Responding officers immediately launched an investigation into the matter, which led to the discovery of material believed to depict the production of child pornography. The suspect, identified as Robert Smith, was arrested on the spot and taken into custody pending further charges. \\n\\nDetectives also identified several computers within the cafe that had been used to store the illegal material, and seized them as evidence. Forensic specialists were dispatched to examine the computers, ultimately uncovering digital footprints that linked Smith to the illicit activity. Following their investigation, detectives obtained a search warrant for Smith's home, which resulted in the retrieval of additional evidence related to the production of child pornography. \\n\\nThe case is currently under investigation, with efforts focused on identifying possible victims and any additional accomplices in the crime.\",\n",
              "   'entities': {}},\n",
              "  {'text': \"On June 20, 2023, at approximately 9:00 PM, the victim, identified as John Doe, reported seeing an unknown individual producing child pornography inside a shopping mall bathroom. The victim stated that he noticed a suspicious man lingering outside the restroom before entering and exiting the restroom after a short period.\\n        Responding officers arrived at the scene within minutes of the report and conducted a search of the premises, locating the suspect in the mall. Upon interrogating the suspect, officers noticed several electronic devices in his possession that were found to contain videos and images of child pornography.\\n        Crime scene investigators were dispatched to the location and conducted a thorough examination of the suspect's devices, downloading the child pornography found and making sure to preserve it for trial. The investigation into the production of child pornography is ongoing, with efforts focused on identifying any victims as well as any online associated with the suspect.\",\n",
              "   'entities': {}},\n",
              "  {'text': \"On February 2nd, 2024, a witness reported spotting an unknown individual producing child pornography outside of a public park. The witness provided details of the individual, including clothing, height, and general mannerisms, as well as a description of the activity.\\n\\nResponding officers quickly arrived at the scene to investigate the report. Upon their arrival, officers noticed the individual with what appeared to be a camera, as described by the witness, and quickly apprehended the suspect. \\n\\nOfficers seized the camera and its contents and transported the suspect to the police station for questioning. An investigation into the activities of the suspect revealed incriminating evidence of the production of child pornography.\\n\\nForensics teams were dispatched to further examine the evidence collected, including the camera and any images on it.The investigation into the production of child pornography is ongoing, with efforts focused on determining the source of the material and the scope of the suspect's activities.\",\n",
              "   'entities': {}},\n",
              "  {'text': \"On July 5, 2023, at approximately midnight, police were alerted to the presence of a possible solicitation of prostitution near the waterfront. Upon arriving at the location, officers observed an adult male and adult female in an altercation, with the male attempting to solicit sexual favors in exchange for money. The female refused the request and reported the male's actions to authorities.\\n \\nResponding officers immediately contacted the male subject, who confirmed that he had attempted to solicit prostitution. Officers issued a warning to the male and directed him to leave the area. The female was offered assistance and offered counseling and other social services.\\n\\nCrime scene analysts were dispatched to the scene to survey the area and acquire any potential evidence. During the investigation, evidence such as cell phone and video recordings, as well as statements from witnesses, were collected. The investigation remains open pending further evidence and the identification of any additional suspects involved in the solicitation of prostitution.\",\n",
              "   'entities': {}},\n",
              "  {'text': 'On August 17, 2021, at around 5:30 PM, the suspect, identified as Jane Smith, was observed soliciting prostitution from a suspected sex worker near a downtown street corner. Upon approaching the suspect, police officers issued a warning and instructed her to cease her activities immediately. However, the suspect refused to comply and persisted in her solicitation.\\n        The police officers subsequently placed the suspect into custody and transported her to the nearest police station for processing and further questioning. Her personal possessions were searched and potentially incriminating evidence was confiscated.\\n        The arrested suspect was charged with solicitation of prostitution and is pending a court hearing. Detectives are continuing to investigate the case, including possible links to a network of prostitution.',\n",
              "   'entities': {}},\n",
              "  {'text': 'On June 20, 2023, at approximately 9:00 PM, the officer, identified as Joe Smith, observed a suspicious exchange occurring between two individuals in an alleyway. Joe approached the pair and determined that one of the individuals, identified as Jane Doe, was soliciting prostitution from the other. Jane was subsequently arrested and taken into custody. \\n\\nCrime scene investigators were dispatched to the location and conducted a thorough examination of the area, collecting potential evidence such as witness statements and surveillance footage. The investigation into the solicitation is ongoing, with efforts focused on determining if Jane has a history of similar activities and identifying any other suspects involved.',\n",
              "   'entities': {}},\n",
              "  {'text': \"On June 12, 2023, the victim, identified as Jane Doe, reported being a victim of sextortion by an unknown suspect. The victim claimed that the suspect acquired intimate photos of her and threatened to release them if the victim did not comply with the suspect's demands. Jane Doe made several payments to the suspect, hoping that the threats would cease.\\n        Officers arrived soon after the report and provided initial support to the victim. The officers also confirmed the transfer of funds from the victim to the suspect. Cyber crimes investigators immediately took over the case and began to examine the transactions, analyze the devices connected to the scam, and track the suspect's digital footprint.\\n        Subsequent investigations confirmed that the suspect was using a series of dummy accounts and prepaid phones to threaten and contact the victim. The investigators then used the information collected to establish the identity of the suspect and tracked the suspect's whereabouts. The investigation into the sextortion case is still ongoing, and the suspect is yet to be arrested.\",\n",
              "   'entities': {'Sexual_Crimes': [[81, 91], [1025, 1035]]}},\n",
              "  {'text': \"On June 20, 2023, at approximately 9:00 PM, the victim, identified as Jane Doe, reported being the victim of sextortion by an unknown assailant. The victim stated that the assailant had sent her a threatening message containing her personal information and photographs, demanding money in return for the photographs not being shared online.\\n        Responding officers arrived at the scene within minutes of the report and interviewed the victim regarding the incident. Officers provided the victim with information on resources available and took an in-depth statement of the incident.\\n        Crime scene investigators were dispatched to the location and conducted a thorough examination of the victim's digital devices, collecting any potential evidence such as communication logs, web browsers, and other associated files. The investigation into the sextortion is ongoing, with efforts focused on identifying the assailant and establishing a motive for the extortion.\",\n",
              "   'entities': {'Sexual_Crimes': [[109, 119], [854, 864]]}},\n",
              "  {'text': \"On June 20, 2023, at approximately 9:00 PM, the victim, identified as John Doe, reported being extorted by an unknown person through the internet. The victim stated that the extortionist contacted them via email, demanding money in exchange for not releasing compromising information about the victim to the public.\\n        Responding officers arrived at the victim's residence within minutes of the report and spoke with the victim to learn more about the circumstances. Officers contacted the local cybercrime unit for assistance in their investigation, as well as to obtain digital forensic analysis of the victim's electronic devices.\\n        Crime scene investigators were dispatched to the location and collected a range of evidence including digital communications between the victim and suspect, witness accounts, and other materials to aid in the investigation. The investigation into the sextortion is ongoing, with law enforcement actively working to track down the suspect and obtain a conviction.\",\n",
              "   'entities': {'Sexual_Crimes': [[898, 908]]}},\n",
              "  {'text': 'On June 20, 2023, at approximately 9:00 PM, police were notified of a disturbance outside a local park. Witnesses reported an individual, later identified as John Doe, appearing to be intoxicated and creating a public nuisance. Responding officers arrived at the scene and observed the individual exhibiting slurred speech and stumbling about. Officers questioned the individual and suspected he was under the influence of alcohol.\\n\\nUpon further investigation, the officers determined that the individual had been drinking and issued a citation for disorderly conduct. The individual was then escorted off of the premises and advised to seek medical attention if any health issues were present. Crime scene investigators were then called to the scene to collect any potential evidence from the incident. The investigation into the incident of public intoxication is ongoing.',\n",
              "   'entities': {}},\n",
              "  {'text': 'On June 20, 2023, at approximately 9:00 PM, the complainant, identified as Jane Doe, reported a man appearing to be intoxicated publicly outside a local bar. The complainant stated that the man was being loud and belligerent, seemingly unaware of their surroundings.\\n        Responding officers arrived at the scene within minutes of the report and observed the man showing signs of extreme intoxication, including slurred speech and impaired motor functions. Officers asked the man to leave the area, but he became agitated and refused to comply with their orders.\\n        Crime scene investigators were dispatched to the location and located two empty alcohol containers near the man. The investigators took the containers into evidence and transported the man to the police station for further questioning. During the questioning, the man admitted to drinking alcoholic beverages before appearing in public and was subsequently charged with public intoxication.\\n        The investigation is ongoing, with efforts focused on determining if the man had consumed more alcohol than the legal limit.',\n",
              "   'entities': {'Public_Order_Crimes': [[116, 136]]}},\n",
              "  {'text': \"On August 7, 2027, at approximately 11:00 PM, police units were dispatched to the area of Main Street following reports of a subject exhibiting signs of public intoxication. Responding officers located a male identified as John Smith in front of a local store, exhibiting visible signs of inebriation including slurred speech and disorientation. Officers immediately provided medical assistance and detained the subject before transporting him to the county jail for processing.\\n        A background check of the subject revealed that he had several prior convictions for public intoxication, leading to the officers to charge him with a second-degree misdemeanor. The subject was ordered to remain in jail until his scheduled hearing date. Officers are currently conducting an investigation into the incident in attempt to identify the source of the subject's intoxication.\",\n",
              "   'entities': {}},\n",
              "  {'text': \"On June 20, 2023, at approximately 9:00 PM, the victim, identified as John Doe, reported being disturbed by an unknown perpetrator in the city park. The victim stated that the perpetrator was shouting and causing a public disturbance, which drew concerned citizens to the area.\\n        Responding officers arrived at the scene a few minutes later and found multiple individuals attempting to restrain the perpetrator, who was uncooperative and verbally abusive. After calming the situation and obtaining witness statements, officers arrested the perpetrator and escorted them to the police station.\\n        Crime scene investigators were dispatched to the park and conducted a search of the area, collecting potential evidence such as surveillance footage, witness statements, and materials from the perpetrator's clothing. The investigation into the incident is ongoing, with efforts focused on establishing the perpetrator's motive for causing the disturbance.\",\n",
              "   'entities': {}},\n",
              "  {'text': \"On May 12, 2025, at approximately 11:30 PM, police were called to respond to a disturbance of the peace at Strawbridge apartments. When they arrived, the officers observed multiple individuals shouting and arguing in the complex's courtyard. Witnesses reported that a verbal altercation had quickly escalated into a physical altercation between two of the parties, resulting in them disturbing the peace of the neighborhood.\\n\\nPolice intervened to separate the combatants and rapidly restored the peace. Officers questioned all parties involved and determined that the dispute had arisen out of a misunderstanding. All parties were released without further incident, and the officers remained in the area to ensure that no further disturbances occurred. The incident was documented and will be further investigated in order to ascertain the cause of the disturbance.\",\n",
              "   'entities': {}},\n",
              "  {'text': \"On June 20, 2023, at approximately 9:00 PM, officers were dispatched to a local park after receiving reports of a disturbance. Witnesses stated that an unknown individual had been disturbing the peace and creating a disturbance in the area for the past hour.\\n        Responding officers immediately identified the individual, who had been shouting and behaving aggressively. Officers attempted to intervene and calm the suspect down, but their efforts were unsuccessful. The suspect's behavior only worsened until additional officers arrived at the scene, at which point the suspect was detained and placed under arrest for breach of the peace.\\n        Officers interviewed several witnesses who provided detailed accounts of the events leading up to the suspect's arrest. Officers also took photographs of the scene and collected surveillance footage for evidence. Charges are currently pending, and the investigation into the disturbance of the peace is ongoing.\",\n",
              "   'entities': {}},\n",
              "  {'text': \"On June 20, 2023, at approximately 9:00 PM, officers were called to respond to reports of disorderly conduct in the area. Upon arrival, officers witnessed the suspect identified as John Doe engaging in physical and verbal altercations with bystanders. Officers issued multiple warnings and attempted to resolve the situation, but the suspect refused to comply with orders and continued his disruptive behavior. \\n\\nIn response to the suspect's continued defiance, officers arrested him for disorderly conduct and proceeded to transport him to the station for processing. Crime scene investigators were dispatched to the scene and searched the area for any potential evidence related to the incident. \\n\\nOfficers also began an investigation to uncover the motive behind the suspects' behavior, and additional charges may be filed depending on the findings. The suspect is currently facing disorderly conduct charges, and further legal action is pending.\",\n",
              "   'entities': {}},\n",
              "  {'text': 'On July 12, 2023, at approximately 7:00 PM, the victims, identified as Jane Doe and John Doe, reported that they had been disturbed by a suspect who was engaging in disorderly conduct. The victims stated that the suspect was shouting expletives and causing a scene in the public area. \\nResponding officers arrived shortly after the report was made and observed the suspect performing erratic and disruptive behavior, including maliciously damaging property in the vicinity. Officers issued commands to the suspect that were not followed, which led them to apprehend him by force and detain him on the scene.\\n\\nCrime scene investigators were called to the location to examine the damage caused by the suspect and collect evidence for the investigation. In addition, witnesses were interviewed on the scene to record their accounts of the disturbance. The investigation is actively looking into why the suspect was engaging in disorderly conduct and what charges should be imposed.',\n",
              "   'entities': {}},\n",
              "  {'text': \"On June 20, 2023, at approximately 9:00 PM, Officer Jenkins responded to a report of disorderly conduct at a local park. Upon arrival, Officer Jenkins encountered the suspect, identified as John Doe, engaging in the behavior in question. Witnesses at the scene reported that the suspect was behaving in an aggressive manner, shouting profanities and menacing passersby.\\n        Officer Jenkins promptly attempted to intervene and diffuse the situation, but the suspect refused to cooperate and continued to act in a tumultuous manner. After repeated warnings and efforts to deescalate the situation went unheeded, Officer Jenkins arrested the suspect for disorderly conduct and placed him in custody.\\n        After reviewing witness statements and gathering evidence at the scene, Officers established that the suspect acted in aassertive manner and disturbed the peace of the community. The investigation into the incident is ongoing, with efforts focused on determining the suspect's motive for the behavior in question.\",\n",
              "   'entities': {}},\n",
              "  {'text': \"On May 5, 2026, at approximately 5:00 PM, a witness identified as Jane Smith reported observing an individual loitering around a local park. According to the witness, the individual had been seen hanging around the park for 18 hours before officers arrived on the scene.\\n\\nWhen police arrived, the individual was still present and appeared to be intoxicated. Officers were unable to determine whether he was a danger to himself or others, and thus detained him for further investigation.\\n\\nCrime scene investigators were quickly dispatched to the location and conducted a thorough examination of the area, collecting potential evidence such as surveillance footage, witness statements, and no evidence of drug paraphernalia. The suspect was eventually arrested and charged with loitering and public intoxication, pending further examination and court proceedings. The investigation remains ongoing, with efforts focused on determining the individual's motive for loitering and intent to commit a criminal offense.\",\n",
              "   'entities': {}},\n",
              "  {'text': \"On August 3, 2023, police responding to a suspicious activity call observed a subject loitering outside a local apartment complex. According to witnesses, the subject had been lingering around the area for most of the afternoon. Officers made contact with the subject and questioned them regarding their presence. The subject was uncooperative and refused to answer or provide any additional information.\\nOfficers searched the subject and discovered several items that were identified as having been recently stolen from the apartment complex. All of the items were retrieved and placed into evidence, along with a photograph of the suspect that was taken from the surveillance footage.\\nThe investigation into the subject's loitering remains ongoing. Witnesses have been interviewed and law enforcement agencies in neighboring jurisdictions have been notified in an effort to locate the suspect and determine the motive behind the theft.\",\n",
              "   'entities': {}},\n",
              "  {'text': 'On May 3, 2045, at approximately 7:00 PM, the local police department received multiple reports of an individual loitering outside the community library. Witnesses described the individual as a white male in his 20s with an unkempt appearance. \\n\\nResponding officers arrived at the scene and located the suspect in question. The officers asked the individual to explain his presence in the area, but the suspect refused to answer their questions. He was subsequently arrested for loitering and taken into custody for questioning. \\n\\nCrime scene investigators were dispatched to the area and conducted a thorough search of the library grounds, recovering multiple items of potential evidence. The investigation into the incident is ongoing, and the suspect is expected to be formally charged for his actions in the coming days.',\n",
              "   'entities': {}},\n",
              "  {'text': \"On June 20, 2023, at approximately 9:00 PM, responding officers noticed a local man, identified as John Doe, urinating in public near a bus stop. The officers promptly informed him of the illegality of his behavior and advised him to leave the premises. Doe initially refused to comply and proceeded to urinate in front of the officers, at which point they decided to issue the individual a citation ticket. \\n\\nOnce the ticket was issued, Doe became argumentative and uncooperative and began shouting profanities at the officers. After a few more minutes of the man’s disruptive behavior, the officers decided to take him into custody and transported him to the nearest police station.\\n\\nAt the police station, Doe was booked and charged with public indecency, disturbance of the peace, and failure to obey a lawful order. Officers collected all applicable evidence which included surveillance footage, and witness statements. The investigation into the case is ongoing, with efforts now focusing on determining a possible motive for the man's initial refusal to comply.\",\n",
              "   'entities': {}},\n",
              "  {'text': 'On June 20, 2023, at approximately 9:00 PM, the suspect, identified as John Doe, was spotted urinating in public outside a local restaurant by several members of the public. Witnesses reported to police that the man, who appeared to be drunk, had been wandering around the area for the past few hours.\\n        Responding officers located the suspect shortly afterwards and gave him a warning in an attempt to discourage this kind of behavior. The suspect was also issued a citation and given a future court date as further consequence for his actions.\\n        Surveillance cameras in the area were examined in an effort to ascertain how long Doe had been in the area as well as any further details regarding the incident. No additional evidence was found at the time. \\n        The investigation is still open as more information may come to light.',\n",
              "   'entities': {}},\n",
              "  {'text': 'On June 20, 2023, at approximately 9:00 PM, the victim, identified as John Doe, reported being urinated on by an unknown assailant outside a local convenience store. The victim stated that the assailant approached him from behind and proceeded to urinate on him before fleeing the scene. \\n        Responding officers arrived at the scene within minutes of the report and observed the victim displaying visible signs of humiliation and embarrassment. Police immediately checked the area for any signs of the assailant, but could not locate the person responsible. \\n        Crime scene investigators were dispatched to the location and conducted a thorough examination of the area, collecting potential evidence such as surveillance footage and witness statements. The investigation into the public urination is ongoing, with efforts focused on identifying the assailant and establishing a motive for the attack.',\n",
              "   'entities': {}},\n",
              "  {'text': \"On June 20, 2023, at approximately 9:00 PM, the suspect, identified as John Doe, was observed engaging in public drunkenness outside a local convenience store. Witnesses reported that he was staggering around, shouting unintelligibly, and appeared disoriented.\\nResponding officers arrived at the scene shortly thereafter and confirmed the witnesses' statements. He was deemed a danger to himself and others, and was arrested and transported to the police station for further processing.\\n\\nUpon examination, the suspect was found to have a blood-alcohol level nearly twice the legal limit. Crime scene investigators also conducted a search of the area, collecting any debris or possessions the suspect had discarded while in his intoxicated state. The investigation into the suspect's public drunkenness is ongoing, with efforts focused on determining his sobriety level at the time of his arrest.\",\n",
              "   'entities': {}},\n",
              "  {'text': \"On June 20, 2023, at approximately 9:00 PM, the suspect, identified as Jane Doe, was observed by witnesses engaging in public drunkenness outside a local convenience store. The witnesses stated that the suspect was staggering around, slurring her words, and causing a disturbance.\\n        Responding officers arrived at the scene shortly after and found the suspect still behaving erratically. She was detained and transported to the precinct for questioning regarding her actions. \\n       When questioned, the suspect admitted to drinking alcohol prior to leaving her home that evening. The officers conducted a series of field sobriety tests to confirm the suspect's intoxication.\\n        Crime scene investigators were dispatched to the location and collected surveillance footage and witness statements for further evidence. The investigation into the suspect's public drunkenness is ongoing.\",\n",
              "   'entities': {}},\n",
              "  {'text': 'On June 20, 2023, at approximately 9:00 PM, the suspect, identified as John Doe, was reported to have been engaging in public drunkenness near a local park. Witnesses reported that the suspect was staggering, slurring his words, and appeared to be heavily intoxicated.\\n        Responding officers arrived at the scene and observed the suspect, confirming that he was visibly under the influence of alcohol. Police issued a citation to the suspect before having him escorted home by a sober family member.\\n        After being released by the police, the suspect agreed to take a Breathalyzer test and tested positive for a significant level of intoxication. He will be charged with a misdemeanor for engaging in public drunkenness and is due to appear in court at a later date. The investigation is ongoing as officers attempt to determine where he had been consuming alcohol prior to his arrest.',\n",
              "   'entities': {}},\n",
              "  {'text': 'On January 7, 2024, at 12:15 PM, the complainant, identified as Jane Smith, reported being panhandled by an unknown individual at a local bus stop. The complainant stated that the individual approached her and asked for money in an aggressive manner before quickly walking away from the scene.\\n        Responding officers arrived shortly thereafter and observed the complainant visibly distressed. Officers interviewed the complainant to obtain further details and proceeded to search the area, but were unable to locate the suspect. \\n        Crime scene investigators were dispatched to the location to collect any potential evidence, including witness statements, surveillance footage, and physical evidence left behind. The investigation is ongoing, with efforts focused on identifying the suspect and determining whether the panhandler had any accomplices.',\n",
              "   'entities': {'Public_Order_Crimes': [[91, 101]]}},\n",
              "  {'text': \"On June 20, 2023, at approximately 9:00 PM, the victim, identified as John Doe, reported being panhandled by an unknown individual outside a local convenience store. The victim stated that the assailant approached him, verbally demanding he hand over his money before fleeing the scene.\\n        Responding officers arrived at the scene within minutes of the report and monitored the area in search of the perpetrator. Officers also spoke to the victim, gathering key information and any additional witnesses.\\n        Crime scene investigators were dispatched to the location and conducted a thorough examination of the area, collecting potential evidence such as surveillance footage, witness statements, and the victim's personal belongings. The investigation into the panhandling is ongoing, with efforts focused on identifying the perpetrator and determining the intent of the request.\",\n",
              "   'entities': {'Public_Order_Crimes': [[95, 105]]}},\n",
              "  {'text': \"On June 20, 2023, at approximately 9:00 PM, the victim, identified as John Doe, reported being panhandled by an unknown suspect outside a local convenience store. The victim stated that the suspect approached him asking for money before fleeing the scene.\\n        Responding officers arrived at the scene within minutes of the report and observed the victim explaining his encounter with the suspect. Officers immediately began searching the area for the suspect but were unsuccessful in doing so.\\n        Crime scene investigators were dispatched to the location and conducted a thorough examination of the area, collecting potential evidence such as surveillance footage, witness statements, and the victim's personal belongings. The investigation into the panhandling is ongoing, with efforts focused on identifying the suspect and apprehending him.\",\n",
              "   'entities': {'Public_Order_Crimes': [[95, 105]]}},\n",
              "  {'text': 'On July 17, 2023, at approximately 2:00 PM, the witnesses identified as Jane Doe and Mary Smith reported seeing a person engaging in public nudity near a nearby park. The witnesses described the individual as being a male, wearing nothing but a pair of sunglasses and a hat. Passersby allegedly noticed the individual and alerted authorities.\\n        Responding officers arrived at the scene shortly after receiving the report and attempted to apprehend the suspect. However, the suspect fled before law enforcement arrived, running in an unknown direction. A few moments later, a witness claimed to have seen the suspect enter an abandoned building nearby. \\n        Officers proceeded to secure the entrance of the building and deployed a K-9 unit to search for the suspect, but the search returned results. The suspect remains at large, with investigators continuing their search for him and any additional evidence. Surveillance footage of the area is being analyzed and witnesses are being interviewed in an effort to identify the suspect and understand the motive for his actions.',\n",
              "   'entities': {}},\n",
              "  {'text': \"On June 20, 2023, at approximately 9:00 PM, the suspect, identified as John Doe, was reported to be engaging in public nudity near a local park. Witnesses reported that the suspect removed his clothing before proceeding to stand in plain view of the public for several minutes.\\n        Responding officers arrived at the scene and identified the still-naked suspect. Despite their warnings, the suspect refused to put his clothing back on and instead verbally challenged the officers. Officers then forcibly restrained the suspect in handcuffs and proceeded to clothe him before transporting him to the station.\\n        Crime scene investigators were dispatched to the location and conducted a thorough examination of the area, collecting potential evidence such as surveillance footage and witness statements. The investigation into the public nudity is ongoing, with efforts focused on determining the suspect's intent and whether any other offenses had been committed.\",\n",
              "   'entities': {}},\n",
              "  {'text': 'On August 11, 2025, at approximately 10:30 PM, officers were dispatched to a public park in response to reports of a man engaged in public nudity. Upon arrival, officers located an individual, identified as George Smith, who was allegedly standing in the middle of the park in a state of undress. \\n\\nWitnesses reported that Smith had been in the park for over an hour and that he had been steadily undressing in stages while individuals in the area attempted to get him to cover up. Officers were able to successfully secure Smith and cover him with a blanket before escorting him away from the scene. \\n\\nThe incident was immediately reported to the local police department and officers submitted a report documenting the incident, as well as photographs of the area and the individual in his state of undress. The investigation into the incident is ongoing, with authorities working to determine the cause of the public nudity and any other underlying factors that may have contributed.',\n",
              "   'entities': {'Public_Order_Crimes': [[121, 145]]}},\n",
              "  {'text': 'On May 15, 2021, at approximately 11:30 PM, the victim, identified as Jane Smith, reported witnessing an unknown individual engaged in public lewdness. The victim stated that the assailant had been standing on the corner for several minutes exposing himself to passersby before abruptly fleeing the area.\\n        Responding officers arrived at the scene within minutes of the report and conducted a thorough search of the premises for potential suspects. After speaking with witnesses, officers were able to obtain a detailed description of the assailant which was then distributed through various law enforcement agencies in the area.\\n        Crime Scene investigators were dispatched to the location and conducted a thorough sweep of the area for any potential evidence such as security footage, witness statements, or prohibited materials. The investigation into the public lewdness is ongoing, with efforts focused on identifying the assailant and his motives for displaying himself in such a manner.',\n",
              "   'entities': {'Public_Order_Crimes': [[124, 150]]}},\n",
              "  {'text': 'On June 20, 2023, at approximately 9:00 PM, the victim, identified as John Doe, reported seeing an unknown individual engaging in public lewdness near a park. The victim stated that he saw the individual exposing body parts and making obscene gestures.\\n\\nResponding officers arrived at the scene within minutes of the report and observed the behavior that was described. They immediately approached the individual and handcuffed him before officially placing him under arrest for the crime of public lewdness.\\n\\nCrime scene investigators were dispatched to the location and conducted a thorough examination of the area, collecting potential evidence, such as surveillance footage, witness statements, and any other visible contraband that was found with the individual. The investigation into the public lewdness is ongoing, with efforts focused on identifying any additional suspects and establishing a motive for the crime.',\n",
              "   'entities': {}},\n",
              "  {'text': \"On June 20, 2023, at approximately 9:00 PM, the suspect, identified as John Doe, was reported engaging in public lewdness near a local park. Witnesses allege that the suspect was removing clothing and performing lewd acts in full view of passersby, and several citizens called the police to report the incident.\\n\\nResponding officers arrived at the scene shortly after the report was made and observed the suspect still engaging in lewd behavior. The officers immediately ordered the suspect to stop and instructed him to dress himself before apprehending him. \\n\\nCrime scene investigators were dispatched to the location and conducted a thorough examination of the area, collecting potential evidence such as surveillance footage, witness statements, and any clothing the suspect may have discarded. The investigation into the public lewdness incident is ongoing, with efforts focused on establishing a motive for the suspect's behavior.\",\n",
              "   'entities': {}},\n",
              "  {'text': \"On December 10, 2025, at around 7:30 PM, witnesses reported suspicious activity on Main Street. Upon arriving at the scene, officers observed two vehicles engaged in an illegal street race, with several bystanders gathered nearby watching the event. The drivers, both identified as minors, were immediately detained and the vehicles were impounded. \\nOfficers questioned the drivers about their involvement in the incident, prompting one of the drivers to admit that they had been racing and they had been aware of the illegality of their actions. \\nThe vehicles were towed and brought in for evidence examination. Subsequently, the drivers were released with citations for engaging in street racing and warnings that future infractions would result in more serious charges. An investigation into the incident has been launched to determine the cause and intent of the drivers' actions.\",\n",
              "   'entities': {}},\n",
              "  {'text': 'On June 20, 2023, at approximately 9:00 PM, officers observed two vehicles reportedly engaged in street racing down the 400 block of Main Street. The cars, a silver sedan and a yellow coupe, were traveling at an unsafe speed and disregarding any road regulations. Local residents watching from the sidewalks were alarmed by the behavior and immediately contacted police for assistance.\\n        Responding officers arrived at the scene within minutes and placed both drivers in custody in order to investigate their actions. Witnesses were able to provide detailed descriptions of the vehicles and the drivers involved. A search of the vehicles revealed multiple parts commonly used to modify cars for improved speed and acceleration.\\n        Crime scene investigators were dispatched to the location and conducted a thorough examination of the area, collecting potential evidence such as surveillance footage, witness statements, and the vehicles and their parts. The investigation into the street racing is ongoing, with efforts focused on identifying the charges to be filed against the individuals involved.',\n",
              "   'entities': {'Public_Order_Crimes': [[86, 110]]}},\n",
              "  {'text': \"On June 20, 2023, at approximately 9:00 PM, officers responding to a disturbance call witnessed two vehicles engaged in street racing on a public road. Both drivers were observed to be driving recklessly at high speeds and disregarding stop signs and traffic signals. \\n\\nOfficers immediately pursued both vehicles and conducted a traffic stop at an intersection near the scene. Both drivers were identified by their driver's licenses and questioned regarding their involvement in the dangerous activity. The officers also inspected both vehicles for signs of unlawful modifications or upgrades. After being advised of the potential penalties, both drivers agreed to cease their illegal racing activity and were released after receiving a stern warning. \\n\\nLocal authorities have increased their patrols in the area as they continue to investigate the illegal street racing, drawing attention to the inherent danger such activities pose to innocent bystanders and fellow motorists.\",\n",
              "   'entities': {'Public_Order_Crimes': [[109, 133]]}},\n",
              "  {'text': 'On August 12, 2023, at approximately 11:30 PM, police responded to numerous calls of a group of individuals causing public disturbances near a residential neighborhood. Witnesses reported that the perpetrators were throwing items, making loud noises, and engaging in disruptive behavior. \\n\\nResponding officers arrived on scene and attempted to break up the group, issuing several warnings in the process. When the warnings were ignored, the officers arrested the individuals and transported them to the local station. \\n\\nCrime scene investigators were dispatched to the area to assess the extent of the damages while additional officers canvased the neighborhood to search for any potential evidence. The investigation into the events surrounding the public disturbances is ongoing, with efforts focused on determining the origin of the group and the motive behind the incident.',\n",
              "   'entities': {}},\n",
              "  {'text': 'On June 20, 2023, at approximately 9:00 PM, the victim, identified as John Doe, reported being subjected to public disturbances caused by an unknown individual. The victim stated that the individual had created a loud and disruptive scene, with bystanders being frightened by the conduct and attempting to flee the area.\\n        Responding officers arrived at the scene within minutes of the report and found the unidentified individual still displaying disorderly behavior. Officers immediately took control of the situation, ordering the individual to cease and desist, and conducting a physical search of the suspect, the scene, and any potential witnesses.\\n        Crime scene investigators were dispatched to the location and conducted a thorough examination of the area, collecting potential evidence such as surveillance footage, witness statements, and any objects used by the suspect in the incident. The investigation into creating public disturbances is ongoing, with efforts focused on identifying the individual responsible and determining whether the scene was premeditated.',\n",
              "   'entities': {}},\n",
              "  {'text': \"On July 7, 2023, at approximately 2:00 PM, police were notified of an individual creating public disturbances on the north side of the town square. Witnesses reported that the individual was shouting obscenities, damaging public property, and refusing to comply with police commands.\\n        Responding officers attempted to calm the situation and bring the individual under control, however the individual continued to resist arrest and fight back against the officers. Members of the public gathered to observe the disturbances and further impede the officers' ability to subdue the suspect.\\n        After several minutes, officers managed to take the individual into custody and transfer them to a nearby police station for booking. Crime scene investigators were dispatched to the town square to collect potential evidence and assess the extent of the damages created by the public disturbances. The investigation is ongoing with efforts focused on determining the suspect's motives and the severity of their actions.\",\n",
              "   'entities': {}},\n",
              "  {'text': 'On April 17, 2023, police received multiple reports of organized illegal gatherings taking place in the warehouse district of the city. Witnesses reported seeing large groups of people congregating in the area, ignoring applicable social-distancing regulations.\\n        Responding officers arrived to find a crowd of approximately 60 people, all of them actively involved in the gathering. Officers immediately broke up the illegal gathering and began issuing fines for those involved.\\n        Local authorities and law enforcement agencies launched an investigation into the organized illegal gatherings and into the identities of those involved. Evidence was collected from surveillance footage, in-person interviews, and other sources in an effort to identify the organizers and determine the purpose of the gatherings.',\n",
              "   'entities': {'Public_Order_Crimes': [[55, 83], [576, 604]]}},\n",
              "  {'text': 'On June 20, 2023, at approximately 9:00 PM, police were called to the scene of an organized illegal gathering in public space. Upon arriving, officers observed numerous individuals gathered and ignoring government-mandated safety and social distancing regulations. Officers immediately issued warnings that the gathering must disperse, yet the individuals present refused to leave the area.\\n        Responding officers approached the group and began arresting those present, handcuffing and moving them to nearby police transports. Once all individuals were detained, police conducted a thorough search of the area, collecting any belongings or evidence related to the gathering.\\n        Further investigation of the incident revealed that the group had been organizing illegal public gatherings throughout the week in order to rebel against local government regulations. The investigation into organized illegal gatherings is ongoing, with efforts focused on identifying the ringleaders and those responsible for organizing the illegal activity.',\n",
              "   'entities': {'Public_Order_Crimes': [[895, 923]]}},\n",
              "  {'text': 'On July 3, 2023, at approximately 11:30 PM, officers patrolling the neighborhood near Riverwood Park responded to a complaint of illegal activity occurring. The officers arrived to find a large gathering of people, all of whom were in violation of the local noise ordinance. A further investigation revealed that the gathering was organized by local gang members for the purpose of conducting illegal activities.\\n        Responding officers quickly dispersed the gathering, interviewing attendees in an effort to identify the individuals responsible for organizing the event. Witnesses provided information that resulted in the arrest of two gang members for their involvement in organizing the illegal gathering.\\n        Investigators collected evidence to build a case against the two suspects, including surveillance footage, witness statements, and emails sent out to members of the gang. The investigation into the organized illegal gathering is ongoing, with efforts focused on identifying any other individuals involved in the criminal enterprise.',\n",
              "   'entities': {}},\n",
              "  {'text': \"On August 15, 2022, at approximately 11:00 PM, the victim, identified as Jane Smith, reported being begged for money by an unknown person in the alleyway by her home. The victim stated that the individual approached her as soon as she exited her residence, speaking quietly and asking her for money while holding out a cup.\\n        Responding officers arrived at the scene shortly after the report was filed and found the victim visibly shaken and distressed. They questioned her about what had occurred, and she was able to provide a vague description of the suspect but was unable to provide any additional details.\\n        Crime scene investigators began a search of the alleyway for potential evidence, such as surveillance footage, witness statements, and the victim's personal belongings. Investigators also canvassed the area for potential witnesses but were unsuccessful in locating any individuals that may have seen or heard anything. The investigation into the incident is ongoing, with efforts focused on identifying the person who begged the victim for money and why they requested the funds.\",\n",
              "   'entities': {'Public_Order_Crimes': [[100, 106], [1044, 1050]]}},\n",
              "  {'text': \"On June 20, 2023, at approximately 9:00 PM, the victim, identified as John Doe, reported being begged by an unknown person outside a local convenience store. The victim stated that the person approached him from behind, pleading with him before fleeing the scene.\\n        Responding officers arrived at the scene within minutes of the report and observed the victim displaying signs of distress. Officers immediately began questioning nearby witnesses and collecting information about the suspicious individual.\\n        Crime scene investigators were dispatched to the location and conducted a thorough examination of the area, collecting potential evidence such as surveillance footage, witness statements, and the victim's personal belongings. The investigation into the begging is ongoing, with efforts focused on identifying the person and establishing a motive for the incident.\",\n",
              "   'entities': {'Public_Order_Crimes': [[95, 101]]}},\n",
              "  {'text': \"On June 20, 2023, at approximately 9:00 PM, the victim, identified as John Doe, reported being begged by an unknown individual outside a local convenience store. The victim stated that the individual approached him and plead for money before fleeing the scene. \\nResponding officers arrived at the scene within minutes of the report and conducted an initial search for the individual. Officers spoke briefly with the witness, a bystander who had also been at the scene, who corroborated the victim's story.\\nCrime scene investigators were dispatched to the location and conducted a thorough examination of the area, collecting potential evidence such as surveillance footage, witness statements, and the victim's personal belongings. The investigation into the begging is ongoing, with efforts focused on identifying the individual and establishing a motive for the incident.\",\n",
              "   'entities': {'Public_Order_Crimes': [[95, 101]]}},\n",
              "  {'text': 'On April 8, 2026, at approximately 12:30 AM, responding officers were dispatched to a local park after receiving reports of a group engaged in public gambling. Upon arriving at the park, officers observed three individuals actively participating in a game of dice. All three were issued citations and taken into custody while officers seized the cash from the scene.\\n        Crime scene investigators arrived shortly after and performed a thorough search of the area, including a review of all surveillance footage from the park for that evening. The investigation revealed that the same individuals had been seen at the park for almost two weeks, repeatedly engaging in gambling-related activities.\\n        The three individuals in custody were later identified as members of a known gambling ring, with game nights being held on a regular basis. Prosecutors charged all three of them with multiple counts of unlawful gambling and are working to establish the total amount of cash that was earned illegally from these activities. The investigation is ongoing and further developments are expected in the coming weeks.',\n",
              "   'entities': {'Public_Order_Crimes': [[132, 158]]}},\n",
              "  {'text': 'On June 20, 2023, at approximately 9:00 PM, the victim, identified as John Doe, reported observing a group of individuals engaging in public gambling in an alley off Main Street. The victim stated that when he attempted to inform the individuals of the illegality of their activities, one of them threatened his life before the group dispersed.\\n        Responding officers arrived at the scene shortly thereafter, questioning the victim and dispersing the group. Officers also collected witness statements and potential evidence related to the incident, including photographs obtained from nearby security cameras.\\n        Crime scene investigators were dispatched to the location and gathered additional evidence, which was later used in the investigation into the incident. Efforts to identify all involved and establish a motive behind the public gambling are currently ongoing.',\n",
              "   'entities': {}},\n",
              "  {'text': 'On June 20, 2023, at approximately 9:00 PM, the police responded to a call about several individuals engaging in public gambling in the park. Upon arriving at the scene, officers observed several individuals playing a card game on a park bench. When the officers attempted to confront the individuals, they dispersed. \\n\\nAfter further investigation, officers found that all of the individuals had been gambling illegally with money they had collected from panhandling. Trainers were called to the scene to collect evidence, including pieces of clothing, gambling chips, and other objects related to the activity. \\n\\nThe investigation into the public gambling is ongoing, with efforts focused on identifying the individuals involved and to what extent they had violated the law.',\n",
              "   'entities': {}},\n",
              "  {'text': \"On June 20, 2023, at approximately 9:00 PM, the victim, identified as John Doe, reported being solicited by an unknown individual outside a local shopping mall. The victim stated that the individual approached him aggressively, attempting to convince him to pay for a service or product. \\n\\nResponding officers arrived at the scene within minutes of the report and issued a warning to the offender who promptly left the area. Officers then provided a correlative statement and related information to the victim before any additional action was taken.\\n\\nCrime scene investigators were dispatched to the location and conducted a thorough search of the area, collecting relevant items for processing such as surveillance footage and witness statements. The investigation into the solicitation is ongoing, with efforts focused on identifying the suspect and gathering additional evidence to corroborate the victim's claims.\",\n",
              "   'entities': {}},\n",
              "  {'text': 'On April 13, 2023, at around 11:00 PM, the complainant, identified as Jane Doe, reported being solicited by an unknown individual in a public park. The complainant said that the individual approached her from behind and asked her to engage in an unlawful transaction. The individual then fled the park after the complainant refused the solicitation.\\n        Responding police officers arrived shortly after and spoke to the complainant about the incident. The complainant indicated that the individual had fled eastbound toward a nearby shopping center. Police then immediately saturated the area and conducted a thorough search, but the assailants had eluded capture.\\n        Crime scene investigators arrived on the scene for an initial assessment but did not collect any physical evidence. Officers are trying to find witnesses who may have seen the individual in the area before the incident, as well as obtaining any security camera footage that could be used to identify him. The investigation is ongoing.',\n",
              "   'entities': {}},\n",
              "  {'text': 'On August 8, 2023, at approximately 7:00 PM, the victim, identified as Jane Doe, reported being solicited in public by an unknown person. The victim stated that the individual walked up to her in the park and asked if she wanted to make a purchase. When she declined and asked them to leave, they continued to try and convince her to buy something from them before finally giving up and leaving the area.\\n        Responding officers arrived at the scene shortly after the report and observed the victim visibly shaken and upset. They comforted her and offered her a secure ride home. Officers requested to review any available surveillance footage and spoken with any potential witnesses in an effort to identify the individual.\\n        Crime scene investigators were dispatched to the location and conducted a search of the area, collecting potential evidence such as devices, documents, and other materials. The investigation into the public solicitation is ongoing, with efforts focused on identifying and apprehending the responsible person.',\n",
              "   'entities': {'Public_Order_Crimes': [[96, 115]]}},\n",
              "  {'text': \"On June 26, 2023, at approximately 8:00 PM, the witness, identified as Sarah Smith, reported seeing an individual speed away from the scene of an apparent burglary. The witness stated that she saw a shadowy figure sprinting down the street and heard the sound of an engine revving up as a car sped away moments later.\\n\\nResponding officers arrived at the location and quickly established a police presence before canvassing the area for potential suspects. Officers found the entrance to a nearby business had been broken into and witnessed fresh tire tracks leading away from the scene.\\n\\nCrime scene investigators were dispatched to the location and conducted a thorough examination of the area, collecting potential evidence such as surveillance footage, witness statements, and traces of the suspect's fingerprints. The investigation into the burglary is ongoing, with efforts focused on identifying the individual who speeded away.\",\n",
              "   'entities': {'Traffic_and_Motor_Vehicle_Crimes': [[921, 928]]}},\n",
              "  {'text': \"On July 8, 2023, at approximately 11:00 AM, the suspect, identified as Jane Smith, was observed by an officer speeding through an intersection. The officer reported the incident to dispatch, requesting backup before attempting to stop the vehicle.\\n        With assistance from additional patrol units, the suspect was pursued at high speed for approximately ten minutes, with the chase ending when the officer managed to deploy a stop-stick device. The suspect was taken into custody and transported to the police station, where she was charged with multiple offenses related to the reckless driving incident.\\n        Traffic investigators were dispatched to the scene to assess the route taken by the suspect and the potential damage caused. They also conducted an evaluation of the surrounding area, collecting available video footage, witness statements, and physical evidence. The investigation into the suspect's decision to speed is ongoing.\",\n",
              "   'entities': {}},\n",
              "  {'text': \"On June 20, 2023, at approximately 9:00 PM, the victim, identified as John Doe, reported being speeded by an unknown perpetrator on Main Street. The victim stated that the perpetrator approached him in a silver sedan, traveling at a higher speed than the posted limit before veering off down a side street.\\n        Responding officers arrived at the scene within minutes of the report and verified the victim's account. Officers immediately began canvasing the area in search of the perpetrator and any witnesses to the incident.\\n        Crime scene investigators were dispatched to the location and conducted a thorough examination of the area, including a review of surveillance footage and a sweep for debris that may have been left behind. The investigation into the speeded is ongoing, with efforts focused on identifying the perpetrator and determining the cause of the incident.\",\n",
              "   'entities': {'Traffic_and_Motor_Vehicle_Crimes': [[95, 102], [771, 778]]}},\n",
              "  {'text': 'On June 20, 2023, at approximately 9:00 PM, the police received a call about a car driving erratically on Main Street. Patrol officers were immediately dispatched and located the vehicle shortly after. Upon making contact with the driver, identified as John Doe, officers noticed a strong odor of alcohol emitting from the car and placed him under arrest for driving under the influence.\\n\\n        Mr. Doe was taken into custody and transported to the youth processing center for further questioning and sobriety tests. The results of the tests showed a Blood Alcohol Content level of 0.13, far above the legal limit of 0.08.\\n\\n        The police seized the vehicle and gathered any additional evidence that could potentially prove the DUI charge. Mr. Doe is facing the possibility of a suspended license and jail time upon being convicted and sentenced on the offense. The investigation into this DUI is ongoing.',\n",
              "   'entities': {}},\n",
              "  {'text': \"On July 16, 2021, at approximately 12:15 AM, officers were responding to a noise complaint at a nearby residence when they noticed a vehicle driving erratically on the street. Upon further investigation, the vehicle was seen to be driven by an intoxicated individual, later identified as Mark Jones. After conducting a series of field sobriety tests, Jones was found to have driven under the influence of alcohol and was taken into custody.\\nBlood testing confirmed that Jones had a blood-alcohol concentration of 0.15, which is over the legal limit. Officers then searched the vehicle and located two open containers of alcohol in the passenger side of the car, verifying Jones' alcohol-induced state. The suspect was subsequently charged with DUI and is currently awaiting trial.\",\n",
              "   'entities': {}},\n",
              "  {'text': \"On July 16, 2023, at approximately 4:00 AM, local authorities were advised of a suspected DUI driver traveling on I-90. Officers responded to the call and were able to locate and pull over the vehicle, identifying the driver as Jenna Smith. Upon performing field sobriety tests, officers determined that Smith was inebriated and immediately placed her under arrest for driving under the influence.\\n        Responding officers noted that Smith displayed signs of intoxication, with slurred speech and an unsteady gait. She was subsequently taken into custody and transported to the police station for processing. Chemical tests later revealed that her blood alcohol concentration was 0.12, which is above the legal limit.\\n        After further investigation, it was revealed that Smith had prior DUI-related offenses in other states. She will now face charges in the current state for driving under the influence and remain in police custody until her court date.\\n        Additional measures are being taken to ensure that Smith is not a danger to herself or the community. The police department will conduct a thorough review of Smith's case and present it to the district attorney's office.\",\n",
              "   'entities': {}},\n",
              "  {'text': 'On September 15, 2023, at approximately 6:00 PM, witnesses reported observing an individual driving erratically along the highway. The vehicle, described as a red SUV, was seen speeding and weaving in and out of traffic, presenting a danger to other drivers on the road. \\n\\nResponding officers soon located the vehicle and pulled it over, discovering the driver to be visibly impaired by alcohol. After conducting a sobriety test, the officers arrested the driver for reckless driving and placed him under custody.\\n\\nDue to the irresponsible actions of the intoxicated driver, another vehicle was involved in a crash while trying to avoid the reckless SUV. Fortunately, the other driver was not injured and the officers immediately notified the necessary medical services to provide care.\\n\\nAuthorities are currently conducting an investigation into the reckless driving incident, aiming to establish the details of the event and determine any charges that the driver may face.',\n",
              "   'entities': {'Traffic_and_Motor_Vehicle_Crimes': [[467, 483], [851, 867]]}},\n",
              "  {'text': 'On June 20, 2023, at approximately 9:00 PM, officers identified a vehicle driving recklessly down Main Street. Witnesses reported that the vehicle was swerving in and out of lanes, disregarding traffic laws and creating a public hazard. Officers immediately pursued the vehicle, activating their emergency lights and sirens in an attempt to get the driver to pull over.\\n\\nAfter unsuccessful attempts to stop the vehicle, the suspect finally stopped at a red light and the officers conducted a traffic stop. Upon further inspection, it was discovered that the driver was intoxicated and had been driving without a license. The driver was arrested and taken to the police station where they were charged with reckless driving and other related offenses.',\n",
              "   'entities': {'Traffic_and_Motor_Vehicle_Crimes': [[706, 722]]}},\n",
              "  {'text': \"On May 12th, 2021, at approximately 8:30 PM, the victim, identified as Jane Smith, reported being the victim of reckless driving by an unknown driver. The victim stated the driver was speeding and recklessly swerved in and out of traffic, nearly crashing into several other vehicles.\\n        Responding officers soon arrived at the scene and observed the area for evidence of reckless driving. After conducting interviews with witnesses and viewing surveillance footage, officers were able to obtain the license plate information for the suspect's vehicle and open an investigation into the incident. \\n        Investigators later identified the registered owner of the vehicle, however further efforts are being put towards charging the driver and establishing a motive for the reckless driving. The investigation into the reckless driving is ongoing.\",\n",
              "   'entities': {'Traffic_and_Motor_Vehicle_Crimes': [[112, 128],\n",
              "     [376, 392],\n",
              "     [778, 794],\n",
              "     [823, 839]]}},\n",
              "  {'text': 'On September 25, 2023, at approximately 3:00 AM, the victim, identified as Jane Smith, reported being struck by an unknown vehicle in a hit-and-run accident outside her home. The victim stated that the vehicle suddenly appeared from around a corner and collided with her without stopping. \\n\\nResponding officers arrived at the scene within minutes of the report and found the victim lying on the ground, unresponsive. Officers immediately called for medical assistance and began administering CPR until paramedics arrived and transported the victim to the hospital for further treatment. \\n\\nCrime scene investigators were dispatched to the location and conducted a thorough examination of the area, collecting potential evidence such as surveillance footage, witness statements, and debris left behind by the fleeing vehicle. The investigation into the hit-and-run is ongoing, with efforts focused on identifying the vehicle and driver responsible for the incident.',\n",
              "   'entities': {}},\n",
              "  {'text': 'On June 20th, 2023, at approximately 8:00 PM, a hit and run accident was reported to police. The reporting party, a witness of the incident, stated that they saw an unknown vehicle strike a pedestrian before fleeing the scene.  \\nResponding officers arrived shortly after receiving the call, finding the victim injured and lying in the street. Paramedics were called to the scene, and the victim was transported to the hospital for treatment of their injuries. \\nCrime Scene Investigators were also dispatched to the scene to conduct an examination, searching for any potential evidence that might help identify the driver. Surveillance footage from the area also captured the incident, and is now being used to determine the identity of the driver and the motives for their actions. The investigation into the hit and run is ongoing.',\n",
              "   'entities': {'Traffic_and_Motor_Vehicle_Crimes': [[48, 59], [809, 820]]}},\n",
              "  {'text': \"On October 8, 2023, at approximately 11:00 PM, the victim, identified as Jane Smith, reported being a victim of a hit and run. The victim stated that she was crossing the street when an unknown vehicle ran a stop sign and struck her before fleeing the scene.\\n        Responding officers arrived at the scene within minutes of the report and observed the victim displaying visible signs of injury, including scrapes and bruises. Officers immediately called for medical assistance and provided initial first aid until paramedics arrived to transport the victim to the hospital for further evaluation and treatment.\\n        Crime scene investigators were dispatched to the location and conducted a thorough examination of the area, collecting potential evidence such as a partial vehicle description from witnesses, surveillance footage, and the victim's personal belongings. The investigation into the hit and run is ongoing, with efforts focused on identifying the driver and establishing a motive for the attack.\",\n",
              "   'entities': {'Traffic_and_Motor_Vehicle_Crimes': [[114, 125], [900, 911]]}},\n",
              "  {'text': \"On October 10, 2025, at approximately 11:15 PM, the suspect, identified as Jane Smith, was pulled over by a police officer for driving without a license. The officer requested that the suspect provide her license and registration, but she was unable to do so. The officer then issued her a citation and removed the vehicle from the scene.\\n        Upon returning to the station, the officer conducted a background search on the suspect. The search revealed that she had no valid driver's license and had several outstanding citations for the same offense. An arrest warrant was subsequently issued for the suspect.\\n        The suspect was tracked to her place of residence and taken into custody without further incident. Following a brief questioning, she was transported to the local jail to await further proceedings. The vehicle in question was impounded and towed to the police station, pending a more thorough search for evidence. The investigation into the suspect's driving without a license is ongoing.\",\n",
              "   'entities': {}},\n",
              "  {'text': \"On July 5, 2023 at approximately 12:30 PM, the suspect, identified as Jane Doe, was sighted by police driving without a license. She was immediately pulled over and officers requested her license and registration. When Jane presented no valid driving credentials, officers placed her under arrest and drove her to the station for processing.\\n        Once at the station, Jane was formally charged with driving without a license and given a court date. The officers searched her vehicle and seized the keys as part of their investigation. Witnesses at the scene were interviewed and corroborated the officers' version of events.\\n        Further investigation revealed that Jane had prior suspension from driving without a license. She was additionally charged with driving on a suspended license and her vehicle was impounded. Records indicate that Jane was required to take part in an educational program about driver safety before her license is reinstated. The investigation into the incident is ongoing.\",\n",
              "   'entities': {}},\n",
              "  {'text': \"On June 20, 2023, at approximately 9:00 PM, the suspect, identified as John Doe, was stopped by the police after driving without a license. Officers observed the suspect operating a vehicle in the area without a license plate, prompting them to run the vehicle's registration and confirm the vehicle was unregistered. \\n\\nWhen questioned about his lack of a license, the suspect was unable to produce any valid driver's license. The officers immediately issued a citation for driving without a license and impounded the vehicle for further examination.\\n\\nCrime scene investigators arrived shortly thereafter to execute a full search of the vehicle. During the search, officers located several items that indicated the suspect was likely using the unregistered vehicle for illegal activities. The investigation is ongoing, with officers attempting to identify any accomplices or masterminds behind the suspect's unauthorized use of a vehicle.\",\n",
              "   'entities': {}},\n",
              "  {'text': \"On August 16, 2022, at approximately 10:30 AM, an anonymous witness reported a driver texting while driving on a stretch of highway. When officers responded to the call, they located the suspected vehicle and pulled it over. Upon approaching the driver, officers observed several text messages on the driver's mobile device and noticed the driver glancing at the phone while behind the wheel.\\n\\nOfficers cited the driver with distracted driving and issued a ticket with a hefty fine. The driver was also required to sit for a four-hour driving safety seminar, which was conducted at a nearby school.\\n\\nIn order to analyze the situation further and ensure the safety of other drivers, police officers reviewed the text messages on the phone and collected additional statements from witnesses in the area. The incident was classified as a misdemeanor and the investigation is still ongoing.\",\n",
              "   'entities': {}},\n",
              "  {'text': \"On April 15, 2036, at approximately 7:00 PM, the victim, identified as Jane Smith, reported being involved in a car accident caused by an unknown driver who had been texting while driving. The victim stated that the driver had veered into her lane, striking her vehicle before leaving the scene. \\n        Responding officers arrived and observed the vehicle to be totaled and the victim displaying visible signs of injury. Officers immediately called for medical assistance and provided initial first aid until paramedics arrived to transport the victim to the hospital for further evaluation and treatment.\\n        Crime scene investigators were dispatched to the location and conducted a thorough examination of the area, collecting potential evidence such as surveillance footage, witness statements, and the victim's personal belongings. The investigation into the accident is ongoing, with efforts focused on identifying the driver and determining whether texting while driving had been a factor.\",\n",
              "   'entities': {}},\n",
              "  {'text': 'On June 20, 2023, at approximately 9:00 PM, the victim, identified as John Doe, reported that a vehicle had been seen driving recklessly, swerving in and out of lanes and texting while driving. The victim also stated that the vehicle had nearly collided with theirs several times.\\n        Responding officers arrived at the scene within minutes of the report and observed the speeding vehicle driving away from the scene, which they pursued. The vehicle was eventually stopped and the driver was identified as Thomas Smith, who had an outstanding warrant for his arrest. Upon further investigation, officers discovered Mr. Smith had been texting while driving and thus placed him under arrest for the violation.\\n        Crime scene investigators were dispatched to the location and conducted a thorough examination of the area, collecting potential evidence such as witness statements and physical evidence. The investigation into the texting while driving violation is ongoing, with efforts focused on determining whether Mr. Smith was responsible for the dangerous driving observed by the victim.',\n",
              "   'entities': {}},\n",
              "  {'text': 'On April 15, 2022, at approximately 12:00 AM, Officers responded to reports of a street racing incident on Main Street. Witnesses indicated that two cars had been racing at a high rate of speed and causing a disturbance in the area. Upon arrival, Police observed two vehicles flagrantly disregarding traffic laws and gave chase.\\n\\nThe suspects attempted to outrun the officers but their efforts were unsuccessful, and after a brief pursuit both cars were successfully apprehended. Officers collected statements from the suspects in which they admitted to participating in a street race and cited a sense of “peer pressure” as the primary motivation for doing so.\\n\\nThe individual vehicles and drivers were then inspected for any mechanical or safety-related violations, as well as for evidence of any other criminal activities. After examining the vehicles and determining that no property damage or personal injury had occurred, the suspects were issued a citation for street racing and released. The investigation into the incident remains open and any further developments will be reported as they become available.',\n",
              "   'entities': {'Traffic_and_Motor_Vehicle_Crimes': [[81, 94], [968, 981]]}},\n",
              "  {'text': 'On April 4, 2021, at approximately 4:00 AM, police in the vicinity observed two vehicles, described as a black Nissan Altima and a grey Toyota Corolla, engaging in a street race on a public roadway. Within minutes, several police cruisers responded to the scene and approached the vehicles, resulting in the two drivers fleeing the area on foot. The Nissan was left behind and officers searched the interior, discovering multiple license plates inside.\\n        Witnesses at the scene reported identifying the drivers as two men, both of whom were wearing black hoodies. Officers interviewed the witnesses and took statements, and the surveillance footage of the race was seized and reviewed by police.\\n        The investigation into the street racing incident is ongoing, with efforts focused on identifying the two men and determining the source of the license plates found in the Nissan. Several officers are also working to establish the circumstances surrounding the illegal activity and any potential meaning for the race.',\n",
              "   'entities': {'Traffic_and_Motor_Vehicle_Crimes': [[737, 750]]}},\n",
              "  {'text': \"On June 20, 2023, at approximately 9:00 PM, the victim, identified as John Doe, reported witnessing two cars street racing on a nearby road. The victim stated that the two cars had been driving recklessly, each attempting to outpace each other in a dangerous manner. \\nResponding officers arrived at the scene shortly after the report and were able to confirm the victim's account upon examination of the stretch of road in question. Several witnesses were interviewed and corroborated the victim's story, providing further evidence of the racing. \\nCrime scene investigators were dispatched to the location and conducted a thorough examination of the area, collecting potential evidence such as surveillance footage, witness statements, and pieces of metal and rubber believed to have been shed from the cars. The investigation into the street racing is ongoing, with efforts focused on identifying the drivers and citations for the act.\",\n",
              "   'entities': {'Traffic_and_Motor_Vehicle_Crimes': [[109, 122], [836, 849]]}},\n",
              "  {'text': 'On June 20, 2023, at approximately 9:00 PM, officers patrolling near the intersection of Main Street and Maple Avenue stopped a vehicle suspected of having violated traffic laws. The driver, identified as Jane Doe, was found to have committed several infractions, including failing to signal when making a turn and exceeding the posted speed limit. Officers issued a citation for the violations and instructed the driver to proceed with caution.\\n        After being pulled over, the driver attempted to flee the scene when an additional unit arrived as backup. The unit pursued the vehicle in a short-lived chase that ended several blocks away at a parking lot. Upon capture, the driver was detained and taken to the station for questioning.\\n        Investigators later learned that the driver was a minor who was driving without a permit.  The investigation into the traffic infractions is ongoing, with efforts focused on ascertaining the circumstances of the incident in order to determine a course of action.',\n",
              "   'entities': {'Traffic_and_Motor_Vehicle_Crimes': [[156, 177]]}},\n",
              "  {'text': \"On May 5th, 2022, at approximately 7:00 AM, an officer patrolling the area of Main Street and State Street noticed a vehicle that had violated traffic laws. The officer identified the driver as Jane Doe and pulled the vehicle over to the side of the road. Jane stated she was unaware of the recently imposed speed limit, which had been reduced in order to prevent traffic congestion.\\n        The officer proceeded to view video surveillance taken from the area and confirmed that Jane had exceeded the speed limit by 10 mph. As a consequence of not following the guidelines, the officer issued Jane a citation and instructed her to appear in court in the near future.\\n        The incident was reported to the local enforcement offices and has been logged with Jane's driver's license. The officer is also expected to provide additional evidence when the case is presented before a judge. The investigation into Jane's traffic violation is ongoing, with efforts focused on determining if other factors had contributed to the infraction.\",\n",
              "   'entities': {'Traffic_and_Motor_Vehicle_Crimes': [[134, 155]]}},\n",
              "  {'text': 'On June 20, 2023, at approximately 9:00 PM, a police officer witnessed the driver, John Doe, violating traffic laws by running a stop sign. The officer observed that the driver had disregarded the stop sign and proceeded through the intersection, without stopping. The officer then activated the emergency lights on his patrol car and conducted a traffic stop.\\n        Upon making contact with the driver, the officer questioned Doe and learned that Doe had been issued multiple citations for various other traffic law violations. The officer then issued a citation for the traffic law violation, which included a fine and 4 points on the driver’s license. A search of the vehicle also revealed several items of contraband which was seized by the officer.\\n        A more thorough investigation revealed that the driver had a suspended driver’s license and that several of his vehicle’s registration documents had expired. The officer issued additional citations for the above violations and the driver was escorted to the local police station for processing. \\n        The driver was later released on bail and the investigation into the traffic law violation is ongoing. Authorities are determined to identify the driver’s prior criminal history and any motivations they may have had for violating traffic laws.',\n",
              "   'entities': {}},\n",
              "  {'text': \"On July 11, 2023, at around 7:15 PM, the victim, identified as Joe Miller, reported being involved in a vehicular collision caused by a motorist who had failed to yield. The victim stated that the motorist drove in front of his vehicle while he was making a right turn, leaving him unable to avoid a collision. \\nThe responding officers arrived promptly after the incident and observed the victim's vehicle displaying serious damages. Officer immediately contacted a tow truck for the damaged vehicle and provided initial medical evaluation.\\nCrime scene investigators were dispatched to the location to collect evidence such as surveillance footage, witness statements, and possible medical reports. The investigation into the negligence is ongoing, with efforts focused on identifying the motorist and any possible excessive speed.\",\n",
              "   'entities': {'Traffic_and_Motor_Vehicle_Crimes': [[153, 168]]}},\n",
              "  {'text': 'On June 20, 2023, at approximately 9:00 PM, the victim, identified as John Doe, reported being involved in an accident with an unknown vehicle which had failed to yield the right of way. The victim stated that he had been attempting to cross the intersection when the vehicle, travelling from the opposite direction, had failed to slow down and collided with his own, causing extensive damage to both vehicles.\\n        Responding officers arrived at the scene within minutes of the report and observed the two vehicles facing each other in the intersection. Officers assessed the damage, took statements from both parties, and issued a citation to the driver of the offending vehicle for failing to yield the right of way.\\n        Crime scene investigators were dispatched to the location and conducted a thorough examination of the area, collecting potential evidence such as surveillance footage and photos of the accident site. The investigation into the failed to yield is ongoing, with efforts focused on determining the fault and assessing liability for the accident.',\n",
              "   'entities': {'Traffic_and_Motor_Vehicle_Crimes': [[153, 168], [958, 973]]}},\n",
              "  {'text': \"On August 18th, 2022, at around 6:30 PM, the victim, identified as Jane Smith, reported that she had been involved in an automobile accident with an unknown driver who failed to yield the right-of-way. According to the victim, the driver had suddenly merged onto the street, disregarding the traffic light which was indicating her own turn. This resulted in a head-on collision which caused serious damage to both vehicles.\\n\\nResponding officers arrived at the scene shortly thereafter and found the victim in a visibly distraught state. They noticed serious exterior damage on the victim's car, as well as moderate interior damage, suggesting that the impact of the collision had been significant. The victim reported experiencing pain as a result of the accident, but refused medical attention.\\n\\nCrime scene investigators were immediately dispatched to the location, and they began to examine the area and collect evidence such as the vehicular wreckage, photography of the scene, and witness statements. They are currently continuing their investigation and working to identify the driver involved in the incident.\",\n",
              "   'entities': {'Traffic_and_Motor_Vehicle_Crimes': [[168, 183]]}},\n",
              "  {'text': \"On October 5, 2022, at approximately 8:00 PM, witnesses reported seeing an erratic driver running several red lights in downtown Chicago. The vehicle was observed disregarding traffic signals, narrowly avoiding collisions with multiple vehicles and pedestrians.\\n\\nResponding officers arrived shortly afterwards and identified the driver, who was found to be intoxicated. Upon further investigation, they discovered that the driver had already been issued traffic citations for running red lights on two separate occasions in the past month, and was thus charged with multiple counts of reckless driving.\\n\\nCrime scene investigators were dispatched to the location and visited nearby businesses to obtain surveillance footage of the incident. Witnesses at the scene were also questioned and provided eyewitness accounts of the driver's dangerous behavior. Further investigation revealed that the driver was a repeat offender and had continued to run red lights despite having been previously warned of the consequences. The investigation into the driver's illegal behavior is still ongoing.\",\n",
              "   'entities': {}},\n",
              "  {'text': \"On October 2, 2021, at around 7:45 PM, police received a call from a passerby reporting a driver running red lights. Patrol units immediately responded and located the vehicle in question at an intersection a few blocks away. Officers observed the car still in motion, and upon making contact with the driver, were able to confirm that the driver was ignoring multiple traffic signals.\\n\\nThe driver, identified as Jane Doe, was then pulled over and issued a citation for running the red lights. Officers then identified the other passengers in the car, all of whom were unharmed. After exhcanging contact information, the car was allowed to leave the scene.\\n\\nAccording to records obtained by the officers, this is not the first time that the driver has attempted to run a red light. This incident is part of an ongoing investigation into Jane Doe's actions, and further measures may be taken if traffic laws are not followed in the future.\",\n",
              "   'entities': {}},\n",
              "  {'text': 'On June 20, 2023, at approximately 9:00 PM, witnesses reported seeing a vehicle running red lights and driving erratically at a high rate of speed in the vicinity of the local high school. Responding officers located the vehicle within moments of the report and initiated a traffic stop. The driver, identified as John Doe, displayed signs of intoxication and was subsequently arrested and taken into custody without incident. \\n\\nOfficers impounded the vehicle and administered field sobriety tests at the scene prior to transporting the defendant to the police station for processing. Investigators have begun collecting evidence to support the charges, including video recordings of the event and witness statements. The investigation into the incident is ongoing.',\n",
              "   'entities': {}},\n",
              "  {'text': \"On May 15, 2024, at approximately 7:00 PM, the the victim, identified as Jane Smith, reported being the victim of a distracted driving incident. According to the initial report, the driver in question was observed swerving dangerously in and out of their lane before abruptly stopping alongside the victim's vehicle. The driver proceeded to exit their vehicle and approach the victim in a hostile manner before claiming that their driving was 'perfectly normal'.\\n        Responding officers arrived at the scene shortly after the report and observed the driver displaying signs of impairment, including sluggish speech, dilated pupils, and an odor of alcohol on their breath. The driver was taken into custody for questioning and an analysis of their blood alcohol concentration was administered.\\n        Crime scene investigators were dispatched to the location and conducted an investigation into the incident. Surveillance footage from the area was collected, along with the driver's vehicle, and other potential evidence were reviewed. The investigation into the distracted driving incident is ongoing, with efforts focused on confirming the driver's level of intoxication and establishing the cause of the driver's erratic behavior.\",\n",
              "   'entities': {'Traffic_and_Motor_Vehicle_Crimes': [[116, 134],\n",
              "     [1067, 1085]]}},\n",
              "  {'text': 'On January 12, 2023, at approximately 3:00 PM, the victim, identified as Jane Doe, reported being involved in a vehicle collision due to the driver of the other vehicle distractedly driving. According to the victim, the driver was not wearing a seatbelt and was checking their cellphone instead of paying attention to the road.\\n        Responding officers arrived at the scene within minutes of the report and observed two vehicles at the location, both showing obvious signs of damage from the collision. Officers immediately called for medical assistance and provided initial first aid until paramedics arrived to transport the victim to the hospital for further evaluation and treatment.\\n        Crime scene investigators were dispatched to the location and conducted a thorough examination of the area, collecting potential evidence such as surveillance footage, witness statements, and both vehicles. The investigation into the distracted driving incident is ongoing, with efforts focused on identifying the driver and establishing a motive for the dangerous behavior.',\n",
              "   'entities': {'Traffic_and_Motor_Vehicle_Crimes': [[933, 951]]}},\n",
              "  {'text': 'On October 10, 2027, at approximately 3:00 PM, a witness came forward to report a distracted driving incident witnessed on a nearby street. The witness claimed the driver had been using her cell phone while driving, causing her to swerve between lanes and narrowly miss striking other motorists.\\n        Responding officers arrived on the scene and performed a preliminary investigation, determining the driver had indeed been distracted at the time of the incident. The officers issued the driver a citation for violating distracted driving laws and confiscated her cell phone as evidence.\\n        Traffic cams in the area captured footage of the incident, which further corroborated the eyewitness report. Digital analysis of the cell phone revealed the driver had been using the device during the incident and all available data was forwarded to the local prosecutor for further review. No additional action was taken at the time of the incident, however, an investigation is ongoing to determine if criminal charges will be filed.',\n",
              "   'entities': {'Traffic_and_Motor_Vehicle_Crimes': [[82, 100], [523, 541]]}},\n",
              "  {'text': \"On March 9, 2024, at approximately 10:30 AM, the driver of a grey pickup truck was cited for improper lane change by an officer patrolling the highway. The officer stated that the driver abruptly changed lanes without giving a signal, endangering other drivers on the highway. After issuing the citation, the officer escorted the vehicle to an off-ramp and instructed the driver to pull over.\\n        Upon approaching the vehicle, the officer noted that the driver had a dazed expression and could barely keep his eyes open. The officer asked the driver if he was intoxicated and the driver replied that he hadn't slept in more than 24 hours. After administering a sobriety test, the officer confirmed that the driver was under the influence of a substance and took him into custody.\\n        The driver was taken to the local police precinct for booking. This included a urine test, which revealed traces of a controlled substance in the sample. Police seized the vehicle and collected additional evidence such as the driver's license and any paperwork that could have indicated the vehicle's owner. The investigation into the improper lane change is ongoing, with efforts focused on determining the driver's intent and any potential links to drug trafficking.\",\n",
              "   'entities': {'Traffic_and_Motor_Vehicle_Crimes': [[93, 113],\n",
              "     [1127, 1147]]}},\n",
              "  {'text': \"On June 20, 2023, at approximately 9:00 PM, the victim, identified as John Doe, reported witnessing an improper lane change by an unknown driver. The victim stated that as he was driving, the driver of an approaching vehicle veered in front of him before quickly changing lanes back to their original position.\\n        Responding officers arrived at the scene within minutes of the report and collected a detailed description of the vehicle. Officers also reviewed the victim's account of the incident, providing the necessary information to begin a search for the driver.\\n        Crime scene investigators were dispatched to the location and conducted a thorough examination of the area, looking for any potential evidence that could lead to the identity of wanted driver. The investigation into the improper lane change is ongoing, with efforts focused on tracking down the responsible party.\",\n",
              "   'entities': {'Traffic_and_Motor_Vehicle_Crimes': [[103, 123], [801, 821]]}},\n",
              "  {'text': 'On November 12, 2027, at approximately 3:00 PM, witnesses reported an improper lane change being committed by an unknown vehicle in the northbound lane. Officers arrived swiftly and identified the vehicle a few minutes later. Upon questioning the driver, identified as Jane Doe, officers discovered she had been operating the vehicle with a suspended license and had proceeded to make an illegal lane change shortly prior.\\n        The investigating officer issued a traffic citation for the lane change and Jane was detained while the vehicle was impounded for further investigation. The officer also found evidence of prior traffic violations which resulted in additional penalties. Jane was subsequently released and awaits further proceedings surrounding her traffic violations. The investigation into the improper lane change is ongoing, with efforts focused on establishing any motives behind the act.',\n",
              "   'entities': {'Traffic_and_Motor_Vehicle_Crimes': [[70, 90], [809, 829]]}},\n",
              "  {'text': \"On January 30, 2045, at approximately 10:15 AM, the police officer initiated a traffic stop after noticing that the driver, identified as Jane Smith, was operating a vehicle with expired registration. The officer approached the vehicle and questioned the driver, who confirmed that the vehicle belonged to her and that the registration had expired. \\n\\nThe officer issued Smith a citation for driving with expired registration and asked her to move her vehicle off of the roadway. Smith complied with the officer's orders and subsequently drove away from the scene. \\n\\nCrime scene investigators were dispatched to the location and conducted a thorough examination of the area, collecting potential evidence such as evidence of expired registration and the officer’s notes from the traffic stop. The investigation into the violation is ongoing, with efforts focused on verifying the validity of the expired registration and determining any similar violations in the area.\",\n",
              "   'entities': {'Traffic_and_Motor_Vehicle_Crimes': [[391, 424]]}},\n",
              "  {'text': \"On August 2, 2024, at approximately 11:30 AM, the officer noticed a vehicle driving with expired registration. The vehicle was identified as a black Volkswagen and was immediately pulled over by the officer. Upon contact, the driver was identified as John Doe, who stated that he was unaware of his registration being expired. \\n\\nThe officer informed the driver that driving with expired registration was a criminal offense and asked him to display his relevant documents, including proof of registration and proof of insurance. When Doe failed to produce the required documents, the officer issued him a notice to appear court in order to face the charges. Additional charges may be pending, pending further investigation into Doe's license status. \\n\\nThe officer released the driver at the scene after completing the necessary paperwork and the vehicle was impounded for further investigation. The investigation into the incident is ongoing, with efforts focused on resolving the expired registration issue and determining whether additional charges are applicable.\",\n",
              "   'entities': {'Traffic_and_Motor_Vehicle_Crimes': [[76, 109], [366, 399]]}},\n",
              "  {'text': \"On April 4, 2031, at approximately 6:00 PM, the police received a report of a vehicle driving with expired registration in a residential area. Responding officers located the vehicle and stopped it as it proceeded down the street. After running the vehicle's plate number, they discovered that the registration had expired six months previously. \\n\\nThe officers issued a citation to the driver and instructed them to update their registration before driving the vehicle again. A tow truck was dispatched to the scene in order to remove the car until the driver was able to renew the registration. The driver was cooperative throughout the process and was allowed to leave the scene without further incident. \\n\\nThe investigation into the incident is ongoing, with efforts focused on enforcing registration laws and ensuring that all drivers are aware of the regulations in the area.\",\n",
              "   'entities': {'Traffic_and_Motor_Vehicle_Crimes': [[86, 119]]}},\n",
              "  {'text': \"On December 4, 2022, at approximately 8:00 PM, the suspect, identified as Jane Smith, was stopped and detained by an on-duty patrol officer for driving with a suspended license. The officer reportedly pulled the vehicle over for running a red light and confirmed the status of the suspect's license after running a records check.\\n        The suspect was handcuffed and placed into custody, with her vehicle being impounded and towed from the scene. She was then transported to the local police station where she was read her rights and booked into the county jail for the offense.\\n        In the subsequent days, the suspect was arraigned by the presiding court and released on her own recognizance with a future court date pending. Records regarding the incident have been logged into the police system and forwarded to the relevant state department for further action.\",\n",
              "   'entities': {}},\n",
              "  {'text': \"On March 3, 2024, at approximately 3:45 PM, officers on patrol witnessed the suspect, identified as Jane Smith, driving a vehicle with a suspended license. Once pulled over, officers confirmed the license had been previously suspended due to unpaid parking tickets. The suspect disputed the officers' claims, claiming she had paid the tickets months ago. \\n\\nOfficers radioed for identification and background checks which revealed the suspect was also wanted for questioning in an unrelated criminal investigation. After informing her of her rights and arresting her, officers searched the vehicle for any additional evidence but did not find anything further.\\n\\nThe suspect was taken to a nearby police station for further questioning and processing related to the charge of driving with a suspended license. She is scheduled to appear in court two weeks from the date of the arrest. The investigation into the unrelated criminal matter is ongoing.\",\n",
              "   'entities': {}},\n",
              "  {'text': 'On June 20, 2023, at approximately 9:00 PM, the police patrolling the area around Central Street observed an unfamiliar vehicle driving with a suspended license. An investigation was initiated and the driver, identified as John Doe, was instructed by the officer to pull over. After examining the documents presented by Doe, the officer issued a summons, informing him that further action would be taken against him. \\n\\nThe officer escorted Doe from the scene and called for backup. Additional officers arrived at the scene, as well as a tow truck to remove the vehicle. The driver was given further instructions to appear in court in the upcoming days. Investigators gathered further evidence from the scene, including video footage of the incident, witness statements, and other details. The investigation into driving with a suspended license is ongoing, with efforts focused on determining whether Doe is culpable for the crime.',\n",
              "   'entities': {}},\n",
              "  {'text': 'On August 22, 2027, at approximately 3:00 AM, the victim, identified as Jane Doe, reported being carjacked by an unknown assailant near a freeway exit. The victim stated that the assailant had approached her from behind and threatened to harm her if she did not surrender her vehicle. Fearing for her safety, the victim complied and the assailant quickly drove away in her car. \\nResponding officers arrived at the scene shortly after the report was made and began searching the area for the stolen vehicle. Witnesses were able to provide a description of the assailant and the vehicle, as well as its direction of travel. Officers immediately broadcast an all-points bulletin to the neighbouring precincts in an effort to locate the car. \\nCrime scene investigators were dispatched to the location to collect evidence that could aid in the investigation. Officers processed the scene for physical evidence and retrieved surveillance footage from nearby businesses. The investigation into the carjacking remains ongoing and efforts are currently being made to identify and locate the assailant.',\n",
              "   'entities': {'Traffic_and_Motor_Vehicle_Crimes': [[97, 106]]}},\n",
              "  {'text': \"On August 15, 2025, at approximately 11:00 PM, the victim, identified as Jane Doe, reported being carjacked by an unknown assailant near a local park. The victim stated that the assailant brandished a firearm and demanded control of her vehicle before forcing her out of the car and driving away.\\nResponding officers arrived at the scene within minutes of the report and observed the victim visibly shaken and in distress. Officers ensured the victim's safety and took her initial statement about the incident.\\nCrime scene investigators were dispatched to the location and conducted a thorough examination of the area, collecting potential evidence such as surveillance footage, witness statements, and the victim's discarded personal belongings. The investigation into the carjacking is ongoing, with efforts focused on identifying the assailant and recovering the stolen vehicle.\",\n",
              "   'entities': {'Traffic_and_Motor_Vehicle_Crimes': [[98, 107]]}},\n",
              "  {'text': \"On August 3, 2023, at approximately 10:00 PM, the victim, identified as Jane Doe, reported having her car stolen by an unknown assailant in a supermarket parking lot. The victim stated that the assailant suddenly appeared and threatened her with a firearm before stealing her keys and fleeing the scene in her car.\\n        Responding officers arrived at the scene shortly thereafter and observed the victim displaying signs of distress. Officers searched the area for the assailant and the victim's stolen vehicle, but were unable to locate either.\\n        Crime scene investigators were dispatched to the scene and conducted a thorough examination of the area, collecting potential evidence such as surveillance footage, witness statements, and the victim's personal belongings. The investigation into the carjacking is ongoing, with efforts focused on identifying the assailant and locating the stolen vehicle.\",\n",
              "   'entities': {}}]}"
            ]
          },
          "execution_count": 22,
          "metadata": {},
          "output_type": "execute_result"
        }
      ],
      "source": [
        "crime_prompt_data"
      ]
    },
    {
      "cell_type": "code",
      "execution_count": 23,
      "metadata": {
        "id": "3uWzbW__Zl6X"
      },
      "outputs": [],
      "source": [
        "def show_crime_prompt(response, crime):\n",
        "    doc = nlp_ner(response)\n",
        "    colors = {crime: \"#F67DE3\"}\n",
        "    options = {\"colors\": colors}\n",
        "    spacy.displacy.render(doc, style=\"ent\", options= options, jupyter=True)"
      ]
    },
    {
      "cell_type": "markdown",
      "metadata": {
        "id": "zHgq005yZl6X"
      },
      "source": [
        "### Violent Crimes"
      ]
    },
    {
      "cell_type": "code",
      "execution_count": 24,
      "metadata": {
        "id": "Bd_YAS7UZl6X",
        "outputId": "b66d34b9-6f35-49e0-87fd-df2faac16408"
      },
      "outputs": [
        {
          "data": {
            "text/html": [
              "<span class=\"tex2jax_ignore\"><div class=\"entities\" style=\"line-height: 2.5; direction: ltr\">On July 12, 2022, at around 4:00 AM, the victim, identified as Jane Smith, reported being \n",
              "<mark class=\"entity\" style=\"background: #F67DE3; padding: 0.45em 0.6em; margin: 0 0.25em; line-height: 1; border-radius: 0.35em;\">\n",
              "    murdered\n",
              "    <span style=\"font-size: 0.8em; font-weight: bold; line-height: 1; border-radius: 0.35em; vertical-align: middle; margin-left: 0.5rem\">Violent_Crimes</span>\n",
              "</mark>\n",
              " by an unknown person in an isolated area near the outskirts of town. The victim's body was discovered by a jogger who immediately alerted authorities and provided a partial description of the suspect. </br></br>Responding officers arrived shortly after the report and established a perimeter to search for the culprit, as well as any potential evidence related to the murder. Officers observed that the victim had suffered a severe laceration to the neck and were unable to establish a cause of death until the coroner reported an extensive investigation.</br></br>Crime scene investigators were dispatched to the area and conducted an extensive examination of the area and collected potential evidence such as photographs, surveillance footage, medical records, and witness statements. The investigation into the murder is ongoing, with efforts focused on finding and apprehending the suspect, as well as establishing a motive for the attack.</div></span>"
            ],
            "text/plain": [
              "<IPython.core.display.HTML object>"
            ]
          },
          "metadata": {},
          "output_type": "display_data"
        },
        {
          "data": {
            "text/html": [
              "<span class=\"tex2jax_ignore\"><div class=\"entities\" style=\"line-height: 2.5; direction: ltr\">On January 17, 2021, at around midnight, the victim, identified as Jane Smith, was \n",
              "<mark class=\"entity\" style=\"background: #F67DE3; padding: 0.45em 0.6em; margin: 0 0.25em; line-height: 1; border-radius: 0.35em;\">\n",
              "    murdered\n",
              "    <span style=\"font-size: 0.8em; font-weight: bold; line-height: 1; border-radius: 0.35em; vertical-align: middle; margin-left: 0.5rem\">Violent_Crimes</span>\n",
              "</mark>\n",
              " by an unknown perpetrator in a back alley near their residence. The victim’s neighbor reported hearing a commotion coming from the alley before silence fell again. Upon investigation, the neighbor located the victim’s lifeless body and called 911. </br></br>Police officers responding to the call found the victim with multiple stab wounds throughout their body. First responders arrived and confirmed the victim was dead. The immediate vicinity was cordoned off and policed secured the area. </br></br>Forensic teams were then dispatched to the scene to secure potential evidence, such as the murder weapon, surveillance footage, fingerprints, and DNA evidence. Pursuant to the investigation, detectives are in the process of identifying the perpetrator and the motive behind the murder.</div></span>"
            ],
            "text/plain": [
              "<IPython.core.display.HTML object>"
            ]
          },
          "metadata": {},
          "output_type": "display_data"
        },
        {
          "data": {
            "text/html": [
              "<span class=\"tex2jax_ignore\"><div class=\"entities\" style=\"line-height: 2.5; direction: ltr\">On August 4, 2023, at approximately 11:00 PM, police received reports of a murder in a residential area. Responding officers identified the victim as Jane Doe and discovered that she had been fatally \n",
              "<mark class=\"entity\" style=\"background: #F67DE3; padding: 0.45em 0.6em; margin: 0 0.25em; line-height: 1; border-radius: 0.35em;\">\n",
              "    stabbed\n",
              "    <span style=\"font-size: 0.8em; font-weight: bold; line-height: 1; border-radius: 0.35em; vertical-align: middle; margin-left: 0.5rem\">Violent_Crimes</span>\n",
              "</mark>\n",
              " in her driveway. Officers immediately secured the area and canvassed the neighborhood in search of potential witnesses.</br></br>Crime scene investigators arrived shortly afterwards and documentation of the scene indicated that the murder may have been a targeted attack. In addition to physical evidence of the assault, investigators recovered several personal belonging of the victim near the scene.</br></br>The investigation into the murder is currently ongoing, with police working to identify the assailant and uncover any possible motives for the attack. Moreover, police are offering a reward for any information leading to the successful apprehension of the suspect.</div></span>"
            ],
            "text/plain": [
              "<IPython.core.display.HTML object>"
            ]
          },
          "metadata": {},
          "output_type": "display_data"
        },
        {
          "data": {
            "text/html": [
              "<span class=\"tex2jax_ignore\"><div class=\"entities\" style=\"line-height: 2.5; direction: ltr\">On July 17, 2024, at approximately 4:00 AM, the victim, identified as Jane Doe, reported being \n",
              "<mark class=\"entity\" style=\"background: #F67DE3; padding: 0.45em 0.6em; margin: 0 0.25em; line-height: 1; border-radius: 0.35em;\">\n",
              "    assaulted\n",
              "    <span style=\"font-size: 0.8em; font-weight: bold; line-height: 1; border-radius: 0.35em; vertical-align: middle; margin-left: 0.5rem\">Violent_Crimes</span>\n",
              "</mark>\n",
              " by an unknown suspect near a local park. According to the victim, the suspect attempted to grab her from behind and drag her into the nearby woods before she was able to free herself.</br>Fearful and shaken, the victim called for help and was able to make her way back to her residence where a friend quickly contacted the police.</br></br>Responding officers were dispatched to the scene and provided the victim with medical assistance. Additional units were immediately assigned to search the area for the suspect while evidence was gathered and witness statements taken.</br></br>Crime scene investigators scoured the park and its surroundings for any clues that could help to reveal the assailant's identity. At present, the investigation is ongoing, with hopes of catching the suspect and understanding why the attack was carried out.</div></span>"
            ],
            "text/plain": [
              "<IPython.core.display.HTML object>"
            ]
          },
          "metadata": {},
          "output_type": "display_data"
        },
        {
          "data": {
            "text/html": [
              "<span class=\"tex2jax_ignore\"><div class=\"entities\" style=\"line-height: 2.5; direction: ltr\">At approximately 11:20 PM, officers responded to a call of an assault taking place in front of a local high school. Upon arrival, officers found the victim, Jane Smith, lying on the ground with visible signs of trauma. The victim reported that she had been \n",
              "<mark class=\"entity\" style=\"background: #F67DE3; padding: 0.45em 0.6em; margin: 0 0.25em; line-height: 1; border-radius: 0.35em;\">\n",
              "    assaulted\n",
              "    <span style=\"font-size: 0.8em; font-weight: bold; line-height: 1; border-radius: 0.35em; vertical-align: middle; margin-left: 0.5rem\">Violent_Crimes</span>\n",
              "</mark>\n",
              " by a male subject wearing a black hoodie and a black face mask, and that he had used a sharp metal object to push and shove her against a wall before fleeing the scene. Officers searched the area but were unable to locate the suspect. Jane Smith was transported to a nearby hospital for evaluation and treatment. Crime scene investigators conducted an extensive search of the area, collecting evidence such as blood samples, surveillance footage, and statements from witnesses. Authorities are actively working to identify the assailant and determine a motive for the attack.</div></span>"
            ],
            "text/plain": [
              "<IPython.core.display.HTML object>"
            ]
          },
          "metadata": {},
          "output_type": "display_data"
        }
      ],
      "source": [
        "# violent_crime_response1 = crime_prompt_data['examples'][0]['text']\n",
        "# show_crime_prompt(violent_crime_response1, 'Violent_Crimes')\n",
        "\n",
        "for i in range(5):\n",
        "    crime_response = crime_prompt_data['examples'][i]['text']\n",
        "    show_crime_prompt(crime_response, 'Violent_Crimes')"
      ]
    },
    {
      "cell_type": "code",
      "execution_count": 25,
      "metadata": {
        "id": "cFDDKecUZl6X",
        "outputId": "50183315-7d23-4408-ea22-2551e6421d70"
      },
      "outputs": [
        {
          "data": {
            "text/html": [
              "<span class=\"tex2jax_ignore\"><div class=\"entities\" style=\"line-height: 2.5; direction: ltr\">On May 17, 2023, at approximately 8:00 PM, Jane Doe was reported \n",
              "<mark class=\"entity\" style=\"background: #ddd; padding: 0.45em 0.6em; margin: 0 0.25em; line-height: 1; border-radius: 0.35em;\">\n",
              "    murdered\n",
              "    <span style=\"font-size: 0.8em; font-weight: bold; line-height: 1; border-radius: 0.35em; vertical-align: middle; margin-left: 0.5rem\">Violent_Crimes</span>\n",
              "</mark>\n",
              " by her husband in her apartment.</div></span>"
            ],
            "text/plain": [
              "<IPython.core.display.HTML object>"
            ]
          },
          "metadata": {},
          "output_type": "display_data"
        }
      ],
      "source": [
        "doc = nlp_ner(\"On May 17, 2023, at approximately 8:00 PM, Jane Doe was reported murdered by her husband in her apartment.\")\n",
        "\n",
        "colors = {\"Violet_Crimes\": \"#F67DE3\", \"Murdered\": \"#7DF6D9\"}\n",
        "options = {\"colors\": colors}\n",
        "\n",
        "spacy.displacy.render(doc, style=\"ent\", options= options, jupyter=True)"
      ]
    },
    {
      "cell_type": "markdown",
      "metadata": {
        "id": "2-m3yaQaZl6X"
      },
      "source": [
        "### Property Crimes"
      ]
    },
    {
      "cell_type": "code",
      "execution_count": 26,
      "metadata": {
        "id": "i-dXb9R5Zl6X",
        "outputId": "6a236bf8-1814-492a-ec86-3c8bb7b37c0d"
      },
      "outputs": [
        {
          "data": {
            "text/html": [
              "<span class=\"tex2jax_ignore\"><div class=\"entities\" style=\"line-height: 2.5; direction: ltr\">On August 9, 2023, at approximately 11:30 PM, the victim, identified as Jane Smith, reported being \n",
              "<mark class=\"entity\" style=\"background: #F67DE3; padding: 0.45em 0.6em; margin: 0 0.25em; line-height: 1; border-radius: 0.35em;\">\n",
              "    mugged\n",
              "    <span style=\"font-size: 0.8em; font-weight: bold; line-height: 1; border-radius: 0.35em; vertical-align: middle; margin-left: 0.5rem\">Property_Crimes</span>\n",
              "</mark>\n",
              " by an unknown assailant outside a local bar. The victim stated that the assailant approached her from behind and demanded her wallet before pushing her to the ground and fleeing the scene.</br>        Responding officers arrived at the scene within minutes of the report and observed the victim displaying visible signs of injury, including bruises on her arms and legs. Officers immediately called for medical assistance and provided initial first aid until paramedics arrived to transport the victim to the hospital for further evaluation and treatment.</br>        Crime scene investigators were dispatched to the location and conducted a thorough examination of the area, collecting potential evidence such as surveillance footage, witness statements, and the victim's personal belongings. The investigation into the mugging is ongoing, with efforts focused on identifying the assailant and establishing a motive for the attack.</div></span>"
            ],
            "text/plain": [
              "<IPython.core.display.HTML object>"
            ]
          },
          "metadata": {},
          "output_type": "display_data"
        },
        {
          "data": {
            "text/html": [
              "<span class=\"tex2jax_ignore\"><div class=\"entities\" style=\"line-height: 2.5; direction: ltr\">On November 2nd, 2021, at approximately 10:00 PM, the victim, identified as Jane Smith, reported being \n",
              "<mark class=\"entity\" style=\"background: #F67DE3; padding: 0.45em 0.6em; margin: 0 0.25em; line-height: 1; border-radius: 0.35em;\">\n",
              "    mugged\n",
              "    <span style=\"font-size: 0.8em; font-weight: bold; line-height: 1; border-radius: 0.35em; vertical-align: middle; margin-left: 0.5rem\">Property_Crimes</span>\n",
              "</mark>\n",
              " by an as of yet unidentified assailant near her residence. She recounted that the assailant had approached her from behind and grabbed her purse before fleeing the scene.</br>Responding officers arrived shortly afterwards and noted that the victim appeared visibly shaken and had minor scrapes on her arm. Officers immediately called for medical assistance and provided initial first aid until paramedics arrived to transport the victim to the hospital for further examination and treatment.</br>Crime scene investigators were dispatched to the location and conducted a thorough examination of the area, collecting potential evidence such as surveillance footage, witness statements, and the victim's personal belongings. The investigation into the mugging is still ongoing, with efforts focused on identifying the assailant and understanding the motive for the attack.</div></span>"
            ],
            "text/plain": [
              "<IPython.core.display.HTML object>"
            ]
          },
          "metadata": {},
          "output_type": "display_data"
        },
        {
          "data": {
            "text/html": [
              "<span class=\"tex2jax_ignore\"><div class=\"entities\" style=\"line-height: 2.5; direction: ltr\">On August 17, 2021, at approximately 7:30 PM, A witness reported seeing a female victim, identified as Jane Smith, being \n",
              "<mark class=\"entity\" style=\"background: #F67DE3; padding: 0.45em 0.6em; margin: 0 0.25em; line-height: 1; border-radius: 0.35em;\">\n",
              "    robbed\n",
              "    <span style=\"font-size: 0.8em; font-weight: bold; line-height: 1; border-radius: 0.35em; vertical-align: middle; margin-left: 0.5rem\">Property_Crimes</span>\n",
              "</mark>\n",
              " by an unidentified male assailant in an alleyway. Witnesses stated that the assailant held a knife to the victim's side and demanded her purse before fleeing the area.</br>        Responding officers arrived shortly and found the victim visibly distressed and without her purse. Officers comforted the victim and contacted the police department's Victim Services Unit to provide psychological support. Officers also collected witness statements and statements from the victim about the incident.</br>        Crime scene investigators reviewed surveillance footage and canvassed the area for potential witnesses. After a thorough investigation, investigators found and collected the victim's personal belongings which had been discarded by the assailant. The investigation into the robbery is ongoing, with efforts focused on locating and apprehending the assailant to ensure the perpetrator is brought to justice.</div></span>"
            ],
            "text/plain": [
              "<IPython.core.display.HTML object>"
            ]
          },
          "metadata": {},
          "output_type": "display_data"
        },
        {
          "data": {
            "text/html": [
              "<span class=\"tex2jax_ignore\"><div class=\"entities\" style=\"line-height: 2.5; direction: ltr\">On August 10, 2023, at approximately 11:30 PM, the victim, identified as Jane Smith, reported being \n",
              "<mark class=\"entity\" style=\"background: #F67DE3; padding: 0.45em 0.6em; margin: 0 0.25em; line-height: 1; border-radius: 0.35em;\">\n",
              "    robbed\n",
              "    <span style=\"font-size: 0.8em; font-weight: bold; line-height: 1; border-radius: 0.35em; vertical-align: middle; margin-left: 0.5rem\">Property_Crimes</span>\n",
              "</mark>\n",
              " by an unknown assailant while walking through a park. The victim stated that she was walking alone when a suspect approached her from the darkness, demanding her money and valuables before fleeing the scene.</br>        Responding officers arrived at the scene shortly after the report was filed and heard the victim recounting the details of the robbery. Officers observed the victim to be visibly shaken, but without any physical signs of injury. Officers comforted the victim and actively canvassed the area in search of the assailant.</br>        Crime scene investigators were dispatched to the location and conducted a thorough examination of the area, collecting potential evidence such as surveillance footage, witness statements, and the victim's belongings. The investigation into the robbery is ongoing, with efforts focused on identifying the assailant and recovering the stolen items.</div></span>"
            ],
            "text/plain": [
              "<IPython.core.display.HTML object>"
            ]
          },
          "metadata": {},
          "output_type": "display_data"
        },
        {
          "data": {
            "text/html": [
              "<span class=\"tex2jax_ignore\"><div class=\"entities\" style=\"line-height: 2.5; direction: ltr\">On June 20, 2023, at approximately 9:00 PM, the victim, identified as John Doe, reported being \n",
              "<mark class=\"entity\" style=\"background: #F67DE3; padding: 0.45em 0.6em; margin: 0 0.25em; line-height: 1; border-radius: 0.35em;\">\n",
              "    robbed\n",
              "    <span style=\"font-size: 0.8em; font-weight: bold; line-height: 1; border-radius: 0.35em; vertical-align: middle; margin-left: 0.5rem\">Property_Crimes</span>\n",
              "</mark>\n",
              " by an unknown assailant outside a local convenience store. The victim stated that the assailant approached him from the side, brandishing a knife and ordered him to hand over his wallet and phone. The assailant then proceeded to flee the scene with the victim's belongings.</br>        Responding officers arrived at the scene within minutes of the report and observed the victim visibly shaken and distraught. Officers immediately questioned the victim for a description of the assailant, where it became evident that he was unable to recall any crucial details.</br>        Crime scene investigators were dispatched to the location and conducted a thorough examination of the area, collecting potential evidence such as surveillance footage, witness statements, and the victim's personal belongings. The investigation into the robbery is ongoing, with efforts focused on identifying the assailant and recovering the stolen items.</div></span>"
            ],
            "text/plain": [
              "<IPython.core.display.HTML object>"
            ]
          },
          "metadata": {},
          "output_type": "display_data"
        }
      ],
      "source": [
        "for i in range(64, 69):\n",
        "    crime_response = crime_prompt_data['examples'][i]['text']\n",
        "    show_crime_prompt(crime_response, 'Property_Crimes')"
      ]
    },
    {
      "cell_type": "markdown",
      "metadata": {
        "id": "oZoaTV9cZl6X"
      },
      "source": [
        "### Financial Crimes"
      ]
    },
    {
      "cell_type": "code",
      "execution_count": 27,
      "metadata": {
        "id": "17K0_LzeZl6b",
        "outputId": "983c1ba9-820a-4d4c-f08c-5a0c3a31817a"
      },
      "outputs": [
        {
          "data": {
            "text/html": [
              "<span class=\"tex2jax_ignore\"><div class=\"entities\" style=\"line-height: 2.5; direction: ltr\">On June 20, 2023, at approximately 9:00 PM, a tip received by the FBI alleged that an individual identified as John Doe had \n",
              "<mark class=\"entity\" style=\"background: #F67DE3; padding: 0.45em 0.6em; margin: 0 0.25em; line-height: 1; border-radius: 0.35em;\">\n",
              "    laundered\n",
              "    <span style=\"font-size: 0.8em; font-weight: bold; line-height: 1; border-radius: 0.35em; vertical-align: middle; margin-left: 0.5rem\">Financial_Crimes</span>\n",
              "</mark>\n",
              " money through a local convenience store. Agents were dispatched to the location to investigate and soon uncovered substantial evidence of money laundering activities. This included records of suspicious financial transactions, documents linking Doe to the store, and surveillance footage that showed the individual carrying large amounts of cash on a regular basis.</br>        Responding agents further discovered evidence linking Doe to other individuals in the city who were also engaged in money laundering activities. All suspects were immediately taken into custody for questioning and aggressive investigation.</br>        Upon further interrogation, Doe confessed to laundering funds from a local criminal organization. He was charged with multiple counts of money laundering, which resulted in a long-term prison sentence. </br>        Crime scene investigators were also dispatched to the scene, and a thorough examination of the area resulted in the recovery of additional financial documents and potential evidence that will be analyzed in further detail. The investigation into the money laundering activities is ongoing.</div></span>"
            ],
            "text/plain": [
              "<IPython.core.display.HTML object>"
            ]
          },
          "metadata": {},
          "output_type": "display_data"
        },
        {
          "data": {
            "text/html": [
              "<span class=\"tex2jax_ignore\"><div class=\"entities\" style=\"line-height: 2.5; direction: ltr\">On December 13, 2025, at approximately 5:30 PM, the police were alerted to what appeared to be a money laundering operation taking place at a commercial building. Investigators quickly responded to the scene and identified the individual using the business premises to launder money as John Doe.</br>        Upon questioning, John Doe admitted to using the business to convert the proceeds of past criminal activities into legitimate funds. Officers seized a variety of documents, equipment, and financial records believed to be associated with the illegal transactions.</br>        Following protocol, police contacted the banking institutions associated with the suspect and determined that the money laundering operation had been ongoing for several weeks. The scope of the operation was further revealed by a review of bank records and other pertinent documents. </br>        The investigation is ongoing, with law enforcement coordinating with the appropriate financial regulators and other government agencies to ensure that all associated parties are brought to justice.</div></span>"
            ],
            "text/plain": [
              "<IPython.core.display.HTML object>"
            ]
          },
          "metadata": {},
          "output_type": "display_data"
        },
        {
          "data": {
            "text/html": [
              "<span class=\"tex2jax_ignore\"><div class=\"entities\" style=\"line-height: 2.5; direction: ltr\">On April 1, 2046, at around 2:30 PM, the victim, identified as William Benjamin, reported being \n",
              "<mark class=\"entity\" style=\"background: #F67DE3; padding: 0.45em 0.6em; margin: 0 0.25em; line-height: 1; border-radius: 0.35em;\">\n",
              "    scammed\n",
              "    <span style=\"font-size: 0.8em; font-weight: bold; line-height: 1; border-radius: 0.35em; vertical-align: middle; margin-left: 0.5rem\">Financial_Crimes</span>\n",
              "</mark>\n",
              " by an unknown perpetrator. According to the victim, the perpetrator approached him claiming to sell an expensive watch before taking his money and disappearing. </br></br>The victim reported the incident to the police station and officers immediately began their investigation, interviewing witnesses in the area for information. Crime scene investigators were dispatched to the victim's location and gathered a variety of evidence from the scene, such as security camera footage and personal documents. </br></br>Law enforcement analysts took over the investigation later that day and cross-referenced all available information in an effort to discern the perpetrator's true identity and uncover a motive for the scam. The investigation is ongoing, and officers remain on alert for any potential leads.</div></span>"
            ],
            "text/plain": [
              "<IPython.core.display.HTML object>"
            ]
          },
          "metadata": {},
          "output_type": "display_data"
        },
        {
          "data": {
            "text/html": [
              "<span class=\"tex2jax_ignore\"><div class=\"entities\" style=\"line-height: 2.5; direction: ltr\">On November 2, 2023, at around 4:00 PM, the victim, identified as Jane Smith, reported being \n",
              "<mark class=\"entity\" style=\"background: #F67DE3; padding: 0.45em 0.6em; margin: 0 0.25em; line-height: 1; border-radius: 0.35em;\">\n",
              "    scammed\n",
              "    <span style=\"font-size: 0.8em; font-weight: bold; line-height: 1; border-radius: 0.35em; vertical-align: middle; margin-left: 0.5rem\">Financial_Crimes</span>\n",
              "</mark>\n",
              " by an unknown intruder via a phishing website. The victim said that the intruder had tricked her into providing personal information, including her social security number and credit card information, by posing as a legitimate business.</br>        Responding officers were dispatched to the scene moments after the report and collected all the evidence gathered by the victim. Officers interviewed the victim to gain a better understanding of the incident before directing her to the local cyber crime unit to assist with the investigation.</br>       Crime scene investigators reviewed the provided evidence and conducted a thorough examination of the website, hoping to uncover any additional clues that could lead to the perpetrator. The investigation is still in its early stages, but all efforts are being made to ensure that the culprit behind the scam is brought to justice.</div></span>"
            ],
            "text/plain": [
              "<IPython.core.display.HTML object>"
            ]
          },
          "metadata": {},
          "output_type": "display_data"
        },
        {
          "data": {
            "text/html": [
              "<span class=\"tex2jax_ignore\"><div class=\"entities\" style=\"line-height: 2.5; direction: ltr\">On April 26, 2023, at around 3:00 PM, the victim, identified as Jane Smith, reported being \n",
              "<mark class=\"entity\" style=\"background: #F67DE3; padding: 0.45em 0.6em; margin: 0 0.25em; line-height: 1; border-radius: 0.35em;\">\n",
              "    scammed\n",
              "    <span style=\"font-size: 0.8em; font-weight: bold; line-height: 1; border-radius: 0.35em; vertical-align: middle; margin-left: 0.5rem\">Financial_Crimes</span>\n",
              "</mark>\n",
              " by an unknown suspect. The victim stated that the suspect had contacted her over the phone, falsely claiming to be an employee of her bank and requesting personal information such as her credit card number and social security number. </br></br>The victim became suspicious and ended the call immediately, realizing she had been a victim of fraud. Responding officers were dispatched to the scene and attempted to contact the suspect before they were able to flee the area, but were unsuccessful. </br></br>Crime scene investigators were called in to analyze the situation and search the surrounding area for any evidence that might be linked to the suspect. The investigation into the scam continues, with the priority of apprehending the suspect and preventing future fraud.</div></span>"
            ],
            "text/plain": [
              "<IPython.core.display.HTML object>"
            ]
          },
          "metadata": {},
          "output_type": "display_data"
        }
      ],
      "source": [
        "for i in range(118, 123):\n",
        "    crime_response = crime_prompt_data['examples'][i]['text']\n",
        "    show_crime_prompt(crime_response, 'Financial_Crimes')"
      ]
    },
    {
      "cell_type": "markdown",
      "metadata": {
        "id": "X9G_Bh-4Zl6c"
      },
      "source": [
        "### Cybercrimes"
      ]
    },
    {
      "cell_type": "code",
      "execution_count": 28,
      "metadata": {
        "id": "8yE9QB9IZl6c",
        "outputId": "a0ded425-c1c9-4a6e-e7c4-3a495182a032"
      },
      "outputs": [
        {
          "data": {
            "text/html": [
              "<span class=\"tex2jax_ignore\"><div class=\"entities\" style=\"line-height: 2.5; direction: ltr\">On June 20, 2023, at approximately 9:00 PM, the victim, identified as John Doe, reported having his data stolen by an unknown perpetrator. According to the victim, the perpetrator had gained access to his computer remotely and stolen information without his knowledge or permission.</br>        Responding officers arrived at the scene within minutes of the report and conducted an initial assessment of the victim's computer. Observers noted that the perpetrator had created a back door to the network allowing them access to the victim's data and sensitive files. Officers immediately began to collect digital evidence for processing and investigation.</br>        Crime scene investigators were dispatched to the location and seized the victim's computer and other equipment for further investigation. Additionally, the investigators interviewed the victim and other witnesses in an effort to gain possible leads in identifying the perpetrator and their motives for the theft. The investigation into the stolen data is ongoing.</div></span>"
            ],
            "text/plain": [
              "<IPython.core.display.HTML object>"
            ]
          },
          "metadata": {},
          "output_type": "display_data"
        },
        {
          "data": {
            "text/html": [
              "<span class=\"tex2jax_ignore\"><div class=\"entities\" style=\"line-height: 2.5; direction: ltr\">On June 20, 2023, at approximately 9:00 PM, the victim, identified as John Doe, reported having their data stolen by an unknown individual. The victim stated that they noticed unauthorized access to their system shortly after being sent a suspicious email from an unknown sender.</br>        Responding officers arrived at the scene within minutes of the report and reviewed the victim's log files, which confirmed their suspicions. Officers immediately contacted technical experts to do an in-depth analysis of the system in order to accurately trace the origin of the breach.</br>        Crime scene investigators were dispatched to the location and conducted a thorough examination of the system, collecting potential evidence such as digital storage files and debug logs. The investigation into the \n",
              "<mark class=\"entity\" style=\"background: #F67DE3; padding: 0.45em 0.6em; margin: 0 0.25em; line-height: 1; border-radius: 0.35em;\">\n",
              "    data theft\n",
              "    <span style=\"font-size: 0.8em; font-weight: bold; line-height: 1; border-radius: 0.35em; vertical-align: middle; margin-left: 0.5rem\">Cybercrimes</span>\n",
              "</mark>\n",
              " is ongoing, with efforts focused on identifying the perpetrator and accessing the stolen information.</div></span>"
            ],
            "text/plain": [
              "<IPython.core.display.HTML object>"
            ]
          },
          "metadata": {},
          "output_type": "display_data"
        },
        {
          "data": {
            "text/html": [
              "<span class=\"tex2jax_ignore\"><div class=\"entities\" style=\"line-height: 2.5; direction: ltr\">On July 5, 2023, at approximately 3:30 PM, the victim, identified as Jane Smith, reported having personal data stolen by an unknown hacker. The victim stated that the hacker accessed her computer remotely and copied and transferred sensitive information to an unknown location before disconnecting from the machine.</br>        Responding officers arrived at the scene within minutes of the report and questioned the victim to gain further insight into the attack. Officers immediately began to trace the source of the hack and requested assistance from the cybercrime division of the police to investigate further.</br>        Crime scene investigators were dispatched to the location and conducted an inspection of the victim's computer, analyzing the system for evidence of the data breach. The investigation into the theft of data is ongoing, with efforts focused on identifying the hacker and retrieving the stolen information.</div></span>"
            ],
            "text/plain": [
              "<IPython.core.display.HTML object>"
            ]
          },
          "metadata": {},
          "output_type": "display_data"
        },
        {
          "data": {
            "text/html": [
              "<span class=\"tex2jax_ignore\"><div class=\"entities\" style=\"line-height: 2.5; direction: ltr\">On June 20, 2023, at approximately 9:00 PM, the victim, identified as John Doe, reported being \n",
              "<mark class=\"entity\" style=\"background: #F67DE3; padding: 0.45em 0.6em; margin: 0 0.25em; line-height: 1; border-radius: 0.35em;\">\n",
              "    cyberbullied\n",
              "    <span style=\"font-size: 0.8em; font-weight: bold; line-height: 1; border-radius: 0.35em; vertical-align: middle; margin-left: 0.5rem\">Cybercrimes</span>\n",
              "</mark>\n",
              " by an unknown individual. The victim stated that he had been receiving threatening messages and images on a social media account for weeks. Unfortunately, the victim was unable to provide any information about the sender to the police.</br></br>Responding officers were sent to the victim's address and took a detailed statement of the events leading up to the cyberbullying. The victim was then advised to block the account in order to prevent further communication and distress. </br></br>Crime scene investigators followed up on the report and conducted an extensive digital investigation, collecting data from the victim's social media accounts, computer equipment, and other online activities. Law enforcement also provided online safety tips and resources to the victim during the investigation of the cyberbullying, in order to help prevent any further harm. The investigation into the incident is ongoing, with efforts focused on identifying and apprehending the perpetrator.</div></span>"
            ],
            "text/plain": [
              "<IPython.core.display.HTML object>"
            ]
          },
          "metadata": {},
          "output_type": "display_data"
        },
        {
          "data": {
            "text/html": [
              "<span class=\"tex2jax_ignore\"><div class=\"entities\" style=\"line-height: 2.5; direction: ltr\">On July 2, 2023, at approximately 11:00 AM, the victim, identified as Jane Doe, reported being \n",
              "<mark class=\"entity\" style=\"background: #F67DE3; padding: 0.45em 0.6em; margin: 0 0.25em; line-height: 1; border-radius: 0.35em;\">\n",
              "    cyberbullied\n",
              "    <span style=\"font-size: 0.8em; font-weight: bold; line-height: 1; border-radius: 0.35em; vertical-align: middle; margin-left: 0.5rem\">Cybercrimes</span>\n",
              "</mark>\n",
              " by an unknown perpetrator. The victim stated that she had been receiving threatening messages over the internet for several weeks prior to the report.</br></br>Responding officers arrived at the scene and initiated an investigation into the cyberbullying incident. Utilizing the technical resources available to the department, the investigators traced the origin of the messages, pinpointing the location of the suspect. Questioning those in the suspect's vicinity revealed a possible identity for the perpetrator.</br></br>Crime scene investigators were dispatched to the location and collected evidence such as electronic messages, personal accounts, and screenshots of messages posted online. Due to the complexity of the incident, cyber crime specialists were also called in to analyze the evidence and provide insight on the cyberbullying case. The investigation into the cyberbullying is ongoing, with efforts focused on confirming the suspect's identity and obtaining digital evidence to support the charges.</div></span>"
            ],
            "text/plain": [
              "<IPython.core.display.HTML object>"
            ]
          },
          "metadata": {},
          "output_type": "display_data"
        }
      ],
      "source": [
        "for i in range(165, 170):\n",
        "    crime_response = crime_prompt_data['examples'][i]['text']\n",
        "    show_crime_prompt(crime_response, 'Cybercrimes')"
      ]
    },
    {
      "cell_type": "markdown",
      "metadata": {
        "id": "2qxwHvhnZl6c"
      },
      "source": [
        "### Drug Crimes"
      ]
    },
    {
      "cell_type": "code",
      "execution_count": 29,
      "metadata": {
        "id": "RTCG2v23Zl6c",
        "outputId": "9f142c3d-c970-49be-858b-72684d3bfc7d"
      },
      "outputs": [
        {
          "data": {
            "text/html": [
              "<span class=\"tex2jax_ignore\"><div class=\"entities\" style=\"line-height: 2.5; direction: ltr\">On June 20, 2023, at approximately 9:00 PM, the victim, identified as John Doe, reported being \n",
              "<mark class=\"entity\" style=\"background: #F67DE3; padding: 0.45em 0.6em; margin: 0 0.25em; line-height: 1; border-radius: 0.35em;\">\n",
              "    distributed\n",
              "    <span style=\"font-size: 0.8em; font-weight: bold; line-height: 1; border-radius: 0.35em; vertical-align: middle; margin-left: 0.5rem\">Drug_Crimes</span>\n",
              "</mark>\n",
              " illegal contraband by an unknown perpetrator. The victim stated that the perpetrator approached him from behind, handing him the contraband before fleeing the scene. </br>Responding officers arrived at the scene within minutes of the report and observed the victim displaying visible signs of anxiety. Officers immediately called for law enforcement assistance and launched an investigation into the incident.</br>Crime scene investigators were dispatched to the location and conducted a thorough examination of the area, collecting potential evidence such as surveillance footage, witness statements, and the contraband itself. The investigation into the distribution of contraband is ongoing, with efforts focused on identifying the perpetrator and establishing a motive for the crime.</div></span>"
            ],
            "text/plain": [
              "<IPython.core.display.HTML object>"
            ]
          },
          "metadata": {},
          "output_type": "display_data"
        },
        {
          "data": {
            "text/html": [
              "<span class=\"tex2jax_ignore\"><div class=\"entities\" style=\"line-height: 2.5; direction: ltr\">On October 12, 2025, at approximately 7:45 PM, the victim, identified as Mary Gonsalves, reported being \n",
              "<mark class=\"entity\" style=\"background: #F67DE3; padding: 0.45em 0.6em; margin: 0 0.25em; line-height: 1; border-radius: 0.35em;\">\n",
              "    synthesized\n",
              "    <span style=\"font-size: 0.8em; font-weight: bold; line-height: 1; border-radius: 0.35em; vertical-align: middle; margin-left: 0.5rem\">Drug_Crimes</span>\n",
              "</mark>\n",
              " with harmful substances by an unknown perpetrator. The victim said that the perpetrator had approached her before injecting her with a mysterious liquid without her consent. </br>Responding officers arrived shortly after and found the victim showing clear signs of intoxication. The officers immediately called for an ambulance and provided initial medical help until paramedics arrived to transport the victim to the hospital for further testing and treatment.</br>Crime scene investigators were dispatched to the scene and took a thorough inventory of the area, gathering potential evidence including surveillance footage, witness testimonies, and the victim's personal belongings. The investigation into the synthesizing of the victim is still ongoing, with efforts being made to identify the perpetrator and uncover their motive.</div></span>"
            ],
            "text/plain": [
              "<IPython.core.display.HTML object>"
            ]
          },
          "metadata": {},
          "output_type": "display_data"
        },
        {
          "data": {
            "text/html": [
              "<span class=\"tex2jax_ignore\"><div class=\"entities\" style=\"line-height: 2.5; direction: ltr\">On February 12, 2025, at approximately 10:30 PM, the victim, identified as Jane Smith, reported being \n",
              "<mark class=\"entity\" style=\"background: #F67DE3; padding: 0.45em 0.6em; margin: 0 0.25em; line-height: 1; border-radius: 0.35em;\">\n",
              "    synthesized\n",
              "    <span style=\"font-size: 0.8em; font-weight: bold; line-height: 1; border-radius: 0.35em; vertical-align: middle; margin-left: 0.5rem\">Drug_Crimes</span>\n",
              "</mark>\n",
              " by an unknown perpetrator at an adjacent shopping center. The victim stated that the perpetrator approached her from behind, using an unknown, synthetic substance to incapacitate her before fleeing the scene.</br>        Responding officers arrived at the scene within minutes of the report and observed the victim displaying unusual signs of altered consciousness. Officers immediately called for medical assistance and provided initial first aid until paramedics arrived to transport the victim to the hospital for further evaluation and treatment.</br>        Crime scene investigators were dispatched to the location and conducted a thorough examination of the area, collecting potential evidence such as surveillance footage, witness statements, and the victim's personal belongings. The investigation into the synthesis is ongoing, with efforts focused on identifying the perpetrator and establishing a motive for the attack.</div></span>"
            ],
            "text/plain": [
              "<IPython.core.display.HTML object>"
            ]
          },
          "metadata": {},
          "output_type": "display_data"
        },
        {
          "data": {
            "text/html": [
              "<span class=\"tex2jax_ignore\"><div class=\"entities\" style=\"line-height: 2.5; direction: ltr\">On March 11, 2025, at approximately 11:15 PM, the victim, identified as Jane Smith, reported being a victim of \n",
              "<mark class=\"entity\" style=\"background: #F67DE3; padding: 0.45em 0.6em; margin: 0 0.25em; line-height: 1; border-radius: 0.35em;\">\n",
              "    synthesized\n",
              "    <span style=\"font-size: 0.8em; font-weight: bold; line-height: 1; border-radius: 0.35em; vertical-align: middle; margin-left: 0.5rem\">Drug_Crimes</span>\n",
              "</mark>\n",
              " drugs. According to the victim, an unknown assailant secretly slipped her the drugs in her drink while she was socializing at a neighborhood bar.</br></br>Responding officers arrived at the location shortly after the report and observed the victim displaying signs of extreme intoxication. The officers provided the victim with medical assistance and transported her to a nearby hospital where she was evaluated and treated. </br></br>To help with the investigation, the officers questioned witnesses and obtained a description of the assailant. Crime scene investigators were also dispatched to the location and conducted a thorough examination of the area, collecting potential evidence such as surveillance footage, personal belongings, and witness accounts. The investigation into the \n",
              "<mark class=\"entity\" style=\"background: #F67DE3; padding: 0.45em 0.6em; margin: 0 0.25em; line-height: 1; border-radius: 0.35em;\">\n",
              "    synthesized\n",
              "    <span style=\"font-size: 0.8em; font-weight: bold; line-height: 1; border-radius: 0.35em; vertical-align: middle; margin-left: 0.5rem\">Drug_Crimes</span>\n",
              "</mark>\n",
              " drug assault is ongoing, with efforts being focused on apprehending the unknown assailant.</div></span>"
            ],
            "text/plain": [
              "<IPython.core.display.HTML object>"
            ]
          },
          "metadata": {},
          "output_type": "display_data"
        },
        {
          "data": {
            "text/html": [
              "<span class=\"tex2jax_ignore\"><div class=\"entities\" style=\"line-height: 2.5; direction: ltr\">On July 16th, 2024, at approximately 8:30 PM, the victim, identified as Jane Doe, reported being \n",
              "<mark class=\"entity\" style=\"background: #F67DE3; padding: 0.45em 0.6em; margin: 0 0.25em; line-height: 1; border-radius: 0.35em;\">\n",
              "    abused\n",
              "    <span style=\"font-size: 0.8em; font-weight: bold; line-height: 1; border-radius: 0.35em; vertical-align: middle; margin-left: 0.5rem\">Drug_Crimes</span>\n",
              "</mark>\n",
              " by an unknown assailant in her own home. The victim stated that the assailant had threatened her with violence before proceeding to verbally assault and intimidate her.</br></br>Responding officers arrived shortly after the report was made and observed the victim displaying signs of distress, including teary eyes and red marks on her arms. Officers provided initial comfort and contacted legal and medical agencies to provide further assistance in the form of counseling and housing. </br></br>Crime scene investigators were dispatched to the location and collected evidence such as security footage and witness accounts. The investigation into the abuse is still ongoing, with efforts focused on finding the assailant and proving further charges to hold them accountable.</div></span>"
            ],
            "text/plain": [
              "<IPython.core.display.HTML object>"
            ]
          },
          "metadata": {},
          "output_type": "display_data"
        }
      ],
      "source": [
        "for i in range(224, 229):\n",
        "    crime_response = crime_prompt_data['examples'][i]['text']\n",
        "    show_crime_prompt(crime_response, 'Drug_Crimes')"
      ]
    },
    {
      "cell_type": "markdown",
      "metadata": {
        "id": "Js9ccPKzZl6c"
      },
      "source": [
        "### White-Collar Crimes"
      ]
    },
    {
      "cell_type": "code",
      "execution_count": 30,
      "metadata": {
        "id": "ue2TxpA0Zl6c",
        "outputId": "6277723a-a30e-4963-cf33-1cf727988fb1"
      },
      "outputs": [
        {
          "data": {
            "text/html": [
              "<span class=\"tex2jax_ignore\"><div class=\"entities\" style=\"line-height: 2.5; direction: ltr\">On June 20, 2023, at approximately 9:00 PM, the victim, identified as John Doe, reported that his funds were \n",
              "<mark class=\"entity\" style=\"background: #ddd; padding: 0.45em 0.6em; margin: 0 0.25em; line-height: 1; border-radius: 0.35em;\">\n",
              "    misused\n",
              "    <span style=\"font-size: 0.8em; font-weight: bold; line-height: 1; border-radius: 0.35em; vertical-align: middle; margin-left: 0.5rem\">Financial_Crimes</span>\n",
              "</mark>\n",
              " by an unknown party. The victim stated that the perpetrator had accessed his accounts and made unauthorised transfers without his permission. </br>Responding officers arrived at the scene within minutes of the report and began collecting evidence, including account and transaction records. Officers also conducted interviews with the victim and witnesses in order to establish a timeline of the events that occurred prior to the misuse of funds.</br>Crime scene investigators were dispatched to the location and conducted a thorough examination of the victim's accounts. Potential evidence was collected and analyzed in order to identify the perpetrator and determine the motive behind the act. The investigation into the misuse of funds is ongoing.</div></span>"
            ],
            "text/plain": [
              "<IPython.core.display.HTML object>"
            ]
          },
          "metadata": {},
          "output_type": "display_data"
        },
        {
          "data": {
            "text/html": [
              "<span class=\"tex2jax_ignore\"><div class=\"entities\" style=\"line-height: 2.5; direction: ltr\">On June 19, 2023, the police department received reports of financial mismanagement and misuse of funds by an employee of a local business. Witnesses develop an investigation and eventually determined that the employee had fraudulently misused over $100,000 of corporate funds for personal gain.</br></br>Responding officers promptly arrived at the scene and interviewed several witnesses and the business owner to gain a better understanding of the incident. Officers also collected financial records and other documents in order to ascertain the whereabouts and identity of the employee in question. The investigation is ongoing, and law enforcement officials are working to locate the employee and hold them accountable for their actions.</div></span>"
            ],
            "text/plain": [
              "<IPython.core.display.HTML object>"
            ]
          },
          "metadata": {},
          "output_type": "display_data"
        },
        {
          "data": {
            "text/html": [
              "<span class=\"tex2jax_ignore\"><div class=\"entities\" style=\"line-height: 2.5; direction: ltr\">On June 20, 2023, at approximately 9:00 PM, the victim, identified as John Doe, reported that funds had been \n",
              "<mark class=\"entity\" style=\"background: #ddd; padding: 0.45em 0.6em; margin: 0 0.25em; line-height: 1; border-radius: 0.35em;\">\n",
              "    misused\n",
              "    <span style=\"font-size: 0.8em; font-weight: bold; line-height: 1; border-radius: 0.35em; vertical-align: middle; margin-left: 0.5rem\">Financial_Crimes</span>\n",
              "</mark>\n",
              " from the business where he worked. He stated that the culprit had transferred money out of the company's account and had failed to provide an explanation.</br>        Responding officers arrived and interviewed the victimized party as well as other employees. Witnesses reported having seen suspicious activity prior to the complaint, including the perpetrator engaging in late-night access of the company's computers.</br>        Crime scene investigators were dispatched to the location and conducted a thorough examination of the scene. Bank statements, computer logs, and other financial records were collected as evidence and are currently being analyzed by forensics specialists.</br>        The investigation into the misuse of funds is ongoing, with efforts focused on identifying the perpetrator and determining the amount of money taken.</div></span>"
            ],
            "text/plain": [
              "<IPython.core.display.HTML object>"
            ]
          },
          "metadata": {},
          "output_type": "display_data"
        },
        {
          "data": {
            "text/html": [
              "<span class=\"tex2jax_ignore\"><div class=\"entities\" style=\"line-height: 2.5; direction: ltr\">On May 15, 2022, at approximately 11:00 AM, the complainant, identified as Jane Smith, reported being the victim of a crime involving \n",
              "<mark class=\"entity\" style=\"background: #F67DE3; padding: 0.45em 0.6em; margin: 0 0.25em; line-height: 1; border-radius: 0.35em;\">\n",
              "    misrepresented financial statements\n",
              "    <span style=\"font-size: 0.8em; font-weight: bold; line-height: 1; border-radius: 0.35em; vertical-align: middle; margin-left: 0.5rem\">White-Collar_Crimes</span>\n",
              "</mark>\n",
              ". The complainant reported that the perpetrator had prepared and sent her false financial statements, designed to deceive her into believing that the perpetrator's company was making significant profits.</br></br>Responding officers arrived at the scene shortly after the complaint was received and interviewed the victim, gathering further evidence to aid in the investigation. Suspect information was obtained and reviewed, leading officers to seek out the identified suspect for questioning. </br></br>In addition to interviewing the suspect, financial documentation and records were collected and reviewed in detail, revealing an inaccurate and misleading presentation of the suspect's financials. The evidence revealed the suspect had prepared and distributed financial statements in an effort to deceive the complainant into investing in his business. </br></br>The investigation into this crime is ongoing, with further evidence being gathered to build a convincing case against the suspect.</div></span>"
            ],
            "text/plain": [
              "<IPython.core.display.HTML object>"
            ]
          },
          "metadata": {},
          "output_type": "display_data"
        },
        {
          "data": {
            "text/html": [
              "<span class=\"tex2jax_ignore\"><div class=\"entities\" style=\"line-height: 2.5; direction: ltr\">On January 17, 2022, the accounting department notified senior managers that financial statements issued by the company had been misrepresented. Employees reportedly had been falsifying fiscal records with the intent to deceive financial investors. </br></br>Responding auditors were summoned to investigate the allegations and quickly determined that the financial statements had purposefully been altered. The auditing team then initiated a second audit of the company, reviewing all financial documents issued over the past year and collecting evidence and witness statements.</br></br>Further investigation revealed that a group of employees had been involved in the scheme, with the intention of artificially increasing the company’s stock value. Within days, the offending employees were terminated and the correct financial statements were submitted to the proper authorities. The investigation into the misrepresentation of financial statements is ongoing.</div></span>"
            ],
            "text/plain": [
              "<IPython.core.display.HTML object>"
            ]
          },
          "metadata": {},
          "output_type": "display_data"
        }
      ],
      "source": [
        "for i in range(282, 287):\n",
        "    crime_response = crime_prompt_data['examples'][i]['text']\n",
        "    show_crime_prompt(crime_response, 'White-Collar_Crimes')"
      ]
    },
    {
      "cell_type": "markdown",
      "metadata": {
        "id": "sn6xZYt3Zl6c"
      },
      "source": [
        "### Sexual Crimes"
      ]
    },
    {
      "cell_type": "code",
      "execution_count": 31,
      "metadata": {
        "id": "Ve38vLruZl6c",
        "outputId": "3189e576-8c5e-453b-8c0f-2ca5f7bccbf8"
      },
      "outputs": [
        {
          "data": {
            "text/html": [
              "<span class=\"tex2jax_ignore\"><div class=\"entities\" style=\"line-height: 2.5; direction: ltr\">On July 10, 2023, at approximately 8:00 PM, the victim, identified as Ashley Smith, reported being \n",
              "<mark class=\"entity\" style=\"background: #F67DE3; padding: 0.45em 0.6em; margin: 0 0.25em; line-height: 1; border-radius: 0.35em;\">\n",
              "    harassed\n",
              "    <span style=\"font-size: 0.8em; font-weight: bold; line-height: 1; border-radius: 0.35em; vertical-align: middle; margin-left: 0.5rem\">Sexual_Crimes</span>\n",
              "</mark>\n",
              " by an unknown perpetrator outside her home. The victim stated that the perpetrator followed her from the bus stop, making inappropriate comments and suggestive gestures.</br>        Responding officers arrived at the scene soon after the report and observed the victim displaying visible signs of distress. Officers immediately began questioning the perpetrator and requested backup assistance to ensure the safety of the victim.</br>        Crime scene investigators were dispatched to the location and conducted a thorough examination of the area, collecting potential evidence such as witness statements, surveillance footage, and the victim's personal belongings. The investigation into the harassment is ongoing, with efforts focused on identifying the perpetrator and determining a motive for the attack.</div></span>"
            ],
            "text/plain": [
              "<IPython.core.display.HTML object>"
            ]
          },
          "metadata": {},
          "output_type": "display_data"
        },
        {
          "data": {
            "text/html": [
              "<span class=\"tex2jax_ignore\"><div class=\"entities\" style=\"line-height: 2.5; direction: ltr\">On May 6, 2021, at around 8:00 PM, the victim, identified as Jane Smith, reported being \n",
              "<mark class=\"entity\" style=\"background: #F67DE3; padding: 0.45em 0.6em; margin: 0 0.25em; line-height: 1; border-radius: 0.35em;\">\n",
              "    harassed\n",
              "    <span style=\"font-size: 0.8em; font-weight: bold; line-height: 1; border-radius: 0.35em; vertical-align: middle; margin-left: 0.5rem\">Sexual_Crimes</span>\n",
              "</mark>\n",
              " by an unknown suspect at a local park. The victim stated that the suspect had been following her and making inappropriate comments and advances the entire time.</br>        Responding officers quickly arrived at the scene and observed the victim to be visibly shaken and distressed. They immediately asked the suspect to leave the area and conducted a search for any potential weapons or contraband. Additionally, officers provided the victim with a ride to a safe location and obtained contact information to follow up on the case.</br>        Crime scene investigators were dispatched to the scene and conducted a detailed examination of the area, gathering information from possible witnesses, CCTV footage, and any physical objects that might be related to the incident. The investigation into the harassing incident is still ongoing as authorities work to identify and locate the suspect.</div></span>"
            ],
            "text/plain": [
              "<IPython.core.display.HTML object>"
            ]
          },
          "metadata": {},
          "output_type": "display_data"
        },
        {
          "data": {
            "text/html": [
              "<span class=\"tex2jax_ignore\"><div class=\"entities\" style=\"line-height: 2.5; direction: ltr\">On June 20, 2023, at approximately 9:00 PM, the victim, identified as John Doe, reported being \n",
              "<mark class=\"entity\" style=\"background: #F67DE3; padding: 0.45em 0.6em; margin: 0 0.25em; line-height: 1; border-radius: 0.35em;\">\n",
              "    harassed\n",
              "    <span style=\"font-size: 0.8em; font-weight: bold; line-height: 1; border-radius: 0.35em; vertical-align: middle; margin-left: 0.5rem\">Sexual_Crimes</span>\n",
              "</mark>\n",
              " by an unknown individual outside a local convenience store. The victim stated that the individual had approached him from behind, taunting him before fleeing the scene. </br>Responding officers arrived at the scene within minutes of the report and observed the victim to be visibly upset, though displaying no physical injury. Officers provided words of comfort and offered the victim to file a formal report, to which the victim consented.</br>Crime scene investigators were dispatched to the location and conducted a thorough examination of the area, collecting potential evidence such as surveillance footage, witness statements, and the victim's personal belongings. The investigation into the harassment is ongoing, with efforts focused on identifying the individual and determining the intent of the attack.</div></span>"
            ],
            "text/plain": [
              "<IPython.core.display.HTML object>"
            ]
          },
          "metadata": {},
          "output_type": "display_data"
        },
        {
          "data": {
            "text/html": [
              "<span class=\"tex2jax_ignore\"><div class=\"entities\" style=\"line-height: 2.5; direction: ltr\">On June 20, 2023, at approximately 9:00 PM, the victim, identified as John Doe, reported being \n",
              "<mark class=\"entity\" style=\"background: #F67DE3; padding: 0.45em 0.6em; margin: 0 0.25em; line-height: 1; border-radius: 0.35em;\">\n",
              "    molested\n",
              "    <span style=\"font-size: 0.8em; font-weight: bold; line-height: 1; border-radius: 0.35em; vertical-align: middle; margin-left: 0.5rem\">Sexual_Crimes</span>\n",
              "</mark>\n",
              " by an unknown individual outside a local convenience store. The victim stated that the person touched him inappropriately before fleeing the scene. </br>        Responding officers arrived at the scene within minutes of the report and observed the victim displaying signs of shock and distress. Officers immediately called for medical assistance and provided emotional support until paramedics arrived to transport the victim to the hospital for further evaluation and treatment.</br>        Crime scene investigators were dispatched to the location and conducted a thorough examination of the area, collecting potential evidence such as surveillance footage, witness statements, and the victim's personal belongings. The investigation into the molestation is ongoing, with efforts focused on identifying the individual and establishing a motive for the attack.</div></span>"
            ],
            "text/plain": [
              "<IPython.core.display.HTML object>"
            ]
          },
          "metadata": {},
          "output_type": "display_data"
        },
        {
          "data": {
            "text/html": [
              "<span class=\"tex2jax_ignore\"><div class=\"entities\" style=\"line-height: 2.5; direction: ltr\">On November 4, 2022, at approximately 8:00 PM, the victim, identified as Jane Doe, reported being \n",
              "<mark class=\"entity\" style=\"background: #F67DE3; padding: 0.45em 0.6em; margin: 0 0.25em; line-height: 1; border-radius: 0.35em;\">\n",
              "    molested\n",
              "    <span style=\"font-size: 0.8em; font-weight: bold; line-height: 1; border-radius: 0.35em; vertical-align: middle; margin-left: 0.5rem\">Sexual_Crimes</span>\n",
              "</mark>\n",
              " by an unknown suspect inside of a local convenience store. The victim stated that the suspect approached her from behind, repeatedly touching her in inappropriate places and forcing her to the floor.</br></br>Responding officers arrived at the scene shortly after the report was made and observed the victim in distress. Officers immediately called for medical assistance and provided comfort until paramedics arrived to transport the victim to the hospital for further evaluation and treatment.</br></br>Crime scene investigators were dispatched to the location and conducted a thorough examination of the area, collecting evidence such as surveillance footage, witness statements, and the victim's personal belongings. The investigation into the molestation is ongoing, with efforts taken to identify the suspect and to understand the motive behind the attack.</div></span>"
            ],
            "text/plain": [
              "<IPython.core.display.HTML object>"
            ]
          },
          "metadata": {},
          "output_type": "display_data"
        }
      ],
      "source": [
        "for i in range(300, 305):\n",
        "    crime_response = crime_prompt_data['examples'][i]['text']\n",
        "    show_crime_prompt(crime_response, 'Sexual_Crimes')"
      ]
    },
    {
      "cell_type": "markdown",
      "metadata": {
        "id": "IMQASw1QZl6c"
      },
      "source": [
        "### Public Order Crimes"
      ]
    },
    {
      "cell_type": "code",
      "execution_count": 32,
      "metadata": {
        "id": "TaoblOYxZl6c",
        "outputId": "e0c6da3c-eeee-4161-d4a4-3dc495d4348b"
      },
      "outputs": [
        {
          "data": {
            "text/html": [
              "<span class=\"tex2jax_ignore\"><div class=\"entities\" style=\"line-height: 2.5; direction: ltr\">On April 17, 2023, police received multiple reports of \n",
              "<mark class=\"entity\" style=\"background: #F67DE3; padding: 0.45em 0.6em; margin: 0 0.25em; line-height: 1; border-radius: 0.35em;\">\n",
              "    organized illegal gatherings\n",
              "    <span style=\"font-size: 0.8em; font-weight: bold; line-height: 1; border-radius: 0.35em; vertical-align: middle; margin-left: 0.5rem\">Public_Order_Crimes</span>\n",
              "</mark>\n",
              " taking place in the warehouse district of the city. Witnesses reported seeing large groups of people congregating in the area, ignoring applicable social-distancing regulations.</br>        Responding officers arrived to find a crowd of approximately 60 people, all of them actively involved in the gathering. Officers immediately broke up the illegal gathering and began issuing fines for those involved.</br>        Local authorities and law enforcement agencies launched an investigation into the \n",
              "<mark class=\"entity\" style=\"background: #F67DE3; padding: 0.45em 0.6em; margin: 0 0.25em; line-height: 1; border-radius: 0.35em;\">\n",
              "    organized illegal gatherings\n",
              "    <span style=\"font-size: 0.8em; font-weight: bold; line-height: 1; border-radius: 0.35em; vertical-align: middle; margin-left: 0.5rem\">Public_Order_Crimes</span>\n",
              "</mark>\n",
              " and into the identities of those involved. Evidence was collected from surveillance footage, in-person interviews, and other sources in an effort to identify the organizers and determine the purpose of the gatherings.</div></span>"
            ],
            "text/plain": [
              "<IPython.core.display.HTML object>"
            ]
          },
          "metadata": {},
          "output_type": "display_data"
        },
        {
          "data": {
            "text/html": [
              "<span class=\"tex2jax_ignore\"><div class=\"entities\" style=\"line-height: 2.5; direction: ltr\">On June 20, 2023, at approximately 9:00 PM, police were called to the scene of an organized illegal gathering in public space. Upon arriving, officers observed numerous individuals gathered and ignoring government-mandated safety and social distancing regulations. Officers immediately issued warnings that the gathering must disperse, yet the individuals present refused to leave the area.</br>        Responding officers approached the group and began arresting those present, handcuffing and moving them to nearby police transports. Once all individuals were detained, police conducted a thorough search of the area, collecting any belongings or evidence related to the gathering.</br>        Further investigation of the incident revealed that the group had been organizing illegal public gatherings throughout the week in order to rebel against local government regulations. The investigation into \n",
              "<mark class=\"entity\" style=\"background: #F67DE3; padding: 0.45em 0.6em; margin: 0 0.25em; line-height: 1; border-radius: 0.35em;\">\n",
              "    organized illegal gatherings\n",
              "    <span style=\"font-size: 0.8em; font-weight: bold; line-height: 1; border-radius: 0.35em; vertical-align: middle; margin-left: 0.5rem\">Public_Order_Crimes</span>\n",
              "</mark>\n",
              " is ongoing, with efforts focused on identifying the ringleaders and those responsible for organizing the illegal activity.</div></span>"
            ],
            "text/plain": [
              "<IPython.core.display.HTML object>"
            ]
          },
          "metadata": {},
          "output_type": "display_data"
        },
        {
          "data": {
            "text/html": [
              "<span class=\"tex2jax_ignore\"><div class=\"entities\" style=\"line-height: 2.5; direction: ltr\">On July 3, 2023, at approximately 11:30 PM, officers patrolling the neighborhood near Riverwood Park responded to a complaint of illegal activity occurring. The officers arrived to find a large gathering of people, all of whom were in violation of the local noise ordinance. A further investigation revealed that the gathering was organized by local gang members for the purpose of conducting illegal activities.</br>        Responding officers quickly dispersed the gathering, interviewing attendees in an effort to identify the individuals responsible for organizing the event. Witnesses provided information that resulted in the arrest of two gang members for their involvement in organizing the illegal gathering.</br>        Investigators collected evidence to build a case against the two suspects, including surveillance footage, witness statements, and emails sent out to members of the gang. The investigation into the \n",
              "<mark class=\"entity\" style=\"background: #F67DE3; padding: 0.45em 0.6em; margin: 0 0.25em; line-height: 1; border-radius: 0.35em;\">\n",
              "    organized illegal gathering\n",
              "    <span style=\"font-size: 0.8em; font-weight: bold; line-height: 1; border-radius: 0.35em; vertical-align: middle; margin-left: 0.5rem\">Public_Order_Crimes</span>\n",
              "</mark>\n",
              " is ongoing, with efforts focused on identifying any other individuals involved in the criminal enterprise.</div></span>"
            ],
            "text/plain": [
              "<IPython.core.display.HTML object>"
            ]
          },
          "metadata": {},
          "output_type": "display_data"
        },
        {
          "data": {
            "text/html": [
              "<span class=\"tex2jax_ignore\"><div class=\"entities\" style=\"line-height: 2.5; direction: ltr\">On August 15, 2022, at approximately 11:00 PM, the victim, identified as Jane Smith, reported being \n",
              "<mark class=\"entity\" style=\"background: #F67DE3; padding: 0.45em 0.6em; margin: 0 0.25em; line-height: 1; border-radius: 0.35em;\">\n",
              "    begged\n",
              "    <span style=\"font-size: 0.8em; font-weight: bold; line-height: 1; border-radius: 0.35em; vertical-align: middle; margin-left: 0.5rem\">Public_Order_Crimes</span>\n",
              "</mark>\n",
              " for money by an unknown person in the alleyway by her home. The victim stated that the individual approached her as soon as she exited her residence, speaking quietly and asking her for money while holding out a cup.</br>        Responding officers arrived at the scene shortly after the report was filed and found the victim visibly shaken and distressed. They questioned her about what had occurred, and she was able to provide a vague description of the suspect but was unable to provide any additional details.</br>        Crime scene investigators began a search of the alleyway for potential evidence, such as surveillance footage, witness statements, and the victim's personal belongings. Investigators also canvassed the area for potential witnesses but were unsuccessful in locating any individuals that may have seen or heard anything. The investigation into the incident is ongoing, with efforts focused on identifying the person who \n",
              "<mark class=\"entity\" style=\"background: #F67DE3; padding: 0.45em 0.6em; margin: 0 0.25em; line-height: 1; border-radius: 0.35em;\">\n",
              "    begged\n",
              "    <span style=\"font-size: 0.8em; font-weight: bold; line-height: 1; border-radius: 0.35em; vertical-align: middle; margin-left: 0.5rem\">Public_Order_Crimes</span>\n",
              "</mark>\n",
              " the victim for money and why they requested the funds.</div></span>"
            ],
            "text/plain": [
              "<IPython.core.display.HTML object>"
            ]
          },
          "metadata": {},
          "output_type": "display_data"
        },
        {
          "data": {
            "text/html": [
              "<span class=\"tex2jax_ignore\"><div class=\"entities\" style=\"line-height: 2.5; direction: ltr\">On June 20, 2023, at approximately 9:00 PM, the victim, identified as John Doe, reported being \n",
              "<mark class=\"entity\" style=\"background: #F67DE3; padding: 0.45em 0.6em; margin: 0 0.25em; line-height: 1; border-radius: 0.35em;\">\n",
              "    begged\n",
              "    <span style=\"font-size: 0.8em; font-weight: bold; line-height: 1; border-radius: 0.35em; vertical-align: middle; margin-left: 0.5rem\">Public_Order_Crimes</span>\n",
              "</mark>\n",
              " by an unknown person outside a local convenience store. The victim stated that the person approached him from behind, pleading with him before fleeing the scene.</br>        Responding officers arrived at the scene within minutes of the report and observed the victim displaying signs of distress. Officers immediately began questioning nearby witnesses and collecting information about the suspicious individual.</br>        Crime scene investigators were dispatched to the location and conducted a thorough examination of the area, collecting potential evidence such as surveillance footage, witness statements, and the victim's personal belongings. The investigation into the begging is ongoing, with efforts focused on identifying the person and establishing a motive for the incident.</div></span>"
            ],
            "text/plain": [
              "<IPython.core.display.HTML object>"
            ]
          },
          "metadata": {},
          "output_type": "display_data"
        }
      ],
      "source": [
        "for i in range(372, 377):\n",
        "    crime_response = crime_prompt_data['examples'][i]['text']\n",
        "    show_crime_prompt(crime_response, 'Public_Order_Crimes')"
      ]
    },
    {
      "cell_type": "markdown",
      "metadata": {
        "id": "FXStqSmIZl6c"
      },
      "source": [
        "### Traffic and Motor Vehicle Crimes"
      ]
    },
    {
      "cell_type": "code",
      "execution_count": 33,
      "metadata": {
        "id": "rfL_9MJIZl6c",
        "outputId": "e03ef811-3709-40ce-dbe3-03f3b07464ef"
      },
      "outputs": [
        {
          "data": {
            "text/html": [
              "<span class=\"tex2jax_ignore\"><div class=\"entities\" style=\"line-height: 2.5; direction: ltr\">On September 15, 2023, at approximately 6:00 PM, witnesses reported observing an individual driving erratically along the highway. The vehicle, described as a red SUV, was seen speeding and weaving in and out of traffic, presenting a danger to other drivers on the road. </br></br>Responding officers soon located the vehicle and pulled it over, discovering the driver to be visibly impaired by alcohol. After conducting a sobriety test, the officers arrested the driver for \n",
              "<mark class=\"entity\" style=\"background: #F67DE3; padding: 0.45em 0.6em; margin: 0 0.25em; line-height: 1; border-radius: 0.35em;\">\n",
              "    reckless driving\n",
              "    <span style=\"font-size: 0.8em; font-weight: bold; line-height: 1; border-radius: 0.35em; vertical-align: middle; margin-left: 0.5rem\">Traffic_and_Motor_Vehicle_Crimes</span>\n",
              "</mark>\n",
              " and placed him under custody.</br></br>Due to the irresponsible actions of the intoxicated driver, another vehicle was involved in a crash while trying to avoid the reckless SUV. Fortunately, the other driver was not injured and the officers immediately notified the necessary medical services to provide care.</br></br>Authorities are currently conducting an investigation into the \n",
              "<mark class=\"entity\" style=\"background: #F67DE3; padding: 0.45em 0.6em; margin: 0 0.25em; line-height: 1; border-radius: 0.35em;\">\n",
              "    reckless driving\n",
              "    <span style=\"font-size: 0.8em; font-weight: bold; line-height: 1; border-radius: 0.35em; vertical-align: middle; margin-left: 0.5rem\">Traffic_and_Motor_Vehicle_Crimes</span>\n",
              "</mark>\n",
              " incident, aiming to establish the details of the event and determine any charges that the driver may face.</div></span>"
            ],
            "text/plain": [
              "<IPython.core.display.HTML object>"
            ]
          },
          "metadata": {},
          "output_type": "display_data"
        },
        {
          "data": {
            "text/html": [
              "<span class=\"tex2jax_ignore\"><div class=\"entities\" style=\"line-height: 2.5; direction: ltr\">On June 20, 2023, at approximately 9:00 PM, officers identified a vehicle driving recklessly down Main Street. Witnesses reported that the vehicle was swerving in and out of lanes, disregarding traffic laws and creating a public hazard. Officers immediately pursued the vehicle, activating their emergency lights and sirens in an attempt to get the driver to pull over.</br></br>After unsuccessful attempts to stop the vehicle, the suspect finally stopped at a red light and the officers conducted a traffic stop. Upon further inspection, it was discovered that the driver was intoxicated and had been driving without a license. The driver was arrested and taken to the police station where they were charged with \n",
              "<mark class=\"entity\" style=\"background: #F67DE3; padding: 0.45em 0.6em; margin: 0 0.25em; line-height: 1; border-radius: 0.35em;\">\n",
              "    reckless driving\n",
              "    <span style=\"font-size: 0.8em; font-weight: bold; line-height: 1; border-radius: 0.35em; vertical-align: middle; margin-left: 0.5rem\">Traffic_and_Motor_Vehicle_Crimes</span>\n",
              "</mark>\n",
              " and other related offenses.</div></span>"
            ],
            "text/plain": [
              "<IPython.core.display.HTML object>"
            ]
          },
          "metadata": {},
          "output_type": "display_data"
        },
        {
          "data": {
            "text/html": [
              "<span class=\"tex2jax_ignore\"><div class=\"entities\" style=\"line-height: 2.5; direction: ltr\">On May 12th, 2021, at approximately 8:30 PM, the victim, identified as Jane Smith, reported being the victim of \n",
              "<mark class=\"entity\" style=\"background: #F67DE3; padding: 0.45em 0.6em; margin: 0 0.25em; line-height: 1; border-radius: 0.35em;\">\n",
              "    reckless driving\n",
              "    <span style=\"font-size: 0.8em; font-weight: bold; line-height: 1; border-radius: 0.35em; vertical-align: middle; margin-left: 0.5rem\">Traffic_and_Motor_Vehicle_Crimes</span>\n",
              "</mark>\n",
              " by an unknown driver. The victim stated the driver was speeding and recklessly swerved in and out of traffic, nearly crashing into several other vehicles.</br>        Responding officers soon arrived at the scene and observed the area for evidence of \n",
              "<mark class=\"entity\" style=\"background: #F67DE3; padding: 0.45em 0.6em; margin: 0 0.25em; line-height: 1; border-radius: 0.35em;\">\n",
              "    reckless driving\n",
              "    <span style=\"font-size: 0.8em; font-weight: bold; line-height: 1; border-radius: 0.35em; vertical-align: middle; margin-left: 0.5rem\">Traffic_and_Motor_Vehicle_Crimes</span>\n",
              "</mark>\n",
              ". After conducting interviews with witnesses and viewing surveillance footage, officers were able to obtain the license plate information for the suspect's vehicle and open an investigation into the incident. </br>        Investigators later identified the registered owner of the vehicle, however further efforts are being put towards charging the driver and establishing a motive for the \n",
              "<mark class=\"entity\" style=\"background: #F67DE3; padding: 0.45em 0.6em; margin: 0 0.25em; line-height: 1; border-radius: 0.35em;\">\n",
              "    reckless driving\n",
              "    <span style=\"font-size: 0.8em; font-weight: bold; line-height: 1; border-radius: 0.35em; vertical-align: middle; margin-left: 0.5rem\">Traffic_and_Motor_Vehicle_Crimes</span>\n",
              "</mark>\n",
              ". The investigation into the \n",
              "<mark class=\"entity\" style=\"background: #F67DE3; padding: 0.45em 0.6em; margin: 0 0.25em; line-height: 1; border-radius: 0.35em;\">\n",
              "    reckless driving\n",
              "    <span style=\"font-size: 0.8em; font-weight: bold; line-height: 1; border-radius: 0.35em; vertical-align: middle; margin-left: 0.5rem\">Traffic_and_Motor_Vehicle_Crimes</span>\n",
              "</mark>\n",
              " is ongoing.</div></span>"
            ],
            "text/plain": [
              "<IPython.core.display.HTML object>"
            ]
          },
          "metadata": {},
          "output_type": "display_data"
        },
        {
          "data": {
            "text/html": [
              "<span class=\"tex2jax_ignore\"><div class=\"entities\" style=\"line-height: 2.5; direction: ltr\">On September 25, 2023, at approximately 3:00 AM, the victim, identified as Jane Smith, reported being \n",
              "<mark class=\"entity\" style=\"background: #ddd; padding: 0.45em 0.6em; margin: 0 0.25em; line-height: 1; border-radius: 0.35em;\">\n",
              "    struck\n",
              "    <span style=\"font-size: 0.8em; font-weight: bold; line-height: 1; border-radius: 0.35em; vertical-align: middle; margin-left: 0.5rem\">Violent_Crimes</span>\n",
              "</mark>\n",
              " by an unknown vehicle in a \n",
              "<mark class=\"entity\" style=\"background: #F67DE3; padding: 0.45em 0.6em; margin: 0 0.25em; line-height: 1; border-radius: 0.35em;\">\n",
              "    hit-and-\n",
              "    <span style=\"font-size: 0.8em; font-weight: bold; line-height: 1; border-radius: 0.35em; vertical-align: middle; margin-left: 0.5rem\">Traffic_and_Motor_Vehicle_Crimes</span>\n",
              "</mark>\n",
              "run accident outside her home. The victim stated that the vehicle suddenly appeared from around a corner and collided with her without stopping. </br></br>Responding officers arrived at the scene within minutes of the report and found the victim lying on the ground, unresponsive. Officers immediately called for medical assistance and began administering CPR until paramedics arrived and transported the victim to the hospital for further treatment. </br></br>Crime scene investigators were dispatched to the location and conducted a thorough examination of the area, collecting potential evidence such as surveillance footage, witness statements, and debris left behind by the fleeing vehicle. The investigation into the \n",
              "<mark class=\"entity\" style=\"background: #F67DE3; padding: 0.45em 0.6em; margin: 0 0.25em; line-height: 1; border-radius: 0.35em;\">\n",
              "    hit-and\n",
              "    <span style=\"font-size: 0.8em; font-weight: bold; line-height: 1; border-radius: 0.35em; vertical-align: middle; margin-left: 0.5rem\">Traffic_and_Motor_Vehicle_Crimes</span>\n",
              "</mark>\n",
              "-run is ongoing, with efforts focused on identifying the vehicle and driver responsible for the incident.</div></span>"
            ],
            "text/plain": [
              "<IPython.core.display.HTML object>"
            ]
          },
          "metadata": {},
          "output_type": "display_data"
        },
        {
          "data": {
            "text/html": [
              "<span class=\"tex2jax_ignore\"><div class=\"entities\" style=\"line-height: 2.5; direction: ltr\">On June 20th, 2023, at approximately 8:00 PM, a \n",
              "<mark class=\"entity\" style=\"background: #F67DE3; padding: 0.45em 0.6em; margin: 0 0.25em; line-height: 1; border-radius: 0.35em;\">\n",
              "    hit and run\n",
              "    <span style=\"font-size: 0.8em; font-weight: bold; line-height: 1; border-radius: 0.35em; vertical-align: middle; margin-left: 0.5rem\">Traffic_and_Motor_Vehicle_Crimes</span>\n",
              "</mark>\n",
              " accident was reported to police. The reporting party, a witness of the incident, stated that they saw an unknown vehicle strike a pedestrian before fleeing the scene.  </br>Responding officers arrived shortly after receiving the call, finding the victim injured and lying in the street. Paramedics were called to the scene, and the victim was transported to the hospital for treatment of their injuries. </br>Crime Scene Investigators were also dispatched to the scene to conduct an examination, searching for any potential evidence that might help identify the driver. Surveillance footage from the area also captured the incident, and is now being used to determine the identity of the driver and the motives for their actions. The investigation into the \n",
              "<mark class=\"entity\" style=\"background: #F67DE3; padding: 0.45em 0.6em; margin: 0 0.25em; line-height: 1; border-radius: 0.35em;\">\n",
              "    hit and run\n",
              "    <span style=\"font-size: 0.8em; font-weight: bold; line-height: 1; border-radius: 0.35em; vertical-align: middle; margin-left: 0.5rem\">Traffic_and_Motor_Vehicle_Crimes</span>\n",
              "</mark>\n",
              " is ongoing.</div></span>"
            ],
            "text/plain": [
              "<IPython.core.display.HTML object>"
            ]
          },
          "metadata": {},
          "output_type": "display_data"
        }
      ],
      "source": [
        "for i in range(390, 395):\n",
        "    crime_response = crime_prompt_data['examples'][i]['text']\n",
        "    show_crime_prompt(crime_response, 'Traffic_and_Motor_Vehicle_Crimes')"
      ]
    },
    {
      "cell_type": "code",
      "execution_count": null,
      "metadata": {
        "id": "jK4DGpcqZl6c"
      },
      "outputs": [],
      "source": [
        "# print([(w.text, w.pos_) for w in doc])"
      ]
    },
    {
      "cell_type": "code",
      "execution_count": null,
      "metadata": {
        "id": "G5-bHM7sQlwQ"
      },
      "outputs": [],
      "source": [
        "## These are notes around police report rules to expand upon the three sentences\n",
        "intro = '''\n",
        "\n",
        "You are showing me how to fill out a police report. I would like you to generate random information for each section.\n",
        "Example\n",
        "A police reports have sections of a Cover Sheet\n",
        "\n",
        "'''"
      ]
    },
    {
      "cell_type": "code",
      "execution_count": null,
      "metadata": {
        "id": "VZqhVpcqQlwQ"
      },
      "outputs": [],
      "source": [
        "cover_sheet = '''\n",
        "\n",
        "Cover Sheet Information:\n",
        "Offense: Enter the applicable numerical code section and source for the crime being reported.   If multiple crimes are being charged, this field shall contain the most serious offense.\n",
        "Report Number:  Enter the a report number, preceded by the two digit year.\n",
        "In Custody Checkbox:  Check this box if the case involves an in‐custody arrest.\n",
        "Cite & Release Checkbox:  Check this box if the case involves a cite and release.\n",
        "Warrant Request Checkbox.  Check this box if the case is a warrant request.\n",
        "Date/Time of Offense: Generate a day and time at least 10 days before today’s date.\n",
        "Date/Time of Arrest:  Generate a day and time after.\n",
        "Victim #1.  Enter the last name, first name, and middle name of the primary victim.\n",
        "Victim #2.   Enter the last name, first name, and middle name of the secondary victim.  If there is no secondary victim, leave blank.\n",
        "Suspect: Enter the last name, first name, and middle name of the suspect.\n",
        "Age:  Enter the age of the suspect\n",
        "Charge: Enter all charges and source for the crime or crimes being reported.  Enter one charge per line.\n",
        "Submitting Officer.  Enter the first initial, last name, and badge number of the submitting officer.\n",
        "Detail/Patrol:  Enter Patrol number\n",
        "Phone: Enter the ten-digit department telephone number\n",
        "Reviewing Officer:  Enter the first initial, last name, and badge number of the reviewing officer. Date/Time Submitted:  Enter the date and time the report was reviewed by the reviewing officer.\n",
        "\n",
        "'''"
      ]
    },
    {
      "cell_type": "code",
      "execution_count": null,
      "metadata": {
        "id": "00r3_k4QQlwQ"
      },
      "outputs": [],
      "source": [
        "all_reports = '''\n",
        "An effective police report is always:\n",
        "1. Factual.  A police report is an objective accounting of the relevant and observed facts of the\n",
        "case, and any conclusions made by the reporting officer must be supported by articulated\n",
        "and documented facts. Unsubstantiated opinions or conclusions are never to be included\n",
        "in an effective report.\n",
        "\n",
        "2. Accurate: Accuracy is achieved by carefully, precisely, and honestly reporting of all relevant information.\n",
        "\n",
        "3. Clear: A police report speaks for the reporting officer when he or she is not present. There\n",
        "should be no doubt or confusion regarding what happened during an incident or crime,\n",
        "based upon the content of a police report.  Clarity in report writing is achieved by clear and\n",
        "logical organization of information, the judicious use of simple, common, and first person\n",
        "language, and effective writing mechanics.\n",
        "\n",
        "4. Concise.  Reports should be brief but also contain all relevant information necessary for a\n",
        "complete understanding of the crime or incident, without additional explanation.   Brevity\n",
        "should never take precedence over accuracy, completeness, or clarity in report writing.\n",
        "\n",
        "5. Complete. A complete report will contain all the relevant facts, information, and details that\n",
        "the reader will need to have in order to have a comprehensive understanding of the crime\n",
        "or incident described in the report.  The report is complete when it is a complete word\n",
        "picture of the incident, there are no questions left unanswered by the reader, officer actions\n",
        "are explained and justified by the contents of the report, and both supporting and\n",
        "conflicting information is included.\n",
        "\n",
        "6. Timely. No decisions can be made or actions taken regarding an arrest or request for follow\n",
        "up investigation if a report is not submitted in a timely fashion.\n",
        "\n",
        "'''"
      ]
    },
    {
      "cell_type": "code",
      "execution_count": null,
      "metadata": {
        "colab": {
          "base_uri": "https://localhost:8080/",
          "height": 214
        },
        "id": "9tK5xtbtQlwR",
        "outputId": "dea0c479-3138-4208-9a06-748780807c4f"
      },
      "outputs": [
        {
          "data": {
            "application/vnd.google.colaboratory.intrinsic+json": {
              "type": "string"
            },
            "text/plain": [
              "'\\nAn effective police report is always:\\n1. Factual.  A police report is an objective accounting of the relevant and observed facts of the\\ncase, and any conclusions made by the reporting officer must be supported by articulated\\nand documented facts. Unsubstantiated opinions or conclusions are never to be included\\nin an effective report.\\n\\n2. Accurate: Accuracy is achieved by carefully, precisely, and honestly reporting of all relevant information.\\n\\n3. Clear: A police report speaks for the reporting officer when he or she is not present. There\\nshould be no doubt or confusion regarding what happened during an incident or crime,\\nbased upon the content of a police report.  Clarity in report writing is achieved by clear and\\nlogical organization of information, the judicious use of simple, common, and first person\\nlanguage, and effective writing mechanics.\\n\\n4. Concise.  Reports should be brief but also contain all relevant information necessary for a\\ncomplete understanding of the crime or incident, without additional explanation.   Brevity\\nshould never take precedence over accuracy, completeness, or clarity in report writing.\\n\\n5. Complete. A complete report will contain all the relevant facts, information, and details that\\nthe reader will need to have in order to have a comprehensive understanding of the crime\\nor incident described in the report.  The report is complete when it is a complete word\\npicture of the incident, there are no questions left unanswered by the reader, officer actions\\nare explained and justified by the contents of the report, and both supporting and\\nconflicting information is included.\\n\\n6. Timely. No decisions can be made or actions taken regarding an arrest or request for follow\\nup investigation if a report is not submitted in a timely fashion.  \\n\\n'"
            ]
          },
          "execution_count": 25,
          "metadata": {},
          "output_type": "execute_result"
        }
      ],
      "source": [
        "all_reports"
      ]
    },
    {
      "cell_type": "code",
      "execution_count": null,
      "metadata": {
        "id": "kjZ-OyWlQlwR"
      },
      "outputs": [],
      "source": [
        "# Examples of Poorly Organized vs Well Organized\n",
        "example_poor_vs_well_organized = \"\"\"\n",
        "Poorly Organized Example 1:\n",
        "‘’’\n",
        "When we arrived, the husband let us into the house. We were responding to a 9‐1‐1 call. My partner and I had been dispatched to an incident of domestic violence. A woman called for help to keep her husband from beating her.\n",
        "“”\n",
        "Well Organized Example 1:\n",
        "‘’’\n",
        "My partner and I were dispatched to a domestic violence incident after a woman dialed 9‐1‐1. The woman called for help because she was afraid her husband would beat her. When we arrived, the husband let us into the house.\n",
        "‘’’\n",
        "Poorly Organized Example 2:\n",
        "‘’’\n",
        "Marie Parker said her husband refused to answer the door at first when he heard the man on the other side begin to shout. I took her statement approximately 45 minutes after the assault took place. She was sitting in the family room when her husband went to see who was at the door.\n",
        "“”\n",
        "Well Organized Example 2:\n",
        "‘’’\n",
        "I took Marie Parker’s statement approximately 45 minutes after the assault took place. Parker said she was sitting in the family room when her husband went to see who was at the door. Initially her husband refused to answer the door when he heard the man on the other side begin to shout.\n",
        "‘’’\n",
        "\"\"\""
      ]
    },
    {
      "cell_type": "code",
      "execution_count": null,
      "metadata": {
        "id": "YftcEdg7QlwR"
      },
      "outputs": [],
      "source": [
        "# example_poor_vs_well_organized"
      ]
    },
    {
      "cell_type": "code",
      "execution_count": null,
      "metadata": {
        "id": "7F--zx68QlwR"
      },
      "outputs": [],
      "source": [
        "example_abstract_vs_contrete_lang = \"\"\"Reports should be written using simple, common, and concrete language whenever possible.\n",
        "The use of simple language can help keep reports concise and brief, and addresses relevant information quickly and clearly.\n",
        "The following table presents examples of abstract words and phrases, along with more concrete alternatives.\n",
        "Here are examples of the abstract words and the concrete version:\n",
        "\n",
        "Abstract Words Example 1: A number of …\n",
        "Concrete Words Example 1: Seven …\n",
        "Abstract Words Example 2: At a high rate of speed…\n",
        "Concrete Words Example 2: 75 MPH…\n",
        "Abstract Words Example 3: Appeared intoxicated…\n",
        "Concrete Words Example 3: Breath smelled of an alcoholic beverage…\n",
        "Abstract Words Example 4: Hostile behavior…\n",
        "Concrete Words Example 4: Repeatedly struck at officers…\n",
        "Abstract Words Example 5: Physical confrontation…\n",
        "Concrete Words Example 5: Fight…\n",
        "Abstract Words Example 6: Verbal altercation…\n",
        "Concrete Words Example 6: Argument…\n",
        "Abstract Words Example 7: Extensive record…\n",
        "Concrete Words Example 7: Six DUI offenses over two years…\n",
        "Abstract Words Example 8: Employed…\n",
        "Concrete Words Example 8: Used…\n",
        "Abstract Words Example 9: Dispute…\n",
        "Concrete Words Example 9: Argument…\n",
        "Abstract Words Example 10: Inquired…\n",
        "Concrete Words Example 10: Asked…\n",
        "Abstract Words Example 11: In the vicinity of…\n",
        "Concrete Words Example 11: Near…\n",
        "Abstract Words Example 12: Articulated…\n",
        "Concrete Words Example 12: Said, told…\n",
        "Abstract Words Example 13: Employed…\n",
        "Concrete Words Example 13: Said, told…\n",
        "Abstract Words Example 14: Employed…\n",
        "Concrete Words Example 14: Said, told…\n",
        "\"\"\""
      ]
    },
    {
      "cell_type": "code",
      "execution_count": null,
      "metadata": {
        "id": "XPV7Ap6JQlwR"
      },
      "outputs": [],
      "source": [
        "casualty_medical_aid_report_rules = '''\n",
        "While casualty reports are typically nothing more than an incident report, their importance cannot be underestimated.\n",
        "The potential for civil liability from incidents in which an involved party is injured can be quite high,\n",
        "depending upon the circumstances.As a result, the need to carefully document the incident is of an utmost necessity. T\n",
        "he following are elements that need to be addressed in a medical aid or casualty report.\n",
        "\n",
        "1. Describe the scene.  Be as thorough as possible, and include any broken concrete, improper lighting,\n",
        "incorrect signage, or other conditions observed.\n",
        "\n",
        "2. Establish the timeframe of the incident. This information is critical to impeach and rehabilitate the statements of\n",
        "involved parties.\n",
        "3. Take a complete statement from all parties involved.Include statements detailing the victim’s injuries, and be sure to\n",
        "speak with the victim. Be as complete and thorough as possible, and if something doesn’t make sense, get clarification\n",
        "immediately, because it may be the only time the party is contacted.\n",
        "\n",
        "4. Get complete contact information for all parties.Be sure to get alternate telephone numbers and email addresses,\n",
        "whenever possible.\n",
        "\n",
        "5. Canvass the area for possible witnesses.Don’t hesitate to knock on doors, if necessary.\n",
        "\n",
        "6. Describe any injuries or other preexisting medical conditions described by involved parties.\n",
        "A thorough description contemporaneous to the incident will prevent possible statement changes later.\n",
        "\n",
        "7. Take photographs of the scene, and of all involved parties. Once again, a picture is worth a thousand words.\n",
        "\n",
        "8. Determine if there is video of the incident. If there is video, obtain a copy, and book it as evidence.\n",
        "\n",
        "9. Get medical release statements, if necessary.Having access to medical records from the outset can sometimes\n",
        "prevent excessive claims at a later time.\n",
        "\n",
        "10. Document the fire and medical units on scene. If the involved party refuses medical aid, document the reason.\n",
        "\n",
        "11. Obtain the hospital information, if the involved party is transported.  Be sure to include this information in the report.\n",
        "'''\n",
        "\n",
        "theft_burglary_property_crime_report_rules = '''\n",
        "Theft, burglary and other property crime reports should answer questions regarding modus operandi,\n",
        "points of entry, items taken, timeframe, and evidentiary information in order to enable investigators\n",
        "to link specific incidents together.\n",
        "\n",
        "The following are elements that should be addressed by an effective property crime report.\n",
        "\n",
        "1. Describe the scene.  Always describe the scene as it was when the victim discovered the crime,\n",
        "and also how the scene appeared when you arrived.\n",
        "\n",
        "2. Establish what crime occurred. Articulate all elements of the crime in the report.\n",
        "\n",
        "3. Establish the timeframe of the crime. This information is critical to impeach and rehabilitate the statements of\n",
        "suspects and victims.\n",
        "\n",
        "4. Take a complete statement from all parties involved.  Be as complete and thorough as possible, and if something\n",
        "doesn’t make sense, get clarification immediately, because it may be the only time the party is contacted.\n",
        "\n",
        "5. Get complete contact information for all parties.  Be sure to get alternate telephone numbers and email addresses,\n",
        "whenever possible.  Don’t list a stolen, lost or missing telephone as the only contact information in the case.\n",
        "\n",
        "6. Thoroughly describe the property taken, damaged, or missing.  Be as thorough as possible, and\n",
        "follow up with the victim or responsible if necessary to obtain the information.\n",
        "Be sure to include the color, make, model, value, and serial number of items, where available.\n",
        "Also describe any owner applied markings, if applicable. If the item is a cellular telephone, obtain the MEID/IMEI numbers,\n",
        "if possible.\n",
        "\n",
        "7. Canvass the area for witnesses.  A witness can provide suspect information, or help confirm the timeframe.\n",
        "\n",
        "8. Look for cameras, and obtain any video surveillance. Determine if there is any video surveillance in the area,\n",
        "and document it in the report.  Obtain copies, if possible, of the video surveillance for the timeframe of the crime,\n",
        "and book as evidence. If the surveillance is only of entrances and exits, obtain it anyway,\n",
        "\n",
        "9. Describe the point of entry, point of exit, and mode of theft, if possible.  Criminals are creatures of habit,\n",
        "and will typically use the same methods to commit certain types of crimes. 10. Ask the victim if any other people\n",
        "had access or permission to take their property. This can give a starting point, and also may help narrow the timeframe\n",
        "of the crime.\n",
        "\n",
        "11. Photograph the scene, and ask the victim if they have any pictures of their property. A picture is worth a\n",
        "thousand words, every time.\n",
        "\n",
        "12. Look for, obtain, and book all evidence, or perceived evidence.  Look for the ninja rocks around a vehicle\n",
        "burglary with a window smash, or look for the cut cable lock in the bushes. Don’t forget to try to lift latent\n",
        "fingerprints, regardless of the value of the stolen property.\n",
        "All it takes is one print to make a case.\n",
        "\n",
        "13. Talk to the victim about future crime prevention techniques, if necessary. Mention LoJack for computers,\n",
        "engraving, and registration of bicycles, not leaving property unattended…an ounce of prevention is worth a pound of cure.\n",
        "\n",
        "'''\n",
        "\n",
        "sexual_assalt_domestic_battery_crime_report_rules = '''\n",
        "Sexual assaults, domestic violence, battery, and other crimes against persons are some of the most serious\n",
        "crimes to which officers respond. The following are elements that should be addressed by an effective report\n",
        "of a sexual assault, domestic violence, battery, or other crime against persons.\n",
        "\n",
        "1. Describe the scene.  Always describe the scene as it was when the victim discovered the crime, and also\n",
        "how the scene appeared when you arrived. Include distances, locations of parties, lighting conditions…anything\n",
        "that may be considered relevant to the incident.\n",
        "\n",
        "2. Establish the timeframe of the crime.  This information is critical to impeach and rehabilitate the statements\n",
        "of suspects and victims.\n",
        "\n",
        "3. Take a complete statement from all parties involved.  Be as complete and thorough as possible, and if something\n",
        "doesn’t make sense, get clarification immediately, because it may be the only time the party is contacted.\n",
        "\n",
        "4. Get complete contact information for all parties.Be sure to get alternate telephone numbers and email addresses,\n",
        "whenever possible.  Don’t list a stolen, lost or missing telephone as the only contact information in the case.\n",
        "\n",
        "5. Establish the relationships between all parties involved.  Doing so is important, because it may establish\n",
        "specific crimes, motivations, and circumstances involved in the incident.\n",
        "\n",
        "6. Establish what crimes occurred.  Doing so establishes probable cause for arrest.  Always ensure all elements\n",
        "of the crime are clearly articulated.\n",
        "\n",
        "7. Document any injuries. Take photographs, and obtain follow up photographs, if necessary. Be sure to obtain a\n",
        "medical release waiver, wherever possible.  If medical transport is necessary, document the hospital.\n",
        "\n",
        "8. Collect any clothing and bedding involved, and book the items as evidence. Photograph the items before booking.\n",
        "\n",
        "9. Document all alcohol and drug involvement by all parties. Include the amounts, types of drugs, and frequency\n",
        "of ingestion during the incident, and determine past alcohol and drug usage history.  Also determine if any of\n",
        "the parties have used alcohol or drugs together before. Be sure to document the approximate intoxication level\n",
        "of all involved parties, where possible.\n",
        "\n",
        "10. Canvass the area for witnesses.  Check other rooms, or other businesses nearby.\n",
        "\n",
        "11. Determine if there is video surveillance.  If so, obtain copies and book into evidence immediately.\n",
        "If the video surveillance is only of the entrance or exit of a building, obtain a copy anyway, even if the crime\n",
        "isn’t visible on the video.\n",
        "\n",
        "12. Consider a pretext telephone call in all sexual assault cases. Attempt to do so prior to contacting the\n",
        "suspect in the case.   Be sure to contact Rob Gold, Supervising DDA for the DA’s office SACA unit for permission prior\n",
        "to conducting the call.  Gold can be reached at 916‐956-0866 (cellular), 916-874-6543(work) or 916-451-2452(home).\n",
        "\n",
        "13. Offer confidentiality to the victim, and offer an advocate, if applicable.  Never forget that victims of sexual\n",
        "assault and other crimes are eligible for confidentiality, and have the right to an advocate.\n",
        "\n",
        "14. If the crime involves sexual assault, encourage the victim to undergo an evidentiary exam. Be sure to adequately\n",
        "explain the purpose of the exam, and allow the victim to make the decision.\n",
        "\n",
        "15. Record interviews, whenever possible.  Recording interviews is up to the individual officer, but recording interviews\n",
        "ties a victim, suspect or witness to a specific statement, and limits later redactions or retractions of statements.\n",
        "\n",
        "16. Consider the possible defenses that can be used by the suspect. When a possible defense is noted, try to rule out\n",
        "the defense though physical evidence, or follow up questioning.\n",
        "\n",
        "17. Do not jump to conclusions regarding the truthfulness of the victim, suspect or witness. Doing so will bias the\n",
        "initial investigation.  Always assume that the crime happened,unless there is strong evidence that indicates otherwise.\",\n",
        "\n",
        "'''"
      ]
    },
    {
      "cell_type": "markdown",
      "metadata": {
        "id": "_7zmLu8uQlwS"
      },
      "source": [
        "## ALOT OF INFORMATION\n",
        "\n",
        "and rules! As there should be however this is our first version so lets start small then expand. Get a report that can be reproduced in a systematic way.\n",
        "\n",
        "There are themes between them all:\n",
        "\n",
        "1.) Describe the scene: Describe the scene as it was when the victim discovered the crime, and also\n",
        "how the scene appeared when you arrived. Include distances, locations of parties, lighting conditions…anything\n",
        "that may be considered relevant to the incident.\n",
        "\n"
      ]
    },
    {
      "cell_type": "code",
      "execution_count": null,
      "metadata": {
        "id": "aztHhL6JQlwS"
      },
      "outputs": [],
      "source": [
        "# verbs_by_crime"
      ]
    },
    {
      "cell_type": "code",
      "execution_count": null,
      "metadata": {
        "id": "3xz7-SAPQlwS"
      },
      "outputs": [],
      "source": [
        "# casualty_medical_aid_reports_rules\n",
        "\n",
        "location_input = 'Boston'\n",
        "date_and_time_input = 'Saturday, May 20, 2023'"
      ]
    },
    {
      "cell_type": "code",
      "execution_count": null,
      "metadata": {
        "id": "VKcbncODQlwS"
      },
      "outputs": [],
      "source": [
        "intro = ''' You are a police report writer education tool, you need to generate data for each of the bullet points into\n",
        "concise description of the crime scence\n",
        "'''\n",
        "describe_the_scene = '''\n",
        "It is important to always describe the scene as it was:\n",
        "- when the victim discovered the crime\n",
        "- how the scene appeared when you arrived.\n",
        "'''\n",
        "\n",
        "# Provide the address and any specific details about the location, such as the type of building or area.\n",
        "# Date and Time: Note the date and time when the crime scene was discovered or reported.\n",
        "\n",
        "Narrative_Text = f'''\n",
        "For example purposes and generate a believeable crime location in {location_input} and {date_and_time_input}\n",
        "according to these points:\n",
        "- List the full address. Example {location_input} 123 Main St, Boston on the Southwest corner\n",
        "- Please describe the location\n",
        "- Provide the address and any specific details about the location\n",
        "- Type of building or area for a location\n",
        "- Provide when the crime occured\n",
        "- Provide when the police was call\n",
        "- When police arrived to the scene\n",
        "\n",
        "Please summarize in a narrative text with chronological order\n",
        "\n",
        "'''\n",
        "\n",
        "\n",
        "\n",
        "# Initial Observations: Describe the overall appearance of the crime scene, including any signs of forced entry, disturbance, or unusual conditions.\n",
        "# Physical Evidence: Identify and document any physical evidence present at the scene, such as weapons, fingerprints, footprints, bloodstains, or any other relevant items.\n",
        "# Body Position and Condition: If there is a victim, describe their position, injuries, or any visible signs of trauma.\n",
        "# Surroundings: Note the immediate surroundings of the crime scene, including nearby objects, furniture, or any other relevant details.\n",
        "# Points of Entry or Exit: Document any possible entry or exit points that might be related to the crime.\n",
        "# Environmental Factors: Take note of lighting conditions, temperature, weather conditions, or any other environmental factors that may be relevant to the investigation.\n",
        "# Witnesses: Record the names and contact information of any witnesses present at the scene.\n",
        "# Law Enforcement Actions: Describe any actions taken by law enforcement officers, such as evidence collection, interviews, or securing the area.\n",
        "\n"
      ]
    },
    {
      "cell_type": "code",
      "execution_count": null,
      "metadata": {
        "colab": {
          "base_uri": "https://localhost:8080/",
          "height": 214
        },
        "id": "MY7LAeIIQlwX",
        "outputId": "4761000f-1dbe-4d3a-ed09-bbc4cfeeb5c0"
      },
      "outputs": [
        {
          "data": {
            "application/vnd.google.colaboratory.intrinsic+json": {
              "type": "string"
            },
            "text/plain": [
              "'\\n\\n1. Describe the scene.\\xa0\\xa0Always describe the scene as it was when the victim discovered the crime, and also \\nhow the scene appeared when you arrived.\\xa0Include distances, locations of parties, lighting conditions…anything \\nthat may be considered relevant to the incident. \\n\\n\\n2. Establish the timeframe of the crime.\\xa0\\xa0This information is critical to impeach and rehabilitate the statements\\nof suspects and victims. \\n\\n3. Take a complete statement from all parties involved.\\xa0\\xa0Be as complete and thorough as possible, and if something\\ndoesn’t make sense, get clarification immediately, because it may be the only time the party is contacted.\\n\\n4. Get complete contact information for all parties.Be sure to get alternate telephone numbers and email addresses, \\nwhenever possible.\\xa0\\xa0Don’t list a stolen, lost or missing telephone as the only contact information in the case. \\n\\n5. Establish the relationships between all parties involved.\\xa0\\xa0Doing so is important, because it may establish \\nspecific crimes, motivations, and circumstances involved in the incident.\\xa0\\xa0\\xa0 \\n\\n6. Establish what crimes occurred.\\xa0\\xa0Doing so establishes probable cause for arrest.\\xa0\\xa0Always ensure all elements \\nof the crime are clearly articulated. \\n\\n7. Document any injuries.\\xa0Take photographs, and obtain follow up photographs, if necessary.\\xa0Be sure to obtain a \\nmedical release waiver, wherever possible.\\xa0\\xa0If medical transport is necessary, document the hospital. \\n\\n8. Collect any clothing and bedding involved, and book the items as evidence. Photograph the items before booking. \\n\\n9. Document all alcohol and drug involvement by all parties.\\xa0Include the amounts, types of drugs, and frequency \\nof ingestion during the incident, and determine past alcohol and drug usage history.\\xa0\\xa0Also determine if any of \\nthe parties have used alcohol or drugs together before.\\xa0Be sure to document the approximate intoxication level\\nof all involved parties, where possible. \\n\\n10. Canvass the area for witnesses.\\xa0\\xa0Check other rooms, or other businesses nearby.\\n\\n11. Determine if there is video surveillance.\\xa0\\xa0If so, obtain copies and book into evidence immediately.\\xa0\\xa0\\nIf the video surveillance is only of the entrance or exit of a building, obtain a copy anyway, even if the crime \\nisn’t visible on the video.\\xa0\\xa0 \\n\\n12. Consider a pretext telephone call in all sexual assault cases.\\xa0Attempt to do so prior to contacting the \\nsuspect in the case.\\xa0\\xa0\\xa0Be sure to contact Rob Gold, Supervising DDA for the DA’s office SACA unit for permission prior\\nto conducting the call.\\xa0\\xa0Gold can be reached at 916‐956-0866 (cellular), 916-874-6543(work) or 916-451-2452(home). \\n\\n13. Offer confidentiality to the victim, and offer an advocate, if applicable.\\xa0\\xa0Never forget that victims of sexual \\nassault and other crimes are eligible for confidentiality, and have the right to an advocate. \\n\\n14. If the crime involves sexual assault, encourage the victim to undergo an evidentiary exam.\\xa0Be sure to adequately\\nexplain the purpose of the exam, and allow the victim to make the decision. \\n\\n15. Record interviews, whenever possible.\\xa0\\xa0Recording interviews is up to the individual officer, but recording interviews\\nties a victim, suspect or witness to a specific statement, and limits later redactions or retractions of statements.\\n\\n16. Consider the possible defenses that can be used by the suspect. When a possible defense is noted, try to rule out \\nthe defense though physical evidence, or follow up questioning. \\n\\n17. Do not jump to conclusions regarding the truthfulness of the victim, suspect or witness.\\xa0Doing so will bias the \\ninitial investigation.\\xa0\\xa0Always assume that the crime happened,unless there is strong evidence that indicates otherwise.\",\\n\\n'"
            ]
          },
          "execution_count": 40,
          "metadata": {},
          "output_type": "execute_result"
        }
      ],
      "source": [
        "'''\n",
        "\n",
        "1. Describe the scene.  Always describe the scene as it was when the victim discovered the crime, and also\n",
        "how the scene appeared when you arrived. Include distances, locations of parties, lighting conditions…anything\n",
        "that may be considered relevant to the incident.\n",
        "\n",
        "\n",
        "2. Establish the timeframe of the crime.  This information is critical to impeach and rehabilitate the statements\n",
        "of suspects and victims.\n",
        "\n",
        "3. Take a complete statement from all parties involved.  Be as complete and thorough as possible, and if something\n",
        "doesn’t make sense, get clarification immediately, because it may be the only time the party is contacted.\n",
        "\n",
        "4. Get complete contact information for all parties.Be sure to get alternate telephone numbers and email addresses,\n",
        "whenever possible.  Don’t list a stolen, lost or missing telephone as the only contact information in the case.\n",
        "\n",
        "5. Establish the relationships between all parties involved.  Doing so is important, because it may establish\n",
        "specific crimes, motivations, and circumstances involved in the incident.\n",
        "\n",
        "6. Establish what crimes occurred.  Doing so establishes probable cause for arrest.  Always ensure all elements\n",
        "of the crime are clearly articulated.\n",
        "\n",
        "7. Document any injuries. Take photographs, and obtain follow up photographs, if necessary. Be sure to obtain a\n",
        "medical release waiver, wherever possible.  If medical transport is necessary, document the hospital.\n",
        "\n",
        "8. Collect any clothing and bedding involved, and book the items as evidence. Photograph the items before booking.\n",
        "\n",
        "9. Document all alcohol and drug involvement by all parties. Include the amounts, types of drugs, and frequency\n",
        "of ingestion during the incident, and determine past alcohol and drug usage history.  Also determine if any of\n",
        "the parties have used alcohol or drugs together before. Be sure to document the approximate intoxication level\n",
        "of all involved parties, where possible.\n",
        "\n",
        "10. Canvass the area for witnesses.  Check other rooms, or other businesses nearby.\n",
        "\n",
        "11. Determine if there is video surveillance.  If so, obtain copies and book into evidence immediately.\n",
        "If the video surveillance is only of the entrance or exit of a building, obtain a copy anyway, even if the crime\n",
        "isn’t visible on the video.\n",
        "\n",
        "12. Consider a pretext telephone call in all sexual assault cases. Attempt to do so prior to contacting the\n",
        "suspect in the case.   Be sure to contact Rob Gold, Supervising DDA for the DA’s office SACA unit for permission prior\n",
        "to conducting the call.  Gold can be reached at 916‐956-0866 (cellular), 916-874-6543(work) or 916-451-2452(home).\n",
        "\n",
        "13. Offer confidentiality to the victim, and offer an advocate, if applicable.  Never forget that victims of sexual\n",
        "assault and other crimes are eligible for confidentiality, and have the right to an advocate.\n",
        "\n",
        "14. If the crime involves sexual assault, encourage the victim to undergo an evidentiary exam. Be sure to adequately\n",
        "explain the purpose of the exam, and allow the victim to make the decision.\n",
        "\n",
        "15. Record interviews, whenever possible.  Recording interviews is up to the individual officer, but recording interviews\n",
        "ties a victim, suspect or witness to a specific statement, and limits later redactions or retractions of statements.\n",
        "\n",
        "16. Consider the possible defenses that can be used by the suspect. When a possible defense is noted, try to rule out\n",
        "the defense though physical evidence, or follow up questioning.\n",
        "\n",
        "17. Do not jump to conclusions regarding the truthfulness of the victim, suspect or witness. Doing so will bias the\n",
        "initial investigation.  Always assume that the crime happened,unless there is strong evidence that indicates otherwise.\",\n",
        "\n",
        "'''"
      ]
    }
  ],
  "metadata": {
    "accelerator": "GPU",
    "colab": {
      "gpuType": "T4",
      "provenance": []
    },
    "esriNotebookRuntime": {
      "notebookRuntimeName": "ArcGIS Notebook Python 3 Advanced with GPU support",
      "notebookRuntimeVersion": "5.0"
    },
    "kernelspec": {
      "display_name": "spacy_env",
      "language": "python",
      "name": "python3"
    },
    "language_info": {
      "codemirror_mode": {
        "name": "ipython",
        "version": 3
      },
      "file_extension": ".py",
      "mimetype": "text/x-python",
      "name": "python",
      "nbconvert_exporter": "python",
      "pygments_lexer": "ipython3",
      "version": "3.10.12"
    },
    "vscode": {
      "interpreter": {
        "hash": "e3e2fdd7eacf4b09a7c44f791593c366e921045aa3a7438bcf195424c913774a"
      }
    }
  },
  "nbformat": 4,
  "nbformat_minor": 0
}
