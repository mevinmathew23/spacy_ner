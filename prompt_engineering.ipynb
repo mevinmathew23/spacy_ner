{
  "cells": [
    {
      "cell_type": "markdown",
      "metadata": {
        "id": "wrMW-0zeQlwH"
      },
      "source": [
        "# Information extraction from Madison city crime incident reports using Deep Learning"
      ]
    },
    {
      "cell_type": "markdown",
      "metadata": {
        "id": "x7oBXyv0QlwK"
      },
      "source": [
        "<h1>Table of Contents<span class=\"tocSkip\"></span></h1>\n",
        "<div class=\"toc\">\n",
        "<ul class=\"toc-item\">\n",
        "<li><span><a href=\"#Introduction\" data-toc-modified-id=\"Introduction-1\">Introduction</a></span></li>\n",
        "<li><span><a href=\"#Prerequisites\" data-toc-modified-id=\"Prerequisites-2\">Prerequisites</a></span></li>\n",
        "<li><span><a href=\"#Imports\" data-toc-modified-id=\"Imports-3\">Imports</a></span></li>\n",
        "<li><span><a href=\"#Data-preparation\" data-toc-modified-id=\"Data-preparation-4\">Data preparation</a></span></li>\n",
        "<li><span><a href=\"#EntityRecognizer-model\" data-toc-modified-id=\"EntityRecognizer-model-5\">EntityRecognizer model</a></span></li>\n",
        "<ul class=\"toc-item\">\n",
        "<li><span><a href=\"#Finding-optimum-learning-rate\" data-toc-modified-id=\"Finding-optimum-learning-rate-5.1\">Finding optimum learning rate</a></span>    \n",
        "<li><span><a href=\"#Model-training\" data-toc-modified-id=\"Model-training-5.2\">Model training</a></span>\n",
        "<li><span><a href=\"#Evaluate-model-performance\" data-toc-modified-id=\"Evaluate-model-performance-5.3\">Evaluate model performance</a></span>\n",
        "<li><span><a href=\"#Validate-results\" data-toc-modified-id=\"Validate-results-5.4\">Validate results</a></span></li>\n",
        "<li><span><a href=\"#Save-and-load-trained-models\" data-toc-modified-id=\"Save-and-load-trained-models-5.5\">Save and load trained models</a></span></li>\n",
        "</ul>\n",
        "<li><span><a href=\"#Model-inference\" data-toc-modified-id=\"Model-inference-6\">Model inference</a></span></li>\n",
        "<li><span><a href=\"#Publishing-the-results-as-feature-layer\" data-toc-modified-id=\"Publishing-the-results-as-feature-layer-7\">Publishing the results as feature layer</a></span></li>\n",
        "<li><span><a href=\"#Visualize-crime-incident-on-map\" data-toc-modified-id=\"Visualize-crime-incident-on-map- 8\">Visualize crime incident on map</a></span></li>\n",
        "<li><span><a href=\"#Create-a-hot-spot-map-of-crime-densities\" data-toc-modified-id=\"Create-a-hot-spot-map-of-crime-densities-9\">Create a hot spot map of crime densities</a></span></li>\n",
        "<li><span><a href=\"#Conclusion\" data-toc-modified-id=\"Conclusion-10\">Conclusion</a></span></li>\n",
        "<li><span><a href=\"#References\" data-toc-modified-id=\"References-11\">References</a></span></li>\n",
        "</ul></div>"
      ]
    },
    {
      "cell_type": "markdown",
      "metadata": {
        "id": "xrylEB2hQlwK"
      },
      "source": [
        "# Introduction\n",
        "\n",
        "This notebook investigate creating a new named entity called `“Crime”` and our ability to generate police reports that are not readily available.\n",
        "\n",
        "A police report writing handbook will be used to prompt a large language model (LLM) to generate police reports where the “Crime” entity will be used in proper domain context.\n",
        "\n",
        "Generated reports will then be used to retrain a NER model to identify the “Crime” entity within legal documents. This will be valuable in sorting, categorizing, and exploring future investigation legal documents used in court cases.  \n",
        "\n",
        "\n",
        "### Reading the Report Writing Manual\n",
        "Link: https://www.csus.edu/campus-safety/police-department/_internal/_documents/rwm.pdf"
      ]
    },
    {
      "cell_type": "markdown",
      "metadata": {
        "id": "zRrwSFk5QlwL"
      },
      "source": [
        "# Necessary Imports"
      ]
    },
    {
      "cell_type": "code",
      "execution_count": 1,
      "metadata": {
        "colab": {
          "base_uri": "https://localhost:8080/"
        },
        "id": "jKMdhY8yR_6v",
        "outputId": "efb8d10c-10df-41d0-de89-ee7bf81a1d8f"
      },
      "outputs": [
        {
          "output_type": "stream",
          "name": "stdout",
          "text": [
            "Drive already mounted at /content/drive; to attempt to forcibly remount, call drive.mount(\"/content/drive\", force_remount=True).\n"
          ]
        }
      ],
      "source": [
        "from google.colab import drive\n",
        "drive.mount('/content/drive')"
      ]
    },
    {
      "cell_type": "code",
      "execution_count": 2,
      "metadata": {
        "colab": {
          "base_uri": "https://localhost:8080/"
        },
        "id": "Nxlw8NGmSEjq",
        "outputId": "1e9c0c8d-eaf2-47e4-b18d-b4937bd7a1f5"
      },
      "outputs": [
        {
          "output_type": "stream",
          "name": "stdout",
          "text": [
            "/content/drive/MyDrive/Colab Notebooks/spacy_local\n"
          ]
        }
      ],
      "source": [
        "%cd /content/drive/MyDrive/Colab\\ Notebooks/spacy_local"
      ]
    },
    {
      "cell_type": "code",
      "execution_count": 3,
      "metadata": {
        "colab": {
          "base_uri": "https://localhost:8080/"
        },
        "id": "0itn5dIcSRHt",
        "outputId": "2f4c300a-2e0b-4bdc-a85c-b77dcecd76d5"
      },
      "outputs": [
        {
          "output_type": "stream",
          "name": "stdout",
          "text": [
            "total 881\n",
            "-rw------- 1 root root   2817 Jun 18 20:35 config.cfg\n",
            "-rw------- 1 root root   1678 Jun 18 20:35 base_config.cfg\n",
            "-rw------- 1 root root 508947 Jul 10 04:23 spacy_prompt_training_v1_2.json\n",
            "-rw------- 1 root root 269427 Jul 11 00:51 training_data_crime.spacy\n",
            "-rw------- 1 root root 116996 Jul 11 00:56 prompt_engineering.ipynb\n"
          ]
        }
      ],
      "source": [
        "%ls -ltr"
      ]
    },
    {
      "cell_type": "code",
      "execution_count": 4,
      "metadata": {
        "id": "kCKm7fQdQlwL"
      },
      "outputs": [],
      "source": [
        "import pandas as pd\n",
        "import zipfile,unicodedata\n",
        "# from itertools import repeat\n",
        "from pathlib import Path\n",
        "import re\n",
        "import os\n",
        "import datetime"
      ]
    },
    {
      "cell_type": "markdown",
      "metadata": {
        "id": "qc_SnJUTQlwM"
      },
      "source": [
        "# Data Rule Exploration\n",
        "\n",
        "When we started, we found success when we started with the verb that described the crime. Ensure that the format is correct and then build context around that word. With a sentence on each side.\n",
        "\n",
        "It was overwhelming to create one report that fit all the requirements. The goal is to provide context that would be found in a police report. Even if it was a small subset. That gets us into our NER faster.\n",
        "\n",
        "The words are not perfect however get us started by providing context."
      ]
    },
    {
      "cell_type": "code",
      "execution_count": 5,
      "metadata": {
        "id": "jB4SR7lGQlwM"
      },
      "outputs": [],
      "source": [
        "verbs_by_crime = {\n",
        "    \"Violent_Crimes\": [\n",
        "        'Murdered', 'Assaulted', 'Raped', 'Robbed', 'Kidnapped',\n",
        "        'Beat', 'Stabbed', 'Shot', 'Strangled', 'Abused',\n",
        "        'Threatened', 'Attacked', 'Mugged', 'Harmed', 'Injured'\n",
        "        'Harassed', 'Stalked','Menaced', 'Abducted', 'Kidnapped',\n",
        "        'Slashed', 'Choked'\n",
        "    ],\n",
        "    \"Property_Crimes\": [\n",
        "        'Mugged', 'Robbed', 'Burglarized', 'Stolen', 'Vandalized',\n",
        "        'Trespassed', 'Arsoned','Damaged', 'Graffitied', 'Embezzled',\n",
        "        'Shoplifted', 'Sabotaged','Looted', 'Counterfeited', 'Pocketed',\n",
        "        'Stripped', 'Intruded'\n",
        "    ],\n",
        "    \"Financial_Crimes\": [\n",
        "        'Defrauded', 'Laundered', 'Scammed', 'Swindled', 'Falsified',\n",
        "        'Concealed', 'Misappropriated', 'Extorted', 'Manipulated', 'Bribed',\n",
        "        'Racketeered', 'Evaded', 'Cheated', 'Forged', 'Misused'\n",
        "    ],\n",
        "    \"Cybercrimes\": [\n",
        "        'Hacked', 'Phished', 'Stole data', 'Cyberbullied', 'Spoofed',\n",
        "        'Breached', 'Doxxed', 'Distributed malware', 'Hijacked accounts', 'Ransomware attack',\n",
        "        'Cyberstalking', 'Distributed denial-of-service (DDoS) attack', 'Identity theft',\n",
        "        'Cyber fraud', 'Password cracking'\n",
        "    ],\n",
        "    \"Drug_Crimes\": [\n",
        "        'Possessed', 'Trafficked', 'Manufactured', 'Smuggled', 'Sold',\n",
        "        'Cultivated', 'Distributed', 'Synthesized', 'Abused', 'Peddled',\n",
        "        'Dealt', 'Transported', 'Prescribed illegally', 'Falsified prescriptions', 'Produced illicit substances'\n",
        "    ],\n",
        "    \"White-Collar_Crimes\": [\n",
        "        'Committed fraud', 'Engaged in insider trading', 'Embezzled funds',\n",
        "        'Bribed officials', 'Manipulated financial records', 'Conducted money laundering',\n",
        "        'Engaged in corporate espionage', 'Defrauded investors', 'Orchestrated Ponzi schemes',\n",
        "        'Engaged in tax evasion', 'Falsified documents', 'Misused funds',\n",
        "        'Misrepresented financial statements', 'Engaged in kickbacks', 'Violated antitrust laws'\n",
        "    ],\n",
        "    \"Sexual_Crimes\": [\n",
        "        'Raped', 'Assaulted sexually', 'Harassed', 'Molested', 'Exploited',\n",
        "        'Fondled', 'Groped', 'Exhibited indecent exposure', 'Engaged in non-consensual acts', 'Coerced',\n",
        "        'Victimized', 'Voyeurism', 'Produced child pornography', 'Solicited prostitution', 'Sextortion'\n",
        "    ],\n",
        "    \"Public_Order_Crimes\": [\n",
        "        'Intoxicated publicly', 'Disturbed the peace', 'Engaged in disorderly conduct',\n",
        "        'Loitered', 'Urinated in public', 'Engaged in public drunkenness', 'Panhandled', 'Engaged in public nudity',\n",
        "        'Engaged in public lewdness', 'Engaged in street racing', 'Created public disturbances', 'Organized illegal gatherings',\n",
        "        'Begged', 'Engaged in public gambling', 'Solicited in public'\n",
        "    ],\n",
        "    \"Traffic_and_Motor_Vehicle_Crimes\": [\n",
        "        'Speeded', 'Drove under the influence (DUI)', 'Reckless driving', 'Hit and run', 'Drove without a license',\n",
        "        'Texted while driving', 'Street racing', 'Violated traffic laws', 'Failed to yield', 'Ran red lights',\n",
        "        'Distracted driving', 'Improper lane change', 'Driving with expired registration', 'Driving with suspended license',\n",
        "        'Carjacked'\n",
        "    ]\n",
        "}\n"
      ]
    },
    {
      "cell_type": "code",
      "execution_count": 6,
      "metadata": {
        "id": "pnffPAmBQlwN"
      },
      "outputs": [],
      "source": [
        "def simple_prompt(crime):\n",
        "    return f\"I give you '{crime}' can you put into a 3 sentences that would be found in a police report in a chorological order\""
      ]
    },
    {
      "cell_type": "code",
      "execution_count": 7,
      "metadata": {
        "colab": {
          "base_uri": "https://localhost:8080/"
        },
        "id": "wjiD564GQlwN",
        "outputId": "e65840c7-529f-4a58-cae8-b7b82446da93"
      },
      "outputs": [
        {
          "output_type": "stream",
          "name": "stdout",
          "text": [
            "Violent_Crimes\n",
            "Property_Crimes\n",
            "Financial_Crimes\n",
            "Cybercrimes\n",
            "Drug_Crimes\n",
            "White-Collar_Crimes\n",
            "Sexual_Crimes\n",
            "Public_Order_Crimes\n",
            "Traffic_and_Motor_Vehicle_Crimes\n"
          ]
        },
        {
          "output_type": "execute_result",
          "data": {
            "text/plain": [
              "{'Violent_Crimes': [\"I give you 'Murdered' can you put into a 3 sentences that would be found in a police report in a chorological order\",\n",
              "  \"I give you 'Assaulted' can you put into a 3 sentences that would be found in a police report in a chorological order\",\n",
              "  \"I give you 'Raped' can you put into a 3 sentences that would be found in a police report in a chorological order\",\n",
              "  \"I give you 'Robbed' can you put into a 3 sentences that would be found in a police report in a chorological order\",\n",
              "  \"I give you 'Kidnapped' can you put into a 3 sentences that would be found in a police report in a chorological order\",\n",
              "  \"I give you 'Beat' can you put into a 3 sentences that would be found in a police report in a chorological order\",\n",
              "  \"I give you 'Stabbed' can you put into a 3 sentences that would be found in a police report in a chorological order\",\n",
              "  \"I give you 'Shot' can you put into a 3 sentences that would be found in a police report in a chorological order\",\n",
              "  \"I give you 'Strangled' can you put into a 3 sentences that would be found in a police report in a chorological order\",\n",
              "  \"I give you 'Abused' can you put into a 3 sentences that would be found in a police report in a chorological order\",\n",
              "  \"I give you 'Threatened' can you put into a 3 sentences that would be found in a police report in a chorological order\",\n",
              "  \"I give you 'Attacked' can you put into a 3 sentences that would be found in a police report in a chorological order\",\n",
              "  \"I give you 'Mugged' can you put into a 3 sentences that would be found in a police report in a chorological order\",\n",
              "  \"I give you 'Harmed' can you put into a 3 sentences that would be found in a police report in a chorological order\",\n",
              "  \"I give you 'InjuredHarassed' can you put into a 3 sentences that would be found in a police report in a chorological order\",\n",
              "  \"I give you 'Stalked' can you put into a 3 sentences that would be found in a police report in a chorological order\",\n",
              "  \"I give you 'Menaced' can you put into a 3 sentences that would be found in a police report in a chorological order\",\n",
              "  \"I give you 'Abducted' can you put into a 3 sentences that would be found in a police report in a chorological order\",\n",
              "  \"I give you 'Kidnapped' can you put into a 3 sentences that would be found in a police report in a chorological order\",\n",
              "  \"I give you 'Slashed' can you put into a 3 sentences that would be found in a police report in a chorological order\",\n",
              "  \"I give you 'Choked' can you put into a 3 sentences that would be found in a police report in a chorological order\"],\n",
              " 'Property_Crimes': [\"I give you 'Mugged' can you put into a 3 sentences that would be found in a police report in a chorological order\",\n",
              "  \"I give you 'Robbed' can you put into a 3 sentences that would be found in a police report in a chorological order\",\n",
              "  \"I give you 'Burglarized' can you put into a 3 sentences that would be found in a police report in a chorological order\",\n",
              "  \"I give you 'Stolen' can you put into a 3 sentences that would be found in a police report in a chorological order\",\n",
              "  \"I give you 'Vandalized' can you put into a 3 sentences that would be found in a police report in a chorological order\",\n",
              "  \"I give you 'Trespassed' can you put into a 3 sentences that would be found in a police report in a chorological order\",\n",
              "  \"I give you 'Arsoned' can you put into a 3 sentences that would be found in a police report in a chorological order\",\n",
              "  \"I give you 'Damaged' can you put into a 3 sentences that would be found in a police report in a chorological order\",\n",
              "  \"I give you 'Graffitied' can you put into a 3 sentences that would be found in a police report in a chorological order\",\n",
              "  \"I give you 'Embezzled' can you put into a 3 sentences that would be found in a police report in a chorological order\",\n",
              "  \"I give you 'Shoplifted' can you put into a 3 sentences that would be found in a police report in a chorological order\",\n",
              "  \"I give you 'Sabotaged' can you put into a 3 sentences that would be found in a police report in a chorological order\",\n",
              "  \"I give you 'Looted' can you put into a 3 sentences that would be found in a police report in a chorological order\",\n",
              "  \"I give you 'Counterfeited' can you put into a 3 sentences that would be found in a police report in a chorological order\",\n",
              "  \"I give you 'Pocketed' can you put into a 3 sentences that would be found in a police report in a chorological order\",\n",
              "  \"I give you 'Stripped' can you put into a 3 sentences that would be found in a police report in a chorological order\",\n",
              "  \"I give you 'Intruded' can you put into a 3 sentences that would be found in a police report in a chorological order\"],\n",
              " 'Financial_Crimes': [\"I give you 'Defrauded' can you put into a 3 sentences that would be found in a police report in a chorological order\",\n",
              "  \"I give you 'Laundered' can you put into a 3 sentences that would be found in a police report in a chorological order\",\n",
              "  \"I give you 'Scammed' can you put into a 3 sentences that would be found in a police report in a chorological order\",\n",
              "  \"I give you 'Swindled' can you put into a 3 sentences that would be found in a police report in a chorological order\",\n",
              "  \"I give you 'Falsified' can you put into a 3 sentences that would be found in a police report in a chorological order\",\n",
              "  \"I give you 'Concealed' can you put into a 3 sentences that would be found in a police report in a chorological order\",\n",
              "  \"I give you 'Misappropriated' can you put into a 3 sentences that would be found in a police report in a chorological order\",\n",
              "  \"I give you 'Extorted' can you put into a 3 sentences that would be found in a police report in a chorological order\",\n",
              "  \"I give you 'Manipulated' can you put into a 3 sentences that would be found in a police report in a chorological order\",\n",
              "  \"I give you 'Bribed' can you put into a 3 sentences that would be found in a police report in a chorological order\",\n",
              "  \"I give you 'Racketeered' can you put into a 3 sentences that would be found in a police report in a chorological order\",\n",
              "  \"I give you 'Evaded' can you put into a 3 sentences that would be found in a police report in a chorological order\",\n",
              "  \"I give you 'Cheated' can you put into a 3 sentences that would be found in a police report in a chorological order\",\n",
              "  \"I give you 'Forged' can you put into a 3 sentences that would be found in a police report in a chorological order\",\n",
              "  \"I give you 'Misused' can you put into a 3 sentences that would be found in a police report in a chorological order\"],\n",
              " 'Cybercrimes': [\"I give you 'Hacked' can you put into a 3 sentences that would be found in a police report in a chorological order\",\n",
              "  \"I give you 'Phished' can you put into a 3 sentences that would be found in a police report in a chorological order\",\n",
              "  \"I give you 'Stole data' can you put into a 3 sentences that would be found in a police report in a chorological order\",\n",
              "  \"I give you 'Cyberbullied' can you put into a 3 sentences that would be found in a police report in a chorological order\",\n",
              "  \"I give you 'Spoofed' can you put into a 3 sentences that would be found in a police report in a chorological order\",\n",
              "  \"I give you 'Breached' can you put into a 3 sentences that would be found in a police report in a chorological order\",\n",
              "  \"I give you 'Doxxed' can you put into a 3 sentences that would be found in a police report in a chorological order\",\n",
              "  \"I give you 'Distributed malware' can you put into a 3 sentences that would be found in a police report in a chorological order\",\n",
              "  \"I give you 'Hijacked accounts' can you put into a 3 sentences that would be found in a police report in a chorological order\",\n",
              "  \"I give you 'Ransomware attack' can you put into a 3 sentences that would be found in a police report in a chorological order\",\n",
              "  \"I give you 'Cyberstalking' can you put into a 3 sentences that would be found in a police report in a chorological order\",\n",
              "  \"I give you 'Distributed denial-of-service (DDoS) attack' can you put into a 3 sentences that would be found in a police report in a chorological order\",\n",
              "  \"I give you 'Identity theft' can you put into a 3 sentences that would be found in a police report in a chorological order\",\n",
              "  \"I give you 'Cyber fraud' can you put into a 3 sentences that would be found in a police report in a chorological order\",\n",
              "  \"I give you 'Password cracking' can you put into a 3 sentences that would be found in a police report in a chorological order\"],\n",
              " 'Drug_Crimes': [\"I give you 'Possessed' can you put into a 3 sentences that would be found in a police report in a chorological order\",\n",
              "  \"I give you 'Trafficked' can you put into a 3 sentences that would be found in a police report in a chorological order\",\n",
              "  \"I give you 'Manufactured' can you put into a 3 sentences that would be found in a police report in a chorological order\",\n",
              "  \"I give you 'Smuggled' can you put into a 3 sentences that would be found in a police report in a chorological order\",\n",
              "  \"I give you 'Sold' can you put into a 3 sentences that would be found in a police report in a chorological order\",\n",
              "  \"I give you 'Cultivated' can you put into a 3 sentences that would be found in a police report in a chorological order\",\n",
              "  \"I give you 'Distributed' can you put into a 3 sentences that would be found in a police report in a chorological order\",\n",
              "  \"I give you 'Synthesized' can you put into a 3 sentences that would be found in a police report in a chorological order\",\n",
              "  \"I give you 'Abused' can you put into a 3 sentences that would be found in a police report in a chorological order\",\n",
              "  \"I give you 'Peddled' can you put into a 3 sentences that would be found in a police report in a chorological order\",\n",
              "  \"I give you 'Dealt' can you put into a 3 sentences that would be found in a police report in a chorological order\",\n",
              "  \"I give you 'Transported' can you put into a 3 sentences that would be found in a police report in a chorological order\",\n",
              "  \"I give you 'Prescribed illegally' can you put into a 3 sentences that would be found in a police report in a chorological order\",\n",
              "  \"I give you 'Falsified prescriptions' can you put into a 3 sentences that would be found in a police report in a chorological order\",\n",
              "  \"I give you 'Produced illicit substances' can you put into a 3 sentences that would be found in a police report in a chorological order\"],\n",
              " 'White-Collar_Crimes': [\"I give you 'Committed fraud' can you put into a 3 sentences that would be found in a police report in a chorological order\",\n",
              "  \"I give you 'Engaged in insider trading' can you put into a 3 sentences that would be found in a police report in a chorological order\",\n",
              "  \"I give you 'Embezzled funds' can you put into a 3 sentences that would be found in a police report in a chorological order\",\n",
              "  \"I give you 'Bribed officials' can you put into a 3 sentences that would be found in a police report in a chorological order\",\n",
              "  \"I give you 'Manipulated financial records' can you put into a 3 sentences that would be found in a police report in a chorological order\",\n",
              "  \"I give you 'Conducted money laundering' can you put into a 3 sentences that would be found in a police report in a chorological order\",\n",
              "  \"I give you 'Engaged in corporate espionage' can you put into a 3 sentences that would be found in a police report in a chorological order\",\n",
              "  \"I give you 'Defrauded investors' can you put into a 3 sentences that would be found in a police report in a chorological order\",\n",
              "  \"I give you 'Orchestrated Ponzi schemes' can you put into a 3 sentences that would be found in a police report in a chorological order\",\n",
              "  \"I give you 'Engaged in tax evasion' can you put into a 3 sentences that would be found in a police report in a chorological order\",\n",
              "  \"I give you 'Falsified documents' can you put into a 3 sentences that would be found in a police report in a chorological order\",\n",
              "  \"I give you 'Misused funds' can you put into a 3 sentences that would be found in a police report in a chorological order\",\n",
              "  \"I give you 'Misrepresented financial statements' can you put into a 3 sentences that would be found in a police report in a chorological order\",\n",
              "  \"I give you 'Engaged in kickbacks' can you put into a 3 sentences that would be found in a police report in a chorological order\",\n",
              "  \"I give you 'Violated antitrust laws' can you put into a 3 sentences that would be found in a police report in a chorological order\"],\n",
              " 'Sexual_Crimes': [\"I give you 'Raped' can you put into a 3 sentences that would be found in a police report in a chorological order\",\n",
              "  \"I give you 'Assaulted sexually' can you put into a 3 sentences that would be found in a police report in a chorological order\",\n",
              "  \"I give you 'Harassed' can you put into a 3 sentences that would be found in a police report in a chorological order\",\n",
              "  \"I give you 'Molested' can you put into a 3 sentences that would be found in a police report in a chorological order\",\n",
              "  \"I give you 'Exploited' can you put into a 3 sentences that would be found in a police report in a chorological order\",\n",
              "  \"I give you 'Fondled' can you put into a 3 sentences that would be found in a police report in a chorological order\",\n",
              "  \"I give you 'Groped' can you put into a 3 sentences that would be found in a police report in a chorological order\",\n",
              "  \"I give you 'Exhibited indecent exposure' can you put into a 3 sentences that would be found in a police report in a chorological order\",\n",
              "  \"I give you 'Engaged in non-consensual acts' can you put into a 3 sentences that would be found in a police report in a chorological order\",\n",
              "  \"I give you 'Coerced' can you put into a 3 sentences that would be found in a police report in a chorological order\",\n",
              "  \"I give you 'Victimized' can you put into a 3 sentences that would be found in a police report in a chorological order\",\n",
              "  \"I give you 'Voyeurism' can you put into a 3 sentences that would be found in a police report in a chorological order\",\n",
              "  \"I give you 'Produced child pornography' can you put into a 3 sentences that would be found in a police report in a chorological order\",\n",
              "  \"I give you 'Solicited prostitution' can you put into a 3 sentences that would be found in a police report in a chorological order\",\n",
              "  \"I give you 'Sextortion' can you put into a 3 sentences that would be found in a police report in a chorological order\"],\n",
              " 'Public_Order_Crimes': [\"I give you 'Intoxicated publicly' can you put into a 3 sentences that would be found in a police report in a chorological order\",\n",
              "  \"I give you 'Disturbed the peace' can you put into a 3 sentences that would be found in a police report in a chorological order\",\n",
              "  \"I give you 'Engaged in disorderly conduct' can you put into a 3 sentences that would be found in a police report in a chorological order\",\n",
              "  \"I give you 'Loitered' can you put into a 3 sentences that would be found in a police report in a chorological order\",\n",
              "  \"I give you 'Urinated in public' can you put into a 3 sentences that would be found in a police report in a chorological order\",\n",
              "  \"I give you 'Engaged in public drunkenness' can you put into a 3 sentences that would be found in a police report in a chorological order\",\n",
              "  \"I give you 'Panhandled' can you put into a 3 sentences that would be found in a police report in a chorological order\",\n",
              "  \"I give you 'Engaged in public nudity' can you put into a 3 sentences that would be found in a police report in a chorological order\",\n",
              "  \"I give you 'Engaged in public lewdness' can you put into a 3 sentences that would be found in a police report in a chorological order\",\n",
              "  \"I give you 'Engaged in street racing' can you put into a 3 sentences that would be found in a police report in a chorological order\",\n",
              "  \"I give you 'Created public disturbances' can you put into a 3 sentences that would be found in a police report in a chorological order\",\n",
              "  \"I give you 'Organized illegal gatherings' can you put into a 3 sentences that would be found in a police report in a chorological order\",\n",
              "  \"I give you 'Begged' can you put into a 3 sentences that would be found in a police report in a chorological order\",\n",
              "  \"I give you 'Engaged in public gambling' can you put into a 3 sentences that would be found in a police report in a chorological order\",\n",
              "  \"I give you 'Solicited in public' can you put into a 3 sentences that would be found in a police report in a chorological order\"],\n",
              " 'Traffic_and_Motor_Vehicle_Crimes': [\"I give you 'Speeded' can you put into a 3 sentences that would be found in a police report in a chorological order\",\n",
              "  \"I give you 'Drove under the influence (DUI)' can you put into a 3 sentences that would be found in a police report in a chorological order\",\n",
              "  \"I give you 'Reckless driving' can you put into a 3 sentences that would be found in a police report in a chorological order\",\n",
              "  \"I give you 'Hit and run' can you put into a 3 sentences that would be found in a police report in a chorological order\",\n",
              "  \"I give you 'Drove without a license' can you put into a 3 sentences that would be found in a police report in a chorological order\",\n",
              "  \"I give you 'Texted while driving' can you put into a 3 sentences that would be found in a police report in a chorological order\",\n",
              "  \"I give you 'Street racing' can you put into a 3 sentences that would be found in a police report in a chorological order\",\n",
              "  \"I give you 'Violated traffic laws' can you put into a 3 sentences that would be found in a police report in a chorological order\",\n",
              "  \"I give you 'Failed to yield' can you put into a 3 sentences that would be found in a police report in a chorological order\",\n",
              "  \"I give you 'Ran red lights' can you put into a 3 sentences that would be found in a police report in a chorological order\",\n",
              "  \"I give you 'Distracted driving' can you put into a 3 sentences that would be found in a police report in a chorological order\",\n",
              "  \"I give you 'Improper lane change' can you put into a 3 sentences that would be found in a police report in a chorological order\",\n",
              "  \"I give you 'Driving with expired registration' can you put into a 3 sentences that would be found in a police report in a chorological order\",\n",
              "  \"I give you 'Driving with suspended license' can you put into a 3 sentences that would be found in a police report in a chorological order\",\n",
              "  \"I give you 'Carjacked' can you put into a 3 sentences that would be found in a police report in a chorological order\"]}"
            ]
          },
          "metadata": {},
          "execution_count": 7
        }
      ],
      "source": [
        "def prepare_crime_prompts(verbs_by_crime):\n",
        "    total_prompts = {}\n",
        "    for category_key, values in verbs_by_crime.items():\n",
        "        print(category_key)\n",
        "        prompts = [simple_prompt(x) for x in values]\n",
        "        total_prompts.update({category_key:prompts})\n",
        "    return total_prompts\n",
        "\n",
        "\n",
        "prepare_crime_prompts(verbs_by_crime)"
      ]
    },
    {
      "cell_type": "code",
      "execution_count": null,
      "metadata": {
        "id": "dsAvkvGIQlwO"
      },
      "outputs": [],
      "source": [
        "#TODO interact with open AI, Manually at the beginning\n",
        "\n",
        "# I give you \"Assaulted\" can you put into a 3 sentences that would be found in a police report in a chorological order?\n",
        "\n",
        "# I give you X can you put into a 3 sentences that would be found in a police report in a chorological order?\n",
        "# We will start with 3 sentences that would pick up the context. Larger reports can be exsperimented with in the future.\n"
      ]
    },
    {
      "cell_type": "code",
      "execution_count": 8,
      "metadata": {
        "colab": {
          "base_uri": "https://localhost:8080/"
        },
        "id": "7xCHLlyiQlwO",
        "outputId": "66fcdc70-2710-4929-f065-3900d7ab7413"
      },
      "outputs": [
        {
          "output_type": "stream",
          "name": "stdout",
          "text": [
            "Requirement already satisfied: spacy[transformers] in /usr/local/lib/python3.10/dist-packages (3.5.3)\n",
            "Requirement already satisfied: spacy-legacy<3.1.0,>=3.0.11 in /usr/local/lib/python3.10/dist-packages (from spacy[transformers]) (3.0.12)\n",
            "Requirement already satisfied: spacy-loggers<2.0.0,>=1.0.0 in /usr/local/lib/python3.10/dist-packages (from spacy[transformers]) (1.0.4)\n",
            "Requirement already satisfied: murmurhash<1.1.0,>=0.28.0 in /usr/local/lib/python3.10/dist-packages (from spacy[transformers]) (1.0.9)\n",
            "Requirement already satisfied: cymem<2.1.0,>=2.0.2 in /usr/local/lib/python3.10/dist-packages (from spacy[transformers]) (2.0.7)\n",
            "Requirement already satisfied: preshed<3.1.0,>=3.0.2 in /usr/local/lib/python3.10/dist-packages (from spacy[transformers]) (3.0.8)\n",
            "Requirement already satisfied: thinc<8.2.0,>=8.1.8 in /usr/local/lib/python3.10/dist-packages (from spacy[transformers]) (8.1.10)\n",
            "Requirement already satisfied: wasabi<1.2.0,>=0.9.1 in /usr/local/lib/python3.10/dist-packages (from spacy[transformers]) (1.1.2)\n",
            "Requirement already satisfied: srsly<3.0.0,>=2.4.3 in /usr/local/lib/python3.10/dist-packages (from spacy[transformers]) (2.4.6)\n",
            "Requirement already satisfied: catalogue<2.1.0,>=2.0.6 in /usr/local/lib/python3.10/dist-packages (from spacy[transformers]) (2.0.8)\n",
            "Requirement already satisfied: typer<0.8.0,>=0.3.0 in /usr/local/lib/python3.10/dist-packages (from spacy[transformers]) (0.7.0)\n",
            "Requirement already satisfied: pathy>=0.10.0 in /usr/local/lib/python3.10/dist-packages (from spacy[transformers]) (0.10.2)\n",
            "Requirement already satisfied: smart-open<7.0.0,>=5.2.1 in /usr/local/lib/python3.10/dist-packages (from spacy[transformers]) (6.3.0)\n",
            "Requirement already satisfied: tqdm<5.0.0,>=4.38.0 in /usr/local/lib/python3.10/dist-packages (from spacy[transformers]) (4.65.0)\n",
            "Requirement already satisfied: numpy>=1.15.0 in /usr/local/lib/python3.10/dist-packages (from spacy[transformers]) (1.22.4)\n",
            "Requirement already satisfied: requests<3.0.0,>=2.13.0 in /usr/local/lib/python3.10/dist-packages (from spacy[transformers]) (2.27.1)\n",
            "Requirement already satisfied: pydantic!=1.8,!=1.8.1,<1.11.0,>=1.7.4 in /usr/local/lib/python3.10/dist-packages (from spacy[transformers]) (1.10.9)\n",
            "Requirement already satisfied: jinja2 in /usr/local/lib/python3.10/dist-packages (from spacy[transformers]) (3.1.2)\n",
            "Requirement already satisfied: setuptools in /usr/local/lib/python3.10/dist-packages (from spacy[transformers]) (67.7.2)\n",
            "Requirement already satisfied: packaging>=20.0 in /usr/local/lib/python3.10/dist-packages (from spacy[transformers]) (23.1)\n",
            "Requirement already satisfied: langcodes<4.0.0,>=3.2.0 in /usr/local/lib/python3.10/dist-packages (from spacy[transformers]) (3.3.0)\n",
            "Requirement already satisfied: spacy-transformers<1.3.0,>=1.1.2 in /usr/local/lib/python3.10/dist-packages (from spacy[transformers]) (1.2.5)\n",
            "Requirement already satisfied: typing-extensions>=4.2.0 in /usr/local/lib/python3.10/dist-packages (from pydantic!=1.8,!=1.8.1,<1.11.0,>=1.7.4->spacy[transformers]) (4.6.3)\n",
            "Requirement already satisfied: urllib3<1.27,>=1.21.1 in /usr/local/lib/python3.10/dist-packages (from requests<3.0.0,>=2.13.0->spacy[transformers]) (1.26.16)\n",
            "Requirement already satisfied: certifi>=2017.4.17 in /usr/local/lib/python3.10/dist-packages (from requests<3.0.0,>=2.13.0->spacy[transformers]) (2023.5.7)\n",
            "Requirement already satisfied: charset-normalizer~=2.0.0 in /usr/local/lib/python3.10/dist-packages (from requests<3.0.0,>=2.13.0->spacy[transformers]) (2.0.12)\n",
            "Requirement already satisfied: idna<4,>=2.5 in /usr/local/lib/python3.10/dist-packages (from requests<3.0.0,>=2.13.0->spacy[transformers]) (3.4)\n",
            "Requirement already satisfied: transformers<4.31.0,>=3.4.0 in /usr/local/lib/python3.10/dist-packages (from spacy-transformers<1.3.0,>=1.1.2->spacy[transformers]) (4.30.2)\n",
            "Requirement already satisfied: torch>=1.8.0 in /usr/local/lib/python3.10/dist-packages (from spacy-transformers<1.3.0,>=1.1.2->spacy[transformers]) (2.0.1+cu118)\n",
            "Requirement already satisfied: spacy-alignments<1.0.0,>=0.7.2 in /usr/local/lib/python3.10/dist-packages (from spacy-transformers<1.3.0,>=1.1.2->spacy[transformers]) (0.9.0)\n",
            "Requirement already satisfied: blis<0.8.0,>=0.7.8 in /usr/local/lib/python3.10/dist-packages (from thinc<8.2.0,>=8.1.8->spacy[transformers]) (0.7.9)\n",
            "Requirement already satisfied: confection<1.0.0,>=0.0.1 in /usr/local/lib/python3.10/dist-packages (from thinc<8.2.0,>=8.1.8->spacy[transformers]) (0.0.4)\n",
            "Requirement already satisfied: click<9.0.0,>=7.1.1 in /usr/local/lib/python3.10/dist-packages (from typer<0.8.0,>=0.3.0->spacy[transformers]) (8.1.3)\n",
            "Requirement already satisfied: MarkupSafe>=2.0 in /usr/local/lib/python3.10/dist-packages (from jinja2->spacy[transformers]) (2.1.3)\n",
            "Requirement already satisfied: filelock in /usr/local/lib/python3.10/dist-packages (from torch>=1.8.0->spacy-transformers<1.3.0,>=1.1.2->spacy[transformers]) (3.12.2)\n",
            "Requirement already satisfied: sympy in /usr/local/lib/python3.10/dist-packages (from torch>=1.8.0->spacy-transformers<1.3.0,>=1.1.2->spacy[transformers]) (1.11.1)\n",
            "Requirement already satisfied: networkx in /usr/local/lib/python3.10/dist-packages (from torch>=1.8.0->spacy-transformers<1.3.0,>=1.1.2->spacy[transformers]) (3.1)\n",
            "Requirement already satisfied: triton==2.0.0 in /usr/local/lib/python3.10/dist-packages (from torch>=1.8.0->spacy-transformers<1.3.0,>=1.1.2->spacy[transformers]) (2.0.0)\n",
            "Requirement already satisfied: cmake in /usr/local/lib/python3.10/dist-packages (from triton==2.0.0->torch>=1.8.0->spacy-transformers<1.3.0,>=1.1.2->spacy[transformers]) (3.25.2)\n",
            "Requirement already satisfied: lit in /usr/local/lib/python3.10/dist-packages (from triton==2.0.0->torch>=1.8.0->spacy-transformers<1.3.0,>=1.1.2->spacy[transformers]) (16.0.6)\n",
            "Requirement already satisfied: huggingface-hub<1.0,>=0.14.1 in /usr/local/lib/python3.10/dist-packages (from transformers<4.31.0,>=3.4.0->spacy-transformers<1.3.0,>=1.1.2->spacy[transformers]) (0.16.4)\n",
            "Requirement already satisfied: pyyaml>=5.1 in /usr/local/lib/python3.10/dist-packages (from transformers<4.31.0,>=3.4.0->spacy-transformers<1.3.0,>=1.1.2->spacy[transformers]) (6.0)\n",
            "Requirement already satisfied: regex!=2019.12.17 in /usr/local/lib/python3.10/dist-packages (from transformers<4.31.0,>=3.4.0->spacy-transformers<1.3.0,>=1.1.2->spacy[transformers]) (2022.10.31)\n",
            "Requirement already satisfied: tokenizers!=0.11.3,<0.14,>=0.11.1 in /usr/local/lib/python3.10/dist-packages (from transformers<4.31.0,>=3.4.0->spacy-transformers<1.3.0,>=1.1.2->spacy[transformers]) (0.13.3)\n",
            "Requirement already satisfied: safetensors>=0.3.1 in /usr/local/lib/python3.10/dist-packages (from transformers<4.31.0,>=3.4.0->spacy-transformers<1.3.0,>=1.1.2->spacy[transformers]) (0.3.1)\n",
            "Requirement already satisfied: fsspec in /usr/local/lib/python3.10/dist-packages (from huggingface-hub<1.0,>=0.14.1->transformers<4.31.0,>=3.4.0->spacy-transformers<1.3.0,>=1.1.2->spacy[transformers]) (2023.6.0)\n",
            "Requirement already satisfied: mpmath>=0.19 in /usr/local/lib/python3.10/dist-packages (from sympy->torch>=1.8.0->spacy-transformers<1.3.0,>=1.1.2->spacy[transformers]) (1.3.0)\n",
            "2023-07-11 00:57:23.892476: I tensorflow/core/platform/cpu_feature_guard.cc:182] This TensorFlow binary is optimized to use available CPU instructions in performance-critical operations.\n",
            "To enable the following instructions: AVX2 AVX512F FMA, in other operations, rebuild TensorFlow with the appropriate compiler flags.\n",
            "2023-07-11 00:57:25.087878: W tensorflow/compiler/tf2tensorrt/utils/py_utils.cc:38] TF-TRT Warning: Could not find TensorRT\n",
            "2023-07-11 00:57:27.202604: I tensorflow/compiler/xla/stream_executor/cuda/cuda_gpu_executor.cc:996] successful NUMA node read from SysFS had negative value (-1), but there must be at least one NUMA node, so returning NUMA node zero. See more at https://github.com/torvalds/linux/blob/v6.0/Documentation/ABI/testing/sysfs-bus-pci#L344-L355\n",
            "2023-07-11 00:57:27.203321: I tensorflow/compiler/xla/stream_executor/cuda/cuda_gpu_executor.cc:996] successful NUMA node read from SysFS had negative value (-1), but there must be at least one NUMA node, so returning NUMA node zero. See more at https://github.com/torvalds/linux/blob/v6.0/Documentation/ABI/testing/sysfs-bus-pci#L344-L355\n",
            "2023-07-11 00:57:27.203597: I tensorflow/compiler/xla/stream_executor/cuda/cuda_gpu_executor.cc:996] successful NUMA node read from SysFS had negative value (-1), but there must be at least one NUMA node, so returning NUMA node zero. See more at https://github.com/torvalds/linux/blob/v6.0/Documentation/ABI/testing/sysfs-bus-pci#L344-L355\n",
            "Collecting en-core-web-sm==3.5.0\n",
            "  Downloading https://github.com/explosion/spacy-models/releases/download/en_core_web_sm-3.5.0/en_core_web_sm-3.5.0-py3-none-any.whl (12.8 MB)\n",
            "\u001b[2K     \u001b[90m━━━━━━━━━━━━━━━━━━━━━━━━━━━━━━━━━━━━━━━━\u001b[0m \u001b[32m12.8/12.8 MB\u001b[0m \u001b[31m40.4 MB/s\u001b[0m eta \u001b[36m0:00:00\u001b[0m\n",
            "\u001b[?25hRequirement already satisfied: spacy<3.6.0,>=3.5.0 in /usr/local/lib/python3.10/dist-packages (from en-core-web-sm==3.5.0) (3.5.3)\n",
            "Requirement already satisfied: spacy-legacy<3.1.0,>=3.0.11 in /usr/local/lib/python3.10/dist-packages (from spacy<3.6.0,>=3.5.0->en-core-web-sm==3.5.0) (3.0.12)\n",
            "Requirement already satisfied: spacy-loggers<2.0.0,>=1.0.0 in /usr/local/lib/python3.10/dist-packages (from spacy<3.6.0,>=3.5.0->en-core-web-sm==3.5.0) (1.0.4)\n",
            "Requirement already satisfied: murmurhash<1.1.0,>=0.28.0 in /usr/local/lib/python3.10/dist-packages (from spacy<3.6.0,>=3.5.0->en-core-web-sm==3.5.0) (1.0.9)\n",
            "Requirement already satisfied: cymem<2.1.0,>=2.0.2 in /usr/local/lib/python3.10/dist-packages (from spacy<3.6.0,>=3.5.0->en-core-web-sm==3.5.0) (2.0.7)\n",
            "Requirement already satisfied: preshed<3.1.0,>=3.0.2 in /usr/local/lib/python3.10/dist-packages (from spacy<3.6.0,>=3.5.0->en-core-web-sm==3.5.0) (3.0.8)\n",
            "Requirement already satisfied: thinc<8.2.0,>=8.1.8 in /usr/local/lib/python3.10/dist-packages (from spacy<3.6.0,>=3.5.0->en-core-web-sm==3.5.0) (8.1.10)\n",
            "Requirement already satisfied: wasabi<1.2.0,>=0.9.1 in /usr/local/lib/python3.10/dist-packages (from spacy<3.6.0,>=3.5.0->en-core-web-sm==3.5.0) (1.1.2)\n",
            "Requirement already satisfied: srsly<3.0.0,>=2.4.3 in /usr/local/lib/python3.10/dist-packages (from spacy<3.6.0,>=3.5.0->en-core-web-sm==3.5.0) (2.4.6)\n",
            "Requirement already satisfied: catalogue<2.1.0,>=2.0.6 in /usr/local/lib/python3.10/dist-packages (from spacy<3.6.0,>=3.5.0->en-core-web-sm==3.5.0) (2.0.8)\n",
            "Requirement already satisfied: typer<0.8.0,>=0.3.0 in /usr/local/lib/python3.10/dist-packages (from spacy<3.6.0,>=3.5.0->en-core-web-sm==3.5.0) (0.7.0)\n",
            "Requirement already satisfied: pathy>=0.10.0 in /usr/local/lib/python3.10/dist-packages (from spacy<3.6.0,>=3.5.0->en-core-web-sm==3.5.0) (0.10.2)\n",
            "Requirement already satisfied: smart-open<7.0.0,>=5.2.1 in /usr/local/lib/python3.10/dist-packages (from spacy<3.6.0,>=3.5.0->en-core-web-sm==3.5.0) (6.3.0)\n",
            "Requirement already satisfied: tqdm<5.0.0,>=4.38.0 in /usr/local/lib/python3.10/dist-packages (from spacy<3.6.0,>=3.5.0->en-core-web-sm==3.5.0) (4.65.0)\n",
            "Requirement already satisfied: numpy>=1.15.0 in /usr/local/lib/python3.10/dist-packages (from spacy<3.6.0,>=3.5.0->en-core-web-sm==3.5.0) (1.22.4)\n",
            "Requirement already satisfied: requests<3.0.0,>=2.13.0 in /usr/local/lib/python3.10/dist-packages (from spacy<3.6.0,>=3.5.0->en-core-web-sm==3.5.0) (2.27.1)\n",
            "Requirement already satisfied: pydantic!=1.8,!=1.8.1,<1.11.0,>=1.7.4 in /usr/local/lib/python3.10/dist-packages (from spacy<3.6.0,>=3.5.0->en-core-web-sm==3.5.0) (1.10.9)\n",
            "Requirement already satisfied: jinja2 in /usr/local/lib/python3.10/dist-packages (from spacy<3.6.0,>=3.5.0->en-core-web-sm==3.5.0) (3.1.2)\n",
            "Requirement already satisfied: setuptools in /usr/local/lib/python3.10/dist-packages (from spacy<3.6.0,>=3.5.0->en-core-web-sm==3.5.0) (67.7.2)\n",
            "Requirement already satisfied: packaging>=20.0 in /usr/local/lib/python3.10/dist-packages (from spacy<3.6.0,>=3.5.0->en-core-web-sm==3.5.0) (23.1)\n",
            "Requirement already satisfied: langcodes<4.0.0,>=3.2.0 in /usr/local/lib/python3.10/dist-packages (from spacy<3.6.0,>=3.5.0->en-core-web-sm==3.5.0) (3.3.0)\n",
            "Requirement already satisfied: typing-extensions>=4.2.0 in /usr/local/lib/python3.10/dist-packages (from pydantic!=1.8,!=1.8.1,<1.11.0,>=1.7.4->spacy<3.6.0,>=3.5.0->en-core-web-sm==3.5.0) (4.6.3)\n",
            "Requirement already satisfied: urllib3<1.27,>=1.21.1 in /usr/local/lib/python3.10/dist-packages (from requests<3.0.0,>=2.13.0->spacy<3.6.0,>=3.5.0->en-core-web-sm==3.5.0) (1.26.16)\n",
            "Requirement already satisfied: certifi>=2017.4.17 in /usr/local/lib/python3.10/dist-packages (from requests<3.0.0,>=2.13.0->spacy<3.6.0,>=3.5.0->en-core-web-sm==3.5.0) (2023.5.7)\n",
            "Requirement already satisfied: charset-normalizer~=2.0.0 in /usr/local/lib/python3.10/dist-packages (from requests<3.0.0,>=2.13.0->spacy<3.6.0,>=3.5.0->en-core-web-sm==3.5.0) (2.0.12)\n",
            "Requirement already satisfied: idna<4,>=2.5 in /usr/local/lib/python3.10/dist-packages (from requests<3.0.0,>=2.13.0->spacy<3.6.0,>=3.5.0->en-core-web-sm==3.5.0) (3.4)\n",
            "Requirement already satisfied: blis<0.8.0,>=0.7.8 in /usr/local/lib/python3.10/dist-packages (from thinc<8.2.0,>=8.1.8->spacy<3.6.0,>=3.5.0->en-core-web-sm==3.5.0) (0.7.9)\n",
            "Requirement already satisfied: confection<1.0.0,>=0.0.1 in /usr/local/lib/python3.10/dist-packages (from thinc<8.2.0,>=8.1.8->spacy<3.6.0,>=3.5.0->en-core-web-sm==3.5.0) (0.0.4)\n",
            "Requirement already satisfied: click<9.0.0,>=7.1.1 in /usr/local/lib/python3.10/dist-packages (from typer<0.8.0,>=0.3.0->spacy<3.6.0,>=3.5.0->en-core-web-sm==3.5.0) (8.1.3)\n",
            "Requirement already satisfied: MarkupSafe>=2.0 in /usr/local/lib/python3.10/dist-packages (from jinja2->spacy<3.6.0,>=3.5.0->en-core-web-sm==3.5.0) (2.1.3)\n",
            "\u001b[38;5;2m✔ Download and installation successful\u001b[0m\n",
            "You can now load the package via spacy.load('en_core_web_sm')\n"
          ]
        }
      ],
      "source": [
        "!pip install spacy[transformers]\n",
        "!python -m spacy download en_core_web_sm"
      ]
    },
    {
      "cell_type": "code",
      "execution_count": 9,
      "metadata": {
        "colab": {
          "base_uri": "https://localhost:8080/",
          "height": 70
        },
        "id": "Gtuexwy-QlwO",
        "outputId": "fff9baa7-e555-4c35-abb6-c222ceda57e5"
      },
      "outputs": [
        {
          "output_type": "stream",
          "name": "stdout",
          "text": [
            "['tok2vec', 'tagger', 'parser', 'attribute_ruler', 'lemmatizer', 'ner']\n"
          ]
        },
        {
          "output_type": "display_data",
          "data": {
            "text/plain": [
              "<IPython.core.display.HTML object>"
            ],
            "text/html": [
              "<span class=\"tex2jax_ignore\"><div class=\"entities\" style=\"line-height: 2.5; direction: ltr\">What video sharing service did \n",
              "<mark class=\"entity\" style=\"background: #aa9cfc; padding: 0.45em 0.6em; margin: 0 0.25em; line-height: 1; border-radius: 0.35em;\">\n",
              "    Steve Chen\n",
              "    <span style=\"font-size: 0.8em; font-weight: bold; line-height: 1; border-radius: 0.35em; vertical-align: middle; margin-left: 0.5rem\">PERSON</span>\n",
              "</mark>\n",
              ", \n",
              "<mark class=\"entity\" style=\"background: #aa9cfc; padding: 0.45em 0.6em; margin: 0 0.25em; line-height: 1; border-radius: 0.35em;\">\n",
              "    Chad Hurley\n",
              "    <span style=\"font-size: 0.8em; font-weight: bold; line-height: 1; border-radius: 0.35em; vertical-align: middle; margin-left: 0.5rem\">PERSON</span>\n",
              "</mark>\n",
              ", and \n",
              "<mark class=\"entity\" style=\"background: #aa9cfc; padding: 0.45em 0.6em; margin: 0 0.25em; line-height: 1; border-radius: 0.35em;\">\n",
              "    Jawed Karim\n",
              "    <span style=\"font-size: 0.8em; font-weight: bold; line-height: 1; border-radius: 0.35em; vertical-align: middle; margin-left: 0.5rem\">PERSON</span>\n",
              "</mark>\n",
              " create in \n",
              "<mark class=\"entity\" style=\"background: #bfe1d9; padding: 0.45em 0.6em; margin: 0 0.25em; line-height: 1; border-radius: 0.35em;\">\n",
              "    2005\n",
              "    <span style=\"font-size: 0.8em; font-weight: bold; line-height: 1; border-radius: 0.35em; vertical-align: middle; margin-left: 0.5rem\">DATE</span>\n",
              "</mark>\n",
              "?</div></span>"
            ]
          },
          "metadata": {}
        }
      ],
      "source": [
        "import spacy\n",
        "\n",
        "nlp = spacy.load(\"en_core_web_sm\")\n",
        "print(nlp.pipe_names)\n",
        "\n",
        "text = \"What video sharing service did Steve Chen, Chad Hurley, and Jawed Karim create in 2005?\"\n",
        "doc = nlp(text)\n",
        "from spacy import displacy\n",
        "displacy.render(doc, style=\"ent\", jupyter=True)"
      ]
    },
    {
      "cell_type": "code",
      "execution_count": 10,
      "metadata": {
        "colab": {
          "base_uri": "https://localhost:8080/"
        },
        "id": "fUdAkUI9QlwO",
        "outputId": "834e0bbf-86f2-40ba-a34e-48cc22d94afb"
      },
      "outputs": [
        {
          "output_type": "stream",
          "name": "stdout",
          "text": [
            "Requirement already satisfied: spacy[transformers] in /usr/local/lib/python3.10/dist-packages (3.5.3)\n",
            "Requirement already satisfied: spacy-legacy<3.1.0,>=3.0.11 in /usr/local/lib/python3.10/dist-packages (from spacy[transformers]) (3.0.12)\n",
            "Requirement already satisfied: spacy-loggers<2.0.0,>=1.0.0 in /usr/local/lib/python3.10/dist-packages (from spacy[transformers]) (1.0.4)\n",
            "Requirement already satisfied: murmurhash<1.1.0,>=0.28.0 in /usr/local/lib/python3.10/dist-packages (from spacy[transformers]) (1.0.9)\n",
            "Requirement already satisfied: cymem<2.1.0,>=2.0.2 in /usr/local/lib/python3.10/dist-packages (from spacy[transformers]) (2.0.7)\n",
            "Requirement already satisfied: preshed<3.1.0,>=3.0.2 in /usr/local/lib/python3.10/dist-packages (from spacy[transformers]) (3.0.8)\n",
            "Requirement already satisfied: thinc<8.2.0,>=8.1.8 in /usr/local/lib/python3.10/dist-packages (from spacy[transformers]) (8.1.10)\n",
            "Requirement already satisfied: wasabi<1.2.0,>=0.9.1 in /usr/local/lib/python3.10/dist-packages (from spacy[transformers]) (1.1.2)\n",
            "Requirement already satisfied: srsly<3.0.0,>=2.4.3 in /usr/local/lib/python3.10/dist-packages (from spacy[transformers]) (2.4.6)\n",
            "Requirement already satisfied: catalogue<2.1.0,>=2.0.6 in /usr/local/lib/python3.10/dist-packages (from spacy[transformers]) (2.0.8)\n",
            "Requirement already satisfied: typer<0.8.0,>=0.3.0 in /usr/local/lib/python3.10/dist-packages (from spacy[transformers]) (0.7.0)\n",
            "Requirement already satisfied: pathy>=0.10.0 in /usr/local/lib/python3.10/dist-packages (from spacy[transformers]) (0.10.2)\n",
            "Requirement already satisfied: smart-open<7.0.0,>=5.2.1 in /usr/local/lib/python3.10/dist-packages (from spacy[transformers]) (6.3.0)\n",
            "Requirement already satisfied: tqdm<5.0.0,>=4.38.0 in /usr/local/lib/python3.10/dist-packages (from spacy[transformers]) (4.65.0)\n",
            "Requirement already satisfied: numpy>=1.15.0 in /usr/local/lib/python3.10/dist-packages (from spacy[transformers]) (1.22.4)\n",
            "Requirement already satisfied: requests<3.0.0,>=2.13.0 in /usr/local/lib/python3.10/dist-packages (from spacy[transformers]) (2.27.1)\n",
            "Requirement already satisfied: pydantic!=1.8,!=1.8.1,<1.11.0,>=1.7.4 in /usr/local/lib/python3.10/dist-packages (from spacy[transformers]) (1.10.9)\n",
            "Requirement already satisfied: jinja2 in /usr/local/lib/python3.10/dist-packages (from spacy[transformers]) (3.1.2)\n",
            "Requirement already satisfied: setuptools in /usr/local/lib/python3.10/dist-packages (from spacy[transformers]) (67.7.2)\n",
            "Requirement already satisfied: packaging>=20.0 in /usr/local/lib/python3.10/dist-packages (from spacy[transformers]) (23.1)\n",
            "Requirement already satisfied: langcodes<4.0.0,>=3.2.0 in /usr/local/lib/python3.10/dist-packages (from spacy[transformers]) (3.3.0)\n",
            "Requirement already satisfied: spacy-transformers<1.3.0,>=1.1.2 in /usr/local/lib/python3.10/dist-packages (from spacy[transformers]) (1.2.5)\n",
            "Requirement already satisfied: typing-extensions>=4.2.0 in /usr/local/lib/python3.10/dist-packages (from pydantic!=1.8,!=1.8.1,<1.11.0,>=1.7.4->spacy[transformers]) (4.6.3)\n",
            "Requirement already satisfied: urllib3<1.27,>=1.21.1 in /usr/local/lib/python3.10/dist-packages (from requests<3.0.0,>=2.13.0->spacy[transformers]) (1.26.16)\n",
            "Requirement already satisfied: certifi>=2017.4.17 in /usr/local/lib/python3.10/dist-packages (from requests<3.0.0,>=2.13.0->spacy[transformers]) (2023.5.7)\n",
            "Requirement already satisfied: charset-normalizer~=2.0.0 in /usr/local/lib/python3.10/dist-packages (from requests<3.0.0,>=2.13.0->spacy[transformers]) (2.0.12)\n",
            "Requirement already satisfied: idna<4,>=2.5 in /usr/local/lib/python3.10/dist-packages (from requests<3.0.0,>=2.13.0->spacy[transformers]) (3.4)\n",
            "Requirement already satisfied: transformers<4.31.0,>=3.4.0 in /usr/local/lib/python3.10/dist-packages (from spacy-transformers<1.3.0,>=1.1.2->spacy[transformers]) (4.30.2)\n",
            "Requirement already satisfied: torch>=1.8.0 in /usr/local/lib/python3.10/dist-packages (from spacy-transformers<1.3.0,>=1.1.2->spacy[transformers]) (2.0.1+cu118)\n",
            "Requirement already satisfied: spacy-alignments<1.0.0,>=0.7.2 in /usr/local/lib/python3.10/dist-packages (from spacy-transformers<1.3.0,>=1.1.2->spacy[transformers]) (0.9.0)\n",
            "Requirement already satisfied: blis<0.8.0,>=0.7.8 in /usr/local/lib/python3.10/dist-packages (from thinc<8.2.0,>=8.1.8->spacy[transformers]) (0.7.9)\n",
            "Requirement already satisfied: confection<1.0.0,>=0.0.1 in /usr/local/lib/python3.10/dist-packages (from thinc<8.2.0,>=8.1.8->spacy[transformers]) (0.0.4)\n",
            "Requirement already satisfied: click<9.0.0,>=7.1.1 in /usr/local/lib/python3.10/dist-packages (from typer<0.8.0,>=0.3.0->spacy[transformers]) (8.1.3)\n",
            "Requirement already satisfied: MarkupSafe>=2.0 in /usr/local/lib/python3.10/dist-packages (from jinja2->spacy[transformers]) (2.1.3)\n",
            "Requirement already satisfied: filelock in /usr/local/lib/python3.10/dist-packages (from torch>=1.8.0->spacy-transformers<1.3.0,>=1.1.2->spacy[transformers]) (3.12.2)\n",
            "Requirement already satisfied: sympy in /usr/local/lib/python3.10/dist-packages (from torch>=1.8.0->spacy-transformers<1.3.0,>=1.1.2->spacy[transformers]) (1.11.1)\n",
            "Requirement already satisfied: networkx in /usr/local/lib/python3.10/dist-packages (from torch>=1.8.0->spacy-transformers<1.3.0,>=1.1.2->spacy[transformers]) (3.1)\n",
            "Requirement already satisfied: triton==2.0.0 in /usr/local/lib/python3.10/dist-packages (from torch>=1.8.0->spacy-transformers<1.3.0,>=1.1.2->spacy[transformers]) (2.0.0)\n",
            "Requirement already satisfied: cmake in /usr/local/lib/python3.10/dist-packages (from triton==2.0.0->torch>=1.8.0->spacy-transformers<1.3.0,>=1.1.2->spacy[transformers]) (3.25.2)\n",
            "Requirement already satisfied: lit in /usr/local/lib/python3.10/dist-packages (from triton==2.0.0->torch>=1.8.0->spacy-transformers<1.3.0,>=1.1.2->spacy[transformers]) (16.0.6)\n",
            "Requirement already satisfied: huggingface-hub<1.0,>=0.14.1 in /usr/local/lib/python3.10/dist-packages (from transformers<4.31.0,>=3.4.0->spacy-transformers<1.3.0,>=1.1.2->spacy[transformers]) (0.16.4)\n",
            "Requirement already satisfied: pyyaml>=5.1 in /usr/local/lib/python3.10/dist-packages (from transformers<4.31.0,>=3.4.0->spacy-transformers<1.3.0,>=1.1.2->spacy[transformers]) (6.0)\n",
            "Requirement already satisfied: regex!=2019.12.17 in /usr/local/lib/python3.10/dist-packages (from transformers<4.31.0,>=3.4.0->spacy-transformers<1.3.0,>=1.1.2->spacy[transformers]) (2022.10.31)\n",
            "Requirement already satisfied: tokenizers!=0.11.3,<0.14,>=0.11.1 in /usr/local/lib/python3.10/dist-packages (from transformers<4.31.0,>=3.4.0->spacy-transformers<1.3.0,>=1.1.2->spacy[transformers]) (0.13.3)\n",
            "Requirement already satisfied: safetensors>=0.3.1 in /usr/local/lib/python3.10/dist-packages (from transformers<4.31.0,>=3.4.0->spacy-transformers<1.3.0,>=1.1.2->spacy[transformers]) (0.3.1)\n",
            "Requirement already satisfied: fsspec in /usr/local/lib/python3.10/dist-packages (from huggingface-hub<1.0,>=0.14.1->transformers<4.31.0,>=3.4.0->spacy-transformers<1.3.0,>=1.1.2->spacy[transformers]) (2023.6.0)\n",
            "Requirement already satisfied: mpmath>=0.19 in /usr/local/lib/python3.10/dist-packages (from sympy->torch>=1.8.0->spacy-transformers<1.3.0,>=1.1.2->spacy[transformers]) (1.3.0)\n"
          ]
        }
      ],
      "source": [
        "!pip install spacy[transformers]"
      ]
    },
    {
      "cell_type": "code",
      "execution_count": null,
      "metadata": {
        "id": "4TVhLKdGQlwO"
      },
      "outputs": [],
      "source": [
        "# Tutorial on retraining SpaCy model\n",
        "#  https://newscatcherapi.com/blog/train-custom-named-entity-recognition-ner-model-with-spacy-v3\n",
        "import json\n",
        "\n",
        "with open('Corona2.json', 'r', encoding=\"utf-8\") as f:\n",
        "    data = json.load(f)"
      ]
    },
    {
      "cell_type": "code",
      "execution_count": null,
      "metadata": {
        "id": "XgLLYdgIQlwP"
      },
      "outputs": [],
      "source": [
        "training_data = {'classes' : ['MEDICINE', \"MEDICALCONDITION\", \"PATHOGEN\"], 'annotations' : []}\n",
        "for example in data['examples']:\n",
        "    temp_dict = {}\n",
        "    temp_dict['text'] = example['content']\n",
        "    temp_dict['entities'] = []\n",
        "    for annotation in example['annotations']:\n",
        "        start = annotation['start']\n",
        "        end = annotation['end']\n",
        "        label = annotation['tag_name'].upper()\n",
        "        temp_dict['entities'].append((start, end, label))\n",
        "    training_data['annotations'].append(temp_dict)"
      ]
    },
    {
      "cell_type": "code",
      "execution_count": null,
      "metadata": {
        "colab": {
          "base_uri": "https://localhost:8080/"
        },
        "id": "i7Y-r9UgQlwP",
        "outputId": "e4443787-2409-4bf0-c8b1-2aebaa7d2189"
      },
      "outputs": [
        {
          "data": {
            "text/plain": [
              "{'text': \"While bismuth compounds (Pepto-Bismol) decreased the number of bowel movements in those with travelers' diarrhea, they do not decrease the length of illness.[91] Anti-motility agents like loperamide are also effective at reducing the number of stools but not the duration of disease.[8] These agents should be used only if bloody diarrhea is not present.[92]\\n\\nDiosmectite, a natural aluminomagnesium silicate clay, is effective in alleviating symptoms of acute diarrhea in children,[93] and also has some effects in chronic functional diarrhea, radiation-induced diarrhea, and chemotherapy-induced diarrhea.[45] Another absorbent agent used for the treatment of mild diarrhea is kaopectate.\\n\\nRacecadotril an antisecretory medication may be used to treat diarrhea in children and adults.[86] It has better tolerability than loperamide, as it causes less constipation and flatulence.[94]\",\n",
              " 'entities': [(360, 371, 'MEDICINE'),\n",
              "  (383, 408, 'MEDICINE'),\n",
              "  (104, 112, 'MEDICALCONDITION'),\n",
              "  (679, 689, 'MEDICINE'),\n",
              "  (6, 23, 'MEDICINE'),\n",
              "  (25, 37, 'MEDICINE'),\n",
              "  (461, 470, 'MEDICALCONDITION'),\n",
              "  (577, 589, 'MEDICINE'),\n",
              "  (853, 865, 'MEDICALCONDITION'),\n",
              "  (188, 198, 'MEDICINE'),\n",
              "  (754, 762, 'MEDICALCONDITION'),\n",
              "  (870, 880, 'MEDICALCONDITION'),\n",
              "  (823, 833, 'MEDICINE'),\n",
              "  (852, 853, 'MEDICALCONDITION'),\n",
              "  (461, 469, 'MEDICALCONDITION'),\n",
              "  (535, 543, 'MEDICALCONDITION'),\n",
              "  (692, 704, 'MEDICINE'),\n",
              "  (563, 571, 'MEDICALCONDITION')]}"
            ]
          },
          "execution_count": 7,
          "metadata": {},
          "output_type": "execute_result"
        }
      ],
      "source": [
        "training_data['annotations'][0]"
      ]
    },
    {
      "cell_type": "code",
      "execution_count": 11,
      "metadata": {
        "id": "BmydGm4scC5R"
      },
      "outputs": [],
      "source": [
        "import json\n",
        "with open('spacy_prompt_training_v1_2.json', 'r', encoding=\"utf-8\") as f:\n",
        "    crime_prompt_data = json.load(f)"
      ]
    },
    {
      "cell_type": "code",
      "execution_count": 12,
      "metadata": {
        "id": "rZb2K64McC5S"
      },
      "outputs": [],
      "source": [
        "training_data_crime = {'classes' : verbs_by_crime.keys(), 'annotations' : []}\n",
        "for example in crime_prompt_data['examples']:\n",
        "    temp_dict = {}\n",
        "    temp_dict['text'] = example['text']\n",
        "    temp_dict['entities'] = []\n",
        "    for entity, annotations in example['entities'].items():\n",
        "        # print(entity, annotations)\n",
        "        for annotation in annotations:\n",
        "    #     # start = annotation['start']\n",
        "    #     # end = annotation['end']\n",
        "            entity_annotation = annotation + [entity]\n",
        "            temp_dict['entities'].append(tuple(entity_annotation))\n",
        "            training_data_crime['annotations'].append(temp_dict)\n"
      ]
    },
    {
      "cell_type": "code",
      "execution_count": 13,
      "metadata": {
        "colab": {
          "base_uri": "https://localhost:8080/"
        },
        "id": "stzd0flncC5S",
        "outputId": "46b253a2-58ea-4005-8970-4a15bc9ef7e8"
      },
      "outputs": [
        {
          "output_type": "execute_result",
          "data": {
            "text/plain": [
              "{'text': \"On June 20, 2023, at approximately 9:00 PM, the victim, identified as John Doe, reported being beaten by an unknown assailant outside a local convenience store. The victim stated that the assailant verbally threatened him before attacking him with their fists, leaving him with multiple bruises and lacerations.\\nResponding officers arrived at the scene within minutes of the report and observed the victim displaying visible signs of injury. Officers immediately called for medical assistance and provided initial first aid until paramedics arrived to transport the victim to the hospital for further evaluation and treatment.\\nCrime scene investigators were dispatched to the location and conducted a thorough examination of the area, collecting potential evidence such as surveillance footage, witness statements, and the victim's personal belongings. The investigation into the beating is ongoing, with efforts focused on identifying the assailant and establishing a motive for the attack.\",\n",
              " 'entities': [(104, 108, 'Violent_Crimes'), (889, 893, 'Violent_Crimes')]}"
            ]
          },
          "metadata": {},
          "execution_count": 13
        }
      ],
      "source": [
        "training_data_crime['annotations'][16]"
      ]
    },
    {
      "cell_type": "code",
      "execution_count": null,
      "metadata": {
        "id": "3ioaa2HjQlwP"
      },
      "outputs": [],
      "source": [
        "import spacy\n",
        "from spacy.tokens import DocBin\n",
        "from tqdm import tqdm\n",
        "\n",
        "nlp = spacy.blank(\"en\") # load a new spacy model\n",
        "doc_bin = DocBin() # create a DocBin object"
      ]
    },
    {
      "cell_type": "code",
      "execution_count": null,
      "metadata": {
        "colab": {
          "base_uri": "https://localhost:8080/"
        },
        "id": "EyiCKcu8QlwP",
        "outputId": "f3da0af8-5c89-4e64-b8e6-a2fc787eea79"
      },
      "outputs": [
        {
          "name": "stderr",
          "output_type": "stream",
          "text": [
            "100%|██████████| 31/31 [00:00<00:00, 276.59it/s]\n"
          ]
        },
        {
          "name": "stdout",
          "output_type": "stream",
          "text": [
            "Skipping entity\n",
            "Skipping entity\n",
            "Skipping entity\n",
            "Skipping entity\n",
            "Skipping entity\n",
            "Skipping entity\n",
            "Skipping entity\n",
            "Skipping entity\n",
            "Skipping entity\n",
            "Skipping entity\n",
            "Skipping entity\n",
            "Skipping entity\n",
            "Skipping entity\n",
            "Skipping entity\n",
            "Skipping entity\n",
            "Skipping entity\n"
          ]
        }
      ],
      "source": [
        "\n",
        "from spacy.util import filter_spans\n",
        "\n",
        "for training_example  in tqdm(training_data['annotations']):\n",
        "    text = training_example['text']\n",
        "    labels = training_example['entities']\n",
        "    doc = nlp.make_doc(text)\n",
        "    ents = []\n",
        "    for start, end, label in labels:\n",
        "        span = doc.char_span(start, end, label=label, alignment_mode=\"contract\")\n",
        "        if span is None:\n",
        "            print(\"Skipping entity\")\n",
        "        else:\n",
        "            ents.append(span)\n",
        "    filtered_ents = filter_spans(ents)\n",
        "    doc.ents = filtered_ents\n",
        "    doc_bin.add(doc)\n",
        "\n",
        "doc_bin.to_disk(\"training_data.spacy\") # save the docbin object"
      ]
    },
    {
      "cell_type": "code",
      "execution_count": null,
      "metadata": {
        "id": "hD4HF7m8cC5S"
      },
      "outputs": [],
      "source": [
        "\n",
        "from spacy.util import filter_spans\n",
        "\n",
        "for training_example  in tqdm(training_data_crime['annotations']):\n",
        "    text = training_example['text']\n",
        "    labels = training_example['entities']\n",
        "    doc = nlp.make_doc(text)\n",
        "    ents = []\n",
        "    for start, end, label in labels:\n",
        "        span = doc.char_span(start, end, label=label, alignment_mode=\"contract\")\n",
        "        if span is None:\n",
        "            print(\"Skipping entity\")\n",
        "        else:\n",
        "            ents.append(span)\n",
        "    filtered_ents = filter_spans(ents)\n",
        "    doc.ents = filtered_ents\n",
        "    doc_bin.add(doc)\n",
        "\n",
        "doc_bin.to_disk(\"training_data_crime.spacy\") # save the docbin object"
      ]
    },
    {
      "cell_type": "code",
      "execution_count": null,
      "metadata": {
        "id": "--QcqraAQlwP"
      },
      "outputs": [],
      "source": [
        "# Create a config\n",
        "# https://spacy.io/usage/training#quickstart"
      ]
    },
    {
      "cell_type": "code",
      "execution_count": 14,
      "metadata": {
        "colab": {
          "base_uri": "https://localhost:8080/"
        },
        "id": "sddrC_P1QlwP",
        "outputId": "54aef7b1-55c0-4764-d8f1-f6bf00c29012"
      },
      "outputs": [
        {
          "output_type": "stream",
          "name": "stdout",
          "text": [
            "2023-07-11 00:57:56.343627: W tensorflow/compiler/tf2tensorrt/utils/py_utils.cc:38] TF-TRT Warning: Could not find TensorRT\n",
            "\u001b[38;5;2m✔ Auto-filled config with all values\u001b[0m\n",
            "\u001b[38;5;2m✔ Saved config\u001b[0m\n",
            "config.cfg\n",
            "You can now add your data and train your pipeline:\n",
            "python -m spacy train config.cfg --paths.train ./train.spacy --paths.dev ./dev.spacy\n"
          ]
        }
      ],
      "source": [
        "import locale\n",
        "def getpreferredencoding(do_setlocale = True):\n",
        "    return \"UTF-8\"\n",
        "locale.getpreferredencoding = getpreferredencoding\n",
        "!python -m spacy init fill-config base_config.cfg config.cfg"
      ]
    },
    {
      "cell_type": "code",
      "execution_count": 15,
      "metadata": {
        "colab": {
          "base_uri": "https://localhost:8080/"
        },
        "id": "ZC_wIGSSQlwP",
        "outputId": "bb08ce57-67d0-4e7d-aca2-5ad30161f07e"
      },
      "outputs": [
        {
          "output_type": "stream",
          "name": "stdout",
          "text": [
            "2023-07-11 00:58:19.948261: W tensorflow/compiler/tf2tensorrt/utils/py_utils.cc:38] TF-TRT Warning: Could not find TensorRT\n",
            "\u001b[38;5;4mℹ Saving to output directory: .\u001b[0m\n",
            "\u001b[38;5;4mℹ Using GPU: 0\u001b[0m\n",
            "\u001b[1m\n",
            "=========================== Initializing pipeline ===========================\u001b[0m\n",
            "[2023-07-11 00:58:27,451] [INFO] Set up nlp object from config\n",
            "[2023-07-11 00:58:27,481] [INFO] Pipeline: ['transformer', 'ner']\n",
            "[2023-07-11 00:58:27,487] [INFO] Created vocabulary\n",
            "[2023-07-11 00:58:27,487] [INFO] Finished initializing nlp object\n",
            "Downloading (…)lve/main/config.json: 100% 481/481 [00:00<00:00, 2.46MB/s]\n",
            "Downloading (…)olve/main/vocab.json: 100% 899k/899k [00:00<00:00, 1.02MB/s]\n",
            "Downloading (…)olve/main/merges.txt: 100% 456k/456k [00:00<00:00, 732kB/s]\n",
            "Downloading (…)/main/tokenizer.json: 100% 1.36M/1.36M [00:00<00:00, 3.25MB/s]\n",
            "Downloading model.safetensors: 100% 499M/499M [00:02<00:00, 188MB/s]\n",
            "Some weights of the model checkpoint at roberta-base were not used when initializing RobertaModel: ['lm_head.layer_norm.bias', 'lm_head.layer_norm.weight', 'lm_head.bias', 'lm_head.dense.bias', 'lm_head.dense.weight']\n",
            "- This IS expected if you are initializing RobertaModel from the checkpoint of a model trained on another task or with another architecture (e.g. initializing a BertForSequenceClassification model from a BertForPreTraining model).\n",
            "- This IS NOT expected if you are initializing RobertaModel from the checkpoint of a model that you expect to be exactly identical (initializing a BertForSequenceClassification model from a BertForSequenceClassification model).\n",
            "Some weights of RobertaModel were not initialized from the model checkpoint at roberta-base and are newly initialized: ['roberta.pooler.dense.bias', 'roberta.pooler.dense.weight']\n",
            "You should probably TRAIN this model on a down-stream task to be able to use it for predictions and inference.\n",
            "[2023-07-11 00:59:04,998] [INFO] Initialized pipeline components: ['transformer', 'ner']\n",
            "\u001b[38;5;2m✔ Initialized pipeline\u001b[0m\n",
            "\u001b[1m\n",
            "============================= Training pipeline =============================\u001b[0m\n",
            "\u001b[38;5;4mℹ Pipeline: ['transformer', 'ner']\u001b[0m\n",
            "\u001b[38;5;4mℹ Initial learn rate: 0.0\u001b[0m\n",
            "E    #       LOSS TRANS...  LOSS NER  ENTS_F  ENTS_P  ENTS_R  SCORE \n",
            "---  ------  -------------  --------  ------  ------  ------  ------\n",
            "  0       0       35039.75    677.00    0.00    0.00    0.00    0.00\n",
            "  6     200     3658545.23  66872.62    0.00    0.00    0.00    0.00\n",
            " 12     400      198929.79   7054.66   72.90   74.88   71.03    0.73\n",
            " 18     600       27239.66   1567.93   88.17   87.56   88.79    0.88\n",
            " 24     800         559.16    621.33   91.83   90.48   93.22    0.92\n",
            " 30    1000         437.95    485.59   96.29   98.77   93.93    0.96\n",
            " 36    1200         312.58    355.33   96.77   99.02   94.63    0.97\n",
            " 42    1400         272.95    307.73   95.92   95.80   96.03    0.96\n",
            " 48    1600         262.01    305.05   96.24   96.70   95.79    0.96\n",
            " 54    1800         236.03    275.14   95.80   95.58   96.03    0.96\n",
            " 60    2000         275.09    298.95   96.77   99.26   94.39    0.97\n",
            " 66    2200         289.23    309.42   96.68   98.08   95.33    0.97\n",
            " 72    2400         264.08    280.14   96.68   98.08   95.33    0.97\n",
            " 78    2600         272.62    282.55   97.01   99.51   94.63    0.97\n",
            " 85    2800         262.98    275.56   97.25   99.51   95.09    0.97\n",
            " 91    3000         249.81    263.48   96.45   97.61   95.33    0.96\n",
            " 97    3200         252.67    262.47   96.46   97.38   95.56    0.96\n",
            "103    3400         260.44    268.58   96.41   98.77   94.16    0.96\n",
            "109    3600         268.04    281.76   97.12  100.00   94.39    0.97\n",
            "115    3800         291.81    288.87   96.01   96.46   95.56    0.96\n",
            "121    4000         265.14    272.86   96.42   98.54   94.39    0.96\n",
            "127    4200         269.10    276.57   97.12  100.00   94.39    0.97\n",
            "133    4400         290.32    286.42   97.01   99.51   94.63    0.97\n",
            "\u001b[38;5;2m✔ Saved pipeline to output directory\u001b[0m\n",
            "model-last\n"
          ]
        }
      ],
      "source": [
        "import time\n",
        "# This took a really long time and needs to be solved\n",
        "\n",
        "start = time.time()\n",
        "# !python -m spacy train config.cfg --output ./ --paths.train ./training_data.spacy --paths.dev ./training_data.spacy\n",
        "# !python -m spacy train config.cfg --output ./ --paths.train ./training_data.spacy --paths.dev ./training_data.spacy --gpu-id 0\n",
        "!python -m spacy train config.cfg --output ./ --paths.train ./training_data_crime.spacy --paths.dev ./training_data_crime.spacy --gpu-id 0\n",
        "end = time.time()"
      ]
    },
    {
      "cell_type": "code",
      "execution_count": 16,
      "metadata": {
        "colab": {
          "base_uri": "https://localhost:8080/"
        },
        "id": "qMSDq5nFQlwQ",
        "outputId": "3e3fb4b3-e959-4bad-add9-89ae7d9282ca"
      },
      "outputs": [
        {
          "output_type": "stream",
          "name": "stdout",
          "text": [
            "How long it takes to train a spaCy NER model\n",
            "5363.4175362586975\n"
          ]
        }
      ],
      "source": [
        "print('How long it takes to train a spaCy NER model')\n",
        "print(end - start)\n"
      ]
    },
    {
      "cell_type": "code",
      "execution_count": 17,
      "metadata": {
        "colab": {
          "base_uri": "https://localhost:8080/",
          "height": 213
        },
        "id": "qzU57CpnQlwQ",
        "outputId": "bd5fcf5a-f7eb-498d-ac9e-8e3dc003ff4f"
      },
      "outputs": [
        {
          "output_type": "stream",
          "name": "stderr",
          "text": [
            "/usr/local/lib/python3.10/dist-packages/spacy/displacy/__init__.py:215: UserWarning: [W006] No entities to visualize found in Doc object. If this is surprising to you, make sure the Doc was processed using a model that supports named entity recognition, and check the `doc.ents` property manually if necessary.\n",
            "  warnings.warn(Warnings.W006)\n"
          ]
        },
        {
          "output_type": "display_data",
          "data": {
            "text/plain": [
              "<IPython.core.display.HTML object>"
            ],
            "text/html": [
              "<span class=\"tex2jax_ignore\"><div class=\"entities\" style=\"line-height: 2.5; direction: ltr\">Antiretroviral therapy (ART) is recommended for all HIV-infectedindividuals to reduce the risk of disease progression.</br>ART also is recommended for HIV-infected individuals for the prevention of transmission of HIV.</br>Patients starting ART should be willing and able to commit to treatment and understand thebenefits and risks of therapy and the importance of adherence. Patients may chooseto postpone therapy, and providers, on a case-by-case basis, may elect to defertherapy on the basis of clinical and/or psychosocial factors.</div></span>"
            ]
          },
          "metadata": {}
        }
      ],
      "source": [
        "nlp_ner = spacy.load(\"model-best\")\n",
        "\n",
        "doc = nlp_ner(\"Antiretroviral therapy (ART) is recommended for all HIV-infected\\\n",
        "individuals to reduce the risk of disease progression.\\nART also is recommended \\\n",
        "for HIV-infected individuals for the prevention of transmission of HIV.\\nPatients \\\n",
        "starting ART should be willing and able to commit to treatment and understand the\\\n",
        "benefits and risks of therapy and the importance of adherence. Patients may choose\\\n",
        "to postpone therapy, and providers, on a case-by-case basis, may elect to defer\\\n",
        "therapy on the basis of clinical and/or psychosocial factors.\")\n",
        "\n",
        "colors = {\"PATHOGEN\": \"#F67DE3\", \"MEDICINE\": \"#7DF6D9\", \"MEDICALCONDITION\":\"#FFFFFF\"}\n",
        "options = {\"colors\": colors}\n",
        "\n",
        "spacy.displacy.render(doc, style=\"ent\", options= options, jupyter=True)"
      ]
    },
    {
      "cell_type": "code",
      "execution_count": null,
      "metadata": {
        "id": "Mv8FOOYoQlwQ"
      },
      "outputs": [],
      "source": []
    },
    {
      "cell_type": "code",
      "execution_count": null,
      "metadata": {
        "id": "G5-bHM7sQlwQ"
      },
      "outputs": [],
      "source": [
        "## These are notes around police report rules to expand upon the three sentences\n",
        "intro = '''\n",
        "\n",
        "You are showing me how to fill out a police report. I would like you to generate random information for each section.\n",
        "Example\n",
        "A police reports have sections of a Cover Sheet\n",
        "\n",
        "'''"
      ]
    },
    {
      "cell_type": "code",
      "execution_count": null,
      "metadata": {
        "id": "VZqhVpcqQlwQ"
      },
      "outputs": [],
      "source": [
        "cover_sheet = '''\n",
        "\n",
        "Cover Sheet Information:\n",
        "Offense: Enter the applicable numerical code section and source for the crime being reported.   If multiple crimes are being charged, this field shall contain the most serious offense.\n",
        "Report Number:  Enter the a report number, preceded by the two digit year.\n",
        "In Custody Checkbox:  Check this box if the case involves an in‐custody arrest.\n",
        "Cite & Release Checkbox:  Check this box if the case involves a cite and release.\n",
        "Warrant Request Checkbox.  Check this box if the case is a warrant request.\n",
        "Date/Time of Offense: Generate a day and time at least 10 days before today’s date.\n",
        "Date/Time of Arrest:  Generate a day and time after.\n",
        "Victim #1.  Enter the last name, first name, and middle name of the primary victim.\n",
        "Victim #2.   Enter the last name, first name, and middle name of the secondary victim.  If there is no secondary victim, leave blank.\n",
        "Suspect: Enter the last name, first name, and middle name of the suspect.\n",
        "Age:  Enter the age of the suspect\n",
        "Charge: Enter all charges and source for the crime or crimes being reported.  Enter one charge per line.\n",
        "Submitting Officer.  Enter the first initial, last name, and badge number of the submitting officer.\n",
        "Detail/Patrol:  Enter Patrol number\n",
        "Phone: Enter the ten-digit department telephone number\n",
        "Reviewing Officer:  Enter the first initial, last name, and badge number of the reviewing officer. Date/Time Submitted:  Enter the date and time the report was reviewed by the reviewing officer.\n",
        "\n",
        "'''"
      ]
    },
    {
      "cell_type": "code",
      "execution_count": null,
      "metadata": {
        "id": "00r3_k4QQlwQ"
      },
      "outputs": [],
      "source": [
        "all_reports = '''\n",
        "An effective police report is always:\n",
        "1. Factual.  A police report is an objective accounting of the relevant and observed facts of the\n",
        "case, and any conclusions made by the reporting officer must be supported by articulated\n",
        "and documented facts. Unsubstantiated opinions or conclusions are never to be included\n",
        "in an effective report.\n",
        "\n",
        "2. Accurate: Accuracy is achieved by carefully, precisely, and honestly reporting of all relevant information.\n",
        "\n",
        "3. Clear: A police report speaks for the reporting officer when he or she is not present. There\n",
        "should be no doubt or confusion regarding what happened during an incident or crime,\n",
        "based upon the content of a police report.  Clarity in report writing is achieved by clear and\n",
        "logical organization of information, the judicious use of simple, common, and first person\n",
        "language, and effective writing mechanics.\n",
        "\n",
        "4. Concise.  Reports should be brief but also contain all relevant information necessary for a\n",
        "complete understanding of the crime or incident, without additional explanation.   Brevity\n",
        "should never take precedence over accuracy, completeness, or clarity in report writing.\n",
        "\n",
        "5. Complete. A complete report will contain all the relevant facts, information, and details that\n",
        "the reader will need to have in order to have a comprehensive understanding of the crime\n",
        "or incident described in the report.  The report is complete when it is a complete word\n",
        "picture of the incident, there are no questions left unanswered by the reader, officer actions\n",
        "are explained and justified by the contents of the report, and both supporting and\n",
        "conflicting information is included.\n",
        "\n",
        "6. Timely. No decisions can be made or actions taken regarding an arrest or request for follow\n",
        "up investigation if a report is not submitted in a timely fashion.\n",
        "\n",
        "'''"
      ]
    },
    {
      "cell_type": "code",
      "execution_count": null,
      "metadata": {
        "colab": {
          "base_uri": "https://localhost:8080/",
          "height": 214
        },
        "id": "9tK5xtbtQlwR",
        "outputId": "dea0c479-3138-4208-9a06-748780807c4f"
      },
      "outputs": [
        {
          "data": {
            "application/vnd.google.colaboratory.intrinsic+json": {
              "type": "string"
            },
            "text/plain": [
              "'\\nAn effective police report is always:\\n1. Factual.  A police report is an objective accounting of the relevant and observed facts of the\\ncase, and any conclusions made by the reporting officer must be supported by articulated\\nand documented facts. Unsubstantiated opinions or conclusions are never to be included\\nin an effective report.\\n\\n2. Accurate: Accuracy is achieved by carefully, precisely, and honestly reporting of all relevant information.\\n\\n3. Clear: A police report speaks for the reporting officer when he or she is not present. There\\nshould be no doubt or confusion regarding what happened during an incident or crime,\\nbased upon the content of a police report.  Clarity in report writing is achieved by clear and\\nlogical organization of information, the judicious use of simple, common, and first person\\nlanguage, and effective writing mechanics.\\n\\n4. Concise.  Reports should be brief but also contain all relevant information necessary for a\\ncomplete understanding of the crime or incident, without additional explanation.   Brevity\\nshould never take precedence over accuracy, completeness, or clarity in report writing.\\n\\n5. Complete. A complete report will contain all the relevant facts, information, and details that\\nthe reader will need to have in order to have a comprehensive understanding of the crime\\nor incident described in the report.  The report is complete when it is a complete word\\npicture of the incident, there are no questions left unanswered by the reader, officer actions\\nare explained and justified by the contents of the report, and both supporting and\\nconflicting information is included.\\n\\n6. Timely. No decisions can be made or actions taken regarding an arrest or request for follow\\nup investigation if a report is not submitted in a timely fashion.  \\n\\n'"
            ]
          },
          "execution_count": 25,
          "metadata": {},
          "output_type": "execute_result"
        }
      ],
      "source": [
        "all_reports"
      ]
    },
    {
      "cell_type": "code",
      "execution_count": null,
      "metadata": {
        "id": "kjZ-OyWlQlwR"
      },
      "outputs": [],
      "source": [
        "# Examples of Poorly Organized vs Well Organized\n",
        "example_poor_vs_well_organized = \"\"\"\n",
        "Poorly Organized Example 1:\n",
        "‘’’\n",
        "When we arrived, the husband let us into the house. We were responding to a 9‐1‐1 call. My partner and I had been dispatched to an incident of domestic violence. A woman called for help to keep her husband from beating her.\n",
        "“”\n",
        "Well Organized Example 1:\n",
        "‘’’\n",
        "My partner and I were dispatched to a domestic violence incident after a woman dialed 9‐1‐1. The woman called for help because she was afraid her husband would beat her. When we arrived, the husband let us into the house.\n",
        "‘’’\n",
        "Poorly Organized Example 2:\n",
        "‘’’\n",
        "Marie Parker said her husband refused to answer the door at first when he heard the man on the other side begin to shout. I took her statement approximately 45 minutes after the assault took place. She was sitting in the family room when her husband went to see who was at the door.\n",
        "“”\n",
        "Well Organized Example 2:\n",
        "‘’’\n",
        "I took Marie Parker’s statement approximately 45 minutes after the assault took place. Parker said she was sitting in the family room when her husband went to see who was at the door. Initially her husband refused to answer the door when he heard the man on the other side begin to shout.\n",
        "‘’’\n",
        "\"\"\""
      ]
    },
    {
      "cell_type": "code",
      "execution_count": null,
      "metadata": {
        "id": "YftcEdg7QlwR"
      },
      "outputs": [],
      "source": [
        "# example_poor_vs_well_organized"
      ]
    },
    {
      "cell_type": "code",
      "execution_count": null,
      "metadata": {
        "id": "7F--zx68QlwR"
      },
      "outputs": [],
      "source": [
        "example_abstract_vs_contrete_lang = \"\"\"Reports should be written using simple, common, and concrete language whenever possible.\n",
        "The use of simple language can help keep reports concise and brief, and addresses relevant information quickly and clearly.\n",
        "The following table presents examples of abstract words and phrases, along with more concrete alternatives.\n",
        "Here are examples of the abstract words and the concrete version:\n",
        "\n",
        "Abstract Words Example 1: A number of …\n",
        "Concrete Words Example 1: Seven …\n",
        "Abstract Words Example 2: At a high rate of speed…\n",
        "Concrete Words Example 2: 75 MPH…\n",
        "Abstract Words Example 3: Appeared intoxicated…\n",
        "Concrete Words Example 3: Breath smelled of an alcoholic beverage…\n",
        "Abstract Words Example 4: Hostile behavior…\n",
        "Concrete Words Example 4: Repeatedly struck at officers…\n",
        "Abstract Words Example 5: Physical confrontation…\n",
        "Concrete Words Example 5: Fight…\n",
        "Abstract Words Example 6: Verbal altercation…\n",
        "Concrete Words Example 6: Argument…\n",
        "Abstract Words Example 7: Extensive record…\n",
        "Concrete Words Example 7: Six DUI offenses over two years…\n",
        "Abstract Words Example 8: Employed…\n",
        "Concrete Words Example 8: Used…\n",
        "Abstract Words Example 9: Dispute…\n",
        "Concrete Words Example 9: Argument…\n",
        "Abstract Words Example 10: Inquired…\n",
        "Concrete Words Example 10: Asked…\n",
        "Abstract Words Example 11: In the vicinity of…\n",
        "Concrete Words Example 11: Near…\n",
        "Abstract Words Example 12: Articulated…\n",
        "Concrete Words Example 12: Said, told…\n",
        "Abstract Words Example 13: Employed…\n",
        "Concrete Words Example 13: Said, told…\n",
        "Abstract Words Example 14: Employed…\n",
        "Concrete Words Example 14: Said, told…\n",
        "\"\"\""
      ]
    },
    {
      "cell_type": "code",
      "execution_count": null,
      "metadata": {
        "id": "XPV7Ap6JQlwR"
      },
      "outputs": [],
      "source": [
        "casualty_medical_aid_report_rules = '''\n",
        "While casualty reports are typically nothing more than an incident report, their importance cannot be underestimated.\n",
        "The potential for civil liability from incidents in which an involved party is injured can be quite high,\n",
        "depending upon the circumstances.As a result, the need to carefully document the incident is of an utmost necessity. T\n",
        "he following are elements that need to be addressed in a medical aid or casualty report.\n",
        "\n",
        "1. Describe the scene.  Be as thorough as possible, and include any broken concrete, improper lighting,\n",
        "incorrect signage, or other conditions observed.\n",
        "\n",
        "2. Establish the timeframe of the incident. This information is critical to impeach and rehabilitate the statements of\n",
        "involved parties.\n",
        "3. Take a complete statement from all parties involved.Include statements detailing the victim’s injuries, and be sure to\n",
        "speak with the victim. Be as complete and thorough as possible, and if something doesn’t make sense, get clarification\n",
        "immediately, because it may be the only time the party is contacted.\n",
        "\n",
        "4. Get complete contact information for all parties.Be sure to get alternate telephone numbers and email addresses,\n",
        "whenever possible.\n",
        "\n",
        "5. Canvass the area for possible witnesses.Don’t hesitate to knock on doors, if necessary.\n",
        "\n",
        "6. Describe any injuries or other preexisting medical conditions described by involved parties.\n",
        "A thorough description contemporaneous to the incident will prevent possible statement changes later.\n",
        "\n",
        "7. Take photographs of the scene, and of all involved parties. Once again, a picture is worth a thousand words.\n",
        "\n",
        "8. Determine if there is video of the incident. If there is video, obtain a copy, and book it as evidence.\n",
        "\n",
        "9. Get medical release statements, if necessary.Having access to medical records from the outset can sometimes\n",
        "prevent excessive claims at a later time.\n",
        "\n",
        "10. Document the fire and medical units on scene. If the involved party refuses medical aid, document the reason.\n",
        "\n",
        "11. Obtain the hospital information, if the involved party is transported.  Be sure to include this information in the report.\n",
        "'''\n",
        "\n",
        "theft_burglary_property_crime_report_rules = '''\n",
        "Theft, burglary and other property crime reports should answer questions regarding modus operandi,\n",
        "points of entry, items taken, timeframe, and evidentiary information in order to enable investigators\n",
        "to link specific incidents together.\n",
        "\n",
        "The following are elements that should be addressed by an effective property crime report.\n",
        "\n",
        "1. Describe the scene.  Always describe the scene as it was when the victim discovered the crime,\n",
        "and also how the scene appeared when you arrived.\n",
        "\n",
        "2. Establish what crime occurred. Articulate all elements of the crime in the report.\n",
        "\n",
        "3. Establish the timeframe of the crime. This information is critical to impeach and rehabilitate the statements of\n",
        "suspects and victims.\n",
        "\n",
        "4. Take a complete statement from all parties involved.  Be as complete and thorough as possible, and if something\n",
        "doesn’t make sense, get clarification immediately, because it may be the only time the party is contacted.\n",
        "\n",
        "5. Get complete contact information for all parties.  Be sure to get alternate telephone numbers and email addresses,\n",
        "whenever possible.  Don’t list a stolen, lost or missing telephone as the only contact information in the case.\n",
        "\n",
        "6. Thoroughly describe the property taken, damaged, or missing.  Be as thorough as possible, and\n",
        "follow up with the victim or responsible if necessary to obtain the information.\n",
        "Be sure to include the color, make, model, value, and serial number of items, where available.\n",
        "Also describe any owner applied markings, if applicable. If the item is a cellular telephone, obtain the MEID/IMEI numbers,\n",
        "if possible.\n",
        "\n",
        "7. Canvass the area for witnesses.  A witness can provide suspect information, or help confirm the timeframe.\n",
        "\n",
        "8. Look for cameras, and obtain any video surveillance. Determine if there is any video surveillance in the area,\n",
        "and document it in the report.  Obtain copies, if possible, of the video surveillance for the timeframe of the crime,\n",
        "and book as evidence. If the surveillance is only of entrances and exits, obtain it anyway,\n",
        "\n",
        "9. Describe the point of entry, point of exit, and mode of theft, if possible.  Criminals are creatures of habit,\n",
        "and will typically use the same methods to commit certain types of crimes. 10. Ask the victim if any other people\n",
        "had access or permission to take their property. This can give a starting point, and also may help narrow the timeframe\n",
        "of the crime.\n",
        "\n",
        "11. Photograph the scene, and ask the victim if they have any pictures of their property. A picture is worth a\n",
        "thousand words, every time.\n",
        "\n",
        "12. Look for, obtain, and book all evidence, or perceived evidence.  Look for the ninja rocks around a vehicle\n",
        "burglary with a window smash, or look for the cut cable lock in the bushes. Don’t forget to try to lift latent\n",
        "fingerprints, regardless of the value of the stolen property.\n",
        "All it takes is one print to make a case.\n",
        "\n",
        "13. Talk to the victim about future crime prevention techniques, if necessary. Mention LoJack for computers,\n",
        "engraving, and registration of bicycles, not leaving property unattended…an ounce of prevention is worth a pound of cure.\n",
        "\n",
        "'''\n",
        "\n",
        "sexual_assalt_domestic_battery_crime_report_rules = '''\n",
        "Sexual assaults, domestic violence, battery, and other crimes against persons are some of the most serious\n",
        "crimes to which officers respond. The following are elements that should be addressed by an effective report\n",
        "of a sexual assault, domestic violence, battery, or other crime against persons.\n",
        "\n",
        "1. Describe the scene.  Always describe the scene as it was when the victim discovered the crime, and also\n",
        "how the scene appeared when you arrived. Include distances, locations of parties, lighting conditions…anything\n",
        "that may be considered relevant to the incident.\n",
        "\n",
        "2. Establish the timeframe of the crime.  This information is critical to impeach and rehabilitate the statements\n",
        "of suspects and victims.\n",
        "\n",
        "3. Take a complete statement from all parties involved.  Be as complete and thorough as possible, and if something\n",
        "doesn’t make sense, get clarification immediately, because it may be the only time the party is contacted.\n",
        "\n",
        "4. Get complete contact information for all parties.Be sure to get alternate telephone numbers and email addresses,\n",
        "whenever possible.  Don’t list a stolen, lost or missing telephone as the only contact information in the case.\n",
        "\n",
        "5. Establish the relationships between all parties involved.  Doing so is important, because it may establish\n",
        "specific crimes, motivations, and circumstances involved in the incident.\n",
        "\n",
        "6. Establish what crimes occurred.  Doing so establishes probable cause for arrest.  Always ensure all elements\n",
        "of the crime are clearly articulated.\n",
        "\n",
        "7. Document any injuries. Take photographs, and obtain follow up photographs, if necessary. Be sure to obtain a\n",
        "medical release waiver, wherever possible.  If medical transport is necessary, document the hospital.\n",
        "\n",
        "8. Collect any clothing and bedding involved, and book the items as evidence. Photograph the items before booking.\n",
        "\n",
        "9. Document all alcohol and drug involvement by all parties. Include the amounts, types of drugs, and frequency\n",
        "of ingestion during the incident, and determine past alcohol and drug usage history.  Also determine if any of\n",
        "the parties have used alcohol or drugs together before. Be sure to document the approximate intoxication level\n",
        "of all involved parties, where possible.\n",
        "\n",
        "10. Canvass the area for witnesses.  Check other rooms, or other businesses nearby.\n",
        "\n",
        "11. Determine if there is video surveillance.  If so, obtain copies and book into evidence immediately.\n",
        "If the video surveillance is only of the entrance or exit of a building, obtain a copy anyway, even if the crime\n",
        "isn’t visible on the video.\n",
        "\n",
        "12. Consider a pretext telephone call in all sexual assault cases. Attempt to do so prior to contacting the\n",
        "suspect in the case.   Be sure to contact Rob Gold, Supervising DDA for the DA’s office SACA unit for permission prior\n",
        "to conducting the call.  Gold can be reached at 916‐956-0866 (cellular), 916-874-6543(work) or 916-451-2452(home).\n",
        "\n",
        "13. Offer confidentiality to the victim, and offer an advocate, if applicable.  Never forget that victims of sexual\n",
        "assault and other crimes are eligible for confidentiality, and have the right to an advocate.\n",
        "\n",
        "14. If the crime involves sexual assault, encourage the victim to undergo an evidentiary exam. Be sure to adequately\n",
        "explain the purpose of the exam, and allow the victim to make the decision.\n",
        "\n",
        "15. Record interviews, whenever possible.  Recording interviews is up to the individual officer, but recording interviews\n",
        "ties a victim, suspect or witness to a specific statement, and limits later redactions or retractions of statements.\n",
        "\n",
        "16. Consider the possible defenses that can be used by the suspect. When a possible defense is noted, try to rule out\n",
        "the defense though physical evidence, or follow up questioning.\n",
        "\n",
        "17. Do not jump to conclusions regarding the truthfulness of the victim, suspect or witness. Doing so will bias the\n",
        "initial investigation.  Always assume that the crime happened,unless there is strong evidence that indicates otherwise.\",\n",
        "\n",
        "'''"
      ]
    },
    {
      "cell_type": "markdown",
      "metadata": {
        "id": "_7zmLu8uQlwS"
      },
      "source": [
        "## ALOT OF INFORMATION\n",
        "\n",
        "and rules! As there should be however this is our first version so lets start small then expand. Get a report that can be reproduced in a systematic way.\n",
        "\n",
        "There are themes between them all:\n",
        "\n",
        "1.) Describe the scene: Describe the scene as it was when the victim discovered the crime, and also\n",
        "how the scene appeared when you arrived. Include distances, locations of parties, lighting conditions…anything\n",
        "that may be considered relevant to the incident.\n",
        "\n"
      ]
    },
    {
      "cell_type": "code",
      "execution_count": null,
      "metadata": {
        "id": "aztHhL6JQlwS"
      },
      "outputs": [],
      "source": [
        "# verbs_by_crime"
      ]
    },
    {
      "cell_type": "code",
      "execution_count": null,
      "metadata": {
        "id": "3xz7-SAPQlwS"
      },
      "outputs": [],
      "source": [
        "# casualty_medical_aid_reports_rules\n",
        "\n",
        "location_input = 'Boston'\n",
        "date_and_time_input = 'Saturday, May 20, 2023'"
      ]
    },
    {
      "cell_type": "code",
      "execution_count": null,
      "metadata": {
        "id": "VKcbncODQlwS"
      },
      "outputs": [],
      "source": [
        "intro = ''' You are a police report writer education tool, you need to generate data for each of the bullet points into\n",
        "concise description of the crime scence\n",
        "'''\n",
        "describe_the_scene = '''\n",
        "It is important to always describe the scene as it was:\n",
        "- when the victim discovered the crime\n",
        "- how the scene appeared when you arrived.\n",
        "'''\n",
        "\n",
        "# Provide the address and any specific details about the location, such as the type of building or area.\n",
        "# Date and Time: Note the date and time when the crime scene was discovered or reported.\n",
        "\n",
        "Narrative_Text = f'''\n",
        "For example purposes and generate a believeable crime location in {location_input} and {date_and_time_input}\n",
        "according to these points:\n",
        "- List the full address. Example {location_input} 123 Main St, Boston on the Southwest corner\n",
        "- Please describe the location\n",
        "- Provide the address and any specific details about the location\n",
        "- Type of building or area for a location\n",
        "- Provide when the crime occured\n",
        "- Provide when the police was call\n",
        "- When police arrived to the scene\n",
        "\n",
        "Please summarize in a narrative text with chronological order\n",
        "\n",
        "'''\n",
        "\n",
        "\n",
        "\n",
        "# Initial Observations: Describe the overall appearance of the crime scene, including any signs of forced entry, disturbance, or unusual conditions.\n",
        "# Physical Evidence: Identify and document any physical evidence present at the scene, such as weapons, fingerprints, footprints, bloodstains, or any other relevant items.\n",
        "# Body Position and Condition: If there is a victim, describe their position, injuries, or any visible signs of trauma.\n",
        "# Surroundings: Note the immediate surroundings of the crime scene, including nearby objects, furniture, or any other relevant details.\n",
        "# Points of Entry or Exit: Document any possible entry or exit points that might be related to the crime.\n",
        "# Environmental Factors: Take note of lighting conditions, temperature, weather conditions, or any other environmental factors that may be relevant to the investigation.\n",
        "# Witnesses: Record the names and contact information of any witnesses present at the scene.\n",
        "# Law Enforcement Actions: Describe any actions taken by law enforcement officers, such as evidence collection, interviews, or securing the area.\n",
        "\n"
      ]
    },
    {
      "cell_type": "code",
      "execution_count": null,
      "metadata": {
        "colab": {
          "base_uri": "https://localhost:8080/",
          "height": 178
        },
        "id": "AxVtzYRSQlwS",
        "outputId": "b8f57c8d-82e8-44e4-ed55-a5e9d708101c"
      },
      "outputs": [
        {
          "data": {
            "application/vnd.google.colaboratory.intrinsic+json": {
              "type": "string"
            },
            "text/plain": [
              "' You are a police report writer education tool, you need to generate data for each of the bullet points into\\nconcise description of the crime scence\\n\\nIt is important to always describe the scene as it was:\\n- when the victim discovered the crime\\n- how the scene appeared when you arrived.\\xa0\\n\\nFor example purposes and generate a believeable crime location in Boston and Saturday, May 20, 2023\\naccording to these points:\\n- List the full address. Example Boston 123 Main St, Boston on the Southwest corner \\n- Please describe the location\\n- Provide the address and any specific details about the location\\n- Type of building or area for a location\\n- Provide when the crime occured \\n- Provide when the police was call\\n- When police arrived to the scene\\n\\nPlease summarize in a narrative text with chronological order\\n\\n'"
            ]
          },
          "execution_count": 35,
          "metadata": {},
          "output_type": "execute_result"
        }
      ],
      "source": [
        "prompt = intro + describe_the_scene + Narrative_Text\n",
        "prompt"
      ]
    },
    {
      "cell_type": "code",
      "execution_count": null,
      "metadata": {
        "id": "qjSuztbyd1jx"
      },
      "outputs": [],
      "source": []
    },
    {
      "cell_type": "code",
      "execution_count": null,
      "metadata": {
        "colab": {
          "base_uri": "https://localhost:8080/",
          "height": 169
        },
        "id": "ZlY-Zy4LQlwS",
        "outputId": "2730dbe6-43b4-4e63-fb0e-8159b3332866"
      },
      "outputs": [
        {
          "ename": "NameError",
          "evalue": "ignored",
          "output_type": "error",
          "traceback": [
            "\u001b[0;31m---------------------------------------------------------------------------\u001b[0m",
            "\u001b[0;31mNameError\u001b[0m                                 Traceback (most recent call last)",
            "\u001b[0;32m<ipython-input-32-3093cc981a1b>\u001b[0m in \u001b[0;36m<cell line: 1>\u001b[0;34m()\u001b[0m\n\u001b[0;32m----> 1\u001b[0;31m \u001b[0mlocation\u001b[0m\u001b[0;34m\u001b[0m\u001b[0;34m\u001b[0m\u001b[0m\n\u001b[0m",
            "\u001b[0;31mNameError\u001b[0m: name 'location' is not defined"
          ]
        }
      ],
      "source": [
        "location"
      ]
    },
    {
      "cell_type": "code",
      "execution_count": null,
      "metadata": {
        "colab": {
          "base_uri": "https://localhost:8080/",
          "height": 258
        },
        "id": "LgnTpg7pQlwS",
        "outputId": "db0ad278-53f4-465a-f5b0-aa7bf27cae73"
      },
      "outputs": [
        {
          "ename": "NameError",
          "evalue": "ignored",
          "output_type": "error",
          "traceback": [
            "\u001b[0;31m---------------------------------------------------------------------------\u001b[0m",
            "\u001b[0;31mNameError\u001b[0m                                 Traceback (most recent call last)",
            "\u001b[0;32m<ipython-input-36-414ed70efde0>\u001b[0m in \u001b[0;36m<cell line: 1>\u001b[0;34m()\u001b[0m\n\u001b[1;32m      1\u001b[0m narrative_start = f'''\n\u001b[0;32m----> 2\u001b[0;31m \u001b[0mI\u001b[0m\u001b[0;34m,\u001b[0m \u001b[0;34m{\u001b[0m\u001b[0mname\u001b[0m\u001b[0;34m}\u001b[0m\u001b[0;34m,\u001b[0m \u001b[0mon\u001b[0m \u001b[0;34m{\u001b[0m\u001b[0mdate_and_time_input\u001b[0m\u001b[0;34m}\u001b[0m \u001b[0mreceived\u001b[0m \u001b[0ma\u001b[0m \u001b[0mcall\u001b[0m \u001b[0mto\u001b[0m \u001b[0;34m{\u001b[0m\u001b[0mlocation_input\u001b[0m\u001b[0;34m}\u001b[0m \u001b[0mreference\u001b[0m \u001b[0mto\u001b[0m \u001b[0;34m(\u001b[0m\u001b[0mthe\u001b[0m \u001b[0mcrime\u001b[0m\u001b[0;34m)\u001b[0m\u001b[0;34m.\u001b[0m\u001b[0;34m\u001b[0m\u001b[0;34m\u001b[0m\u001b[0m\n\u001b[0m\u001b[1;32m      3\u001b[0m \u001b[0mMy\u001b[0m \u001b[0minvestigation\u001b[0m \u001b[0mrevealed\u001b[0m \u001b[0mthe\u001b[0m \u001b[0mfollowing\u001b[0m \u001b[0minformation\u001b[0m\u001b[0;34m.\u001b[0m\u001b[0;34m\u001b[0m\u001b[0;34m\u001b[0m\u001b[0m\n\u001b[1;32m      4\u001b[0m \u001b[0;34m\u001b[0m\u001b[0m\n\u001b[1;32m      5\u001b[0m '''\n",
            "\u001b[0;31mNameError\u001b[0m: name 'name' is not defined"
          ]
        }
      ],
      "source": [
        "narrative_start = f'''\n",
        "I, {name}, on {date_and_time_input} received a call to {location_input} reference to (the crime).\n",
        "My investigation revealed the following information.\n",
        "\n",
        "'''"
      ]
    },
    {
      "cell_type": "code",
      "execution_count": null,
      "metadata": {
        "colab": {
          "base_uri": "https://localhost:8080/",
          "height": 169
        },
        "id": "mROdpPEaQlwX",
        "outputId": "743d9a18-f6a7-43c4-ea2c-5edc1d5e5738"
      },
      "outputs": [
        {
          "ename": "NameError",
          "evalue": "ignored",
          "output_type": "error",
          "traceback": [
            "\u001b[0;31m---------------------------------------------------------------------------\u001b[0m",
            "\u001b[0;31mNameError\u001b[0m                                 Traceback (most recent call last)",
            "\u001b[0;32m<ipython-input-34-4bbc5f285c99>\u001b[0m in \u001b[0;36m<cell line: 1>\u001b[0;34m()\u001b[0m\n\u001b[0;32m----> 1\u001b[0;31m \u001b[0mdate_and_time\u001b[0m\u001b[0;34m\u001b[0m\u001b[0;34m\u001b[0m\u001b[0m\n\u001b[0m",
            "\u001b[0;31mNameError\u001b[0m: name 'date_and_time' is not defined"
          ]
        }
      ],
      "source": [
        "date_and_time"
      ]
    },
    {
      "cell_type": "code",
      "execution_count": null,
      "metadata": {
        "id": "31N9iUlzQlwX",
        "outputId": "f646757a-11b3-4b62-dac9-342ccbd3efed"
      },
      "outputs": [
        {
          "data": {
            "text/plain": [
              "'\\nDescribe the scene.\\xa0\\xa0Always describe the scene as it was when the victim discovered the crime, and also \\nhow the scene appeared when you arrived.\\xa0Include distances, locations of parties, lighting conditions…anything \\nthat may be considered relevant to the incident. \\n\\n'"
            ]
          },
          "execution_count": 46,
          "metadata": {},
          "output_type": "execute_result"
        }
      ],
      "source": [
        "describe_the_scene +"
      ]
    },
    {
      "cell_type": "code",
      "execution_count": null,
      "metadata": {
        "colab": {
          "base_uri": "https://localhost:8080/",
          "height": 214
        },
        "id": "MY7LAeIIQlwX",
        "outputId": "4761000f-1dbe-4d3a-ed09-bbc4cfeeb5c0"
      },
      "outputs": [
        {
          "data": {
            "application/vnd.google.colaboratory.intrinsic+json": {
              "type": "string"
            },
            "text/plain": [
              "'\\n\\n1. Describe the scene.\\xa0\\xa0Always describe the scene as it was when the victim discovered the crime, and also \\nhow the scene appeared when you arrived.\\xa0Include distances, locations of parties, lighting conditions…anything \\nthat may be considered relevant to the incident. \\n\\n\\n2. Establish the timeframe of the crime.\\xa0\\xa0This information is critical to impeach and rehabilitate the statements\\nof suspects and victims. \\n\\n3. Take a complete statement from all parties involved.\\xa0\\xa0Be as complete and thorough as possible, and if something\\ndoesn’t make sense, get clarification immediately, because it may be the only time the party is contacted.\\n\\n4. Get complete contact information for all parties.Be sure to get alternate telephone numbers and email addresses, \\nwhenever possible.\\xa0\\xa0Don’t list a stolen, lost or missing telephone as the only contact information in the case. \\n\\n5. Establish the relationships between all parties involved.\\xa0\\xa0Doing so is important, because it may establish \\nspecific crimes, motivations, and circumstances involved in the incident.\\xa0\\xa0\\xa0 \\n\\n6. Establish what crimes occurred.\\xa0\\xa0Doing so establishes probable cause for arrest.\\xa0\\xa0Always ensure all elements \\nof the crime are clearly articulated. \\n\\n7. Document any injuries.\\xa0Take photographs, and obtain follow up photographs, if necessary.\\xa0Be sure to obtain a \\nmedical release waiver, wherever possible.\\xa0\\xa0If medical transport is necessary, document the hospital. \\n\\n8. Collect any clothing and bedding involved, and book the items as evidence. Photograph the items before booking. \\n\\n9. Document all alcohol and drug involvement by all parties.\\xa0Include the amounts, types of drugs, and frequency \\nof ingestion during the incident, and determine past alcohol and drug usage history.\\xa0\\xa0Also determine if any of \\nthe parties have used alcohol or drugs together before.\\xa0Be sure to document the approximate intoxication level\\nof all involved parties, where possible. \\n\\n10. Canvass the area for witnesses.\\xa0\\xa0Check other rooms, or other businesses nearby.\\n\\n11. Determine if there is video surveillance.\\xa0\\xa0If so, obtain copies and book into evidence immediately.\\xa0\\xa0\\nIf the video surveillance is only of the entrance or exit of a building, obtain a copy anyway, even if the crime \\nisn’t visible on the video.\\xa0\\xa0 \\n\\n12. Consider a pretext telephone call in all sexual assault cases.\\xa0Attempt to do so prior to contacting the \\nsuspect in the case.\\xa0\\xa0\\xa0Be sure to contact Rob Gold, Supervising DDA for the DA’s office SACA unit for permission prior\\nto conducting the call.\\xa0\\xa0Gold can be reached at 916‐956-0866 (cellular), 916-874-6543(work) or 916-451-2452(home). \\n\\n13. Offer confidentiality to the victim, and offer an advocate, if applicable.\\xa0\\xa0Never forget that victims of sexual \\nassault and other crimes are eligible for confidentiality, and have the right to an advocate. \\n\\n14. If the crime involves sexual assault, encourage the victim to undergo an evidentiary exam.\\xa0Be sure to adequately\\nexplain the purpose of the exam, and allow the victim to make the decision. \\n\\n15. Record interviews, whenever possible.\\xa0\\xa0Recording interviews is up to the individual officer, but recording interviews\\nties a victim, suspect or witness to a specific statement, and limits later redactions or retractions of statements.\\n\\n16. Consider the possible defenses that can be used by the suspect. When a possible defense is noted, try to rule out \\nthe defense though physical evidence, or follow up questioning. \\n\\n17. Do not jump to conclusions regarding the truthfulness of the victim, suspect or witness.\\xa0Doing so will bias the \\ninitial investigation.\\xa0\\xa0Always assume that the crime happened,unless there is strong evidence that indicates otherwise.\",\\n\\n'"
            ]
          },
          "execution_count": 40,
          "metadata": {},
          "output_type": "execute_result"
        }
      ],
      "source": [
        "'''\n",
        "\n",
        "1. Describe the scene.  Always describe the scene as it was when the victim discovered the crime, and also\n",
        "how the scene appeared when you arrived. Include distances, locations of parties, lighting conditions…anything\n",
        "that may be considered relevant to the incident.\n",
        "\n",
        "\n",
        "2. Establish the timeframe of the crime.  This information is critical to impeach and rehabilitate the statements\n",
        "of suspects and victims.\n",
        "\n",
        "3. Take a complete statement from all parties involved.  Be as complete and thorough as possible, and if something\n",
        "doesn’t make sense, get clarification immediately, because it may be the only time the party is contacted.\n",
        "\n",
        "4. Get complete contact information for all parties.Be sure to get alternate telephone numbers and email addresses,\n",
        "whenever possible.  Don’t list a stolen, lost or missing telephone as the only contact information in the case.\n",
        "\n",
        "5. Establish the relationships between all parties involved.  Doing so is important, because it may establish\n",
        "specific crimes, motivations, and circumstances involved in the incident.\n",
        "\n",
        "6. Establish what crimes occurred.  Doing so establishes probable cause for arrest.  Always ensure all elements\n",
        "of the crime are clearly articulated.\n",
        "\n",
        "7. Document any injuries. Take photographs, and obtain follow up photographs, if necessary. Be sure to obtain a\n",
        "medical release waiver, wherever possible.  If medical transport is necessary, document the hospital.\n",
        "\n",
        "8. Collect any clothing and bedding involved, and book the items as evidence. Photograph the items before booking.\n",
        "\n",
        "9. Document all alcohol and drug involvement by all parties. Include the amounts, types of drugs, and frequency\n",
        "of ingestion during the incident, and determine past alcohol and drug usage history.  Also determine if any of\n",
        "the parties have used alcohol or drugs together before. Be sure to document the approximate intoxication level\n",
        "of all involved parties, where possible.\n",
        "\n",
        "10. Canvass the area for witnesses.  Check other rooms, or other businesses nearby.\n",
        "\n",
        "11. Determine if there is video surveillance.  If so, obtain copies and book into evidence immediately.\n",
        "If the video surveillance is only of the entrance or exit of a building, obtain a copy anyway, even if the crime\n",
        "isn’t visible on the video.\n",
        "\n",
        "12. Consider a pretext telephone call in all sexual assault cases. Attempt to do so prior to contacting the\n",
        "suspect in the case.   Be sure to contact Rob Gold, Supervising DDA for the DA’s office SACA unit for permission prior\n",
        "to conducting the call.  Gold can be reached at 916‐956-0866 (cellular), 916-874-6543(work) or 916-451-2452(home).\n",
        "\n",
        "13. Offer confidentiality to the victim, and offer an advocate, if applicable.  Never forget that victims of sexual\n",
        "assault and other crimes are eligible for confidentiality, and have the right to an advocate.\n",
        "\n",
        "14. If the crime involves sexual assault, encourage the victim to undergo an evidentiary exam. Be sure to adequately\n",
        "explain the purpose of the exam, and allow the victim to make the decision.\n",
        "\n",
        "15. Record interviews, whenever possible.  Recording interviews is up to the individual officer, but recording interviews\n",
        "ties a victim, suspect or witness to a specific statement, and limits later redactions or retractions of statements.\n",
        "\n",
        "16. Consider the possible defenses that can be used by the suspect. When a possible defense is noted, try to rule out\n",
        "the defense though physical evidence, or follow up questioning.\n",
        "\n",
        "17. Do not jump to conclusions regarding the truthfulness of the victim, suspect or witness. Doing so will bias the\n",
        "initial investigation.  Always assume that the crime happened,unless there is strong evidence that indicates otherwise.\",\n",
        "\n",
        "'''"
      ]
    },
    {
      "cell_type": "code",
      "execution_count": null,
      "metadata": {
        "colab": {
          "base_uri": "https://localhost:8080/",
          "height": 169
        },
        "id": "GMxHSF9OQlwX",
        "outputId": "ec72fef8-a5e5-4fc4-f80d-bf5fe1890c42"
      },
      "outputs": [
        {
          "ename": "NameError",
          "evalue": "ignored",
          "output_type": "error",
          "traceback": [
            "\u001b[0;31m---------------------------------------------------------------------------\u001b[0m",
            "\u001b[0;31mNameError\u001b[0m                                 Traceback (most recent call last)",
            "\u001b[0;32m<ipython-input-41-c63d8ee111d5>\u001b[0m in \u001b[0;36m<cell line: 1>\u001b[0;34m()\u001b[0m\n\u001b[0;32m----> 1\u001b[0;31m \u001b[0mReport_Types\u001b[0m\u001b[0;34m.\u001b[0m\u001b[0mkeys\u001b[0m\u001b[0;34m(\u001b[0m\u001b[0;34m)\u001b[0m\u001b[0;34m\u001b[0m\u001b[0;34m\u001b[0m\u001b[0m\n\u001b[0m",
            "\u001b[0;31mNameError\u001b[0m: name 'Report_Types' is not defined"
          ]
        }
      ],
      "source": [
        "Report_Types.keys()"
      ]
    },
    {
      "cell_type": "code",
      "execution_count": null,
      "metadata": {
        "id": "xBxJSMNDQlwX"
      },
      "outputs": [],
      "source": [
        "# Report_Types['Theft/Burglary/Other Property Crime Reports']"
      ]
    }
  ],
  "metadata": {
    "accelerator": "GPU",
    "colab": {
      "gpuType": "T4",
      "provenance": []
    },
    "esriNotebookRuntime": {
      "notebookRuntimeName": "ArcGIS Notebook Python 3 Advanced with GPU support",
      "notebookRuntimeVersion": "5.0"
    },
    "kernelspec": {
      "display_name": "spacy_env",
      "language": "python",
      "name": "python3"
    },
    "language_info": {
      "codemirror_mode": {
        "name": "ipython",
        "version": 3
      },
      "file_extension": ".py",
      "mimetype": "text/x-python",
      "name": "python",
      "nbconvert_exporter": "python",
      "pygments_lexer": "ipython3",
      "version": "3.10.9"
    },
    "vscode": {
      "interpreter": {
        "hash": "e3e2fdd7eacf4b09a7c44f791593c366e921045aa3a7438bcf195424c913774a"
      }
    }
  },
  "nbformat": 4,
  "nbformat_minor": 0
}